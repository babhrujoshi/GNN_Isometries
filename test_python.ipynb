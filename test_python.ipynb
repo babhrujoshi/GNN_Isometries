{
 "cells": [
  {
   "cell_type": "code",
   "execution_count": 4,
   "metadata": {},
   "outputs": [],
   "source": [
    "import numpy as np\n",
    "from PIL import Image\n",
    "import matplotlib.pyplot as plt\n",
    "import pdb; \n",
    "import math\n",
    "from math import nan\n",
    "\n",
    "import h5py"
   ]
  },
  {
   "cell_type": "code",
   "execution_count": 26,
   "metadata": {},
   "outputs": [],
   "source": [
    "f = h5py.File(\"saved_data/Phase_plot_full_MNIST.jld\", \"r\")\n",
    "phase_matrix_recovery = np.asarray(f[\"phase_matrix_recovery\"])\n",
    "phase_matrix_recon = np.asarray(f[\"phase_matrix_recon\"])\n",
    "α_list = np.asarray(f[\"α_list\"])\n",
    "m_list = np.asarray(f[\"m_list\"])\n",
    "trials = np.asarray(f[\"trials\"])\n",
    "\n",
    "\n",
    "\n",
    "\n",
    "# torch.save(error_matrix_quasi,\"/content/drive/My Drive/Colab Notebooks/Linear_approx/Results/Expansive_compare/Expansive_noiseless_phase.pt\")\n",
    "# error_matrix_quasi = torch.load('/content/drive/My Drive/Colab Notebooks/Linear_approx/Results/Expansive_compare/Expansive_noiseless_phase.pt')\n",
    "# error_matrix_total = torch.zeros(len(x_dim_list), len(z_dim_list))\n",
    "# for j in range(len(z_dim_list)):\n",
    "#   for k in range(len(x_dim_list)):\n",
    "#     for trials in range(tot_trials):  \n",
    "#       if error_matrix_quasi[j, k, trials] < 1e-5:\n",
    "#         error_matrix_total[ len(x_dim_list) - 1 - k, j] = error_matrix_total[len(x_dim_list) - 1 -  k, j] + 1\n",
    "# fig, ax = plt.subplots(1)\n",
    "# plt.imshow(torch.kron(error_matrix_total/tot_trials, torch.ones(1,1)), cmap = 'gray')\n",
    "# ax.set_xticks(np.arange(0,26,2))\n",
    "# ax.set_xticklabels(['1','3','5','7','9','11','13','15','17','19'])\n",
    "# ax.set_yticks(np.arange(0,26,2))\n",
    "# ax.set_yticklabels(np.arange(441,0,-40))\n",
    "# plt.xlabel('code dimension, $n_0$')\n",
    "# plt.ylabel('layer widths with $n_1 = n_2 = n_3$')\n",
    "# plt.plot(range(0,19), 22 - 20*np.multiply(z_dim_list,1)/20)\n",
    "# fig.savefig(\"/content/drive/My Drive/Colab Notebooks/Linear_approx/Results/Phase_plot_non_expanse.png\", dpi = 300)\n"
   ]
  },
  {
   "cell_type": "code",
   "execution_count": 57,
   "metadata": {},
   "outputs": [
    {
     "data": {
      "text/plain": [
       "<matplotlib.image.AxesImage at 0x7fae697f3f40>"
      ]
     },
     "execution_count": 57,
     "metadata": {},
     "output_type": "execute_result"
    },
    {
     "data": {
      "image/png": "[encoded data removed]",
      "text/plain": [
       "<Figure size 432x288 with 1 Axes>"
      ]
     },
     "metadata": {
      "needs_background": "light"
     },
     "output_type": "display_data"
    }
   ],
   "source": [
    "M = np.zeros([21,21])\n",
    "for trials in range(20):\n",
    "\n",
    "    M += (phase_matrix_recovery[:,:,1]<1e-5).astype(int)\n",
    "plt.imshow(np.kron(M/20, np.ones([1,1])), cmap = 'gray')\n",
    "# np.kron(M/20, np.ones([2,2]))\n",
    "# M/20"
   ]
  },
  {
   "cell_type": "code",
   "execution_count": 58,
   "metadata": {},
   "outputs": [
    {
     "data": {
      "text/plain": [
       "array([[8.15031197e-08, 3.67486491e-08, 4.22601538e-08, 2.79168676e-08,\n",
       "        2.58619050e-08, 3.58606076e-08, 1.63383519e-08, 2.10367098e-08,\n",
       "        1.99941497e-08, 2.65050981e-08, 1.97722972e-08, 2.44101701e-08,\n",
       "        2.58508109e-08, 2.22955191e-08, 1.60790342e-08, 1.77308178e-08,\n",
       "        2.72420908e-08, 2.11767167e-08, 2.26803223e-08, 1.88273761e-08,\n",
       "        1.37159558e-08],\n",
       "       [5.26103366e-05, 3.08827066e-08, 2.83317073e-08, 2.88745161e-08,\n",
       "        2.23831764e-08, 1.46843640e-08, 1.87509829e-08, 1.87311957e-08,\n",
       "        1.45727821e-08, 2.05347113e-08, 1.86952426e-08, 1.69773705e-08,\n",
       "        2.19901674e-08, 2.41458920e-08, 1.20393353e-08, 1.57517127e-08,\n",
       "        1.40312708e-08, 1.35499280e-08, 1.78026284e-08, 1.54508171e-08,\n",
       "        1.78740378e-08],\n",
       "       [3.13589153e-08, 3.16612388e-08, 2.11699201e-08, 2.67755444e-08,\n",
       "        2.62892155e-08, 1.83711373e-08, 2.17019312e-08, 1.68404702e-08,\n",
       "        1.97442703e-08, 2.65247695e-08, 1.38202128e-08, 1.65223182e-08,\n",
       "        1.68367098e-08, 1.64354567e-08, 1.57943926e-08, 1.58063843e-08,\n",
       "        1.80809045e-08, 1.89486681e-08, 1.53970764e-08, 1.66554220e-08,\n",
       "        2.15917110e-08],\n",
       "       [4.76768371e-08, 2.07860278e-08, 2.57809144e-08, 2.18110381e-08,\n",
       "        1.04265582e-08, 2.03392799e-08, 2.00479856e-08, 2.32722283e-08,\n",
       "        1.96956429e-08, 1.19480538e-08, 1.40638148e-08, 2.46725034e-08,\n",
       "        1.56260449e-08, 1.91028796e-08, 1.19703592e-08, 1.60231413e-08,\n",
       "        1.86546550e-08, 2.38849943e-08, 1.48105352e-08, 1.86868640e-08,\n",
       "        1.18735308e-08],\n",
       "       [3.48820158e-08, 3.46326502e-08, 1.79240730e-08, 1.59396554e-08,\n",
       "        1.53171841e-08, 2.22670209e-08, 2.02518554e-08, 1.97092445e-08,\n",
       "        1.68371463e-08, 1.27273347e-08, 1.56453496e-08, 1.80333398e-08,\n",
       "        2.15869972e-08, 1.86035147e-08, 2.05617063e-08, 1.82144434e-08,\n",
       "        1.31819074e-08, 1.15147348e-08, 2.39039320e-08, 1.80323320e-08,\n",
       "        1.41365500e-08],\n",
       "       [4.00362501e-08, 3.90053758e-08, 2.18029151e-08, 2.96408855e-08,\n",
       "        1.53233042e-08, 2.24882972e-08, 1.99224750e-08, 2.15802300e-08,\n",
       "        2.23372422e-08, 1.39629715e-08, 2.20505487e-08, 2.38532105e-08,\n",
       "        1.48408184e-08, 1.34829052e-08, 2.18093248e-08, 1.56736300e-08,\n",
       "        1.89353532e-08, 1.30723835e-08, 2.24324752e-08, 1.86504296e-08,\n",
       "        1.64024276e-08],\n",
       "       [2.54695369e-08, 6.57498852e-01, 2.28852463e-08, 2.19356681e-08,\n",
       "        2.15445972e-08, 1.64546336e-08, 2.07081598e-08, 2.15744649e-08,\n",
       "        1.76221742e-08, 1.58239290e-08, 1.58692909e-08, 1.19225540e-08,\n",
       "        2.59310056e-08, 2.07623108e-08, 6.92491364e-09, 1.67824416e-08,\n",
       "        2.16094412e-08, 2.45179749e-08, 1.78460860e-08, 1.27034698e-08,\n",
       "        2.12227553e-08],\n",
       "       [3.62015824e-08, 2.42331640e-08, 1.69063624e-08, 2.49568842e-08,\n",
       "        2.99817569e-08, 1.97456632e-08, 8.43100418e-09, 1.59811825e-08,\n",
       "        1.23981310e-08, 3.28513521e-08, 1.51348298e-08, 1.28427517e-08,\n",
       "        1.44475301e-08, 1.38341892e-08, 1.63156878e-08, 1.19731853e-08,\n",
       "        5.85750721e-09, 1.01912428e-08, 1.17713174e-08, 1.12070183e-08,\n",
       "        1.64276105e-08],\n",
       "       [5.76349728e-01, 1.77014949e-08, 2.47138407e-08, 3.27130998e-08,\n",
       "        2.16074395e-08, 2.31612729e-08, 2.32157920e-08, 2.49273129e-08,\n",
       "        1.06839768e-08, 1.85687690e-08, 1.39913874e-08, 1.50080574e-08,\n",
       "        1.20945514e-08, 1.47232321e-08, 1.31571049e-08, 1.73752205e-08,\n",
       "        1.72139227e-08, 1.38626485e-08, 1.24272128e-08, 1.37471330e-08,\n",
       "        1.12280193e-08],\n",
       "       [2.87028522e-08, 3.46127070e-08, 2.65696399e-08, 2.61535983e-08,\n",
       "        2.72020077e-08, 1.52622492e-08, 1.49993431e-08, 1.64594985e-08,\n",
       "        1.56822323e-08, 1.76858540e-08, 1.14053487e-08, 1.83776976e-08,\n",
       "        1.52383255e-08, 1.51752620e-08, 1.67222679e-08, 1.50146758e-08,\n",
       "        1.37376893e-08, 1.08807659e-08, 2.33629999e-08, 1.33574425e-08,\n",
       "        1.60851392e-08],\n",
       "       [2.24992837e-08, 5.92323986e-01, 1.92296389e-08, 1.87807494e-08,\n",
       "        1.62230721e-08, 1.66779003e-08, 1.91532209e-08, 1.82127431e-08,\n",
       "        1.30146218e-08, 1.02820051e-08, 1.40919645e-08, 1.70213088e-08,\n",
       "        1.65730336e-08, 1.26391446e-08, 1.45675348e-08, 2.32346750e-08,\n",
       "        1.07797833e-08, 1.72455266e-08, 9.06485024e-09, 8.02512837e-09,\n",
       "        1.53675429e-08],\n",
       "       [5.47214402e-01, 2.33904613e-08, 2.45250756e-08, 2.55530400e-07,\n",
       "        1.84972453e-08, 1.28320192e-08, 1.06056304e-08, 1.47911850e-08,\n",
       "        2.57274051e-08, 2.11138834e-08, 1.71857515e-08, 1.62473467e-08,\n",
       "        1.89539147e-08, 1.86664717e-08, 1.55536209e-08, 1.33112648e-08,\n",
       "        2.33546120e-08, 1.24732579e-08, 1.42167990e-08, 1.49146771e-08,\n",
       "        1.11687509e-08],\n",
       "       [1.88509561e-08, 2.51609103e-08, 1.61531282e-08, 1.65164157e-08,\n",
       "        1.39752466e-08, 1.92429651e-08, 1.35353121e-08, 2.01265996e-08,\n",
       "        9.74858394e-09, 2.05556444e-08, 1.35100170e-08, 1.34841826e-08,\n",
       "        1.27379104e-08, 2.03876331e-08, 1.29951402e-08, 1.19633048e-08,\n",
       "        9.79819451e-09, 1.60677270e-08, 1.85301438e-08, 1.31190388e-08,\n",
       "        1.38971440e-08],\n",
       "       [1.83814476e-07, 1.37860867e-07, 1.95088210e-08, 2.05622456e-08,\n",
       "        7.27113526e-04, 1.27770754e-08, 1.54384983e-08, 1.47893928e-08,\n",
       "        2.40725419e-08, 1.41413803e-08, 2.04086630e-08, 9.79912686e-09,\n",
       "        8.47157040e-09, 1.39381343e-08, 2.62827938e-08, 1.05499932e-08,\n",
       "        1.55739872e-08, 1.37669603e-08, 7.09287601e-09, 1.64751688e-08,\n",
       "        1.22494100e-08],\n",
       "       [3.04460831e-08, 2.16673099e-08, 1.99552964e-08, 4.69975011e-07,\n",
       "        4.87619569e-01, 1.61356674e-08, 2.15314781e-08, 1.13059641e-08,\n",
       "        1.77639538e-06, 1.81885891e-08, 4.68257184e-07, 1.17559956e-08,\n",
       "        1.76341361e-08, 1.34787293e-08, 1.31158396e-08, 1.33722101e-08,\n",
       "        1.94575202e-08, 2.23747191e-08, 1.75484098e-08, 1.47346564e-08,\n",
       "        1.41040418e-08],\n",
       "       [5.12488432e-01, 2.75868544e-08, 2.99528494e-04, 1.74241951e-05,\n",
       "        1.05207196e-08, 1.70290872e-08, 2.12945933e-08, 2.93322007e-08,\n",
       "        1.09707847e-08, 2.50666839e-08, 1.03190076e-08, 1.64130262e-08,\n",
       "        1.45655746e-08, 1.11577108e-08, 1.22907309e-08, 4.11008723e-08,\n",
       "        1.53131725e-08, 1.34352615e-08, 7.98884198e-09, 2.02590426e-08,\n",
       "        1.27586448e-08],\n",
       "       [1.76867873e-08, 1.39099699e-05, 2.22860290e-08, 1.44112796e-08,\n",
       "        2.07859102e-08, 1.66193384e-08, 1.45692300e-08, 2.08409836e-08,\n",
       "        2.05023339e-08, 1.35837849e-08, 1.80432266e-08, 1.19395932e-08,\n",
       "        2.00744426e-08, 1.32452855e-08, 1.17810558e-08, 1.60900912e-08,\n",
       "        1.33384421e-08, 1.52927669e-08, 1.93516799e-08, 1.23699492e-08,\n",
       "        1.35195463e-08],\n",
       "       [4.92324532e-01, 5.88882995e-08, 2.15141469e-04, 1.91848177e-08,\n",
       "        2.21047287e-08, 1.42089435e-08, 1.25002979e-08, 3.68585245e-07,\n",
       "        1.46354787e-08, 1.87191122e-08, 1.39977445e-08, 4.10837770e-01,\n",
       "        1.23882864e-08, 6.63680846e-08, 9.82336028e-09, 1.25595250e-08,\n",
       "        1.23011978e-08, 1.07209791e-08, 1.65349141e-08, 1.96734252e-08,\n",
       "        1.07867312e-08],\n",
       "       [8.82640453e-04, 4.14966931e-06, 1.63812957e-08, 3.15130737e-04,\n",
       "        2.68451973e-08, 1.56264686e-08, 4.23998929e-07, 1.37498359e-08,\n",
       "        1.79521365e-08, 1.86587279e-08, 3.49651855e-06, 1.08184479e-08,\n",
       "        1.76824684e-08, 1.27582968e-08, 1.26128106e-08, 3.28562489e-07,\n",
       "        1.48940358e-08, 1.56132634e-08, 1.81364695e-08, 1.27253334e-08,\n",
       "        1.68497192e-08],\n",
       "       [6.76995969e-03, 2.53848887e-01, 3.94902634e-06, 1.38612856e-08,\n",
       "        1.67223118e-08, 1.17010350e-08, 1.23928478e-08, 1.09962583e-08,\n",
       "        1.63903904e-08, 1.40408481e-08, 1.49510608e-08, 8.07176412e-09,\n",
       "        1.78121766e-08, 1.29875299e-08, 2.98049745e-08, 1.04451666e-08,\n",
       "        1.27643833e-08, 7.79147376e-09, 1.83964157e-08, 9.38788180e-09,\n",
       "        1.15833800e-06],\n",
       "       [2.15309077e-02, 4.39029761e-03, 1.25807073e-04, 1.60019725e-04,\n",
       "        4.05005606e-01, 1.65214555e-04, 7.93450068e-04, 9.39152408e-06,\n",
       "        6.15774178e-05, 2.98217211e-01, 4.57824989e-01, 3.60366319e-04,\n",
       "        1.16181581e-06, 1.68136674e-06, 8.50254632e-05, 2.92679336e-07,\n",
       "        3.19642706e-05, 6.34128461e-05, 1.46359305e-08, 3.17429143e-06,\n",
       "        1.00474320e-08]])"
      ]
     },
     "execution_count": 58,
     "metadata": {},
     "output_type": "execute_result"
    }
   ],
   "source": [
    "phase_matrix_recon[:,:,1]"
   ]
  },
  {
   "cell_type": "code",
   "execution_count": null,
   "metadata": {},
   "outputs": [],
   "source": []
  }
 ],
 "metadata": {
  "kernelspec": {
   "display_name": "Python 3.9.7 ('base')",
   "language": "python",
   "name": "python3"
  },
  "language_info": {
   "codemirror_mode": {
    "name": "ipython",
    "version": 3
   },
   "file_extension": ".py",
   "mimetype": "text/x-python",
   "name": "python",
   "nbconvert_exporter": "python",
   "pygments_lexer": "ipython3",
   "version": "3.9.7"
  },
  "orig_nbformat": 4,
  "vscode": {
   "interpreter": {
    "hash": "1286c98ab0d012d800a6aa784e974cb6e8ab90635fc4af28c4e5da19d05db02d"
   }
  }
 },
 "nbformat": 4,
 "nbformat_minor": 2
}
