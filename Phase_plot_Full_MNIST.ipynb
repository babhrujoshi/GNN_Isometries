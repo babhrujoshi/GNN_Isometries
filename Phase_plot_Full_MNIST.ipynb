{
 "cells": [
  {
   "cell_type": "code",
   "execution_count": 4,
   "metadata": {},
   "outputs": [
    {
     "name": "stdout",
     "output_type": "stream",
     "text": [
      "All function imported\n"
     ]
    }
   ],
   "source": [
    "using NBInclude\n",
    "@nbinclude(\"functions.ipynb\")"
   ]
  },
  {
   "cell_type": "code",
   "execution_count": 9,
   "metadata": {},
   "outputs": [
    {
     "name": "stdout",
     "output_type": "stream",
     "text": [
      "Loading model...Done\n"
     ]
    },
    {
     "data": {
      "text/plain": [
       "15:5:150"
      ]
     },
     "metadata": {},
     "output_type": "display_data"
    }
   ],
   "source": [
    "#setup\n",
    "x_dim = 784\n",
    "k = 20\n",
    "epoch_to_load = 1 # Load the model \n",
    "tolerance = 1e-7; max_iter = 3000; out_toggle = 0\n",
    "trials = 20\n",
    "opt = Flux.Optimise.ADAM(.1);\n",
    "\n",
    "\n",
    "dir = \"trained_GNN/MNIST_identity\"\n",
    "encoder_μ, encoder_logvar, decoder, decoder_last= load_model_identity(dir, epoch_to_load)\n",
    "\n",
    "B = randn(784, 500)/sqrt(784)\n",
    "z = randn(k) # ground code vector\n",
    "F = dct(diagm(ones(x_dim)),2);\n",
    "\n",
    "# β_list, α_list = get_β_α(F, decoder_last, B, 21);\n",
    "m_list = 15:5:150\n",
    "# setup\n",
    "# experiments with MNIST dataset"
   ]
  },
  {
   "cell_type": "code",
   "execution_count": null,
   "metadata": {},
   "outputs": [],
   "source": [
    "phase_matrix_recovery = zeros(trials, length(m_list), length(β_list))\n",
    "phase_matrix_recon = zeros(trials, length(m_list), length(β_list))\n",
    "\n",
    "Threads.@threads for i in 1:length(m_list)\n",
    "    m = m_list[i]\n",
    "    recovery_error_matrix = zeros(trials)\n",
    "    recon_error_matrix = zeros(trials)\n",
    "    for β in β_list\n",
    "        recovery_error_list = []\n",
    "        recon_error_list = []\n",
    "        G = Chain(\n",
    "            Dense(k, n1, relu, bias = false; init =(out,in) -> W1),\n",
    "            Dense(n1, x_dim, identity, bias = false; init =(out,in) -> β*A + (1-β) * B)\n",
    "        )    #setup the generative network \n",
    "\n",
    "        for trials in 1:trials\n",
    "            F_sub = sample_fourier(m, x_dim)  # subsampling DCT for measurement matrix\n",
    "            F_sub = F_sub * sqrt(x_dim)/sqrt(m) #normalization          \n",
    "            y = F_sub * G(z) # measurement vector using subsampled DCT matrix\n",
    "    \n",
    "            z_est = randn(k) #initialization for algorithm\n",
    "            z_est = estimated_code(opt, G, y, F_sub, z_est; max_iter, tolerance, out_toggle)  # run a optimizer to solve the least squares problem\n",
    "\n",
    "            push!(recovery_error_list, relative_error(z, z_est))    \n",
    "            push!(recon_error_list, relative_error(G(z), G(z_est)))\n",
    "        end\n",
    "\n",
    "        recovery_error_matrix =  hcat(recovery_error_matrix, recovery_error_list)\n",
    "        recon_error_matrix = hcat(recon_error_matrix, recon_error_list)\n",
    "    end\n",
    "    phase_matrix_recovery[:, i, :] = recovery_error_matrix[:, 2:end]\n",
    "    phase_matrix_recon[:, i, :] = recon_error_matrix[:, 2:end]\n",
    "    println(\"Done with m = $m\")\n",
    "    println(\"\")\n",
    "end"
   ]
  },
  {
   "cell_type": "code",
   "execution_count": 15,
   "metadata": {},
   "outputs": [
    {
     "data": {
      "text/plain": [
       "1.753904929677344e-6"
      ]
     },
     "metadata": {},
     "output_type": "display_data"
    }
   ],
   "source": [
    "\n",
    "β = 1\n",
    "tolerance = 1e-7; max_iter = 4000; out_toggle = 0\n",
    "\n",
    "m = 100\n",
    "G = Chain(\n",
    "    Dense(20, 500, relu, bias = false; init =(out,in) -> Flux.params(decoder)[1]),\n",
    "    Dense(500, 500, relu, bias = false; init =(out,in) -> Flux.params(decoder)[2]),\n",
    "    Dense(500, 784, identity, bias = false; init =(out,in) -> β * decoder_last),\n",
    ")    #setup the generative network \n",
    "\n",
    "F_sub = sample_fourier(m, x_dim)  # subsampling DCT for measurement matrix\n",
    "F_sub = F_sub * sqrt(x_dim)/sqrt(m) #normalization          \n",
    "y = F_sub * G(z) # measurement vector using subsampled DCT matrix\n",
    "\n",
    "z_est = randn(k) #initialization for algorithm\n",
    "z_est = estimated_code(opt, G, y, F_sub, z_est; max_iter, tolerance, out_toggle)  # run a optimizer to solve the least squares problem\n",
    "\n",
    "relative_error(z, z_est)"
   ]
  },
  {
   "cell_type": "code",
   "execution_count": 12,
   "metadata": {},
   "outputs": [
    {
     "data": {
      "text/plain": [
       "0.8601565116335943"
      ]
     },
     "metadata": {},
     "output_type": "display_data"
    }
   ],
   "source": [
    "subspace_incoherence(F,decoder_last)\n"
   ]
  },
  {
   "cell_type": "code",
   "execution_count": null,
   "metadata": {},
   "outputs": [],
   "source": []
  }
 ],
 "metadata": {
  "kernelspec": {
   "display_name": "Julia 1.7.3",
   "language": "julia",
   "name": "julia-1.7"
  },
  "language_info": {
   "file_extension": ".jl",
   "mimetype": "application/julia",
   "name": "julia",
   "version": "1.7.3"
  },
  "orig_nbformat": 4,
  "vscode": {
   "interpreter": {
    "hash": "aee8b7b246df8f9039afb4144a1f6fd8d2ca17a180786b69acc140d282b71a49"
   }
  }
 },
 "nbformat": 4,
 "nbformat_minor": 2
}
