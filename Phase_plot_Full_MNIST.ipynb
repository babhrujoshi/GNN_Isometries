{
 "cells": [
  {
   "cell_type": "code",
   "execution_count": 4,
   "metadata": {},
   "outputs": [
    {
     "name": "stdout",
     "output_type": "stream",
     "text": [
      "All function imported\n"
     ]
    }
   ],
   "source": [
    "using NBInclude\n",
    "@nbinclude(\"functions.ipynb\")"
   ]
  },
  {
   "cell_type": "code",
   "execution_count": null,
   "metadata": {},
   "outputs": [],
   "source": [
    "#setup\n",
    "x_dim = 784\n",
    "k = 20\n",
    "epoch_to_load = 16 # Load the model \n",
    "tolerance = 1e-7; max_iter = 3000; out_toggle = 0\n",
    "trials = 20\n",
    "opt = Flux.Optimise.ADAM(.1);\n",
    "\n",
    "\n",
    "dir = \"trained_GNN/MNIST_identity\"\n",
    "encoder_μ, encoder_logvar, decoder, B = load_model_identity(dir, epoch_to_load)\n",
    "\n",
    "_, _, decoder = load_model(\"trained_GNN/MNIST\", 20)\n",
    "A = Flux.params(decoder)[3]\n",
    "z = randn(k) # ground code vector\n",
    "F = dct(diagm(ones(x_dim)),2);\n",
    "\n",
    "β_list, α_list = get_β_α(F, A, B, 21);\n",
    "m_list = 20:20:440\n",
    "# setup\n",
    "# experiments with MNIST dataset"
   ]
  },
  {
   "cell_type": "code",
   "execution_count": 41,
   "metadata": {},
   "outputs": [
    {
     "name": "stdout",
     "output_type": "stream",
     "text": [
      "Done with m = 20\n",
      "\n"
     ]
    }
   ],
   "source": [
    "phase_matrix_recovery = zeros(trials, length(m_list), length(β_list))\n",
    "phase_matrix_recon = zeros(trials, length(m_list), length(β_list))\n",
    "\n",
    "Threads.@threads for i in 1:length(m_list)\n",
    "    m = m_list[i]\n",
    "    recovery_error_matrix = zeros(trials)\n",
    "    recon_error_matrix = zeros(trials)\n",
    "    for β in β_list\n",
    "        recovery_error_list = []\n",
    "        recon_error_list = []\n",
    "        G = Chain(\n",
    "            Dense(20, 500, relu, bias = false; init =(out,in) -> Flux.params(decoder)[1]),\n",
    "            Dense(500, 500, relu, bias = false; init =(out,in) -> Flux.params(decoder)[2]),\n",
    "            Dense(500, 784, identity, bias = false; init =(out,in) -> β * A + (1 - β) *B),\n",
    "        )      #setup the generative network \n",
    "\n",
    "        Threads.@threads for trials in 1:trials\n",
    "            F_sub = sample_fourier(m, x_dim)  # subsampling DCT for measurement matrix\n",
    "            F_sub = F_sub * sqrt(x_dim)/sqrt(m) #normalization          \n",
    "            y = F_sub * G(z) # measurement vector using subsampled DCT matrix\n",
    "\n",
    "            z_est = randn(k) #initialization for algorithm\n",
    "            z_est = estimated_code(opt, G, y, F_sub, z_est; max_iter, tolerance, out_toggle)  # run a optimizer to solve the least squares problem\n",
    "\n",
    "            push!(recovery_error_list, relative_error(z, z_est))    \n",
    "            push!(recon_error_list, relative_error(G(z), G(z_est)))\n",
    "        end\n",
    "\n",
    "        recovery_error_matrix =  hcat(recovery_error_matrix, recovery_error_list)\n",
    "        recon_error_matrix = hcat(recon_error_matrix, recon_error_list)\n",
    "    end\n",
    "    phase_matrix_recovery[:, i, :] = recovery_error_matrix[:, 2:end]\n",
    "    phase_matrix_recon[:, i, :] = recon_error_matrix[:, 2:end]\n",
    "    println(\"Done with m = $m\")\n",
    "println(\"\")\n",
    "# end"
   ]
  },
  {
   "cell_type": "code",
   "execution_count": 36,
   "metadata": {},
   "outputs": [],
   "source": [
    "save(\"saved_data/Phase_plot_full_MNIST.jld\", \"phase_matrix_recovery\", phase_matrix_recovery, \"phase_matrix_recon\", phase_matrix_recon, \"α_list\", α_list, \"m_list\", m_list, \"trials\", trials)"
   ]
  },
  {
   "cell_type": "code",
   "execution_count": 89,
   "metadata": {},
   "outputs": [],
   "source": [
    "M = zeros(size(phase_matrix_recovery[1,:,:]))\n",
    "for trial in 1:trials\n",
    "    M += (phase_matrix_recovery[trial,:,:] .< 1e-5)\n",
    "end\n",
    "p1 = plot(colorview(Gray, reverse(M/trials, dims = 1)), bg =:black, title = \"recovery of code z₀\", framestyle = :box)\n",
    "xticks = 1:5:length(α_list)\n",
    "xticks!(xticks, [\"$(round.(α_list, digits = 2)[i])\" for i in 1:5:length(α_list)])\n",
    "yticks = 2:5:length(m_list)\n",
    "yticks!(yticks, [\"$(m_list[length(m_list) + 1 - i])\" for i in 2:5:length(m_list)])\n",
    "\n",
    "# m_pred = 600*α_list.^10\n",
    "# ff(x) = -21/420 * x +(1 + 21*440/420)\n",
    "# plot!(1:length(α_list), ff.(m_pred), label =:false, linewidth = 2 )\n",
    "\n",
    "# m_pred = 150*α_list.^3\n",
    "# plot!(1:length(α_list), ff.(m_pred), label =:false, linewidth = 2 )\n",
    "\n",
    "\n",
    "M = zeros(size(phase_matrix_recon[1,:,:]))\n",
    "for trial in 1:trials\n",
    "    M += (phase_matrix_recovery[trial,:,:] .< 1e-5)\n",
    "end\n",
    "\n",
    "p2 = plot(colorview(Gray, reverse(M/trials, dims = 1)), bg =:black, title = \"recovery of signal G(z₀)\",framestyle = :box)\n",
    "xticks = 1:5:length(α_list)\n",
    "xticks!(xticks, [\"$(round.(α_list, digits = 2)[i])\" for i in 1:5:length(α_list)])\n",
    "yticks = 2:5:length(m_list)\n",
    "yticks!(yticks, [\"$(m_list[length(m_list) + 1 - i])\" for i in 2:5:length(m_list)])\n",
    "# plot!(1:length(α_list), ff.(m_pred), label =:false, linewidth = 2 )\n",
    "\n",
    "plot(p1, p2, layout = 2, xlabel = \"incoherence upper bound\", ylabel = \"number of measurements\")\n",
    "savefig(\"figures/Phase_plot_Full_MNIST_percentage.pdf\")\n",
    "\n"
   ]
  },
  {
   "cell_type": "code",
   "execution_count": 95,
   "metadata": {},
   "outputs": [],
   "source": [
    "\n",
    "\n",
    "M = sum(phase_matrix_recovery,dims =1)[1,:,:]/20; M[M .>1] .= 1\n",
    "p1 = plot(colorview(Gray, reverse(M,dims=1)), framestyle = :box, bg =:black, title = \"recovery of code z₀\")\n",
    "xticks = 1:5:length(α_list)\n",
    "xticks!(xticks, [\"$(round.(α_list, digits = 2)[i])\" for i in 1:5:length(α_list)])\n",
    "yticks = 2:5:length(m_list)\n",
    "yticks!(yticks, [\"$(m_list[length(m_list) + 1 - i])\" for i in 2:5:length(m_list)])\n",
    "\n",
    "M = sum(phase_matrix_recon,dims =1)[1,:,:]/20; M[M .>1] .= 1\n",
    "p2 = plot(colorview(Gray, reverse(M,dims=1)), framestyle = :box, bg =:black, title = \"recovery of signal G(z₀)\")\n",
    "xticks = 1:5:length(α_list)\n",
    "xticks!(xticks, [\"$(round.(α_list, digits = 2)[i])\" for i in 1:5:length(α_list)])\n",
    "yticks = 2:5:length(m_list)\n",
    "yticks!(yticks, [\"$(m_list[length(m_list) + 1 - i])\" for i in 2:5:length(m_list)])\n",
    "\n",
    "plot(p1, p2, layout = 2,  bg =:white)\n",
    "savefig(\"figures/Phase_plot_Full_MNIST_error.pdf\")\n",
    "\n"
   ]
  },
  {
   "cell_type": "code",
   "execution_count": null,
   "metadata": {},
   "outputs": [],
   "source": []
  }
 ],
 "metadata": {
  "kernelspec": {
   "display_name": "Julia 1.7.3",
   "language": "julia",
   "name": "julia-1.7"
  },
  "language_info": {
   "file_extension": ".jl",
   "mimetype": "application/julia",
   "name": "julia",
   "version": "1.7.3"
  },
  "orig_nbformat": 4,
  "vscode": {
   "interpreter": {
    "hash": "aee8b7b246df8f9039afb4144a1f6fd8d2ca17a180786b69acc140d282b71a49"
   }
  }
 },
 "nbformat": 4,
 "nbformat_minor": 2
}
