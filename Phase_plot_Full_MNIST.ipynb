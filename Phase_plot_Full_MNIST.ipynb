{
 "cells": [
  {
   "cell_type": "code",
   "execution_count": 1,
   "metadata": {},
   "outputs": [
    {
     "name": "stdout",
     "output_type": "stream",
     "text": [
      "All function imported\n"
     ]
    },
    {
     "name": "stderr",
     "output_type": "stream",
     "text": [
      "WARNING: using JLD.@load in module Main conflicts with an existing identifier.\n"
     ]
    }
   ],
   "source": [
    "using NBInclude\n",
    "\n",
    "@nbinclude(\"functions.ipynb\")"
   ]
  },
  {
   "cell_type": "code",
   "execution_count": 10,
   "metadata": {},
   "outputs": [
    {
     "name": "stderr",
     "output_type": "stream",
     "text": [
      "┌ Warning: MNIST.testdata() is deprecated, use `MNIST(split=:test)[:]` instead.\n",
      "└ @ MLDatasets C:\\Users\\Babhru\\.julia\\packages\\MLDatasets\\Xb4Lh\\src\\datasets\\vision\\mnist.jl:195\n"
     ]
    },
    {
     "name": "stdout",
     "output_type": "stream",
     "text": [
      "Loading model...Done\n",
      "Loading model..."
     ]
    },
    {
     "name": "stdout",
     "output_type": "stream",
     "text": [
      "Done\n"
     ]
    },
    {
     "data": {
      "text/plain": [
       "20:20:440"
      ]
     },
     "metadata": {},
     "output_type": "display_data"
    }
   ],
   "source": [
    "function get_test_loader(batch_size, shuffle::Bool)\n",
    "    # The FashionMNIST test set is made up of 10k 28 by 28 greyscale images\n",
    "    test_x, test_y = MNIST.testdata(Float32)\n",
    "    test_x = 1 .- reshape(test_x, (784, :))\n",
    "    return DataLoader((test_x, test_y), batchsize=batch_size, shuffle=shuffle)\n",
    "end\n",
    "\n",
    "\n",
    "# setup\n",
    "# experiments with MNIST dataset\n",
    "x_dim = 784\n",
    "k = 20\n",
    "epoch_to_load = 20 # Load the model \n",
    "tolerance = 1e-7; max_iter = 5000; out_toggle = 0\n",
    "trials = 20\n",
    "opt = Flux.Optimise.ADAM(.1);\n",
    "\n",
    "\n",
    "# pick a image in MNIST to denoise\n",
    "num = 6\n",
    "batch_size = 64\n",
    "shuffle_data = true\n",
    "dataloader = get_test_loader(batch_size, shuffle_data)\n",
    "\n",
    "(x_batch, y_batch) = first(dataloader)\n",
    "i = 1\n",
    "while y_batch[i] != num\n",
    "    i += 1\n",
    "end\n",
    "\n",
    "x_true= x_batch[:,i];\n",
    "\n",
    "epoch_to_load = 20 # Load the model \n",
    "encoder_μ_inco, encoder_logvar_inco,  decoder_inco, W3_inco = load_model_identity(\"trained_GNN/MNIST_identity_v2\", epoch_to_load)\n",
    "μ = encoder_μ_inco(x_true)\n",
    "logvar_inco = encoder_logvar_inco(x_true)\n",
    "# Apply reparameterisation trick to sample latent\n",
    "z_inco = μ + randn(Float32, size(logvar_inco)) .* exp.(0.5f0 * logvar_inco)\n",
    "z = z_inco\n",
    "\n",
    "F = dct(diagm(ones(x_dim)),2);\n",
    "\n",
    "W1_inco = Flux.params(decoder_inco)[1]\n",
    "W2_inco = Flux.params(decoder_inco)[2]\n",
    "\n",
    "\n",
    "_, _, decoder = load_model(\"trained_GNN/MNIST\", 20)\n",
    "A = Flux.params(decoder)[3]\n",
    "\n",
    "W1_co = Flux.params(decoder)[1]\n",
    "W2_co = Flux.params(decoder)[2]\n",
    "\n",
    "β_list, α_list = get_β_α(F, A, decoder_last, 11);\n",
    "m_list = 20:20:440\n"
   ]
  },
  {
   "cell_type": "code",
   "execution_count": 29,
   "metadata": {},
   "outputs": [
    {
     "data": {
      "text/plain": [
       "500-element Vector{Float64}:\n",
       " 1.0059194266636657\n",
       " 1.0035087786247583\n",
       " 1.0034389191296542\n",
       " 1.003373420517567\n",
       " 1.0033208066565054\n",
       " 1.0032690291877637\n",
       " 1.003263575726526\n",
       " 1.0032392488281083\n",
       " 1.0031834447901518\n",
       " 1.0031702933993867\n",
       " ⋮\n",
       " 0.9948865887716473\n",
       " 0.9941517303695564\n",
       " 0.9940395536667713\n",
       " 0.993781467662166\n",
       " 0.9933933832223779\n",
       " 0.9931360031363893\n",
       " 0.9930274063506201\n",
       " 0.9925571425106124\n",
       " 0.9922919804740524"
      ]
     },
     "metadata": {},
     "output_type": "display_data"
    }
   ],
   "source": [
    "_,s,_, =svd(W3_inco);\n",
    "s"
   ]
  },
  {
   "cell_type": "code",
   "execution_count": 12,
   "metadata": {},
   "outputs": [
    {
     "name": "stdout",
     "output_type": "stream",
     "text": [
      "Done with m = 260\n",
      "\n",
      "Done with m = 200\n",
      "\n",
      "Done with m = 140\n",
      "\n",
      "Done with m = 420\n",
      "\n",
      "Done with m = 320\n",
      "\n",
      "Done with m = 380\n",
      "\n",
      "Done with m = 80\n",
      "\n",
      "Done with m = 280\n",
      "\n",
      "Done with m = 160\n",
      "\n",
      "Done with m = 220\n",
      "\n",
      "Done with m = 340\n",
      "\n",
      "Done with m = 400\n",
      "\n",
      "Done with m = 440\n",
      "\n",
      "Done with m = 100\n",
      "\n",
      "Done with m = 20\n",
      "\n",
      "Done with m = 300\n",
      "\n",
      "Done with m = 240\n",
      "\n",
      "Done with m = 180\n",
      "\n",
      "Done with m = 360\n",
      "\n",
      "Done with m = 120\n",
      "\n"
     ]
    },
    {
     "name": "stdout",
     "output_type": "stream",
     "text": [
      "Done with m = 40\n",
      "\n"
     ]
    },
    {
     "name": "stdout",
     "output_type": "stream",
     "text": [
      "Done with m = 60\n",
      "\n"
     ]
    }
   ],
   "source": [
    "phase_matrix_recovery = zeros(trials, length(m_list), length(β_list))\n",
    "phase_matrix_recon = zeros(trials, length(m_list), length(β_list))\n",
    "\n",
    "Threads.@threads for i in 1:length(m_list)\n",
    "    m = m_list[i]\n",
    "    recovery_error_matrix = zeros(trials)\n",
    "    recon_error_matrix = zeros(trials)\n",
    "    for β in β_list\n",
    "        recovery_error_list = []\n",
    "        recon_error_list = []\n",
    "        G = Chain(\n",
    "            Dense(20, 500, relu, bias = false; init =(out,in) ->  Flux.params(decoder_inco)[1]),\n",
    "            Dense(500, 500, relu, bias = false; init =(out,in) -> Flux.params(decoder_inco)[2]),\n",
    "            Dense(500, 784, identity, bias = false; init =(out,in) -> β *A + (1-β) * W3_inco),\n",
    "        )      #setup the generative network \n",
    "\n",
    "        for trials in 1:trials\n",
    "            F_sub = sample_fourier(m, x_dim)  # subsampling DCT for measurement matrix\n",
    "            F_sub = F_sub * sqrt(x_dim)/sqrt(m) #normalization          \n",
    "            y = F_sub * G(z) # measurement vector using subsampled DCT matrix\n",
    "\n",
    "            z_est = randn(k) #initialization for algorithm\n",
    "            z_est = estimated_code(opt, G, y, F_sub, z_est; max_iter, tolerance, out_toggle)  # run a optimizer to solve the least squares problem\n",
    "\n",
    "            push!(recovery_error_list, relative_error(z, z_est))    \n",
    "            push!(recon_error_list, relative_error(G(z), G(z_est)))\n",
    "        end\n",
    "\n",
    "        recovery_error_matrix =  hcat(recovery_error_matrix, recovery_error_list)\n",
    "        recon_error_matrix = hcat(recon_error_matrix, recon_error_list)\n",
    "    end\n",
    "    phase_matrix_recovery[:, i, :] = recovery_error_matrix[:, 2:end]\n",
    "    phase_matrix_recon[:, i, :] = recon_error_matrix[:, 2:end]\n",
    "    println(\"Done with m = $m\")\n",
    "println(\"\")\n",
    "end"
   ]
  },
  {
   "cell_type": "code",
   "execution_count": 8,
   "metadata": {},
   "outputs": [],
   "source": [
    "save(\"saved_data/Phase_plot_full_MNIST_v2.jld\", \"phase_matrix_recovery\", phase_matrix_recovery, \"phase_matrix_recon\", phase_matrix_recon, \"α_list\", α_list, \"m_list\", m_list, \"trials\", trials)"
   ]
  },
  {
   "cell_type": "code",
   "execution_count": 13,
   "metadata": {},
   "outputs": [
    {
     "data": {
      "text/plain": [
       "22×11 Matrix{Float64}:\n",
       "  0.0   0.0   0.0   0.0   0.0   0.0   1.0   0.0   0.0   0.0   0.0\n",
       " 17.0  18.0  16.0  19.0  17.0  19.0  18.0  19.0  18.0  13.0   0.0\n",
       " 20.0  18.0  20.0  19.0  20.0  20.0  20.0  19.0  17.0  14.0   0.0\n",
       " 20.0  20.0  20.0  20.0  20.0  20.0  20.0  20.0  20.0  16.0   1.0\n",
       " 20.0  20.0  20.0  20.0  20.0  20.0  20.0  20.0  20.0  16.0   4.0\n",
       " 20.0  20.0  20.0  20.0  20.0  20.0  20.0  20.0  18.0  18.0   5.0\n",
       " 20.0  20.0  20.0  20.0  20.0  20.0  20.0  20.0  19.0  18.0   5.0\n",
       " 20.0  20.0  20.0  20.0  20.0  20.0  20.0  20.0  20.0  18.0   6.0\n",
       " 20.0  20.0  20.0  20.0  20.0  20.0  20.0  20.0  20.0  20.0   7.0\n",
       " 20.0  20.0  20.0  20.0  20.0  20.0  20.0  20.0  20.0  19.0   9.0\n",
       "  ⋮                             ⋮                             ⋮\n",
       " 20.0  20.0  20.0  20.0  20.0  20.0  20.0  20.0  20.0  19.0  13.0\n",
       " 20.0  20.0  20.0  20.0  20.0  20.0  20.0  20.0  20.0  20.0  15.0\n",
       " 20.0  20.0  20.0  20.0  20.0  20.0  20.0  20.0  20.0  20.0  11.0\n",
       " 20.0  20.0  20.0  20.0  20.0  20.0  20.0  20.0  20.0  20.0  17.0\n",
       " 20.0  20.0  20.0  20.0  20.0  20.0  20.0  20.0  20.0  20.0  13.0\n",
       " 20.0  20.0  20.0  20.0  20.0  20.0  20.0  20.0  20.0  20.0  19.0\n",
       " 20.0  20.0  20.0  20.0  20.0  20.0  20.0  20.0  20.0  20.0  15.0\n",
       " 20.0  20.0  20.0  20.0  20.0  20.0  20.0  20.0  20.0  20.0  15.0\n",
       " 20.0  20.0  20.0  20.0  20.0  20.0  20.0  20.0  20.0  20.0  16.0"
      ]
     },
     "metadata": {},
     "output_type": "display_data"
    }
   ],
   "source": [
    "M = zeros(size(phase_matrix_recovery[1,:,:]))\n",
    "for trial in 1:trials\n",
    "    M += (phase_matrix_recovery[trial,:,:] .< 1e-2)\n",
    "end\n",
    "M"
   ]
  },
  {
   "cell_type": "code",
   "execution_count": 16,
   "metadata": {},
   "outputs": [],
   "source": [
    "M = zeros(size(phase_matrix_recovery[1,:,:]))\n",
    "for trial in 1:trials\n",
    "    M += (phase_matrix_recovery[trial,:,:] .< 1e-5)\n",
    "end\n",
    "p1 = plot(colorview(Gray, reverse(M/trials, dims = 1)), bg =:black, title = \"recovery of code z₀\", framestyle = :box)\n",
    "xticks = 1:5:length(α_list)\n",
    "xticks!(xticks, [\"$(round.(α_list, digits = 2)[i])\" for i in 1:5:length(α_list)])\n",
    "yticks = 2:5:length(m_list)\n",
    "yticks!(yticks, [\"$(m_list[length(m_list) + 1 - i])\" for i in 2:5:length(m_list)])\n",
    "\n",
    "# m_pred = 600*α_list.^10\n",
    "# ff(x) = -21/420 * x +(1 + 21*440/420)\n",
    "# plot!(1:length(α_list), ff.(m_pred), label =:false, linewidth = 2 )\n",
    "\n",
    "# m_pred = 150*α_list.^3\n",
    "# plot!(1:length(α_list), ff.(m_pred), label =:false, linewidth = 2 )\n",
    "\n",
    "\n",
    "M = zeros(size(phase_matrix_recon[1,:,:]))\n",
    "for trial in 1:trials\n",
    "    M += (phase_matrix_recovery[trial,:,:] .< 1e-5)\n",
    "end\n",
    "\n",
    "p2 = plot(colorview(Gray, reverse(M/trials, dims = 1)), bg =:black, title = \"recovery of signal G(z₀)\",framestyle = :box)\n",
    "xticks = 1:5:length(α_list)\n",
    "xticks!(xticks, [\"$(round.(α_list, digits = 2)[i])\" for i in 1:5:length(α_list)])\n",
    "yticks = 2:5:length(m_list)\n",
    "yticks!(yticks, [\"$(m_list[length(m_list) + 1 - i])\" for i in 2:5:length(m_list)])\n",
    "# plot!(1:length(α_list), ff.(m_pred), label =:false, linewidth = 2 )\n",
    "\n",
    "plot(p1, p2, layout = 2, xlabel = \"incoherence upper bound\", ylabel = \"number of measurements\")\n",
    "savefig(\"figures/tests/Full_MNIST_inner_high_last_low.pdf\")\n",
    "\n"
   ]
  },
  {
   "cell_type": "code",
   "execution_count": 95,
   "metadata": {},
   "outputs": [],
   "source": [
    "\n",
    "\n",
    "M = sum(phase_matrix_recovery,dims =1)[1,:,:]/20; M[M .>1] .= 1\n",
    "p1 = plot(colorview(Gray, reverse(M,dims=1)), framestyle = :box, bg =:black, title = \"recovery of code z₀\")\n",
    "xticks = 1:5:length(α_list)\n",
    "xticks!(xticks, [\"$(round.(α_list, digits = 2)[i])\" for i in 1:5:length(α_list)])\n",
    "yticks = 2:5:length(m_list)\n",
    "yticks!(yticks, [\"$(m_list[length(m_list) + 1 - i])\" for i in 2:5:length(m_list)])\n",
    "\n",
    "M = sum(phase_matrix_recon,dims =1)[1,:,:]/20; M[M .>1] .= 1\n",
    "p2 = plot(colorview(Gray, reverse(M,dims=1)), framestyle = :box, bg =:black, title = \"recovery of signal G(z₀)\")\n",
    "xticks = 1:5:length(α_list)\n",
    "xticks!(xticks, [\"$(round.(α_list, digits = 2)[i])\" for i in 1:5:length(α_list)])\n",
    "yticks = 2:5:length(m_list)\n",
    "yticks!(yticks, [\"$(m_list[length(m_list) + 1 - i])\" for i in 2:5:length(m_list)])\n",
    "\n",
    "plot(p1, p2, layout = 2,  bg =:white)\n",
    "savefig(\"figures/Phase_plot_Full_MNIST_error.pdf\")\n",
    "\n"
   ]
  },
  {
   "cell_type": "code",
   "execution_count": null,
   "metadata": {},
   "outputs": [],
   "source": []
  }
 ],
 "metadata": {
  "kernelspec": {
   "display_name": "Julia 1.7.3",
   "language": "julia",
   "name": "julia-1.7"
  },
  "language_info": {
   "file_extension": ".jl",
   "mimetype": "application/julia",
   "name": "julia",
   "version": "1.7.3"
  },
  "orig_nbformat": 4,
  "vscode": {
   "interpreter": {
    "hash": "aee8b7b246df8f9039afb4144a1f6fd8d2ca17a180786b69acc140d282b71a49"
   }
  }
 },
 "nbformat": 4,
 "nbformat_minor": 2
}
