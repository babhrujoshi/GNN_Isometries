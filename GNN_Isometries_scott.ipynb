{
 "cells": [
  {
   "cell_type": "markdown",
   "metadata": {},
   "source": [
    "This Notebook is a library of functions for numerics of the incoherence simulations."
   ]
  },
  {
   "cell_type": "code",
   "execution_count": null,
   "metadata": {},
   "outputs": [],
   "source": [
    "using BSON: @load\n",
    "using Flux\n",
    "using Flux: params\n",
    "using Flux.Optimise\n",
    "using Flux.Optimise: update!\n",
    "using Flux.Data: DataLoader\n",
    "using ImageFiltering\n",
    "using Images\n",
    "using ImageIO\n",
    "using MLDatasets: FashionMNIST\n",
    "using LinearAlgebra\n",
    "using MLDatasets\n",
    "using Plots\n",
    "using Zygote\n",
    "using FFTW\n",
    "using Distributions\n",
    "using SparseArrays\n",
    "using JLD"
   ]
  },
  {
   "cell_type": "code",
   "execution_count": 78,
   "metadata": {},
   "outputs": [
    {
     "data": {
      "text/plain": [
       "optimise"
      ]
     },
     "metadata": {},
     "output_type": "display_data"
    }
   ],
   "source": [
    "\"\"\"\n",
    "    optimise(init_z, loss, opt, tolerance, [out_toggle = 0,][max_iter = 1_000_000])\n",
    "\n",
    "    Optimization that stops when the gradient is small enough\n",
    "\"\"\"\n",
    "function optimise(opt, z, loss; tolerance, out_toggle, max_iter = 500_000)\n",
    "    tol2 = tolerance^2\n",
    "    ps = params(z)\n",
    "    iter=1\n",
    "    while true\n",
    "        if iter > max_iter\n",
    "            @warn \"Max num. iterations reached\"\n",
    "            return nothing\n",
    "        end\n",
    "        grads = gradient(loss, ps) #loss cannot have any arguments\n",
    "        update!(opt, ps, grads)\n",
    "        succ_error = sum(abs2, grads[z])\n",
    "        if out_toggle != 0 && iter % out_toggle == 0\n",
    "            println(\"====> In Gradient: Iteration: $iter grad_size: $(sqrt(succ_error)) tolerance: $tolerance  error: \", string(sqrt(loss())))\n",
    "        end\n",
    "        if succ_error < tol2\n",
    "            break\n",
    "        end\n",
    "        iter += 1\n",
    "    end\n",
    "    return z\n",
    "end"
   ]
  },
  {
   "cell_type": "code",
   "execution_count": 79,
   "metadata": {},
   "outputs": [
    {
     "ename": "UndefVarError",
     "evalue": "UndefVarError: evaluate_recovery not defined",
     "output_type": "error",
     "traceback": [
      "UndefVarError: evaluate_recovery not defined\n",
      "\n",
      "Stacktrace:\n",
      "  [1] top-level scope\n",
      "    @ ~/Prog/GNN_Isometries/GNN_Isometries_scott.ipynb:1\n",
      "  [2] eval\n",
      "    @ ./boot.jl:360 [inlined]\n",
      "  [3] include_string(mapexpr::typeof(REPL.softscope), mod::Module, code::String, filename::String)\n",
      "    @ Base ./loading.jl:1116\n",
      "  [4] #invokelatest#2\n",
      "    @ ./essentials.jl:708 [inlined]\n",
      "  [5] invokelatest\n",
      "    @ ./essentials.jl:706 [inlined]\n",
      "  [6] (::VSCodeServer.var\"#160#161\"{VSCodeServer.NotebookRunCellArguments, String})()\n",
      "    @ VSCodeServer ~/.vscode/extensions/julialang.language-julia-1.6.24/scripts/packages/VSCodeServer/src/serve_notebook.jl:19\n",
      "  [7] withpath(f::VSCodeServer.var\"#160#161\"{VSCodeServer.NotebookRunCellArguments, String}, path::String)\n",
      "    @ VSCodeServer ~/.vscode/extensions/julialang.language-julia-1.6.24/scripts/packages/VSCodeServer/src/repl.jl:184\n",
      "  [8] notebook_runcell_request(conn::VSCodeServer.JSONRPC.JSONRPCEndpoint{Base.PipeEndpoint, Base.PipeEndpoint}, params::VSCodeServer.NotebookRunCellArguments)\n",
      "    @ VSCodeServer ~/.vscode/extensions/julialang.language-julia-1.6.24/scripts/packages/VSCodeServer/src/serve_notebook.jl:13\n",
      "  [9] dispatch_msg(x::VSCodeServer.JSONRPC.JSONRPCEndpoint{Base.PipeEndpoint, Base.PipeEndpoint}, dispatcher::VSCodeServer.JSONRPC.MsgDispatcher, msg::Dict{String, Any})\n",
      "    @ VSCodeServer.JSONRPC ~/.vscode/extensions/julialang.language-julia-1.6.24/scripts/packages/JSONRPC/src/typed.jl:67\n",
      " [10] serve_notebook(pipename::String, outputchannel_logger::Base.CoreLogging.SimpleLogger; crashreporting_pipename::String)\n",
      "    @ VSCodeServer ~/.vscode/extensions/julialang.language-julia-1.6.24/scripts/packages/VSCodeServer/src/serve_notebook.jl:136\n",
      " [11] top-level scope\n",
      "    @ ~/.vscode/extensions/julialang.language-julia-1.6.24/scripts/notebook/notebook.jl:32\n",
      " [12] include(mod::Module, _path::String)\n",
      "    @ Base ./Base.jl:384\n",
      " [13] exec_options(opts::Base.JLOptions)\n",
      "    @ Base ./client.jl:285\n",
      " [14] _start()\n",
      "    @ Base ./client.jl:485"
     ]
    }
   ],
   "source": [
    "evaluate_recovery(model, )"
   ]
  },
  {
   "cell_type": "code",
   "execution_count": 61,
   "metadata": {},
   "outputs": [
    {
     "ename": "UndefKeywordError",
     "evalue": "UndefKeywordError: keyword argument out_toggle not assigned",
     "output_type": "error",
     "traceback": [
      "UndefKeywordError: keyword argument out_toggle not assigned\n",
      "\n",
      "Stacktrace:\n",
      "  [1] top-level scope\n",
      "    @ ~/Prog/GNN_Isometries/GNN_Isometries_scott.ipynb:7\n",
      "  [2] eval\n",
      "    @ ./boot.jl:360 [inlined]\n",
      "  [3] include_string(mapexpr::typeof(REPL.softscope), mod::Module, code::String, filename::String)\n",
      "    @ Base ./loading.jl:1116\n",
      "  [4] #invokelatest#2\n",
      "    @ ./essentials.jl:708 [inlined]\n",
      "  [5] invokelatest\n",
      "    @ ./essentials.jl:706 [inlined]\n",
      "  [6] (::VSCodeServer.var\"#160#161\"{VSCodeServer.NotebookRunCellArguments, String})()\n",
      "    @ VSCodeServer ~/.vscode/extensions/julialang.language-julia-1.6.24/scripts/packages/VSCodeServer/src/serve_notebook.jl:19\n",
      "  [7] withpath(f::VSCodeServer.var\"#160#161\"{VSCodeServer.NotebookRunCellArguments, String}, path::String)\n",
      "    @ VSCodeServer ~/.vscode/extensions/julialang.language-julia-1.6.24/scripts/packages/VSCodeServer/src/repl.jl:184\n",
      "  [8] notebook_runcell_request(conn::VSCodeServer.JSONRPC.JSONRPCEndpoint{Base.PipeEndpoint, Base.PipeEndpoint}, params::VSCodeServer.NotebookRunCellArguments)\n",
      "    @ VSCodeServer ~/.vscode/extensions/julialang.language-julia-1.6.24/scripts/packages/VSCodeServer/src/serve_notebook.jl:13\n",
      "  [9] dispatch_msg(x::VSCodeServer.JSONRPC.JSONRPCEndpoint{Base.PipeEndpoint, Base.PipeEndpoint}, dispatcher::VSCodeServer.JSONRPC.MsgDispatcher, msg::Dict{String, Any})\n",
      "    @ VSCodeServer.JSONRPC ~/.vscode/extensions/julialang.language-julia-1.6.24/scripts/packages/JSONRPC/src/typed.jl:67\n",
      " [10] serve_notebook(pipename::String, outputchannel_logger::Base.CoreLogging.SimpleLogger; crashreporting_pipename::String)\n",
      "    @ VSCodeServer ~/.vscode/extensions/julialang.language-julia-1.6.24/scripts/packages/VSCodeServer/src/serve_notebook.jl:136\n",
      " [11] top-level scope\n",
      "    @ ~/.vscode/extensions/julialang.language-julia-1.6.24/scripts/notebook/notebook.jl:32\n",
      " [12] include(mod::Module, _path::String)\n",
      "    @ Base ./Base.jl:384\n",
      " [13] exec_options(opts::Base.JLOptions)\n",
      "    @ Base ./client.jl:285\n",
      " [14] _start()\n",
      "    @ Base ./client.jl:485"
     ]
    }
   ],
   "source": [
    "z = randn(10)\n",
    "measurements = randn(12)\n",
    "W = randn(12,10)\n",
    "model(vec) = W*vec\n",
    "loss(params_vec) = sum(abs2, measurements - model(params_vec))\n",
    "opt = Descent()\n",
    "optimise(opt, z, () -> loss(z), tolerance=1e-4)"
   ]
  },
  {
   "cell_type": "code",
   "execution_count": 62,
   "metadata": {},
   "outputs": [
    {
     "ename": "MethodError",
     "evalue": "MethodError: no method matching *(::Matrix{Float64}, ::typeof(vec))\nClosest candidates are:\n  *(::Any, ::Any, !Matched::Any, !Matched::Any...) at operators.jl:560\n  *(::StridedMatrix{T}, !Matched::StridedVector{S}) where {T<:Union{Float32, Float64, ComplexF32, ComplexF64}, S<:Real} at /Users/julia/buildbot/worker/package_macos64/build/usr/share/julia/stdlib/v1.6/LinearAlgebra/src/matmul.jl:44\n  *(::StridedMatrix{var\"#s814\"} where var\"#s814\"<:Union{Float32, Float64}, !Matched::StridedMatrix{var\"#s813\"} where var\"#s813\"<:Union{Float32, Float64, ComplexF32, ComplexF64}) at /Users/julia/buildbot/worker/package_macos64/build/usr/share/julia/stdlib/v1.6/LinearAlgebra/src/matmul.jl:158\n  ...",
     "output_type": "error",
     "traceback": [
      "MethodError: no method matching *(::Matrix{Float64}, ::typeof(vec))\n",
      "Closest candidates are:\n",
      "  *(::Any, ::Any, !Matched::Any, !Matched::Any...) at operators.jl:560\n",
      "  *(::StridedMatrix{T}, !Matched::StridedVector{S}) where {T<:Union{Float32, Float64, ComplexF32, ComplexF64}, S<:Real} at /Users/julia/buildbot/worker/package_macos64/build/usr/share/julia/stdlib/v1.6/LinearAlgebra/src/matmul.jl:44\n",
      "  *(::StridedMatrix{var\"#s814\"} where var\"#s814\"<:Union{Float32, Float64}, !Matched::StridedMatrix{var\"#s813\"} where var\"#s813\"<:Union{Float32, Float64, ComplexF32, ComplexF64}) at /Users/julia/buildbot/worker/package_macos64/build/usr/share/julia/stdlib/v1.6/LinearAlgebra/src/matmul.jl:158\n",
      "  ...\n",
      "\n",
      "Stacktrace:\n",
      "  [1] macro expansion\n",
      "    @ ~/.julia/packages/Zygote/IoW2g/src/compiler/interface2.jl:0 [inlined]\n",
      "  [2] _pullback(::Zygote.Context, ::typeof(*), ::Matrix{Float64}, ::typeof(vec))\n",
      "    @ Zygote ~/.julia/packages/Zygote/IoW2g/src/compiler/interface2.jl:9\n",
      "  [3] _pullback\n",
      "    @ ~/Prog/GNN_Isometries/GNN_Isometries_scott.ipynb:5 [inlined]\n",
      "  [4] _pullback(ctx::Zygote.Context, f::typeof(model), args::typeof(vec))\n",
      "    @ Zygote ~/.julia/packages/Zygote/IoW2g/src/compiler/interface2.jl:0\n",
      "  [5] _pullback\n",
      "    @ ~/Prog/GNN_Isometries/GNN_Isometries_scott.ipynb:7 [inlined]\n",
      "  [6] _pullback(ctx::Zygote.Context, f::typeof(loss), args::Params{Zygote.Buffer{Any, Vector{Any}}})\n",
      "    @ Zygote ~/.julia/packages/Zygote/IoW2g/src/compiler/interface2.jl:0\n",
      "  [7] _pullback\n",
      "    @ ~/Prog/GNN_Isometries/GNN_Isometries_scott.ipynb:13 [inlined]\n",
      "  [8] _pullback(::Zygote.Context, ::var\"#51#52\")\n",
      "    @ Zygote ~/.julia/packages/Zygote/IoW2g/src/compiler/interface2.jl:0\n",
      "  [9] pullback(f::Function, ps::Params{Zygote.Buffer{Any, Vector{Any}}})\n",
      "    @ Zygote ~/.julia/packages/Zygote/IoW2g/src/compiler/interface.jl:352\n",
      " [10] gradient(f::Function, args::Params{Zygote.Buffer{Any, Vector{Any}}})\n",
      "    @ Zygote ~/.julia/packages/Zygote/IoW2g/src/compiler/interface.jl:75\n",
      " [11] top-level scope\n",
      "    @ ~/Prog/GNN_Isometries/GNN_Isometries_scott.ipynb:13\n",
      " [12] eval\n",
      "    @ ./boot.jl:360 [inlined]\n",
      " [13] include_string(mapexpr::typeof(REPL.softscope), mod::Module, code::String, filename::String)\n",
      "    @ Base ./loading.jl:1116\n",
      " [14] #invokelatest#2\n",
      "    @ ./essentials.jl:708 [inlined]\n",
      " [15] invokelatest\n",
      "    @ ./essentials.jl:706 [inlined]\n",
      " [16] (::VSCodeServer.var\"#160#161\"{VSCodeServer.NotebookRunCellArguments, String})()\n",
      "    @ VSCodeServer ~/.vscode/extensions/julialang.language-julia-1.6.24/scripts/packages/VSCodeServer/src/serve_notebook.jl:19\n",
      " [17] withpath(f::VSCodeServer.var\"#160#161\"{VSCodeServer.NotebookRunCellArguments, String}, path::String)\n",
      "    @ VSCodeServer ~/.vscode/extensions/julialang.language-julia-1.6.24/scripts/packages/VSCodeServer/src/repl.jl:184\n",
      " [18] notebook_runcell_request(conn::VSCodeServer.JSONRPC.JSONRPCEndpoint{Base.PipeEndpoint, Base.PipeEndpoint}, params::VSCodeServer.NotebookRunCellArguments)\n",
      "    @ VSCodeServer ~/.vscode/extensions/julialang.language-julia-1.6.24/scripts/packages/VSCodeServer/src/serve_notebook.jl:13\n",
      " [19] dispatch_msg(x::VSCodeServer.JSONRPC.JSONRPCEndpoint{Base.PipeEndpoint, Base.PipeEndpoint}, dispatcher::VSCodeServer.JSONRPC.MsgDispatcher, msg::Dict{String, Any})\n",
      "    @ VSCodeServer.JSONRPC ~/.vscode/extensions/julialang.language-julia-1.6.24/scripts/packages/JSONRPC/src/typed.jl:67\n",
      " [20] serve_notebook(pipename::String, outputchannel_logger::Base.CoreLogging.SimpleLogger; crashreporting_pipename::String)\n",
      "    @ VSCodeServer ~/.vscode/extensions/julialang.language-julia-1.6.24/scripts/packages/VSCodeServer/src/serve_notebook.jl:136\n",
      " [21] top-level scope\n",
      "    @ ~/.vscode/extensions/julialang.language-julia-1.6.24/scripts/notebook/notebook.jl:32\n",
      " [22] include(mod::Module, _path::String)\n",
      "    @ Base ./Base.jl:384\n",
      " [23] exec_options(opts::Base.JLOptions)\n",
      "    @ Base ./client.jl:285\n",
      " [24] _start()\n",
      "    @ Base ./client.jl:485"
     ]
    }
   ],
   "source": [
    "opt = Optimise.Descent(0.001) \n",
    "z = randn(10)\n",
    "measurements = randn(12)\n",
    "W = randn(12,10)\n",
    "model(vec) = W*vec\n",
    "ps = params(z)\n",
    "loss(params_vec) = sum(abs2, measurements - model(vec))\n",
    "tolerance = 1e-4\n",
    "out_toggle = 0\n",
    "max_iter = 500_000\n",
    "tol2 = tolerance^2\n",
    "iter=1\n",
    "grads = gradient(() -> loss(ps), ps)\n",
    "# while succ_error > tol2 \n",
    "#         if iter > max_iter\n",
    "#             @warn \"Max num. iterations reached\"\n",
    "#             return nothing\n",
    "#         end\n",
    "#         grads = gradient(() -> loss(ps), ps)\n",
    "#         update!(opt, ps, grads)\n",
    "#         succ_error = sum(abs2, grads[z])\n",
    "#         if out_toggle != 0 && iter % out_toggle == 0\n",
    "#             println(\"====> In Gradient: Iteration: $iter grad_size: $(sqrt(succ_error)) tolerance: $tolerance  Loss: \", string(loss(z)))\n",
    "#         end\n",
    "#         iter += 1\n",
    "#     end\n"
   ]
  },
  {
   "cell_type": "code",
   "execution_count": 64,
   "metadata": {},
   "outputs": [
    {
     "data": {
      "text/plain": [
       "fourier (generic function with 1 method)"
      ]
     },
     "metadata": {},
     "output_type": "display_data"
    }
   ],
   "source": [
    "function sample_fourier(aimed_m, n)\n",
    "    F = dct(diagm(ones(n)),2)\n",
    "    sampling = rand(Bernoulli(aimed_m/n), n)\n",
    "    true_m = sum(sampling)\n",
    "    return (true_m, F[sampling,:]* sqrt(n/true_m)) # normalize it\n",
    "end\n",
    "function fourier(dim)\n",
    "    dct(diagm(ones(dim)),2)\n",
    "end"
   ]
  },
  {
   "cell_type": "code",
   "execution_count": 68,
   "metadata": {},
   "outputs": [
    {
     "data": {
      "text/plain": [
       "subspace_incoherence (generic function with 1 method)"
      ]
     },
     "metadata": {},
     "output_type": "display_data"
    }
   ],
   "source": [
    "function subspace_incoherence(F, A)\n",
    "    α = 0\n",
    "    m, _ = size(A)\n",
    "    QR_decomp = qr(A)\n",
    "    for i in 1:m\n",
    "        temp = norm(Matrix(QR_decomp.Q)'*F[i,:], 2)\n",
    "        α = max(α, temp)\n",
    "    end\n",
    "    return α\n",
    "end"
   ]
  },
  {
   "cell_type": "code",
   "execution_count": 74,
   "metadata": {},
   "outputs": [
    {
     "data": {
      "text/plain": [
       "recover_signal (generic function with 1 method)"
      ]
     },
     "metadata": {},
     "output_type": "display_data"
    }
   ],
   "source": [
    "function recover_signal(measurements, measure, model, code_dim)\n",
    "    function loss(signal_guess)\n",
    "        return sum(abs2, measure(signal_guess) - measurements)\n",
    "    end\n",
    "    \n",
    "    opt_code = optimise( Flux.Optimise.Descent(4e-5), loss, init=randn(code_dim)/sqrt(code_dim), tolerance=1e-6, out_toggle=20000)\n",
    "    \n",
    "    return opt_code != nothing ? model(opt_code) : nothing\n",
    "end"
   ]
  },
  {
   "cell_type": "code",
   "execution_count": 75,
   "metadata": {},
   "outputs": [
    {
     "ename": "ErrorException",
     "evalue": "invalid redefinition of constant model",
     "output_type": "error",
     "traceback": [
      "invalid redefinition of constant model\n",
      "\n",
      "Stacktrace:\n",
      "  [1] top-level scope\n",
      "    @ ~/Prog/GNN_Isometries/GNN_Isometries_scott.ipynb:10\n",
      "  [2] eval\n",
      "    @ ./boot.jl:360 [inlined]\n",
      "  [3] include_string(mapexpr::typeof(REPL.softscope), mod::Module, code::String, filename::String)\n",
      "    @ Base ./loading.jl:1116\n",
      "  [4] #invokelatest#2\n",
      "    @ ./essentials.jl:708 [inlined]\n",
      "  [5] invokelatest\n",
      "    @ ./essentials.jl:706 [inlined]\n",
      "  [6] (::VSCodeServer.var\"#160#161\"{VSCodeServer.NotebookRunCellArguments, String})()\n",
      "    @ VSCodeServer ~/.vscode/extensions/julialang.language-julia-1.6.24/scripts/packages/VSCodeServer/src/serve_notebook.jl:19\n",
      "  [7] withpath(f::VSCodeServer.var\"#160#161\"{VSCodeServer.NotebookRunCellArguments, String}, path::String)\n",
      "    @ VSCodeServer ~/.vscode/extensions/julialang.language-julia-1.6.24/scripts/packages/VSCodeServer/src/repl.jl:184\n",
      "  [8] notebook_runcell_request(conn::VSCodeServer.JSONRPC.JSONRPCEndpoint{Base.PipeEndpoint, Base.PipeEndpoint}, params::VSCodeServer.NotebookRunCellArguments)\n",
      "    @ VSCodeServer ~/.vscode/extensions/julialang.language-julia-1.6.24/scripts/packages/VSCodeServer/src/serve_notebook.jl:13\n",
      "  [9] dispatch_msg(x::VSCodeServer.JSONRPC.JSONRPCEndpoint{Base.PipeEndpoint, Base.PipeEndpoint}, dispatcher::VSCodeServer.JSONRPC.MsgDispatcher, msg::Dict{String, Any})\n",
      "    @ VSCodeServer.JSONRPC ~/.vscode/extensions/julialang.language-julia-1.6.24/scripts/packages/JSONRPC/src/typed.jl:67\n",
      " [10] serve_notebook(pipename::String, outputchannel_logger::Base.CoreLogging.SimpleLogger; crashreporting_pipename::String)\n",
      "    @ VSCodeServer ~/.vscode/extensions/julialang.language-julia-1.6.24/scripts/packages/VSCodeServer/src/serve_notebook.jl:136\n",
      " [11] top-level scope\n",
      "    @ ~/.vscode/extensions/julialang.language-julia-1.6.24/scripts/notebook/notebook.jl:32\n",
      " [12] include(mod::Module, _path::String)\n",
      "    @ Base ./Base.jl:384\n",
      " [13] exec_options(opts::Base.JLOptions)\n",
      "    @ Base ./client.jl:285\n",
      " [14] _start()\n",
      "    @ Base ./client.jl:485"
     ]
    }
   ],
   "source": [
    "β=0.5\n",
    "k=32\n",
    "mid = 64\n",
    "n = 128\n",
    "desired_m = 64\n",
    "F = fourier(n)\n",
    "k̂ = randn(k)/sqrt(k)\n",
    "ps = Flux.params(k̂)\n",
    "m, A = sample_fourier(desired_m, n)\n",
    "model = Chain(\n",
    "        Dense(k, mid, relu, bias = false; init =(out,in) -> randn(out,in)/sqrt(out)),\n",
    "        Dense(mid, n, bias = false; init =(out,in) -> β*randn(out,in)/sqrt(out) + (1-β) * F[:,1:in])\n",
    "    )\n",
    "W₁ = Flux.params(model)[1]\n",
    "W₂ = Flux.params(model)[2]\n",
    "x₀ = model(randn(k)/sqrt(k))\n",
    "modele() = model(k̂)\n",
    "y= A*x₀\n",
    "function loss()\n",
    "    return sum(abs2, A*model(k̂) - y)\n",
    "end\n",
    "\n",
    "opt = Flux.Optimise.Descent(0.001)\n",
    "out_log = 500_000\n",
    "num_data = 5\n",
    "tolerance = 4e-4\n",
    "tol2 = tolerance^2\n",
    "results = [[],[]]\n",
    "max_iter = 500_000\n",
    "\n",
    "for β in 0:0.1:1\n",
    "    for i in 1:num_data\n",
    "        W₁ .= randn(mid,k)\n",
    "        W₂ .= β*randn(n,mid)/sqrt(n) + (1-β) * F[:,1:mid]\n",
    "        i=1\n",
    "        inco = matrix_alignment(W₂, F)\n",
    "        \n",
    "        optimise(opt,)\n",
    "        \n",
    "        while true\n",
    "            i+=1\n",
    "            gs = gradient( ps) do\n",
    "                sum(abs2, A*model(k̂) - y)\n",
    "            end\n",
    "            update!(opt, ps,gs)\n",
    "            if sum(abs2, gs[k̂]) < tol2\n",
    "               push!(results[1], inco)\n",
    "                push!(results[2], norm(model(k̂) - x₀))\n",
    "                println(\"pushed result, error $(norm(model(k̂) - x₀)), incoherence $inco\")\n",
    "                break\n",
    "            end\n",
    "            if i > max_iter\n",
    "                println(\"skipping train\")\n",
    "                break\n",
    "            end\n",
    "            i % out_log != 0 || @debug \"loss: $(loss()), grad: $(sum(abs2, gs[k̂])), error: $(norm(model(k̂) - x₀))\"\n",
    "        end\n",
    "    end\n",
    "end\n",
    "@debug \"norm error is $(norm(model(k̂) - x₀))\""
   ]
  },
  {
   "cell_type": "code",
   "execution_count": 76,
   "metadata": {},
   "outputs": [
    {
     "ename": "UndefVarError",
     "evalue": "UndefVarError: results not defined",
     "output_type": "error",
     "traceback": [
      "UndefVarError: results not defined\n",
      "\n",
      "Stacktrace:\n",
      "  [1] top-level scope\n",
      "    @ ~/Prog/GNN_Isometries/GNN_Isometries_scott.ipynb:1\n",
      "  [2] eval\n",
      "    @ ./boot.jl:360 [inlined]\n",
      "  [3] include_string(mapexpr::typeof(REPL.softscope), mod::Module, code::String, filename::String)\n",
      "    @ Base ./loading.jl:1116\n",
      "  [4] #invokelatest#2\n",
      "    @ ./essentials.jl:708 [inlined]\n",
      "  [5] invokelatest\n",
      "    @ ./essentials.jl:706 [inlined]\n",
      "  [6] (::VSCodeServer.var\"#160#161\"{VSCodeServer.NotebookRunCellArguments, String})()\n",
      "    @ VSCodeServer ~/.vscode/extensions/julialang.language-julia-1.6.24/scripts/packages/VSCodeServer/src/serve_notebook.jl:19\n",
      "  [7] withpath(f::VSCodeServer.var\"#160#161\"{VSCodeServer.NotebookRunCellArguments, String}, path::String)\n",
      "    @ VSCodeServer ~/.vscode/extensions/julialang.language-julia-1.6.24/scripts/packages/VSCodeServer/src/repl.jl:184\n",
      "  [8] notebook_runcell_request(conn::VSCodeServer.JSONRPC.JSONRPCEndpoint{Base.PipeEndpoint, Base.PipeEndpoint}, params::VSCodeServer.NotebookRunCellArguments)\n",
      "    @ VSCodeServer ~/.vscode/extensions/julialang.language-julia-1.6.24/scripts/packages/VSCodeServer/src/serve_notebook.jl:13\n",
      "  [9] dispatch_msg(x::VSCodeServer.JSONRPC.JSONRPCEndpoint{Base.PipeEndpoint, Base.PipeEndpoint}, dispatcher::VSCodeServer.JSONRPC.MsgDispatcher, msg::Dict{String, Any})\n",
      "    @ VSCodeServer.JSONRPC ~/.vscode/extensions/julialang.language-julia-1.6.24/scripts/packages/JSONRPC/src/typed.jl:67\n",
      " [10] serve_notebook(pipename::String, outputchannel_logger::Base.CoreLogging.SimpleLogger; crashreporting_pipename::String)\n",
      "    @ VSCodeServer ~/.vscode/extensions/julialang.language-julia-1.6.24/scripts/packages/VSCodeServer/src/serve_notebook.jl:136\n",
      " [11] top-level scope\n",
      "    @ ~/.vscode/extensions/julialang.language-julia-1.6.24/scripts/notebook/notebook.jl:32\n",
      " [12] include(mod::Module, _path::String)\n",
      "    @ Base ./Base.jl:384\n",
      " [13] exec_options(opts::Base.JLOptions)\n",
      "    @ Base ./client.jl:285\n",
      " [14] _start()\n",
      "    @ Base ./client.jl:485"
     ]
    }
   ],
   "source": [
    "scatter(results[1], results[2])"
   ]
  },
  {
   "cell_type": "code",
   "execution_count": 61,
   "metadata": {},
   "outputs": [
    {
     "name": "stdout",
     "output_type": "stream",
     "text": [
      "loss: 0.19069825800476656, grad: 0.0002665354924225208, error: 0.5091490975780901\n",
      "loss: 0.19065269400739113, grad: 0.0002179459969456966, error: 0.509132001931581\n",
      "loss: 0.1906776960242943, grad: 0.00043216373102096035, error: 0.509106659892179\n",
      "loss: 0.19065514212367163, grad: 0.00027273163015454943, error: 0.5090657342665227\n",
      "loss: 0.19064715100166038, grad: 0.00027177870967742324, error: 0.5090064923538545\n",
      "loss: 0.19074739604526808, grad: 0.00045060363211546375, error: 0.5089552841353363\n",
      "loss: 0.19076680528773282, grad: 0.0009055768067544585, error: 0.5095214371459466\n",
      "loss: 0.190741615131089, grad: 0.0006476667813688257, error: 0.5095446436605321\n",
      "loss: 0.19074620776924905, grad: 0.0001886521109714545, error: 0.508859281831471\n",
      "loss: 0.19077676029999194, grad: 0.000742405748065938, error: 0.5095114801603651\n",
      "loss: 0.19077375455694304, grad: 0.000802408974960393, error: 0.5094949139992587\n",
      "loss: 0.19071531875466002, grad: 0.00024467275880756873, error: 0.5093783594269561\n",
      "loss: 0.1906958524101263, grad: 0.00024087767105804514, error: 0.5092370052002411\n",
      "loss: 0.19069879399574668, grad: 0.00019867888299831082, error: 0.5092070811538109\n",
      "loss: 0.19068817304378277, grad: 0.00027664160310394954, error: 0.5091387218089864\n",
      "loss: 0.1906634587374522, grad: 0.00019010228283536143, error: 0.5090592652710753\n",
      "loss: 0.19068841513569598, grad: 0.0004654736851529159, error: 0.5090438483414726\n",
      "loss: 0.19070551078837156, grad: 0.00022725710567434855, error: 0.5090645729339359\n",
      "loss: 0.19069653945704798, grad: 0.0005188023853591995, error: 0.5089876316089269\n",
      "loss: 0.19072471879866582, grad: 0.0002365186217014278, error: 0.5089214793402911\n",
      "loss: 0.1907408323287274, grad: 0.0006480873139246418, error: 0.5094952437814849\n",
      "loss: 0.19073863121579218, grad: 0.0004641615569770289, error: 0.5092460998932903\n",
      "loss: 0.19070955853880947, grad: 0.00022715953136152067, error: 0.5093020126930794\n",
      "loss: 0.1906664838099867, grad: 0.00022040515262867732, error: 0.5092312436571313\n",
      "loss: 0.19069266331432622, grad: 0.000195830670265216, error: 0.5092045613163471\n",
      "loss: 0.19066917230106067, grad: 0.0001924970647228856, error: 0.5091215487357609\n",
      "loss: 0.19066021805412162, grad: 0.0001903814699783579, error: 0.5090923738899987\n",
      "loss: 0.19065217992943478, grad: 0.00023091806213363918, error: 0.5091432714832278\n",
      "loss: 0.19076265717590496, grad: 0.0008148162081793935, error: 0.509447627106902\n",
      "loss: 0.19075107068431452, grad: 0.0008121615767648934, error: 0.5095596633948283\n",
      "loss: 0.1907139118827702, grad: 0.0006573089269254273, error: 0.5094036212459419\n",
      "loss: 0.19069545425248796, grad: 0.0002777810327493424, error: 0.5093584178104833\n",
      "loss: 0.19067478355490983, grad: 0.00021857912748876086, error: 0.5091182455933492\n",
      "loss: 0.19067974451038147, grad: 0.0003008641443866032, error: 0.5091387039104622\n",
      "loss: 0.1906595114713713, grad: 0.00019086803884469636, error: 0.5091534253633803\n",
      "loss: 0.19065949023930584, grad: 0.00019097988271846587, error: 0.5090718066268352\n",
      "loss: 0.19065307797100808, grad: 0.00021749216450598843, error: 0.5091709184117932\n",
      "loss: 0.19073175611093923, grad: 0.0004803106129463843, error: 0.5089527334989582\n",
      "loss: 0.19071508033887055, grad: 0.00046601602035101507, error: 0.508960949484193\n",
      "loss: 0.19071736365209777, grad: 0.0006550767486839065, error: 0.5095012049946255\n",
      "loss: 0.19068696325868548, grad: 0.00023379769301201713, error: 0.5093635109088984\n",
      "loss: 0.190712520935229, grad: 0.0004638683195886691, error: 0.5092453465405122\n",
      "loss: 0.19069245306948243, grad: 0.00019737014449379187, error: 0.5091276492181005\n",
      "loss: 0.19065002139226536, grad: 0.0001888851122240222, error: 0.5091352283204562\n",
      "loss: 0.19064363867733586, grad: 0.00018988504969138825, error: 0.5091755129203609\n"
     ]
    },
    {
     "ename": "LoadError",
     "evalue": "InterruptException:",
     "output_type": "error",
     "traceback": [
      "InterruptException:",
      "",
      "Stacktrace:",
      " [1] getindex(t::Tuple, i::Int64)",
      "   @ Base ./tuple.jl:29",
      " [2] _pullback",
      "   @ ./In[61]:39 [inlined]",
      " [3] _pullback(::Zygote.Context, ::var\"#275#276\")",
      "   @ Zygote ~/.julia/packages/Zygote/IoW2g/src/compiler/interface2.jl:0",
      " [4] pullback(f::Function, ps::Params{Zygote.Buffer{Any, Vector{Any}}})",
      "   @ Zygote ~/.julia/packages/Zygote/IoW2g/src/compiler/interface.jl:352",
      " [5] gradient(f::Function, args::Params{Zygote.Buffer{Any, Vector{Any}}})",
      "   @ Zygote ~/.julia/packages/Zygote/IoW2g/src/compiler/interface.jl:75",
      " [6] top-level scope",
      "   @ In[61]:38",
      " [7] eval",
      "   @ ./boot.jl:360 [inlined]",
      " [8] include_string(mapexpr::typeof(REPL.softscope), mod::Module, code::String, filename::String)",
      "   @ Base ./loading.jl:1116"
     ]
    }
   ],
   "source": [
    "β=0.5\n",
    "k=32\n",
    "mid = 64\n",
    "n = 128\n",
    "desired_m = 80\n",
    "F = fourier(n)\n",
    "k̂ = randn(k)/sqrt(k)\n",
    "ps = Flux.params(k̂)\n",
    "m, A = sample_fourier(desired_m, n)\n",
    "model = Chain(\n",
    "        Dense(k, mid, relu, bias = false; init =(out,in) -> randn(out,in)/sqrt(out)),\n",
    "        Dense(mid, n, bias = false; init =(out,in) -> β*randn(out,in)/sqrt(out) + (1-β) * F[:,1:in])\n",
    "    )\n",
    "W₁ = Flux.params(model)[1]\n",
    "W₂ = Flux.params(model)[2]\n",
    "x₀ = model(randn(k)/sqrt(k))\n",
    "modele() = model(k̂)\n",
    "y= A*x₀\n",
    "function loss()\n",
    "    return sum(abs2, A*model(k̂) - y)\n",
    "end\n",
    "\n",
    "opt = Flux.Optimise.Descent(0.001)\n",
    "out_log = 10000\n",
    "num_data = 5\n",
    "tolerance = 4e-6\n",
    "tol2 = tolerance^2\n",
    "results = [[],[]]\n",
    "max_iter = 500_000\n",
    "\n",
    "W₁ .= randn(mid,k)\n",
    "W₂ .= β*randn(n,mid)/sqrt(n) + (1-β) * F[:,1:mid]\n",
    "i=1\n",
    "inco = matrix_alignment(W₂, F)\n",
    "\n",
    "opt\n",
    "\n",
    "while true\n",
    "         i+=1\n",
    "    gs = gradient( ps) do\n",
    "            sum(abs2, A*model(k̂) - y)\n",
    "    end\n",
    "    update!(opt, ps,gs)\n",
    "    if sum(abs2, gs[k̂]) < tol2\n",
    "    push!(results[1], inco)\n",
    "                push!(results[2], norm(model(k̂) - x₀))\n",
    "                println(\"pushed result, error $(norm(model(k̂) - x₀)), incoherence $inco\")\n",
    "                break\n",
    "            end\n",
    "            if i > max_iter\n",
    "                println(\"skipping train\")\n",
    "                break\n",
    "            end\n",
    "            i % out_log != 0 || println(\"loss: $(loss()), grad: $(norm(gs[k̂])), error: $(norm(model(k̂) - x₀))\")\n",
    "  end"
   ]
  },
  {
   "cell_type": "code",
   "execution_count": 39,
   "metadata": {},
   "outputs": [
    {
     "data": {
      "text/plain": [
       "2-element Vector{Vector{Any}}:\n",
       " [1.0000000000000002, 1.0000000000000002, 0.9942659371457384, 0.9959623561747436, 0.9931823810834856, 0.9941219735457206, 0.9717515916958956, 0.9838672395538788, 0.9777176600713909, 0.9810250064106377  …  0.7305789158590728, 0.7967836202406579, 0.7374595817063231, 0.7264824248248138, 0.7738522422224655, 0.7331029388714448, 0.7642969394195752, 0.7881124875129153, 0.746176168268236, 0.7431969021985918]\n",
       " [0.4238719166444773, 0.746121552148901, 0.591502828097277, 0.4924743355891634, 0.325576176750969, 0.4754218971988643, 0.576623921023499, 0.32062770712562, 0.32205242092702796, 0.6972299599272646  …  0.5000814495074147, 0.3319987524589201, 0.46951464437297336, 0.6889947057832015, 1.516733840323634, 0.5650658618180159, 0.3212102642971756, 0.5181258865207554, 0.4252844491763594, 0.6817183255728844]"
      ]
     },
     "execution_count": 39,
     "metadata": {},
     "output_type": "execute_result"
    }
   ],
   "source": [
    "results"
   ]
  },
  {
   "cell_type": "code",
   "execution_count": null,
   "metadata": {},
   "outputs": [],
   "source": []
  },
  {
   "cell_type": "code",
   "execution_count": null,
   "metadata": {},
   "outputs": [],
   "source": []
  },
  {
   "cell_type": "code",
   "execution_count": null,
   "metadata": {},
   "outputs": [],
   "source": [
    "k=12\n",
    "mid=15\n",
    "n=50\n",
    "aimed_m = 20\n",
    "\n",
    "x₀ = model(randn(k)/sqrt(k))\n",
    "m, A = sample_fourier(aimed_m, n)\n",
    "y = A*x₀\n",
    "println(\"signal norm: \", norm(x₀))\n",
    "println(\"with measurements norm: \", norm(y))\n",
    "x̂ = recover_signal(y, x -> A*x, model, k)\n",
    "#println(\"recovered: \", x̂, \" with measurements \", A*x̂)\n",
    "println(\"norm of the error: \", norm(x̂ - x₀))\n",
    "println(\"norm of recovered: \", norm(x̂))\n",
    "#does not seem to work with gaussian."
   ]
  },
  {
   "cell_type": "code",
   "execution_count": null,
   "metadata": {},
   "outputs": [],
   "source": [
    "size(A)"
   ]
  },
  {
   "cell_type": "code",
   "execution_count": 112,
   "metadata": {},
   "outputs": [
    {
     "data": {
      "text/plain": [
       "recovery_error (generic function with 1 method)"
      ]
     },
     "execution_count": 112,
     "metadata": {},
     "output_type": "execute_result"
    }
   ],
   "source": [
    "function recovery_error(x₀, model, A, k)\n",
    "    y = A*x₀\n",
    "    x̂ = recover_signal(y, x -> A*x, model, k)\n",
    "    if x̂ == nothing\n",
    "        return nothing\n",
    "    end\n",
    "    return norm(x̂ - x₀)\n",
    "end"
   ]
  },
  {
   "cell_type": "code",
   "execution_count": 122,
   "metadata": {},
   "outputs": [
    {
     "data": {
      "text/plain": [
       "Chain(\n",
       "  Dense(15 => 20, relu; bias=false),    \u001b[90m# 300 parameters\u001b[39m\n",
       "  Dense(20 => 100, UniformScaling{Bool}(true); bias=false),  \u001b[90m# 2_000 parameters\u001b[39m\n",
       ") "
      ]
     },
     "execution_count": 122,
     "metadata": {},
     "output_type": "execute_result"
    }
   ],
   "source": [
    "k=15\n",
    "mid=20\n",
    "n=100\n",
    "aimed_m = 35\n",
    "plot_pairs = []\n",
    "m, A = sample_fourier(aimed_m, n)\n",
    "F = fourier(n)\n",
    "W₁ = randn(mid, k)/sqrt(mid)\n",
    "β=0.5\n",
    "model = Chain(\n",
    "        Dense(k, mid, relu, bias = false; init =(out,in) -> randn(out,in)/sqrt(out)),\n",
    "        Dense(mid, n, I, bias = false; init =(out,in) -> β*randn(out,in)/sqrt(out) + (1-β) * F[:,1:in])\n",
    "    )\n",
    "\n"
   ]
  },
  {
   "cell_type": "code",
   "execution_count": 126,
   "metadata": {},
   "outputs": [
    {
     "data": {
      "text/plain": [
       "Params([[0.00014177412729451383 -0.28278208239562747 … 0.34099851485182303 -0.11937219579573191; -0.3895810074855248 0.22259853425085346 … 0.25046148078423336 0.07928074480358631; … ; -0.16178405297115492 -0.498002227280967 … 0.4291426291479408 -0.2126396494000069; 0.11365651332188732 0.007388117940947938 … 0.249921189885099 0.3414077158704079], [-0.03150998455764323 0.12806804870264005 … -0.0615064100634827 0.04820680622814488; 0.012210641461380567 0.10458322117050275 … 0.04205990368966982 0.09076932418423025; … ; 0.02149001606284909 -0.07483381678307247 … 0.01875778611938514 -0.03781216199226888; 0.08176090346717065 -0.0170483677264531 … 0.0959891521421396 -0.08205273881889778]])"
      ]
     },
     "execution_count": 126,
     "metadata": {},
     "output_type": "execute_result"
    }
   ],
   "source": [
    "Flux.params(model)"
   ]
  },
  {
   "cell_type": "code",
   "execution_count": null,
   "metadata": {},
   "outputs": [],
   "source": []
  },
  {
   "cell_type": "code",
   "execution_count": 133,
   "metadata": {},
   "outputs": [
    {
     "ename": "LoadError",
     "evalue": "DimensionMismatch(\"dimensions must match: a has dims (Base.OneTo(100), Base.OneTo(20)), b has dims (Base.OneTo(100), Base.OneTo(100)), mismatch at 2\")",
     "output_type": "error",
     "traceback": [
      "DimensionMismatch(\"dimensions must match: a has dims (Base.OneTo(100), Base.OneTo(20)), b has dims (Base.OneTo(100), Base.OneTo(100)), mismatch at 2\")",
      "",
      "Stacktrace:",
      " [1] promote_shape",
      "   @ ./indices.jl:178 [inlined]",
      " [2] promote_shape(a::Matrix{Float64}, b::Matrix{Float64})",
      "   @ Base ./indices.jl:169",
      " [3] +(A::Matrix{Float64}, Bs::Matrix{Float64})",
      "   @ Base ./arraymath.jl:45",
      " [4] (::var\"#82#84\")(out::Int64, in::Int64)",
      "   @ Main ./In[133]:13",
      " [5] Dense(::Pair{Int64, Int64}, σ::UniformScaling{Bool}; init::var\"#82#84\", bias::Bool)",
      "   @ Flux ~/.julia/packages/Flux/js6mP/src/layers/basic.jl:152",
      " [6] #Dense#364",
      "   @ ~/.julia/packages/Flux/js6mP/src/deprecations.jl:63 [inlined]",
      " [7] top-level scope",
      "   @ In[133]:11",
      " [8] eval",
      "   @ ./boot.jl:360 [inlined]",
      " [9] include_string(mapexpr::typeof(REPL.softscope), mod::Module, code::String, filename::String)",
      "   @ Base ./loading.jl:1116"
     ]
    }
   ],
   "source": [
    "β_array = 0:0.5:1\n",
    "num_trials = 2\n",
    "k=15\n",
    "mid=20\n",
    "n=100\n",
    "aimed_m = 35\n",
    "plot_pairs = []\n",
    "m, A = sample_fourier(aimed_m, n)\n",
    "F = fourier(n)\n",
    "W₁ = randn(mid, k)/sqrt(mid)\n",
    "model = Chain(\n",
    "        Dense(k, mid, relu, bias = false; init =(out,in) -> W₁),\n",
    "        Dense(mid, n, I, bias = false; init =(out,in) -> β*randn(out,in)/sqrt(out) + (1-β) * F[1:out,:])\n",
    "    )\n",
    "\n",
    "ps = Flux.params(model)\n",
    "\n",
    "\n",
    "for alignment in β_array\n",
    "    signal_errors = []\n",
    "    for i in 1:num_trials\n",
    "        x₀ = randn(n)/sqrt(n)\n",
    "        push!(signal_errors, recovery_error(x₀, model, A, k))\n",
    "    end\n",
    "    push!(plot_pairs, (alignment, copy(signal_errors)))\n",
    "end\n"
   ]
  },
  {
   "cell_type": "code",
   "execution_count": 166,
   "metadata": {},
   "outputs": [
    {
     "data": {
      "text/plain": [
       "Grads(...)"
      ]
     },
     "execution_count": 166,
     "metadata": {},
     "output_type": "execute_result"
    }
   ],
   "source": [
    "gs = gradient( ps) do\n",
    "    sum(abs2, A*model(k̂) - y)\n",
    "end"
   ]
  },
  {
   "cell_type": "code",
   "execution_count": 169,
   "metadata": {},
   "outputs": [
    {
     "data": {
      "text/plain": [
       "16-element Vector{Float64}:\n",
       "  0.30027702283359187\n",
       "  0.2977076782005569\n",
       " -0.08949439964775133\n",
       "  0.016656954688092633\n",
       " -0.08932800903729907\n",
       "  0.004374925532441641\n",
       "  0.11108238090805175\n",
       " -0.11955577437375853\n",
       "  0.11398397851865089\n",
       "  0.02836328637681522\n",
       "  0.004936957659845073\n",
       "  0.11228908125099814\n",
       "  0.15181775914691267\n",
       " -0.11135247035411971\n",
       "  0.06926501873263716\n",
       " -0.057461113802936406"
      ]
     },
     "execution_count": 169,
     "metadata": {},
     "output_type": "execute_result"
    }
   ],
   "source": []
  },
  {
   "cell_type": "code",
   "execution_count": 55,
   "metadata": {},
   "outputs": [
    {
     "data": {
      "text/plain": [
       "experiment_1 (generic function with 1 method)"
      ]
     },
     "execution_count": 55,
     "metadata": {},
     "output_type": "execute_result"
    }
   ],
   "source": [
    "function experiment_1()\n",
    "    β_array = 0:0.05:1\n",
    "    num_signals = 10\n",
    "    k=8\n",
    "    mid=16\n",
    "    n= 32\n",
    "    aimed_m = 16\n",
    "    plot_pairs = []\n",
    "    m, A = sample_fourier(aimed_m, n)\n",
    "    for (model, alignment) in get_aligned_models(k, mid,n, β_array)\n",
    "        signal_errors = []\n",
    "        for i in 1:num_signals\n",
    "            x₀ = randn(n)/sqrt(n)\n",
    "            push!(signal_errors, recovery_error(x₀, model, A, k))\n",
    "        end\n",
    "        push!(plot_pairs, (alignment, copy(signal_errors)))\n",
    "    end\n",
    "    return plot_pairs\n",
    "end"
   ]
  },
  {
   "cell_type": "code",
   "execution_count": null,
   "metadata": {},
   "outputs": [],
   "source": [
    "plot_pairs = experiment_1()"
   ]
  },
  {
   "cell_type": "code",
   "execution_count": 23,
   "metadata": {},
   "outputs": [
    {
     "data": {
      "image/svg+xml": "<?xml version=\"1.0\" encoding=\"utf-8\"?>\n<svg xmlns=\"http://www.w3.org/2000/svg\" xmlns:xlink=\"http://www.w3.org/1999/xlink\" width=\"600\" height=\"400\" viewBox=\"0 0 2400 1600\">\n<defs>\n  <clipPath id=\"clip580\">\n    <rect x=\"0\" y=\"0\" width=\"2400\" height=\"1600\"/>\n  </clipPath>\n</defs>\n<path clip-path=\"url(#clip580)\" d=\"\nM0 1600 L2400 1600 L2400 0 L0 0  Z\n  \" fill=\"#ffffff\" fill-rule=\"evenodd\" fill-opacity=\"1\"/>\n<defs>\n  <clipPath id=\"clip581\">\n    <rect x=\"480\" y=\"0\" width=\"1681\" height=\"1600\"/>\n  </clipPath>\n</defs>\n<path clip-path=\"url(#clip580)\" d=\"\nM154.515 1486.45 L2352.76 1486.45 L2352.76 47.2441 L154.515 47.2441  Z\n  \" fill=\"#ffffff\" fill-rule=\"evenodd\" fill-opacity=\"1\"/>\n<defs>\n  <clipPath id=\"clip582\">\n    <rect x=\"154\" y=\"47\" width=\"2199\" height=\"1440\"/>\n  </clipPath>\n</defs>\n<polyline clip-path=\"url(#clip582)\" style=\"stroke:#000000; stroke-linecap:butt; stroke-linejoin:round; stroke-width:2; stroke-opacity:0.1; fill:none\" points=\"\n  528.072,1486.45 528.072,47.2441 \n  \"/>\n<polyline clip-path=\"url(#clip582)\" style=\"stroke:#000000; stroke-linecap:butt; stroke-linejoin:round; stroke-width:2; stroke-opacity:0.1; fill:none\" points=\"\n  968.69,1486.45 968.69,47.2441 \n  \"/>\n<polyline clip-path=\"url(#clip582)\" style=\"stroke:#000000; stroke-linecap:butt; stroke-linejoin:round; stroke-width:2; stroke-opacity:0.1; fill:none\" points=\"\n  1409.31,1486.45 1409.31,47.2441 \n  \"/>\n<polyline clip-path=\"url(#clip582)\" style=\"stroke:#000000; stroke-linecap:butt; stroke-linejoin:round; stroke-width:2; stroke-opacity:0.1; fill:none\" points=\"\n  1849.92,1486.45 1849.92,47.2441 \n  \"/>\n<polyline clip-path=\"url(#clip582)\" style=\"stroke:#000000; stroke-linecap:butt; stroke-linejoin:round; stroke-width:2; stroke-opacity:0.1; fill:none\" points=\"\n  2290.54,1486.45 2290.54,47.2441 \n  \"/>\n<polyline clip-path=\"url(#clip580)\" style=\"stroke:#000000; stroke-linecap:butt; stroke-linejoin:round; stroke-width:4; stroke-opacity:1; fill:none\" points=\"\n  154.515,1486.45 2352.76,1486.45 \n  \"/>\n<polyline clip-path=\"url(#clip580)\" style=\"stroke:#000000; stroke-linecap:butt; stroke-linejoin:round; stroke-width:4; stroke-opacity:1; fill:none\" points=\"\n  528.072,1486.45 528.072,1467.55 \n  \"/>\n<polyline clip-path=\"url(#clip580)\" style=\"stroke:#000000; stroke-linecap:butt; stroke-linejoin:round; stroke-width:4; stroke-opacity:1; fill:none\" points=\"\n  968.69,1486.45 968.69,1467.55 \n  \"/>\n<polyline clip-path=\"url(#clip580)\" style=\"stroke:#000000; stroke-linecap:butt; stroke-linejoin:round; stroke-width:4; stroke-opacity:1; fill:none\" points=\"\n  1409.31,1486.45 1409.31,1467.55 \n  \"/>\n<polyline clip-path=\"url(#clip580)\" style=\"stroke:#000000; stroke-linecap:butt; stroke-linejoin:round; stroke-width:4; stroke-opacity:1; fill:none\" points=\"\n  1849.92,1486.45 1849.92,1467.55 \n  \"/>\n<polyline clip-path=\"url(#clip580)\" style=\"stroke:#000000; stroke-linecap:butt; stroke-linejoin:round; stroke-width:4; stroke-opacity:1; fill:none\" points=\"\n  2290.54,1486.45 2290.54,1467.55 \n  \"/>\n<path clip-path=\"url(#clip580)\" d=\"M505.376 1517.37 Q501.765 1517.37 499.936 1520.93 Q498.13 1524.47 498.13 1531.6 Q498.13 1538.71 499.936 1542.27 Q501.765 1545.82 505.376 1545.82 Q509.01 1545.82 510.815 1542.27 Q512.644 1538.71 512.644 1531.6 Q512.644 1524.47 510.815 1520.93 Q509.01 1517.37 505.376 1517.37 M505.376 1513.66 Q511.186 1513.66 514.241 1518.27 Q517.32 1522.85 517.32 1531.6 Q517.32 1540.33 514.241 1544.94 Q511.186 1549.52 505.376 1549.52 Q499.566 1549.52 496.487 1544.94 Q493.431 1540.33 493.431 1531.6 Q493.431 1522.85 496.487 1518.27 Q499.566 1513.66 505.376 1513.66 Z\" fill=\"#000000\" fill-rule=\"evenodd\" fill-opacity=\"1\" /><path clip-path=\"url(#clip580)\" d=\"M525.538 1542.97 L530.422 1542.97 L530.422 1548.85 L525.538 1548.85 L525.538 1542.97 Z\" fill=\"#000000\" fill-rule=\"evenodd\" fill-opacity=\"1\" /><path clip-path=\"url(#clip580)\" d=\"M551.186 1529.7 Q548.037 1529.7 546.186 1531.86 Q544.357 1534.01 544.357 1537.76 Q544.357 1541.49 546.186 1543.66 Q548.037 1545.82 551.186 1545.82 Q554.334 1545.82 556.162 1543.66 Q558.014 1541.49 558.014 1537.76 Q558.014 1534.01 556.162 1531.86 Q554.334 1529.7 551.186 1529.7 M560.468 1515.05 L560.468 1519.31 Q558.709 1518.48 556.903 1518.04 Q555.121 1517.6 553.362 1517.6 Q548.732 1517.6 546.278 1520.72 Q543.848 1523.85 543.5 1530.17 Q544.866 1528.15 546.926 1527.09 Q548.987 1526 551.463 1526 Q556.672 1526 559.681 1529.17 Q562.713 1532.32 562.713 1537.76 Q562.713 1543.08 559.565 1546.3 Q556.417 1549.52 551.186 1549.52 Q545.19 1549.52 542.019 1544.94 Q538.848 1540.33 538.848 1531.6 Q538.848 1523.41 542.737 1518.55 Q546.625 1513.66 553.176 1513.66 Q554.936 1513.66 556.718 1514.01 Q558.524 1514.36 560.468 1515.05 Z\" fill=\"#000000\" fill-rule=\"evenodd\" fill-opacity=\"1\" /><path clip-path=\"url(#clip580)\" d=\"M946.525 1517.37 Q942.914 1517.37 941.086 1520.93 Q939.28 1524.47 939.28 1531.6 Q939.28 1538.71 941.086 1542.27 Q942.914 1545.82 946.525 1545.82 Q950.16 1545.82 951.965 1542.27 Q953.794 1538.71 953.794 1531.6 Q953.794 1524.47 951.965 1520.93 Q950.16 1517.37 946.525 1517.37 M946.525 1513.66 Q952.336 1513.66 955.391 1518.27 Q958.47 1522.85 958.47 1531.6 Q958.47 1540.33 955.391 1544.94 Q952.336 1549.52 946.525 1549.52 Q940.715 1549.52 937.637 1544.94 Q934.581 1540.33 934.581 1531.6 Q934.581 1522.85 937.637 1518.27 Q940.715 1513.66 946.525 1513.66 Z\" fill=\"#000000\" fill-rule=\"evenodd\" fill-opacity=\"1\" /><path clip-path=\"url(#clip580)\" d=\"M966.687 1542.97 L971.572 1542.97 L971.572 1548.85 L966.687 1548.85 L966.687 1542.97 Z\" fill=\"#000000\" fill-rule=\"evenodd\" fill-opacity=\"1\" /><path clip-path=\"url(#clip580)\" d=\"M980.576 1514.29 L1002.8 1514.29 L1002.8 1516.28 L990.252 1548.85 L985.368 1548.85 L997.173 1518.22 L980.576 1518.22 L980.576 1514.29 Z\" fill=\"#000000\" fill-rule=\"evenodd\" fill-opacity=\"1\" /><path clip-path=\"url(#clip580)\" d=\"M1386.74 1517.37 Q1383.13 1517.37 1381.3 1520.93 Q1379.49 1524.47 1379.49 1531.6 Q1379.49 1538.71 1381.3 1542.27 Q1383.13 1545.82 1386.74 1545.82 Q1390.37 1545.82 1392.18 1542.27 Q1394.01 1538.71 1394.01 1531.6 Q1394.01 1524.47 1392.18 1520.93 Q1390.37 1517.37 1386.74 1517.37 M1386.74 1513.66 Q1392.55 1513.66 1395.6 1518.27 Q1398.68 1522.85 1398.68 1531.6 Q1398.68 1540.33 1395.6 1544.94 Q1392.55 1549.52 1386.74 1549.52 Q1380.93 1549.52 1377.85 1544.94 Q1374.79 1540.33 1374.79 1531.6 Q1374.79 1522.85 1377.85 1518.27 Q1380.93 1513.66 1386.74 1513.66 Z\" fill=\"#000000\" fill-rule=\"evenodd\" fill-opacity=\"1\" /><path clip-path=\"url(#clip580)\" d=\"M1406.9 1542.97 L1411.78 1542.97 L1411.78 1548.85 L1406.9 1548.85 L1406.9 1542.97 Z\" fill=\"#000000\" fill-rule=\"evenodd\" fill-opacity=\"1\" /><path clip-path=\"url(#clip580)\" d=\"M1431.97 1532.44 Q1428.64 1532.44 1426.71 1534.22 Q1424.82 1536 1424.82 1539.13 Q1424.82 1542.25 1426.71 1544.03 Q1428.64 1545.82 1431.97 1545.82 Q1435.3 1545.82 1437.22 1544.03 Q1439.14 1542.23 1439.14 1539.13 Q1439.14 1536 1437.22 1534.22 Q1435.33 1532.44 1431.97 1532.44 M1427.29 1530.45 Q1424.28 1529.7 1422.59 1527.64 Q1420.93 1525.58 1420.93 1522.62 Q1420.93 1518.48 1423.87 1516.07 Q1426.83 1513.66 1431.97 1513.66 Q1437.13 1513.66 1440.07 1516.07 Q1443.01 1518.48 1443.01 1522.62 Q1443.01 1525.58 1441.32 1527.64 Q1439.65 1529.7 1436.67 1530.45 Q1440.05 1531.23 1441.92 1533.52 Q1443.82 1535.82 1443.82 1539.13 Q1443.82 1544.15 1440.74 1546.83 Q1437.69 1549.52 1431.97 1549.52 Q1426.25 1549.52 1423.17 1546.83 Q1420.12 1544.15 1420.12 1539.13 Q1420.12 1535.82 1422.02 1533.52 Q1423.91 1531.23 1427.29 1530.45 M1425.58 1523.06 Q1425.58 1525.75 1427.25 1527.25 Q1428.94 1528.76 1431.97 1528.76 Q1434.98 1528.76 1436.67 1527.25 Q1438.38 1525.75 1438.38 1523.06 Q1438.38 1520.38 1436.67 1518.87 Q1434.98 1517.37 1431.97 1517.37 Q1428.94 1517.37 1427.25 1518.87 Q1425.58 1520.38 1425.58 1523.06 Z\" fill=\"#000000\" fill-rule=\"evenodd\" fill-opacity=\"1\" /><path clip-path=\"url(#clip580)\" d=\"M1827.4 1517.37 Q1823.79 1517.37 1821.96 1520.93 Q1820.16 1524.47 1820.16 1531.6 Q1820.16 1538.71 1821.96 1542.27 Q1823.79 1545.82 1827.4 1545.82 Q1831.04 1545.82 1832.84 1542.27 Q1834.67 1538.71 1834.67 1531.6 Q1834.67 1524.47 1832.84 1520.93 Q1831.04 1517.37 1827.4 1517.37 M1827.4 1513.66 Q1833.21 1513.66 1836.27 1518.27 Q1839.35 1522.85 1839.35 1531.6 Q1839.35 1540.33 1836.27 1544.94 Q1833.21 1549.52 1827.4 1549.52 Q1821.59 1549.52 1818.51 1544.94 Q1815.46 1540.33 1815.46 1531.6 Q1815.46 1522.85 1818.51 1518.27 Q1821.59 1513.66 1827.4 1513.66 Z\" fill=\"#000000\" fill-rule=\"evenodd\" fill-opacity=\"1\" /><path clip-path=\"url(#clip580)\" d=\"M1847.56 1542.97 L1852.45 1542.97 L1852.45 1548.85 L1847.56 1548.85 L1847.56 1542.97 Z\" fill=\"#000000\" fill-rule=\"evenodd\" fill-opacity=\"1\" /><path clip-path=\"url(#clip580)\" d=\"M1862.77 1548.13 L1862.77 1543.87 Q1864.53 1544.7 1866.34 1545.14 Q1868.14 1545.58 1869.88 1545.58 Q1874.51 1545.58 1876.94 1542.48 Q1879.39 1539.36 1879.74 1533.01 Q1878.4 1535.01 1876.34 1536.07 Q1874.28 1537.13 1871.78 1537.13 Q1866.59 1537.13 1863.56 1534.01 Q1860.55 1530.86 1860.55 1525.42 Q1860.55 1520.1 1863.7 1516.88 Q1866.85 1513.66 1872.08 1513.66 Q1878.07 1513.66 1881.22 1518.27 Q1884.39 1522.85 1884.39 1531.6 Q1884.39 1539.77 1880.5 1544.66 Q1876.64 1549.52 1870.09 1549.52 Q1868.33 1549.52 1866.52 1549.17 Q1864.72 1548.82 1862.77 1548.13 M1872.08 1533.48 Q1875.23 1533.48 1877.05 1531.32 Q1878.91 1529.17 1878.91 1525.42 Q1878.91 1521.7 1877.05 1519.54 Q1875.23 1517.37 1872.08 1517.37 Q1868.93 1517.37 1867.08 1519.54 Q1865.25 1521.7 1865.25 1525.42 Q1865.25 1529.17 1867.08 1531.32 Q1868.93 1533.48 1872.08 1533.48 Z\" fill=\"#000000\" fill-rule=\"evenodd\" fill-opacity=\"1\" /><path clip-path=\"url(#clip580)\" d=\"M2257.69 1544.91 L2265.33 1544.91 L2265.33 1518.55 L2257.02 1520.21 L2257.02 1515.95 L2265.29 1514.29 L2269.96 1514.29 L2269.96 1544.91 L2277.6 1544.91 L2277.6 1548.85 L2257.69 1548.85 L2257.69 1544.91 Z\" fill=\"#000000\" fill-rule=\"evenodd\" fill-opacity=\"1\" /><path clip-path=\"url(#clip580)\" d=\"M2287.05 1542.97 L2291.93 1542.97 L2291.93 1548.85 L2287.05 1548.85 L2287.05 1542.97 Z\" fill=\"#000000\" fill-rule=\"evenodd\" fill-opacity=\"1\" /><path clip-path=\"url(#clip580)\" d=\"M2312.12 1517.37 Q2308.5 1517.37 2306.68 1520.93 Q2304.87 1524.47 2304.87 1531.6 Q2304.87 1538.71 2306.68 1542.27 Q2308.5 1545.82 2312.12 1545.82 Q2315.75 1545.82 2317.56 1542.27 Q2319.38 1538.71 2319.38 1531.6 Q2319.38 1524.47 2317.56 1520.93 Q2315.75 1517.37 2312.12 1517.37 M2312.12 1513.66 Q2317.93 1513.66 2320.98 1518.27 Q2324.06 1522.85 2324.06 1531.6 Q2324.06 1540.33 2320.98 1544.94 Q2317.93 1549.52 2312.12 1549.52 Q2306.31 1549.52 2303.23 1544.94 Q2300.17 1540.33 2300.17 1531.6 Q2300.17 1522.85 2303.23 1518.27 Q2306.31 1513.66 2312.12 1513.66 Z\" fill=\"#000000\" fill-rule=\"evenodd\" fill-opacity=\"1\" /><polyline clip-path=\"url(#clip582)\" style=\"stroke:#000000; stroke-linecap:butt; stroke-linejoin:round; stroke-width:2; stroke-opacity:0.1; fill:none\" points=\"\n  154.515,1290.09 2352.76,1290.09 \n  \"/>\n<polyline clip-path=\"url(#clip582)\" style=\"stroke:#000000; stroke-linecap:butt; stroke-linejoin:round; stroke-width:2; stroke-opacity:0.1; fill:none\" points=\"\n  154.515,1011.02 2352.76,1011.02 \n  \"/>\n<polyline clip-path=\"url(#clip582)\" style=\"stroke:#000000; stroke-linecap:butt; stroke-linejoin:round; stroke-width:2; stroke-opacity:0.1; fill:none\" points=\"\n  154.515,731.956 2352.76,731.956 \n  \"/>\n<polyline clip-path=\"url(#clip582)\" style=\"stroke:#000000; stroke-linecap:butt; stroke-linejoin:round; stroke-width:2; stroke-opacity:0.1; fill:none\" points=\"\n  154.515,452.89 2352.76,452.89 \n  \"/>\n<polyline clip-path=\"url(#clip582)\" style=\"stroke:#000000; stroke-linecap:butt; stroke-linejoin:round; stroke-width:2; stroke-opacity:0.1; fill:none\" points=\"\n  154.515,173.824 2352.76,173.824 \n  \"/>\n<polyline clip-path=\"url(#clip580)\" style=\"stroke:#000000; stroke-linecap:butt; stroke-linejoin:round; stroke-width:4; stroke-opacity:1; fill:none\" points=\"\n  154.515,1486.45 154.515,47.2441 \n  \"/>\n<polyline clip-path=\"url(#clip580)\" style=\"stroke:#000000; stroke-linecap:butt; stroke-linejoin:round; stroke-width:4; stroke-opacity:1; fill:none\" points=\"\n  154.515,1290.09 173.413,1290.09 \n  \"/>\n<polyline clip-path=\"url(#clip580)\" style=\"stroke:#000000; stroke-linecap:butt; stroke-linejoin:round; stroke-width:4; stroke-opacity:1; fill:none\" points=\"\n  154.515,1011.02 173.413,1011.02 \n  \"/>\n<polyline clip-path=\"url(#clip580)\" style=\"stroke:#000000; stroke-linecap:butt; stroke-linejoin:round; stroke-width:4; stroke-opacity:1; fill:none\" points=\"\n  154.515,731.956 173.413,731.956 \n  \"/>\n<polyline clip-path=\"url(#clip580)\" style=\"stroke:#000000; stroke-linecap:butt; stroke-linejoin:round; stroke-width:4; stroke-opacity:1; fill:none\" points=\"\n  154.515,452.89 173.413,452.89 \n  \"/>\n<polyline clip-path=\"url(#clip580)\" style=\"stroke:#000000; stroke-linecap:butt; stroke-linejoin:round; stroke-width:4; stroke-opacity:1; fill:none\" points=\"\n  154.515,173.824 173.413,173.824 \n  \"/>\n<path clip-path=\"url(#clip580)\" d=\"M52.1495 1303.43 L59.7884 1303.43 L59.7884 1277.07 L51.4782 1278.73 L51.4782 1274.48 L59.7421 1272.81 L64.418 1272.81 L64.418 1303.43 L72.0568 1303.43 L72.0568 1307.37 L52.1495 1307.37 L52.1495 1303.43 Z\" fill=\"#000000\" fill-rule=\"evenodd\" fill-opacity=\"1\" /><path clip-path=\"url(#clip580)\" d=\"M81.5012 1301.49 L86.3855 1301.49 L86.3855 1307.37 L81.5012 1307.37 L81.5012 1301.49 Z\" fill=\"#000000\" fill-rule=\"evenodd\" fill-opacity=\"1\" /><path clip-path=\"url(#clip580)\" d=\"M106.571 1275.89 Q102.959 1275.89 101.131 1279.45 Q99.3252 1282.99 99.3252 1290.12 Q99.3252 1297.23 101.131 1300.79 Q102.959 1304.34 106.571 1304.34 Q110.205 1304.34 112.01 1300.79 Q113.839 1297.23 113.839 1290.12 Q113.839 1282.99 112.01 1279.45 Q110.205 1275.89 106.571 1275.89 M106.571 1272.18 Q112.381 1272.18 115.436 1276.79 Q118.515 1281.37 118.515 1290.12 Q118.515 1298.85 115.436 1303.46 Q112.381 1308.04 106.571 1308.04 Q100.76 1308.04 97.6817 1303.46 Q94.6262 1298.85 94.6262 1290.12 Q94.6262 1281.37 97.6817 1276.79 Q100.76 1272.18 106.571 1272.18 Z\" fill=\"#000000\" fill-rule=\"evenodd\" fill-opacity=\"1\" /><path clip-path=\"url(#clip580)\" d=\"M53.3764 1024.37 L61.0152 1024.37 L61.0152 998.002 L52.7051 999.668 L52.7051 995.409 L60.9689 993.742 L65.6448 993.742 L65.6448 1024.37 L73.2837 1024.37 L73.2837 1028.3 L53.3764 1028.3 L53.3764 1024.37 Z\" fill=\"#000000\" fill-rule=\"evenodd\" fill-opacity=\"1\" /><path clip-path=\"url(#clip580)\" d=\"M82.7281 1022.42 L87.6123 1022.42 L87.6123 1028.3 L82.7281 1028.3 L82.7281 1022.42 Z\" fill=\"#000000\" fill-rule=\"evenodd\" fill-opacity=\"1\" /><path clip-path=\"url(#clip580)\" d=\"M98.6076 1024.37 L106.246 1024.37 L106.246 998.002 L97.9363 999.668 L97.9363 995.409 L106.2 993.742 L110.876 993.742 L110.876 1024.37 L118.515 1024.37 L118.515 1028.3 L98.6076 1028.3 L98.6076 1024.37 Z\" fill=\"#000000\" fill-rule=\"evenodd\" fill-opacity=\"1\" /><path clip-path=\"url(#clip580)\" d=\"M53.7467 745.301 L61.3856 745.301 L61.3856 718.935 L53.0754 720.602 L53.0754 716.343 L61.3393 714.676 L66.0152 714.676 L66.0152 745.301 L73.654 745.301 L73.654 749.236 L53.7467 749.236 L53.7467 745.301 Z\" fill=\"#000000\" fill-rule=\"evenodd\" fill-opacity=\"1\" /><path clip-path=\"url(#clip580)\" d=\"M83.0984 743.357 L87.9827 743.357 L87.9827 749.236 L83.0984 749.236 L83.0984 743.357 Z\" fill=\"#000000\" fill-rule=\"evenodd\" fill-opacity=\"1\" /><path clip-path=\"url(#clip580)\" d=\"M102.196 745.301 L118.515 745.301 L118.515 749.236 L96.5706 749.236 L96.5706 745.301 Q99.2326 742.546 103.816 737.917 Q108.422 733.264 109.603 731.921 Q111.848 729.398 112.728 727.662 Q113.631 725.903 113.631 724.213 Q113.631 721.459 111.686 719.722 Q109.765 717.986 106.663 717.986 Q104.464 717.986 102.01 718.75 Q99.5798 719.514 96.8021 721.065 L96.8021 716.343 Q99.6261 715.209 102.08 714.63 Q104.534 714.051 106.571 714.051 Q111.941 714.051 115.135 716.736 Q118.33 719.422 118.33 723.912 Q118.33 726.042 117.52 727.963 Q116.733 729.861 114.626 732.454 Q114.047 733.125 110.946 736.343 Q107.844 739.537 102.196 745.301 Z\" fill=\"#000000\" fill-rule=\"evenodd\" fill-opacity=\"1\" /><path clip-path=\"url(#clip580)\" d=\"M52.7977 466.235 L60.4365 466.235 L60.4365 439.869 L52.1264 441.536 L52.1264 437.277 L60.3902 435.61 L65.0661 435.61 L65.0661 466.235 L72.705 466.235 L72.705 470.17 L52.7977 470.17 L52.7977 466.235 Z\" fill=\"#000000\" fill-rule=\"evenodd\" fill-opacity=\"1\" /><path clip-path=\"url(#clip580)\" d=\"M82.1494 464.291 L87.0336 464.291 L87.0336 470.17 L82.1494 470.17 L82.1494 464.291 Z\" fill=\"#000000\" fill-rule=\"evenodd\" fill-opacity=\"1\" /><path clip-path=\"url(#clip580)\" d=\"M111.385 451.536 Q114.742 452.254 116.617 454.522 Q118.515 456.791 118.515 460.124 Q118.515 465.24 114.996 468.041 Q111.478 470.841 104.996 470.841 Q102.821 470.841 100.506 470.402 Q98.2141 469.985 95.7604 469.128 L95.7604 464.615 Q97.7048 465.749 100.02 466.328 Q102.334 466.906 104.858 466.906 Q109.256 466.906 111.547 465.17 Q113.862 463.434 113.862 460.124 Q113.862 457.068 111.709 455.355 Q109.58 453.619 105.76 453.619 L101.733 453.619 L101.733 449.777 L105.946 449.777 Q109.395 449.777 111.223 448.411 Q113.052 447.022 113.052 444.43 Q113.052 441.767 111.154 440.355 Q109.279 438.92 105.76 438.92 Q103.839 438.92 101.64 439.337 Q99.4409 439.754 96.8021 440.633 L96.8021 436.467 Q99.4641 435.726 101.779 435.355 Q104.117 434.985 106.177 434.985 Q111.501 434.985 114.603 437.416 Q117.705 439.823 117.705 443.943 Q117.705 446.814 116.061 448.804 Q114.418 450.772 111.385 451.536 Z\" fill=\"#000000\" fill-rule=\"evenodd\" fill-opacity=\"1\" /><path clip-path=\"url(#clip580)\" d=\"M51.6634 187.169 L59.3023 187.169 L59.3023 160.803 L50.9921 162.47 L50.9921 158.211 L59.256 156.544 L63.9319 156.544 L63.9319 187.169 L71.5707 187.169 L71.5707 191.104 L51.6634 191.104 L51.6634 187.169 Z\" fill=\"#000000\" fill-rule=\"evenodd\" fill-opacity=\"1\" /><path clip-path=\"url(#clip580)\" d=\"M81.0151 185.224 L85.8993 185.224 L85.8993 191.104 L81.0151 191.104 L81.0151 185.224 Z\" fill=\"#000000\" fill-rule=\"evenodd\" fill-opacity=\"1\" /><path clip-path=\"url(#clip580)\" d=\"M108.932 160.618 L97.1261 179.067 L108.932 179.067 L108.932 160.618 M107.705 156.544 L113.584 156.544 L113.584 179.067 L118.515 179.067 L118.515 182.956 L113.584 182.956 L113.584 191.104 L108.932 191.104 L108.932 182.956 L93.3299 182.956 L93.3299 178.442 L107.705 156.544 Z\" fill=\"#000000\" fill-rule=\"evenodd\" fill-opacity=\"1\" /><polyline clip-path=\"url(#clip582)\" style=\"stroke:#009af9; stroke-linecap:butt; stroke-linejoin:round; stroke-width:4; stroke-opacity:1; fill:none\" points=\"\n  216.729,1052.27 1340.83,87.9763 2290.54,1445.72 \n  \"/>\n<path clip-path=\"url(#clip580)\" d=\"\nM1982.8 198.898 L2279.48 198.898 L2279.48 95.2176 L1982.8 95.2176  Z\n  \" fill=\"#ffffff\" fill-rule=\"evenodd\" fill-opacity=\"1\"/>\n<polyline clip-path=\"url(#clip580)\" style=\"stroke:#000000; stroke-linecap:butt; stroke-linejoin:round; stroke-width:4; stroke-opacity:1; fill:none\" points=\"\n  1982.8,198.898 2279.48,198.898 2279.48,95.2176 1982.8,95.2176 1982.8,198.898 \n  \"/>\n<polyline clip-path=\"url(#clip580)\" style=\"stroke:#009af9; stroke-linecap:butt; stroke-linejoin:round; stroke-width:4; stroke-opacity:1; fill:none\" points=\"\n  2007.23,147.058 2153.78,147.058 \n  \"/>\n<path clip-path=\"url(#clip580)\" d=\"M2192.04 166.745 Q2190.24 171.375 2188.53 172.787 Q2186.81 174.199 2183.94 174.199 L2180.54 174.199 L2180.54 170.634 L2183.04 170.634 Q2184.8 170.634 2185.77 169.8 Q2186.74 168.967 2187.92 165.865 L2188.69 163.921 L2178.2 138.412 L2182.71 138.412 L2190.82 158.689 L2198.92 138.412 L2203.43 138.412 L2192.04 166.745 Z\" fill=\"#000000\" fill-rule=\"evenodd\" fill-opacity=\"1\" /><path clip-path=\"url(#clip580)\" d=\"M2210.72 160.402 L2218.36 160.402 L2218.36 134.037 L2210.05 135.703 L2210.05 131.444 L2218.32 129.778 L2222.99 129.778 L2222.99 160.402 L2230.63 160.402 L2230.63 164.338 L2210.72 164.338 L2210.72 160.402 Z\" fill=\"#000000\" fill-rule=\"evenodd\" fill-opacity=\"1\" /></svg>\n"
     },
     "execution_count": 23,
     "metadata": {},
     "output_type": "execute_result"
    }
   ],
   "source": [
    "plot([(plot_pair[1], mean(plot_pair[2])) for plot_pair in plot_pairs])"
   ]
  },
  {
   "cell_type": "code",
   "execution_count": null,
   "metadata": {},
   "outputs": [],
   "source": [
    "function get_fourier_meas_fn(m,n)\n",
    "    true_m, meas_mat = sample_fourier(m, n)\n",
    "    meas_mat = sqrt(n/true_m).*meas_mat\n",
    "    return (meas_mat, x -> meas_mat*x)\n",
    "end"
   ]
  },
  {
   "cell_type": "code",
   "execution_count": null,
   "metadata": {},
   "outputs": [],
   "source": [
    "k = 1\n",
    "mid = 1\n",
    "n = 1\n",
    "aimed_m = 1\n",
    "num_signals = 2\n",
    "meas_fn = get_fourier_meas_fn(aimed_m, n)[2]\n",
    "\n",
    "β_array = [1.0]\n",
    "plot_pairs = []\n",
    "signal_errors = Array{Float64}(undef,num_signals)\n",
    "#model, alignment = get_aligned_models(k, mid, n, [0,])[1]\n",
    "model = get_rand_model(k,mid,n)\n",
    "x₀ = randn(n)/sqrt(n)\n",
    "measurements = meas_fn(x₀)"
   ]
  },
  {
   "cell_type": "code",
   "execution_count": null,
   "metadata": {},
   "outputs": [],
   "source": [
    "measurements = meas_fn(x₀)\n",
    "println(measurements)\n",
    "x̂ = recover_signal(measurements, meas_fn, model, k)\n",
    "println(meas_fn(x̂))\n",
    "println(err,\"   \", norm(x₀))"
   ]
  },
  {
   "cell_type": "code",
   "execution_count": null,
   "metadata": {},
   "outputs": [],
   "source": [
    "model()"
   ]
  },
  {
   "cell_type": "code",
   "execution_count": null,
   "metadata": {},
   "outputs": [],
   "source": [
    "k = 20\n",
    "mid = 30\n",
    "n = 100\n",
    "aimed_m = 20\n",
    "num_signals = 2\n",
    "meas_fn = get_fourier_meas_fn(aimed_m, n)\n",
    "β_array = 0:0.1:1\n",
    "plot_pairs = []\n",
    "signal_errors = Array{Float64}(undef,num_signals)\n",
    "for (model, alignment) in get_aligned_models(k, mid,n, β_array)\n",
    "    for i in 1:num_signals\n",
    "        x₀ = randn(n)/sqrt(n)\n",
    "        signal_error[i] = recovery_error(x₀, model, meas_fn, k)\n",
    "    push!(plot_pairs, (alignment, mean(signal_errors)))\n",
    "    end\n",
    "end"
   ]
  },
  {
   "cell_type": "code",
   "execution_count": null,
   "metadata": {},
   "outputs": [],
   "source": [
    "a = Array{Int}(undef,3)"
   ]
  },
  {
   "cell_type": "code",
   "execution_count": null,
   "metadata": {},
   "outputs": [],
   "source": [
    "k = 20\n",
    "n = 100\n",
    "A = randn(n, k)\n",
    "F = dct(diagm(ones(n)),2)\n",
    "matrix_alignment(A, F)"
   ]
  },
  {
   "cell_type": "code",
   "execution_count": null,
   "metadata": {},
   "outputs": [],
   "source": [
    "function plot_alignments()\n",
    "    n= 500\n",
    "    alignments = []\n",
    "    normal_one = []\n",
    "    F = dct(diagm(ones(n)),2)\n",
    "    for k in 1:2:100\n",
    "        A = randn(n, k)\n",
    "        push!(alignments, matrix_alignment(A, F))\n",
    "        push!(normal_one, sqrt(k/n))\n",
    "    end\n",
    "    plot(alignments)\n",
    "    plot!(normal_one*0.9)\n",
    "    xlabel!\n",
    "    \n",
    "end\n",
    "plot_alignments()"
   ]
  },
  {
   "cell_type": "code",
   "execution_count": null,
   "metadata": {},
   "outputs": [],
   "source": []
  },
  {
   "cell_type": "code",
   "execution_count": null,
   "metadata": {},
   "outputs": [],
   "source": [
    "k = 20\n",
    "n = 100\n",
    "A = randn(n, k)\n",
    "F = dct(diagm(ones(n)),2)\n",
    "get_aligned_models"
   ]
  },
  {
   "cell_type": "code",
   "execution_count": null,
   "metadata": {},
   "outputs": [],
   "source": [
    "for i in eachcol(A)\n",
    "    println(i)\n",
    "end"
   ]
  },
  {
   "cell_type": "code",
   "execution_count": null,
   "metadata": {},
   "outputs": [],
   "source": [
    "F = dct(diagm(ones(n)),2)"
   ]
  },
  {
   "cell_type": "code",
   "execution_count": null,
   "metadata": {},
   "outputs": [],
   "source": [
    "convert(Array,0:0.1:1.0)"
   ]
  },
  {
   "cell_type": "code",
   "execution_count": null,
   "metadata": {},
   "outputs": [],
   "source": [
    "k = 20\n",
    "mid = 100\n",
    "n = 400\n",
    "aimed_m = 23\n",
    "num_meas, measure_mat = sample_fourier(aimed_m, n)\n",
    "measure(x) = measure_mat*x\n",
    "random_model = get_rand_model(k,mid,n)\n",
    "#signal in range\n",
    "true_signal = random_model(rand(Float64, k))\n",
    "measurements = measure(true_signal);"
   ]
  },
  {
   "cell_type": "code",
   "execution_count": null,
   "metadata": {},
   "outputs": [],
   "source": [
    "#@time recovered_signal = recover_signal(measurements, measure, random_model, k)\n",
    "#println(\"The distance between signals is \", norm(recovered_signal - true_signal))\n",
    "#println(\"The size of the true signal is \", norm(true_signal))"
   ]
  },
  {
   "cell_type": "code",
   "execution_count": null,
   "metadata": {},
   "outputs": [],
   "source": [
    "function GD_CS(G, y, A, max_iter, stepsize, tolerance, out_toggle)\n",
    "    _, k = size(Flux.params(G)[1])\n",
    "    z = randn(k)\n",
    "    iter = 1\n",
    "    succ_error = 1\n",
    "    d(z) = gradient(z -> norm(y - A*G(z))^2, z)[1]\n",
    "\n",
    "    while iter <= max_iter && succ_error > tolerance\n",
    "        # d gives the PLUGIn direction\n",
    "        z -= stepsize * d(z)\n",
    "        succ_error = norm(stepsize * d(z))\n",
    "        if iter % out_toggle == 0  \n",
    "            println(\"====> In Gradient: Iteration: $iter Successive error: $succ_error\")\n",
    "        end\n",
    "        iter += 1\n",
    "    end\n",
    "    return z\n",
    "end"
   ]
  },
  {
   "cell_type": "code",
   "execution_count": null,
   "metadata": {},
   "outputs": [],
   "source": [
    "function get_aligned_model()"
   ]
  },
  {
   "cell_type": "markdown",
   "metadata": {},
   "source": [
    "In the next experiment, we consider a one hidden layer network of the form $G(z) = A_2σ(A_1z)$. The inner layer matrix $A_1 \\in \\mathbb{R}^{n_1\\times k}$ has $\\mathcal{N}(0,1/n_1)$ entries. For the outer layer matrix $A_2 \\in \\mathbb{R}^{n_2\\times n_1}$ ($n_2 = n$), we take a matrix $A_{21}$ which contains columns randomly subsampled (without replacement) from a $n\\times n$ DCT matrix and a random matrix $A_{22}$ which contains $\\mathcal{N}(0,1/n_2)$ entries and take its convex combination, i.e. \n",
    "$$A_2 = \\beta A_{21} + (1-\\beta) A_{22}$$\n",
    "for $\\beta \\in [0,1]$.\n",
    "\n",
    "For each $\\beta \\in [0.7,1]$, we attempt to recover the code vector $z_0$ from measurement of the form $y = A G(z_0)$ where $A \\in \\mathbb{R}^{m\\times n}$ is subsampled DCT matrix (without replacement) by solve the least squares optimzation problem using the gradient descent algorithm. We show the results from 20 trials for each $\\beta$ and for all trials, $z_0, A_1, A_{21}$, and $A_{22}$ are fixed. For all experiments, $k = 20, n = 400$, $n_1$ is approximately 100, and $m$ is approximately 160."
   ]
  },
  {
   "cell_type": "code",
   "execution_count": null,
   "metadata": {},
   "outputs": [],
   "source": [
    "#setup a synthetic problem\n",
    "x_dim = 400\n",
    "k = 20\n",
    "\n",
    "# F = real(fft(diagm(ones(x_dim)),2))\n",
    "F = dct(diagm(ones(x_dim)),2)\n",
    "\n",
    "# sampling rows of DCT matrix for outer layer\n",
    "sampling = rand(Bernoulli(100/x_dim), x_dim)\n",
    "sampling = convert.(Int, sampling)\n",
    "ndm1 = sum(sampling) #number of neurons n_1\n",
    "nnzindex = []\n",
    "for i in 1:length(sampling)\n",
    "    if sampling[i] != 0\n",
    "        push!(nnzindex, i)\n",
    "    end\n",
    "end\n",
    "\n",
    "A = F[nnzindex,:]' # subsampled DCT\n",
    "B = randn(x_dim, ndm1)/sqrt(x_dim) #random matrix thats used in convex combination\n",
    "\n",
    "W1 = randn(ndm1, 20)/sqrt(ndm1) #random inner layer weight matrix\n",
    "\n",
    "I(x) = x\n",
    "z = randn(k) # ground code vector\n",
    "\n",
    "β_list = .7:.01:1\n",
    "trials = 20\n",
    "recovery_error_matrix = zeros(length(β_list))\n",
    "recon_error_matrix = zeros(length(β_list))\n",
    "α_list = []\n",
    "\n",
    "for trial in 1:trials\n",
    "    recovery_error_list = []\n",
    "    recon_error_list = []   \n",
    "    α_list = []\n",
    "    for β in β_list\n",
    "        Aint = β*A + (1-β) * B\n",
    "\n",
    "        #setup the generative network \n",
    "        G = Chain(\n",
    "            Dense(20, ndm1, relu, bias = false; init =(out,in) -> W1),\n",
    "            Dense(ndm1, x_dim, I, bias = false; init =(out,in) -> Aint)\n",
    "        )\n",
    "\n",
    "        # subsampling DCT for measurement matrix\n",
    "        sampling = rand(Bernoulli(.4), x_dim)\n",
    "        sampling = convert.(Int, sampling)\n",
    "        m = sum(sampling)\n",
    "        nnzindex = []\n",
    "        for i in 1:length(sampling)\n",
    "            if sampling[i] != 0\n",
    "                push!(nnzindex, i)\n",
    "            end\n",
    "        end\n",
    "        F_sub = F[nnzindex,:]*sqrt(x_dim)/sqrt(m)\n",
    "\n",
    "        # measurement vector using subsampled DCT matrix\n",
    "        y = F_sub*G(z)\n",
    "\n",
    "        stepsize = .5\n",
    "        tolerance = 1e-14\n",
    "        max_iter = 2000\n",
    "        out_toggle = 2001\n",
    "\n",
    "        # run gradient descent to solve the least squares problem\n",
    "        z_rec = GD_CS(G,y,F_sub, max_iter, stepsize, tolerance, out_toggle)\n",
    "        recov_error = norm(z - real(z_rec))/norm(z)\n",
    "        recon_error = norm(G(z) - G(real(z_rec)))/norm(G(z))\n",
    "        Fn = F  \n",
    "        α = maximum(sum((Fn*Aint)' .* (Fn*Aint)', dims = 1) ./ sqrt.(sum((Fn*Aint*Aint')' .* (Fn*Aint*Aint')', dims = 1)))\n",
    "\n",
    "        # save results\n",
    "        push!(recovery_error_list, recov_error)\n",
    "        push!(recon_error_list, recon_error)\n",
    "        push!(α_list, α)\n",
    "\n",
    "    end\n",
    "    #save results\n",
    "    recovery_error_matrix =  hcat(recovery_error_matrix, recovery_error_list)\n",
    "    recon_error_matrix = hcat(recon_error_matrix, recon_error_list)\n",
    "\n",
    "\n",
    "end\n"
   ]
  }
 ],
 "metadata": {
  "kernelspec": {
   "display_name": "Julia 1.7.3",
   "language": "julia",
   "name": "julia-1.7"
  },
  "language_info": {
   "file_extension": ".jl",
   "mimetype": "application/julia",
   "name": "julia",
   "version": "1.7.3"
  }
 },
 "nbformat": 4,
 "nbformat_minor": 2
}
