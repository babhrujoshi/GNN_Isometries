{
 "cells": [
  {
   "cell_type": "code",
   "execution_count": 27,
   "id": "87388d44",
   "metadata": {},
   "outputs": [],
   "source": [
    "using BSON: @save\n",
    "using BSON: @load\n",
    "using CSV\n",
    "using DataFrames: DataFrame\n",
    "using Flux\n",
    "using Flux: logitbinarycrossentropy, binarycrossentropy\n",
    "using Flux.Data: DataLoader\n",
    "using Flux: chunk\n",
    "using ImageFiltering\n",
    "using MLDatasets: FashionMNIST\n",
    "using ProgressMeter: Progress, next!\n",
    "using Random\n",
    "using Zygote\n",
    "using MLDatasets\n",
    "using Images\n",
    "using ImageIO\n",
    "using LinearAlgebra\n",
    "using FFTW"
   ]
  },
  {
   "cell_type": "code",
   "execution_count": 28,
   "id": "0efe9194",
   "metadata": {},
   "outputs": [],
   "source": [
    "# We define a reshape layer to use in our decoder\n",
    "struct Reshape\n",
    "    shape\n",
    "end\n",
    "Reshape(args...) = Reshape(args)\n",
    "(r::Reshape)(x) = reshape(x, r.shape)\n",
    "Flux.@functor Reshape ()"
   ]
  },
  {
   "cell_type": "code",
   "execution_count": 29,
   "id": "3fbf96e2",
   "metadata": {},
   "outputs": [
    {
     "data": {
      "text/plain": [
       "create_vae (generic function with 1 method)"
      ]
     },
     "metadata": {},
     "output_type": "display_data"
    }
   ],
   "source": [
    "function get_train_loader(batch_size, shuffle::Bool)\n",
    "    # The MNIST training set is made up of 60k 28 by 28 greyscale images\n",
    "    train_x, train_y = MNIST.traindata(Float32)\n",
    "    train_x = 1 .- reshape(train_x, (784, :))\n",
    "    return DataLoader((train_x, train_y), batchsize=batch_size, shuffle=shuffle, partial=false)\n",
    "end\n",
    "\n",
    "function save_model(encoder_μ, encoder_logvar, W1, W2, W3, Q, save_dir::String, epoch::Int)\n",
    "    print(\"Saving model...\")\n",
    "    let encoder_μ = cpu(encoder_μ), encoder_logvar = cpu(encoder_logvar), W1 = cpu(W1), W2 = cpu(W2), W3 = cpu(W3), Q = cpu(Q)\n",
    "        @save joinpath(save_dir, \"model-$epoch.bson\") encoder_μ encoder_logvar W1 W2 W3 Q\n",
    "    end\n",
    "    println(\"Done\")\n",
    "end\n",
    "\n",
    "function create_vae()\n",
    "    # Define the encoder and decoder networks\n",
    "    encoder_features = Chain(\n",
    "        Dense(784,500, relu),\n",
    "        Dense(500,500, relu)\n",
    "    )\n",
    "    encoder_μ = Chain(encoder_features, Dense(500, 20))\n",
    "    encoder_logvar = Chain(encoder_features, Dense(500, 20))\n",
    "\n",
    "    W1 = randn(500,20)\n",
    "    W2 = randn(500,500)\n",
    "    W3 = randn(500,500)\n",
    "    Q = randn(784,500)\n",
    "\n",
    "    return encoder_μ, encoder_logvar, W1, W2, W3, Q\n",
    "end"
   ]
  },
  {
   "cell_type": "code",
   "execution_count": 30,
   "id": "e4fca59e",
   "metadata": {},
   "outputs": [
    {
     "data": {
      "text/plain": [
       "train (generic function with 1 method)"
      ]
     },
     "metadata": {},
     "output_type": "display_data"
    }
   ],
   "source": [
    "function vae_loss(encoder_μ, encoder_logvar, W1, W2, W3, Q, x, β, λ, F)\n",
    "    batch_size = size(x)[end]\n",
    "    @assert batch_size != 0\n",
    "\n",
    "    # Forward propagate through mean encoder and std encoders\n",
    "    μ = encoder_μ(x)\n",
    "    logvar = encoder_logvar(x)\n",
    "    # Apply reparameterisation trick to sample latent\n",
    "    z = μ + randn(Float32, size(logvar)) .* exp.(0.5f0 * logvar)\n",
    "    # Reconstruct from latent sample\n",
    "\n",
    "    x̂ = sigmoid(Q*relu(W2*relu(W1*z)))\n",
    "\n",
    "    loss_α(F,A) = maximum(sqrt.(sum((F*A).*(F*A), dims = 2))) + 100*norm(A'*A - I(500),2)^2\n",
    "    α = loss_α(F, Q) \n",
    "\n",
    "    logp_x_z = sum(binarycrossentropy.(x̂, x))\n",
    "    # Negative reconstruction loss Ε_q[logp_x_z]\n",
    "    # KL(qᵩ(z|x)||p(z)) where p(z)=N(0,1) and qᵩ(z|x) models the encoder i.e. reverse KL\n",
    "    # The @. macro makes sure that all operates are elementwise\n",
    "    kl_q_p = 0.5f0 * sum(@. (exp(logvar) + μ^2 - logvar - 1f0)) \n",
    "    # Weight decay regularisation term\n",
    "    reg = λ * sum(x->sum(x.^2), Flux.params(encoder_μ, encoder_logvar, W1, W2, W3, Q))\n",
    "    # We want to maximise the evidence lower bound (ELBO)\n",
    "    elbo = - β .* kl_q_p\n",
    "    # So we minimise the sum of the negative ELBO and a weight penalty\n",
    "    return -elbo + reg + 100 * α + logp_x_z\n",
    "end\n",
    "\n",
    "function train(encoder_μ, encoder_logvar, W1, W2, W3, Q, dataloader, num_epochs, λ, β, optimiser, save_dir)\n",
    "    # The training loop for the model\n",
    "    trainable_params = Flux.params(encoder_μ, encoder_logvar, W1, W2, W3, Q)\n",
    "    progress_tracker = Progress(num_epochs, \"Training a epoch done\")\n",
    "    F = dct(diagm(ones(784)),2);\n",
    "\n",
    "    for epoch_num = 21:num_epochs\n",
    "        acc_loss = 0.0\n",
    "        loss = 0\n",
    "        for (x_batch, y_batch) in dataloader\n",
    "            # pullback function returns the result (loss) and a pullback operator (back)\n",
    "            loss, back = pullback(trainable_params) do\n",
    "                vae_loss(encoder_μ, encoder_logvar, W1, W2, W3, Q, x_batch, β, λ, F)\n",
    "            end\n",
    "            # Feed the pullback 1 to obtain the gradients and update then model parameters\n",
    "            gradients = back(1f0)\n",
    "            Flux.Optimise.update!(optimiser, trainable_params, gradients)\n",
    "            if isnan(loss)\n",
    "                break\n",
    "            end\n",
    "            acc_loss += loss\n",
    "        end\n",
    "        next!(progress_tracker; showvalues=[(:loss, loss)])\n",
    "        @assert length(dataloader) > 0\n",
    "        avg_loss = acc_loss / length(dataloader)\n",
    "        metrics = DataFrame(epoch=epoch_num, negative_elbo=avg_loss)\n",
    "        # println(metrics)\n",
    "        CSV.write(joinpath(save_dir, \"metrics.csv\"), metrics, header=(epoch_num==1), append=true)\n",
    "        save_model(encoder_μ, encoder_logvar, W1, W2, W3, Q, save_dir, epoch_num)\n",
    "    end\n",
    "    println(\"Training complete!\")\n",
    "end"
   ]
  },
  {
   "cell_type": "code",
   "execution_count": 32,
   "id": "339ecd6a",
   "metadata": {},
   "outputs": [
    {
     "name": "stderr",
     "output_type": "stream",
     "text": [
      "┌ Warning: MNIST.traindata() is deprecated, use `MNIST(split=:train)[:]` instead.\n",
      "└ @ MLDatasets /Users/babhru/.julia/packages/MLDatasets/Xb4Lh/src/datasets/vision/mnist.jl:187\n"
     ]
    },
    {
     "name": "stdout",
     "output_type": "stream",
     "text": [
      "Saving model...Done"
     ]
    },
    {
     "name": "stdout",
     "output_type": "stream",
     "text": [
      "\n"
     ]
    },
    {
     "name": "stderr",
     "output_type": "stream",
     "text": [
      "\r\u001b[32mTraining a epoch done   4%|█▎                            |  ETA: 2:05:01\u001b[39m\u001b[K\r\n",
      "\u001b[34m  loss:  1.3146536999328049e11\u001b[39m\u001b[K\r\u001b[A"
     ]
    },
    {
     "name": "stdout",
     "output_type": "stream",
     "text": [
      "Saving model...Done"
     ]
    },
    {
     "name": "stdout",
     "output_type": "stream",
     "text": [
      "\n"
     ]
    },
    {
     "name": "stderr",
     "output_type": "stream",
     "text": [
      "\n",
      "\r\u001b[K\u001b[A\r\u001b[32mTraining a epoch done   6%|█▊                            |  ETA: 2:04:33\u001b[39m\u001b[K\r\n",
      "\u001b[34m  loss:  4.3963195511644585e10\u001b[39m\u001b[K\r\u001b[A"
     ]
    },
    {
     "name": "stdout",
     "output_type": "stream",
     "text": [
      "Saving model...Done"
     ]
    },
    {
     "name": "stdout",
     "output_type": "stream",
     "text": [
      "\n"
     ]
    },
    {
     "name": "stderr",
     "output_type": "stream",
     "text": [
      "\n",
      "\r\u001b[K\u001b[A\r\u001b[32mTraining a epoch done   8%|██▍                           |  ETA: 2:03:01\u001b[39m\u001b[K\r\n",
      "\u001b[34m  loss:  1.675862376904966e10\u001b[39m\u001b[K\r\u001b[A"
     ]
    },
    {
     "name": "stdout",
     "output_type": "stream",
     "text": [
      "Saving model...Done"
     ]
    },
    {
     "name": "stdout",
     "output_type": "stream",
     "text": [
      "\n"
     ]
    },
    {
     "name": "stderr",
     "output_type": "stream",
     "text": [
      "\n",
      "\r\u001b[K\u001b[A\r\u001b[32mTraining a epoch done  10%|███                           |  ETA: 2:01:14\u001b[39m\u001b[K\r\n",
      "\u001b[34m  loss:  6.805967636998031e9\u001b[39m\u001b[K\r\u001b[A"
     ]
    },
    {
     "name": "stdout",
     "output_type": "stream",
     "text": [
      "Saving model...Done"
     ]
    },
    {
     "name": "stdout",
     "output_type": "stream",
     "text": [
      "\n"
     ]
    },
    {
     "name": "stderr",
     "output_type": "stream",
     "text": [
      "\n",
      "\r\u001b[K\u001b[A\r\u001b[32mTraining a epoch done  12%|███▋                          |  ETA: 1:59:16\u001b[39m\u001b[K\r\n",
      "\u001b[34m  loss:  2.844818689462586e9\u001b[39m\u001b[K\r\u001b[A"
     ]
    },
    {
     "name": "stdout",
     "output_type": "stream",
     "text": [
      "Saving model...Done"
     ]
    },
    {
     "name": "stdout",
     "output_type": "stream",
     "text": [
      "\n"
     ]
    },
    {
     "name": "stderr",
     "output_type": "stream",
     "text": [
      "\n",
      "\r\u001b[K\u001b[A\r\u001b[32mTraining a epoch done  14%|████▎                         |  ETA: 1:57:06\u001b[39m\u001b[K\r\n",
      "\u001b[34m  loss:  1.1993397822356842e9\u001b[39m\u001b[K\r\u001b[A"
     ]
    },
    {
     "name": "stdout",
     "output_type": "stream",
     "text": [
      "Saving model...Done"
     ]
    },
    {
     "name": "stdout",
     "output_type": "stream",
     "text": [
      "\n"
     ]
    },
    {
     "name": "stderr",
     "output_type": "stream",
     "text": [
      "\n",
      "\r\u001b[K\u001b[A\r\u001b[32mTraining a epoch done  16%|████▊                         |  ETA: 1:55:00\u001b[39m\u001b[K\r\n",
      "\u001b[34m  loss:  5.029772916226138e8\u001b[39m\u001b[K\r\u001b[A"
     ]
    },
    {
     "name": "stdout",
     "output_type": "stream",
     "text": [
      "Saving model...Done\n"
     ]
    },
    {
     "name": "stderr",
     "output_type": "stream",
     "text": [
      "\n",
      "\r\u001b[K\u001b[A\r\u001b[32mTraining a epoch done  18%|█████▍                        |  ETA: 1:52:31\u001b[39m\u001b[K\r\n",
      "\u001b[34m  loss:  2.074050631185142e8\u001b[39m\u001b[K\r\u001b[A"
     ]
    },
    {
     "name": "stdout",
     "output_type": "stream",
     "text": [
      "Saving model...Done\n"
     ]
    },
    {
     "name": "stderr",
     "output_type": "stream",
     "text": [
      "\n",
      "\r\u001b[K\u001b[A\r\u001b[32mTraining a epoch done  20%|██████                        |  ETA: 1:49:50\u001b[39m\u001b[K\r\n",
      "\u001b[34m  loss:  8.304844359281912e7\u001b[39m\u001b[K\r\u001b[A"
     ]
    },
    {
     "name": "stdout",
     "output_type": "stream",
     "text": [
      "Saving model...Done\n"
     ]
    },
    {
     "name": "stderr",
     "output_type": "stream",
     "text": [
      "\n",
      "\r\u001b[K\u001b[A\r\u001b[32mTraining a epoch done  22%|██████▋                       |  ETA: 1:47:13\u001b[39m\u001b[K\r\n",
      "\u001b[34m  loss:  3.1767657220815975e7\u001b[39m\u001b[K\r\u001b[A"
     ]
    },
    {
     "name": "stdout",
     "output_type": "stream",
     "text": [
      "Saving model...Done"
     ]
    },
    {
     "name": "stdout",
     "output_type": "stream",
     "text": [
      "\n"
     ]
    },
    {
     "name": "stderr",
     "output_type": "stream",
     "text": [
      "\n",
      "\r\u001b[K\u001b[A\r\u001b[32mTraining a epoch done  24%|███████▎                      |  ETA: 1:44:29\u001b[39m\u001b[K\r\n",
      "\u001b[34m  loss:  1.1334754589819185e7\u001b[39m\u001b[K\r\u001b[A"
     ]
    },
    {
     "name": "stdout",
     "output_type": "stream",
     "text": [
      "Saving model...Done\n"
     ]
    },
    {
     "name": "stderr",
     "output_type": "stream",
     "text": [
      "\n",
      "\r\u001b[K\u001b[A\r\u001b[32mTraining a epoch done  26%|███████▊                      |  ETA: 1:41:40\u001b[39m\u001b[K\r\n",
      "\u001b[34m  loss:  3.6390466514166803e6\u001b[39m\u001b[K\r\u001b[A"
     ]
    },
    {
     "name": "stdout",
     "output_type": "stream",
     "text": [
      "Saving model...Done\n"
     ]
    },
    {
     "name": "stderr",
     "output_type": "stream",
     "text": [
      "\n",
      "\r\u001b[K\u001b[A\r\u001b[32mTraining a epoch done  28%|████████▍                     |  ETA: 1:38:49\u001b[39m\u001b[K\r\n",
      "\u001b[34m  loss:  1.0004503116485233e6\u001b[39m\u001b[K\r\u001b[A"
     ]
    },
    {
     "name": "stdout",
     "output_type": "stream",
     "text": [
      "Saving model...Done"
     ]
    },
    {
     "name": "stdout",
     "output_type": "stream",
     "text": [
      "\n"
     ]
    },
    {
     "name": "stderr",
     "output_type": "stream",
     "text": [
      "\n",
      "\r\u001b[K\u001b[A\r\u001b[32mTraining a epoch done  30%|█████████                     |  ETA: 1:36:01\u001b[39m\u001b[K\r\n",
      "\u001b[34m  loss:  230316.6040419073\u001b[39m\u001b[K\r\u001b[A"
     ]
    },
    {
     "name": "stdout",
     "output_type": "stream",
     "text": [
      "Saving model...Done\n"
     ]
    },
    {
     "name": "stderr",
     "output_type": "stream",
     "text": [
      "\n",
      "\r\u001b[K\u001b[A\r\u001b[32mTraining a epoch done  32%|█████████▋                    |  ETA: 1:33:23\u001b[39m\u001b[K\r\n",
      "\u001b[34m  loss:  48833.17234022224\u001b[39m\u001b[K\r\u001b[A"
     ]
    },
    {
     "name": "stdout",
     "output_type": "stream",
     "text": [
      "Saving model...Done\n"
     ]
    },
    {
     "name": "stderr",
     "output_type": "stream",
     "text": [
      "\n",
      "\r\u001b[K\u001b[A\r\u001b[32mTraining a epoch done  34%|██████████▎                   |  ETA: 1:30:55\u001b[39m\u001b[K\r\n",
      "\u001b[34m  loss:  18020.881295899202\u001b[39m\u001b[K\r\u001b[A"
     ]
    },
    {
     "name": "stdout",
     "output_type": "stream",
     "text": [
      "Saving model...Done\n"
     ]
    },
    {
     "name": "stderr",
     "output_type": "stream",
     "text": [
      "\n",
      "\r\u001b[K\u001b[A\r\u001b[32mTraining a epoch done  36%|██████████▊                   |  ETA: 1:28:29\u001b[39m\u001b[K\r\n",
      "\u001b[34m  loss:  13642.572579510854\u001b[39m\u001b[K\r\u001b[A"
     ]
    },
    {
     "name": "stdout",
     "output_type": "stream",
     "text": [
      "Saving model...Done\n"
     ]
    },
    {
     "name": "stderr",
     "output_type": "stream",
     "text": [
      "\n",
      "\r\u001b[K\u001b[A\r\u001b[32mTraining a epoch done  38%|███████████▍                  |  ETA: 1:26:09\u001b[39m\u001b[K\r\n",
      "\u001b[34m  loss:  13527.168434949348\u001b[39m\u001b[K\r\u001b[A"
     ]
    },
    {
     "name": "stdout",
     "output_type": "stream",
     "text": [
      "Saving model...Done\n"
     ]
    },
    {
     "name": "stderr",
     "output_type": "stream",
     "text": [
      "\n",
      "\r\u001b[K\u001b[A\r\u001b[32mTraining a epoch done  40%|████████████                  |  ETA: 1:23:50\u001b[39m\u001b[K\r\n",
      "\u001b[34m  loss:  12242.779348479351\u001b[39m\u001b[K\r\u001b[A"
     ]
    },
    {
     "name": "stdout",
     "output_type": "stream",
     "text": [
      "Saving model...Done\n"
     ]
    },
    {
     "name": "stderr",
     "output_type": "stream",
     "text": [
      "\n",
      "\r\u001b[K\u001b[A\r\u001b[32mTraining a epoch done  42%|████████████▋                 |  ETA: 1:21:30\u001b[39m\u001b[K\r\n",
      "\u001b[34m  loss:  13693.721554541751\u001b[39m\u001b[K\r\u001b[A"
     ]
    },
    {
     "name": "stdout",
     "output_type": "stream",
     "text": [
      "Saving model...Done\n"
     ]
    },
    {
     "name": "stderr",
     "output_type": "stream",
     "text": [
      "\n",
      "\r\u001b[K\u001b[A\r\u001b[32mTraining a epoch done  44%|█████████████▎                |  ETA: 1:19:05\u001b[39m\u001b[K\r\n",
      "\u001b[34m  loss:  13364.061441990034\u001b[39m\u001b[K\r\u001b[A"
     ]
    },
    {
     "name": "stdout",
     "output_type": "stream",
     "text": [
      "Saving model...Done\n"
     ]
    },
    {
     "name": "stderr",
     "output_type": "stream",
     "text": [
      "\n",
      "\r\u001b[K\u001b[A\r\u001b[32mTraining a epoch done  46%|█████████████▊                |  ETA: 1:16:22\u001b[39m\u001b[K\r\n",
      "\u001b[34m  loss:  13074.536016484939\u001b[39m\u001b[K\r\u001b[A"
     ]
    },
    {
     "name": "stdout",
     "output_type": "stream",
     "text": [
      "Saving model...Done\n"
     ]
    },
    {
     "name": "stderr",
     "output_type": "stream",
     "text": [
      "\n",
      "\r\u001b[K\u001b[A\r\u001b[32mTraining a epoch done  48%|██████████████▍               |  ETA: 1:13:32\u001b[39m\u001b[K\r\n",
      "\u001b[34m  loss:  12674.476449197195\u001b[39m\u001b[K\r\u001b[A"
     ]
    },
    {
     "name": "stdout",
     "output_type": "stream",
     "text": [
      "Saving model...Done\n"
     ]
    },
    {
     "name": "stderr",
     "output_type": "stream",
     "text": [
      "\n",
      "\r\u001b[K\u001b[A\r\u001b[32mTraining a epoch done  50%|███████████████               |  ETA: 1:10:34\u001b[39m\u001b[K\r\n",
      "\u001b[34m  loss:  12407.274344010231\u001b[39m\u001b[K\r\u001b[A"
     ]
    },
    {
     "name": "stdout",
     "output_type": "stream",
     "text": [
      "Saving model...Done\n"
     ]
    },
    {
     "name": "stderr",
     "output_type": "stream",
     "text": [
      "\n",
      "\r\u001b[K\u001b[A\r\u001b[32mTraining a epoch done  52%|███████████████▋              |  ETA: 1:07:35\u001b[39m\u001b[K\r\n",
      "\u001b[34m  loss:  12055.92355180839\u001b[39m\u001b[K\r\u001b[A"
     ]
    },
    {
     "name": "stdout",
     "output_type": "stream",
     "text": [
      "Saving model...Done"
     ]
    },
    {
     "name": "stdout",
     "output_type": "stream",
     "text": [
      "\n"
     ]
    },
    {
     "name": "stderr",
     "output_type": "stream",
     "text": [
      "\n",
      "\r\u001b[K\u001b[A\r\u001b[32mTraining a epoch done  54%|████████████████▎             |  ETA: 1:04:36\u001b[39m\u001b[K\r\n",
      "\u001b[34m  loss:  11893.778052315676\u001b[39m\u001b[K\r\u001b[A"
     ]
    },
    {
     "name": "stdout",
     "output_type": "stream",
     "text": [
      "Saving model...Done"
     ]
    },
    {
     "name": "stdout",
     "output_type": "stream",
     "text": [
      "\n"
     ]
    },
    {
     "name": "stderr",
     "output_type": "stream",
     "text": [
      "\n",
      "\r\u001b[K\u001b[A\r\u001b[32mTraining a epoch done  56%|████████████████▊             |  ETA: 1:01:39\u001b[39m\u001b[K\r\n",
      "\u001b[34m  loss:  12270.840915201068\u001b[39m\u001b[K\r\u001b[A"
     ]
    },
    {
     "name": "stdout",
     "output_type": "stream",
     "text": [
      "Saving model...Done\n"
     ]
    },
    {
     "name": "stderr",
     "output_type": "stream",
     "text": [
      "\n",
      "\r\u001b[K\u001b[A\r\u001b[32mTraining a epoch done  58%|█████████████████▍            |  ETA: 0:58:43\u001b[39m\u001b[K\r\n",
      "\u001b[34m  loss:  11461.003253609144\u001b[39m\u001b[K\r\u001b[A"
     ]
    },
    {
     "name": "stdout",
     "output_type": "stream",
     "text": [
      "Saving model...Done\n"
     ]
    },
    {
     "name": "stderr",
     "output_type": "stream",
     "text": [
      "\n",
      "\r\u001b[K\u001b[A\r\u001b[32mTraining a epoch done  60%|██████████████████            |  ETA: 0:55:47\u001b[39m\u001b[K\r\n",
      "\u001b[34m  loss:  11499.948052733755\u001b[39m\u001b[K\r\u001b[A"
     ]
    },
    {
     "name": "stdout",
     "output_type": "stream",
     "text": [
      "Saving model...Done\n",
      "Training complete!\n"
     ]
    }
   ],
   "source": [
    "batch_size = 64\n",
    "shuffle_data = true\n",
    "η = 0.001\n",
    "β = 1f0\n",
    "λ = 0.01f0\n",
    "num_epochs = 50\n",
    "\n",
    "save_dir = \"test/trained_GNN/MNIST_sigmoid_ortho\"\n",
    "# Define the model and create our data loader\n",
    "dataloader = get_train_loader(batch_size, shuffle_data)\n",
    "encoder_μ, encoder_logvar, W1, W2, W3, Q  = create_vae()\n",
    "train(encoder_μ, encoder_logvar, W1, W2, W3, Q, dataloader, num_epochs, λ, β, ADAM(η), save_dir)"
   ]
  },
  {
   "cell_type": "code",
   "execution_count": 33,
   "id": "26330dd6",
   "metadata": {},
   "outputs": [
    {
     "data": {
      "text/plain": [
       "visualise (generic function with 1 method)"
      ]
     },
     "metadata": {},
     "output_type": "display_data"
    }
   ],
   "source": [
    "function get_test_loader(batch_size, shuffle::Bool)\n",
    "    # The FashionMNIST test set is made up of 10k 28 by 28 greyscale images\n",
    "    test_x, test_y = MNIST.testdata(Float32)\n",
    "    test_x = 1 .- reshape(test_x, (784, :))\n",
    "    return DataLoader((test_x, test_y), batchsize=batch_size, shuffle=shuffle)\n",
    "end\n",
    "\n",
    "function save_to_images(x_batch, save_dir::String, prefix::String, num_images::Int64)\n",
    "    @assert num_images <= size(x_batch)[2]\n",
    "    for i=1:num_images\n",
    "        save(joinpath(save_dir, \"$prefix-$i.png\"), colorview(Gray, reshape(x_batch[:, i], 28,28)' ))\n",
    "    end\n",
    "end\n",
    "\n",
    "function reconstruct_images(encoder_μ, encoder_logvar, W1, W2, W3, Q, x)\n",
    "    # Forward propagate through mean encoder and std encoders\n",
    "    μ = encoder_μ(x)\n",
    "    logvar = encoder_logvar(x)\n",
    "    # Apply reparameterisation trick to sample latent\n",
    "    z = μ + randn(Float32, size(logvar)) .* exp.(0.5f0 * logvar)\n",
    "    # Reconstruct from latent sample\n",
    "    x̂ = sigmoid(Q*W3*relu(W2*relu(W1*z)))\n",
    "    return clamp.(x̂, 0 ,1)\n",
    "end\n",
    "\n",
    "function load_model_identity(load_dir::String, epoch::Int)\n",
    "    print(\"Loading model...\")\n",
    "    @load joinpath(load_dir, \"model-$epoch.bson\") encoder_μ encoder_logvar W1 W2 W3 Q\n",
    "    println(\"Done\")\n",
    "    return encoder_μ, encoder_logvar, W1, W2, W3, Q\n",
    "end\n",
    "\n",
    "function visualise()\n",
    "    # Define some parameters\n",
    "    batch_size = 64\n",
    "    shuffle = true\n",
    "    num_images = 30\n",
    "    epoch_to_load = 50\n",
    "    # Load the model and test set loader\n",
    "    dir = \"test/trained_GNN/MNIST_sigmoid_ortho\"\n",
    "    encoder_μ, encoder_logvar, W1, W2, W3, Q = load_model_identity(dir, epoch_to_load)\n",
    "    dataloader = get_test_loader(batch_size, shuffle)\n",
    "    # Reconstruct and save some images\n",
    "    for (x_batch, y_batch) in dataloader\n",
    "        save_to_images(x_batch, dir, \"test-image\", num_images)\n",
    "        x̂_batch = reconstruct_images(encoder_μ, encoder_logvar, W1, W2, W3, Q, x_batch)\n",
    "        save_to_images(x̂_batch, dir, \"reconstruction\", num_images)\n",
    "        break\n",
    "    end\n",
    "end\n"
   ]
  },
  {
   "cell_type": "code",
   "execution_count": 34,
   "id": "eaf26eb4",
   "metadata": {},
   "outputs": [
    {
     "name": "stdout",
     "output_type": "stream",
     "text": [
      "Loading model...Done\n"
     ]
    },
    {
     "name": "stderr",
     "output_type": "stream",
     "text": [
      "┌ Warning: MNIST.testdata() is deprecated, use `MNIST(split=:test)[:]` instead.\n",
      "└ @ MLDatasets /Users/babhru/.julia/packages/MLDatasets/Xb4Lh/src/datasets/vision/mnist.jl:195\n"
     ]
    }
   ],
   "source": [
    "visualise()"
   ]
  },
  {
   "cell_type": "code",
   "execution_count": 37,
   "id": "04c4dff8",
   "metadata": {},
   "outputs": [
    {
     "data": {
      "image/png": "[encoded data removed]",
      "text/html": [
       "<img src=\"data:image/png;base64,iVBORw0KGgoAAAANSUhEUgAAAHAAAABwCAAAAADji6uXAAAABGdBTUEAALGPC/xhBQAAAAFzUkdCAK7OHOkAAAAgY0hSTQAAeiYAAICEAAD6AAAAgOgAAHUwAADqYAAAOpgAABdwnLpRPAAAAlhJREFUaAW9wVGOJNYNBDAWrIPn5CkPIAPPjZ5N/kTOf6z6FKueoFZQK6gnqCeecWwcG8emVlC/i1XEtyJWUQRFUATFODaOjWMTqwhq1YonVhFPUARBfSuCcWwcG8emCIJaQa1aQREE9RTxuyKecWwcG8cmPgVFPPUtqBUU8dRTBMU4No6NY1MERVCrVjxBEU+seIIiVq1gHBvHxrGJpz7Fp1r1uyJ+V2scG8fGsfGjVlDEU6sIiqCIb7ViFbGKcWwcG8emiFVPEZ/qWz3xLagVjGPj2Dg2fhTxKagV32IF9akIiiCoNY6NY+PY+JdY9ak+xaoVTxHUp1jj2Dg2jo0fsWrFtyKoPyviWxFrHBvHxrEJ6lMRFEERK55Y9dSKJ6g1jo1j49j4R1CfYsWqFRSx4ne1gljj2Dg2jk09Qa16YsUqYtXvglj1jGPj2Dg2QT1BraCoJz4F9cRTxKdxbBwbx8YfxKegqKe+1QpiBbXGsXFsHJsiqCdWEatWrPoU1ApqxROMY+PYODZBfSuC+lTECopYQVErvo1j49g4NkVQxCqCWvEURVBP/X/FODaOjWPjX4pYRVBPfQpqxar/bRwbx8ax8Y/4VsTviiBWESueeoJxbBwbxyaoFU9Qq1Y8teopYhWx4hnHxrFxbOopglhBEZ+KWP/FXyiCIlY9RTCOjWPj2PgRfxZPEU/xlxXUKoJaRVCMY+PYODZ+FEERfxYU8dQKgiKoFU8wjo1j49jEKoJa8a0I6gmKeupTrWAcG8fGsalvQRHUExSx6omnCIoinnFsHBvH/gbKzrxIk6T/CwAAAABJRU5ErkJg\">"
      ],
      "text/plain": [
       "28×28 Array{Gray{N0f8},2} with eltype Gray{N0f8}:\n",
       " Gray{N0f8}(0.502)  Gray{N0f8}(0.502)  …  Gray{N0f8}(0.502)\n",
       " Gray{N0f8}(0.498)  Gray{N0f8}(0.498)     Gray{N0f8}(0.498)\n",
       " Gray{N0f8}(0.502)  Gray{N0f8}(0.502)     Gray{N0f8}(0.502)\n",
       " Gray{N0f8}(0.498)  Gray{N0f8}(0.502)     Gray{N0f8}(0.502)\n",
       " Gray{N0f8}(0.502)  Gray{N0f8}(0.502)     Gray{N0f8}(0.498)\n",
       " Gray{N0f8}(0.498)  Gray{N0f8}(0.502)  …  Gray{N0f8}(0.502)\n",
       " Gray{N0f8}(0.502)  Gray{N0f8}(0.502)     Gray{N0f8}(0.498)\n",
       " Gray{N0f8}(0.502)  Gray{N0f8}(0.498)     Gray{N0f8}(0.498)\n",
       " Gray{N0f8}(0.498)  Gray{N0f8}(0.502)     Gray{N0f8}(0.502)\n",
       " Gray{N0f8}(0.498)  Gray{N0f8}(0.498)     Gray{N0f8}(0.502)\n",
       " ⋮                                     ⋱  \n",
       " Gray{N0f8}(0.498)  Gray{N0f8}(0.502)     Gray{N0f8}(0.498)\n",
       " Gray{N0f8}(0.498)  Gray{N0f8}(0.502)  …  Gray{N0f8}(0.498)\n",
       " Gray{N0f8}(0.498)  Gray{N0f8}(0.502)     Gray{N0f8}(0.502)\n",
       " Gray{N0f8}(0.502)  Gray{N0f8}(0.498)     Gray{N0f8}(0.502)\n",
       " Gray{N0f8}(0.498)  Gray{N0f8}(0.498)     Gray{N0f8}(0.502)\n",
       " Gray{N0f8}(0.498)  Gray{N0f8}(0.502)     Gray{N0f8}(0.498)\n",
       " Gray{N0f8}(0.498)  Gray{N0f8}(0.498)  …  Gray{N0f8}(0.502)\n",
       " Gray{N0f8}(0.502)  Gray{N0f8}(0.502)     Gray{N0f8}(0.502)\n",
       " Gray{N0f8}(0.498)  Gray{N0f8}(0.498)     Gray{N0f8}(0.502)"
      ]
     },
     "metadata": {},
     "output_type": "display_data"
    }
   ],
   "source": [
    "load(\"test/trained_GNN/MNIST_sigmoid_ortho/reconstruction-5.png\")"
   ]
  },
  {
   "cell_type": "code",
   "execution_count": 36,
   "id": "ecd198a2",
   "metadata": {},
   "outputs": [
    {
     "data": {
      "image/png": "[encoded data removed]",
      "text/html": [
       "<img src=\"data:image/png;base64,iVBORw0KGgoAAAANSUhEUgAAAHAAAABwCAAAAADji6uXAAAABGdBTUEAALGPC/xhBQAAAAFzUkdCAK7OHOkAAAAgY0hSTQAAeiYAAICEAAD6AAAAgOgAAHUwAADqYAAAOpgAABdwnLpRPAAAAflJREFUaAW9wTFslAUABtD3X77p5uLoKtexzjiKI5xOmsCiiSuMFaZGy2BIOhGik4mT5qiTMS4GWGU9bmQ0netkqEMHQsq1fwv53suRriiLsiiLsiiLsiiLsiiLsiiLsiiLsiiLsiiLsiiLMxziEZ56ZYknGHAN2/jQOFEWZVEWaxxgF39ghSMMOMKAAQP28Rv+M06URVmUxRovsIeXmOBjXHfSz3iKJWbOFmVRFmWxxia2HbuOLSctcRcDZsaJsiiLslhjih2nW+AAHxkvyqIsyuKCFriHGX4yXpRFWZTFBSxxB1N8jveNF2VRFmVxTt/iHqa4jy+cT5RFWZTFSIfYxXe4hL8wc35RFmVRFiMscBcrDNjGzMVEWZRFWYy0xIAj3MYtzLCDufGiLMqiLEaY43fse+UxVriJXVzBNjacLsqiLMpipKu46nUL3MEz/I09/IK59aIsyqIs3sIcn+A5fsAj3MQmLnuzKIuyKIu3NMUWvsdj/IN/rRdlURZl8Y7cwAqbuGy9KIuyKIsRDhy75KRD3MACE+xgar0oi7IoixF2HbvvdUt8hhUm+AZzp4uyKIuyGOEDfI09fIkBDzHBS7yHB5g7W5RFWZTFCJ/iT+zjRwyYYI4NfIUt40RZlEVZjLCBX70bURZlURZlURZlURZlURZlUfY/dspKyIWg3q0AAAAASUVORK5C\">"
      ],
      "text/plain": [
       "28×28 Array{Gray{N0f8},2} with eltype Gray{N0f8}:\n",
       " Gray{N0f8}(1.0)  Gray{N0f8}(1.0)  …  Gray{N0f8}(1.0)  Gray{N0f8}(1.0)\n",
       " Gray{N0f8}(1.0)  Gray{N0f8}(1.0)     Gray{N0f8}(1.0)  Gray{N0f8}(1.0)\n",
       " Gray{N0f8}(1.0)  Gray{N0f8}(1.0)     Gray{N0f8}(1.0)  Gray{N0f8}(1.0)\n",
       " Gray{N0f8}(1.0)  Gray{N0f8}(1.0)     Gray{N0f8}(1.0)  Gray{N0f8}(1.0)\n",
       " Gray{N0f8}(1.0)  Gray{N0f8}(1.0)     Gray{N0f8}(1.0)  Gray{N0f8}(1.0)\n",
       " Gray{N0f8}(1.0)  Gray{N0f8}(1.0)  …  Gray{N0f8}(1.0)  Gray{N0f8}(1.0)\n",
       " Gray{N0f8}(1.0)  Gray{N0f8}(1.0)     Gray{N0f8}(1.0)  Gray{N0f8}(1.0)\n",
       " Gray{N0f8}(1.0)  Gray{N0f8}(1.0)     Gray{N0f8}(1.0)  Gray{N0f8}(1.0)\n",
       " Gray{N0f8}(1.0)  Gray{N0f8}(1.0)     Gray{N0f8}(1.0)  Gray{N0f8}(1.0)\n",
       " Gray{N0f8}(1.0)  Gray{N0f8}(1.0)     Gray{N0f8}(1.0)  Gray{N0f8}(1.0)\n",
       " ⋮                                 ⋱                   \n",
       " Gray{N0f8}(1.0)  Gray{N0f8}(1.0)     Gray{N0f8}(1.0)  Gray{N0f8}(1.0)\n",
       " Gray{N0f8}(1.0)  Gray{N0f8}(1.0)  …  Gray{N0f8}(1.0)  Gray{N0f8}(1.0)\n",
       " Gray{N0f8}(1.0)  Gray{N0f8}(1.0)     Gray{N0f8}(1.0)  Gray{N0f8}(1.0)\n",
       " Gray{N0f8}(1.0)  Gray{N0f8}(1.0)     Gray{N0f8}(1.0)  Gray{N0f8}(1.0)\n",
       " Gray{N0f8}(1.0)  Gray{N0f8}(1.0)     Gray{N0f8}(1.0)  Gray{N0f8}(1.0)\n",
       " Gray{N0f8}(1.0)  Gray{N0f8}(1.0)     Gray{N0f8}(1.0)  Gray{N0f8}(1.0)\n",
       " Gray{N0f8}(1.0)  Gray{N0f8}(1.0)  …  Gray{N0f8}(1.0)  Gray{N0f8}(1.0)\n",
       " Gray{N0f8}(1.0)  Gray{N0f8}(1.0)     Gray{N0f8}(1.0)  Gray{N0f8}(1.0)\n",
       " Gray{N0f8}(1.0)  Gray{N0f8}(1.0)     Gray{N0f8}(1.0)  Gray{N0f8}(1.0)"
      ]
     },
     "metadata": {},
     "output_type": "display_data"
    }
   ],
   "source": [
    "load(\"test/trained_GNN/MNIST_sigmoid_ortho/test-image-5.png\")"
   ]
  },
  {
   "cell_type": "code",
   "execution_count": 21,
   "id": "f0f22c1a",
   "metadata": {},
   "outputs": [
    {
     "name": "stdout",
     "output_type": "stream",
     "text": [
      "Loading model...Done\n"
     ]
    },
    {
     "data": {
      "image/png": "[encoded data removed]",
      "text/html": [
       "<img src=\"data:image/png;base64,iVBORw0KGgoAAAANSUhEUgAAAHAAAABwCAAAAADji6uXAAAABGdBTUEAALGPC/xhBQAAAAFzUkdCAK7OHOkAAAAgY0hSTQAAeiYAAICEAAD6AAAAgOgAAHUwAADqYAAAOpgAABdwnLpRPAAAAbRJREFUaAW9wQFqI0kQBMAoyP9/Oc/QC7ODpLXkMxWR2hXLYlksiz8GxaDuBvU7Ylksi2XxZVBHPaqfG9QllsWyWBZf6nODuhvUXd3FslgWy+Ibg3pUPxPLYlksi28UgzoGdTco6nuxLJbFsnjToKhjUEcdg2JQz8WyWBbL4g11N45BXeqo5waxLJbFsvgyqM8U425QrxWxLJbFsvhSzw3qGNRRR10GxaCOQR2DIpbFslgWfxnUpRgU9W91FIOiLnXEslgWy+Iv9agYR702qKNei2WxLJbFE4O61DGOuozPxLJYFsviiXqu7sZ7BnXEslgWy+KJQV0G9agYR10GdalLLItlsSyeqLtiUMegLnVXDOpRLItlsSzeVMegGNRr9Vwsi2WxLD5Ud3UZ1L/FslgWy+IDgzrqMijqe7EslsWy+NCgGNRR74tlsSyWxRsGddRRjKOOQTGOehTLYlksizfUUZdB3dVRr8WyWBbL4ofq0aDuxlFHLItlsSyD+h31qO5iWSyLZan/b1DviWWxLJbFhwZ1Vwzqe7EslsWy+MCgnqtjUK/FslgWy+KX1b/FslgWy/4DvIR0jmv3/r8AAAAASUVORK5C\">"
      ],
      "text/plain": [
       "28×28 reinterpret(reshape, Gray{Float64}, adjoint(::Matrix{Float64})) with eltype Gray{Float64}:\n",
       " Gray{Float64}(886.188)   Gray{Float64}(2501.98)   …  Gray{Float64}(1934.51)\n",
       " Gray{Float64}(1315.85)   Gray{Float64}(1596.56)      Gray{Float64}(5918.52)\n",
       " Gray{Float64}(743.296)   Gray{Float64}(-2559.31)     Gray{Float64}(1611.32)\n",
       " Gray{Float64}(1214.96)   Gray{Float64}(1339.01)      Gray{Float64}(975.687)\n",
       " Gray{Float64}(5858.55)   Gray{Float64}(6058.88)      Gray{Float64}(1389.03)\n",
       " Gray{Float64}(1915.71)   Gray{Float64}(1325.42)   …  Gray{Float64}(1389.83)\n",
       " Gray{Float64}(981.18)    Gray{Float64}(1375.56)      Gray{Float64}(3631.6)\n",
       " Gray{Float64}(2194.62)   Gray{Float64}(2264.75)      Gray{Float64}(-3832.09)\n",
       " Gray{Float64}(1719.79)   Gray{Float64}(-12242.0)     Gray{Float64}(1017.7)\n",
       " Gray{Float64}(1825.97)   Gray{Float64}(2746.56)      Gray{Float64}(995.175)\n",
       " ⋮                                                 ⋱  \n",
       " Gray{Float64}(1684.66)   Gray{Float64}(5812.57)      Gray{Float64}(1952.97)\n",
       " Gray{Float64}(1157.53)   Gray{Float64}(1378.15)   …  Gray{Float64}(1094.38)\n",
       " Gray{Float64}(1233.62)   Gray{Float64}(1279.93)      Gray{Float64}(1205.07)\n",
       " Gray{Float64}(952.774)   Gray{Float64}(1595.36)      Gray{Float64}(2623.53)\n",
       " Gray{Float64}(-6218.72)  Gray{Float64}(869.903)      Gray{Float64}(1271.92)\n",
       " Gray{Float64}(2345.59)   Gray{Float64}(3798.62)      Gray{Float64}(1163.29)\n",
       " Gray{Float64}(3879.25)   Gray{Float64}(1843.94)   …  Gray{Float64}(1597.99)\n",
       " Gray{Float64}(1038.35)   Gray{Float64}(1070.99)      Gray{Float64}(1757.99)\n",
       " Gray{Float64}(1066.18)   Gray{Float64}(2982.18)      Gray{Float64}(1777.5)"
      ]
     },
     "metadata": {},
     "output_type": "display_data"
    }
   ],
   "source": [
    "function subspace_incoherence(F, A)\n",
    "    m, _ = size(A)\n",
    "    Q = Matrix(qr(A).Q)\n",
    "    temp = Q'*F'\n",
    "    return maximum(sqrt.(sum(temp.*temp, dims = 1)))\n",
    "\n",
    "end\n",
    "\n",
    "\n",
    "epoch_to_load = 20\n",
    "# Load the model and test set loader\n",
    "dir = \"test/trained_GNN/MNIST_sigmoid_ortho\"\n",
    "encoder_μ, encoder_logvar, W1, W2, W3, Q = load_model_identity(dir, epoch_to_load)\n",
    "\n",
    "colorview(Gray, reshape(Q*W3 *relu(W2*relu(W1*randn(20))), 28,28)' )\n",
    "# F = dct(diagm(ones(784)),2);\n",
    "# subspace_incoherence(F,Q)\n",
    "\n",
    "# _,s,_, =svd(W3);\n",
    "# s\n"
   ]
  },
  {
   "cell_type": "code",
   "execution_count": 17,
   "id": "1b5ffec5",
   "metadata": {},
   "outputs": [
    {
     "data": {
      "text/plain": [
       "0.9999546021312976"
      ]
     },
     "metadata": {},
     "output_type": "display_data"
    }
   ],
   "source": [
    "sigmoid(10)"
   ]
  },
  {
   "cell_type": "code",
   "execution_count": null,
   "id": "0b8a1b9e",
   "metadata": {},
   "outputs": [],
   "source": []
  }
 ],
 "metadata": {
  "kernelspec": {
   "display_name": "Julia 1.7.3",
   "language": "julia",
   "name": "julia-1.7"
  },
  "language_info": {
   "file_extension": ".jl",
   "mimetype": "application/julia",
   "name": "julia",
   "version": "1.7.3"
  }
 },
 "nbformat": 4,
 "nbformat_minor": 5
}
