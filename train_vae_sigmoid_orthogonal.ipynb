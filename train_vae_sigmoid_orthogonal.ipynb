{
 "cells": [
  {
   "cell_type": "code",
   "execution_count": 20,
   "id": "87388d44",
   "metadata": {},
   "outputs": [],
   "source": [
    "using BSON: @save\n",
    "using BSON: @load\n",
    "using CSV\n",
    "using DataFrames: DataFrame\n",
    "using Flux\n",
    "using Flux: logitbinarycrossentropy, binarycrossentropy\n",
    "using Flux.Data: DataLoader\n",
    "using Flux: chunk\n",
    "using ImageFiltering\n",
    "using MLDatasets: FashionMNIST\n",
    "using ProgressMeter: Progress, next!\n",
    "using Random\n",
    "using Zygote\n",
    "using MLDatasets\n",
    "using Images\n",
    "using ImageIO\n",
    "using LinearAlgebra\n",
    "using FFTW"
   ]
  },
  {
   "cell_type": "code",
   "execution_count": 21,
   "id": "0efe9194",
   "metadata": {},
   "outputs": [],
   "source": [
    "# We define a reshape layer to use in our decoder\n",
    "struct Reshape\n",
    "    shape\n",
    "end\n",
    "Reshape(args...) = Reshape(args)\n",
    "(r::Reshape)(x) = reshape(x, r.shape)\n",
    "Flux.@functor Reshape ()"
   ]
  },
  {
   "cell_type": "code",
   "execution_count": 25,
   "id": "3fbf96e2",
   "metadata": {},
   "outputs": [
    {
     "data": {
      "text/plain": [
       "create_vae (generic function with 1 method)"
      ]
     },
     "metadata": {},
     "output_type": "display_data"
    }
   ],
   "source": [
    "function get_train_loader(batch_size, shuffle::Bool)\n",
    "    # The MNIST training set is made up of 60k 28 by 28 greyscale images\n",
    "    train_x, train_y = MNIST.traindata(Float32)\n",
    "    train_x = 1 .- reshape(train_x, (784, :))\n",
    "    return DataLoader((train_x, train_y), batchsize=batch_size, shuffle=shuffle, partial=false)\n",
    "end\n",
    "\n",
    "function save_model(encoder_μ, encoder_logvar, W1, W2, W3, Q, save_dir::String, epoch::Int)\n",
    "    print(\"Saving model...\")\n",
    "    let encoder_μ = cpu(encoder_μ), encoder_logvar = cpu(encoder_logvar), W1 = cpu(W1), W2 = cpu(W2), W3 = cpu(W3), Q = cpu(Q)\n",
    "        @save joinpath(save_dir, \"model-$epoch.bson\") encoder_μ encoder_logvar W1 W2 W3 Q\n",
    "    end\n",
    "    println(\"Done\")\n",
    "end\n",
    "\n",
    "function create_vae()\n",
    "    # Define the encoder and decoder networks\n",
    "    encoder_features = Chain(\n",
    "        Dense(784,500, relu),\n",
    "        Dense(500,500, relu)\n",
    "    )\n",
    "    encoder_μ = Chain(encoder_features, Dense(500, 20))\n",
    "    encoder_logvar = Chain(encoder_features, Dense(500, 20))\n",
    "\n",
    "    W1 = randn(500,20)\n",
    "    W2 = randn(500,500)\n",
    "    W3 = Matrix(I(500))\n",
    "    Q = randn(784,500)\n",
    "\n",
    "    return encoder_μ, encoder_logvar, W1, W2, W3, Q\n",
    "end"
   ]
  },
  {
   "cell_type": "code",
   "execution_count": 26,
   "id": "e4fca59e",
   "metadata": {},
   "outputs": [
    {
     "data": {
      "text/plain": [
       "train (generic function with 1 method)"
      ]
     },
     "metadata": {},
     "output_type": "display_data"
    }
   ],
   "source": [
    "function vae_loss(encoder_μ, encoder_logvar, W1, W2, W3, Q, x, β, λ, F)\n",
    "    batch_size = size(x)[end]\n",
    "    @assert batch_size != 0\n",
    "\n",
    "    # Forward propagate through mean encoder and std encoders\n",
    "    μ = encoder_μ(x)\n",
    "    logvar = encoder_logvar(x)\n",
    "    # Apply reparameterisation trick to sample latent\n",
    "    z = μ + randn(Float32, size(logvar)) .* exp.(0.5f0 * logvar)\n",
    "    # Reconstruct from latent sample\n",
    "\n",
    "    x̂ = sigmoid(Q*relu(W2*relu(W1*z)))\n",
    "\n",
    "    loss_α(F,A) = maximum(sqrt.(sum((F*A).*(F*A), dims = 2))) + 100*norm(A'*A - I(500),2)^2\n",
    "    # α = loss_α(F, Q) \n",
    "\n",
    "    logp_x_z = sum(binarycrossentropy.(x̂, x))\n",
    "    # Negative reconstruction loss Ε_q[logp_x_z]\n",
    "    # KL(qᵩ(z|x)||p(z)) where p(z)=N(0,1) and qᵩ(z|x) models the encoder i.e. reverse KL\n",
    "    # The @. macro makes sure that all operates are elementwise\n",
    "    kl_q_p = 0.5f0 * sum(@. (exp(logvar) + μ^2 - logvar - 1f0)) \n",
    "    # Weight decay regularisation term\n",
    "    reg = λ * sum(x->sum(x.^2), Flux.params(encoder_μ, encoder_logvar, W1, W2, Q))\n",
    "    # We want to maximise the evidence lower bound (ELBO)\n",
    "    elbo = - β .* kl_q_p\n",
    "    # So we minimise the sum of the negative ELBO and a weight penalty\n",
    "    return -elbo + reg + logp_x_z\n",
    "end\n",
    "\n",
    "function train(encoder_μ, encoder_logvar, W1, W2, W3, Q, dataloader, num_epochs, λ, β, optimiser, save_dir)\n",
    "    # The training loop for the model\n",
    "    trainable_params = Flux.params(encoder_μ, encoder_logvar, W1, W2, W3, Q)\n",
    "    progress_tracker = Progress(num_epochs, \"Training a epoch done\")\n",
    "    F = dct(diagm(ones(784)),2);\n",
    "\n",
    "    for epoch_num = 1:num_epochs\n",
    "        acc_loss = 0.0\n",
    "        loss = 0\n",
    "        for (x_batch, y_batch) in dataloader\n",
    "            # pullback function returns the result (loss) and a pullback operator (back)\n",
    "            loss, back = pullback(trainable_params) do\n",
    "                vae_loss(encoder_μ, encoder_logvar, W1, W2, W3, Q, x_batch, β, λ, F)\n",
    "            end\n",
    "            # Feed the pullback 1 to obtain the gradients and update then model parameters\n",
    "            gradients = back(1f0)\n",
    "            Flux.Optimise.update!(optimiser, trainable_params, gradients)\n",
    "            if isnan(loss)\n",
    "                break\n",
    "            end\n",
    "            acc_loss += loss\n",
    "        end\n",
    "        next!(progress_tracker; showvalues=[(:loss, loss)])\n",
    "        @assert length(dataloader) > 0\n",
    "        avg_loss = acc_loss / length(dataloader)\n",
    "        metrics = DataFrame(epoch=epoch_num, negative_elbo=avg_loss)\n",
    "        # println(metrics)\n",
    "        CSV.write(joinpath(save_dir, \"metrics.csv\"), metrics, header=(epoch_num==1), append=true)\n",
    "        save_model(encoder_μ, encoder_logvar, W1, W2, W3, Q, save_dir, epoch_num)\n",
    "    end\n",
    "    println(\"Training complete!\")\n",
    "end"
   ]
  },
  {
   "cell_type": "code",
   "execution_count": 27,
   "id": "339ecd6a",
   "metadata": {},
   "outputs": [],
   "source": [
    "batch_size = 64\n",
    "shuffle_data = true\n",
    "η = 0.001\n",
    "β = 1f0\n",
    "λ = 0.01f0\n",
    "num_epochs = 20\n",
    "\n",
    "save_dir = \"trained_GNN/MNIST_sigmoid\"\n",
    "# Define the model and create our data loader\n",
    "dataloader = get_train_loader(batch_size, shuffle_data)\n",
    "encoder_μ, encoder_logvar, W1, W2, W3, Q  = create_vae()\n",
    "train(encoder_μ, encoder_logvar, W1, W2, W3, Q, dataloader, num_epochs, λ, β, ADAM(η), save_dir)"
   ]
  },
  {
   "cell_type": "code",
   "execution_count": 17,
   "id": "26330dd6",
   "metadata": {},
   "outputs": [
    {
     "data": {
      "text/plain": [
       "visualise (generic function with 1 method)"
      ]
     },
     "metadata": {},
     "output_type": "display_data"
    }
   ],
   "source": [
    "function get_test_loader(batch_size, shuffle::Bool)\n",
    "    # The FashionMNIST test set is made up of 10k 28 by 28 greyscale images\n",
    "    test_x, test_y = MNIST.testdata(Float32)\n",
    "    test_x = 1 .- reshape(test_x, (784, :))\n",
    "    return DataLoader((test_x, test_y), batchsize=batch_size, shuffle=shuffle)\n",
    "end\n",
    "\n",
    "function save_to_images(x_batch, save_dir::String, prefix::String, num_images::Int64)\n",
    "    @assert num_images <= size(x_batch)[2]\n",
    "    for i=1:num_images\n",
    "        save(joinpath(save_dir, \"$prefix-$i.png\"), colorview(Gray, reshape(x_batch[:, i], 28,28)' ))\n",
    "    end\n",
    "end\n",
    "\n",
    "function reconstruct_images(encoder_μ, encoder_logvar, W1, W2, W3, Q, x)\n",
    "    # Forward propagate through mean encoder and std encoders\n",
    "    μ = encoder_μ(x)\n",
    "    logvar = encoder_logvar(x)\n",
    "    # Apply reparameterisation trick to sample latent\n",
    "    z = μ + randn(Float32, size(logvar)) .* exp.(0.5f0 * logvar)\n",
    "    # Reconstruct from latent sample\n",
    "    x̂ = sigmoid(Q*W3*relu(W2*relu(W1*z)))\n",
    "    return clamp.(x̂, 0 ,1)\n",
    "end\n",
    "\n",
    "function load_model_identity(load_dir::String, epoch::Int)\n",
    "    print(\"Loading model...\")\n",
    "    @load joinpath(load_dir, \"model-$epoch.bson\") encoder_μ encoder_logvar W1 W2 W3 Q\n",
    "    println(\"Done\")\n",
    "    return encoder_μ, encoder_logvar, W1, W2, W3, Q\n",
    "end\n",
    "\n",
    "function visualise()\n",
    "    # Define some parameters\n",
    "    batch_size = 64\n",
    "    shuffle = true\n",
    "    num_images = 30\n",
    "    epoch_to_load = 40\n",
    "    # Load the model and test set loader\n",
    "    dir = \"trained_GNN/MNIST_sigmoid\"\n",
    "    encoder_μ, encoder_logvar, W1, W2, W3, Q = load_model_identity(dir, epoch_to_load)\n",
    "    dataloader = get_test_loader(batch_size, shuffle)\n",
    "    # Reconstruct and save some images\n",
    "    for (x_batch, y_batch) in dataloader\n",
    "        save_to_images(x_batch, dir, \"test-image\", num_images)\n",
    "        x̂_batch = reconstruct_images(encoder_μ, encoder_logvar, W1, W2, W3, Q, x_batch)\n",
    "        save_to_images(x̂_batch, dir, \"reconstruction\", num_images)\n",
    "        break\n",
    "    end\n",
    "end\n"
   ]
  },
  {
   "cell_type": "code",
   "execution_count": 18,
   "id": "eaf26eb4",
   "metadata": {},
   "outputs": [
    {
     "name": "stdout",
     "output_type": "stream",
     "text": [
      "Loading model...Done\n"
     ]
    },
    {
     "name": "stderr",
     "output_type": "stream",
     "text": [
      "┌ Warning: MNIST.testdata() is deprecated, use `MNIST(split=:test)[:]` instead.\n",
      "└ @ MLDatasets /Users/babhru/.julia/packages/MLDatasets/Xb4Lh/src/datasets/vision/mnist.jl:195\n"
     ]
    }
   ],
   "source": [
    "visualise()"
   ]
  },
  {
   "cell_type": "code",
   "execution_count": 19,
   "id": "04c4dff8",
   "metadata": {},
   "outputs": [
    {
     "data": {
      "image/png": "[encoded data removed]",
      "text/html": [
       "<img src=\"data:image/png;base64,iVBORw0KGgoAAAANSUhEUgAAAHAAAABwCAAAAADji6uXAAAABGdBTUEAALGPC/xhBQAAAAFzUkdCAK7OHOkAAAAgY0hSTQAAeiYAAICEAAD6AAAAgOgAAHUwAADqYAAAOpgAABdwnLpRPAAAAv5JREFUaAW9wVFuLccNBcA6PVx49h3dZgTwASPBhhH/sKr+499rI/69sqwsK8vK/yFG8EGMNo7RaCP+XllWlpVl5R988OAajSCI0QgabQSNGI0YZVlZVpaVP9oIgsZjBEFw0bhGcFEIvnCMRoxGUJaVZWVZ+dYIGo3Ggw+CoNFGI0bQ+C+CoI2g0ThGWVaWlWXlW4ygcXDRRhtBewUXBx+vxsVjHK+yrCwry8oPbbQRxAiucXBxEbTXRSFeQRtlWVlWlpVv7dVoHK/2ChoxgsZB4+DiILhoBI2yrCwry6oRXATB8fqgcBG/xQiu8eAaFwcXF0FZVpaVZRU0jnFwjQ8OLg4OPgjabwcfNGI0PkbQKMvKsrKs/NEILhrBMYLGl3GMRvAxHhw0Go2DILgoy8qysqwaMYJrBBfxOrhofBBcv100ggdtfBCUZWVZWVZ+aMQraDz4wmNcxCh8EK+g0Wg8iFGWlWVlWfl2ESNoNIKgcdBGvL4QXARBo3EQXFwclGVlWVlWvh2/BcHFQaONILhoHKONi+CgERwcNMqysqwsK98aQRsXDxoX8ds1HnzhIGjECBpBG42yrCwryypewTWCB41G4yBGo/0WBAcf4yJoBGVZWVaWlR8uguAaBwfXKwg+eHBR+KBx0QhitFGWlWVlWfnWCGIcfOHgIgiCL8QIGkEjaOOgjcYxyrKyrCwrf7RX4xhBI7iIV9AILuKvGkEbZVlZVpaVHw4+aByvg4uDoI2L47eDazy4aMQoy8qysqx8i3GNoBEcXBw0GsHFQXBxcXAQ4yJGcFGWlWVlWfnWCA4ajQcXX3jwheN1jGs8aHwQHFxcBNcoy8qysqx8i9Foo40HFw8OPmgcXFw8aK/GB43jFZRlZVlZVn4IgsZF0DhofLwuGgcXQRCj0WgjRllWlpVl5Y/2asRvF0HjeB184UEbjeB4NYKyrCwry8ofMdqr0UYQxPjgoPHgovEYjUbQiFGWlWVlWfkb8YoRNILGg0YbjaD9VbzKsrKsLPsfNLcDP2+DDEEAAAAASUVORK5C\">"
      ],
      "text/plain": [
       "28×28 Array{Gray{N0f8},2} with eltype Gray{N0f8}:\n",
       " Gray{N0f8}(0.502)  Gray{N0f8}(0.502)  …  Gray{N0f8}(0.502)\n",
       " Gray{N0f8}(0.502)  Gray{N0f8}(0.502)     Gray{N0f8}(0.502)\n",
       " Gray{N0f8}(0.502)  Gray{N0f8}(0.502)     Gray{N0f8}(0.502)\n",
       " Gray{N0f8}(0.502)  Gray{N0f8}(0.502)     Gray{N0f8}(0.502)\n",
       " Gray{N0f8}(0.502)  Gray{N0f8}(0.498)     Gray{N0f8}(0.502)\n",
       " Gray{N0f8}(0.502)  Gray{N0f8}(0.502)  …  Gray{N0f8}(0.502)\n",
       " Gray{N0f8}(0.502)  Gray{N0f8}(0.502)     Gray{N0f8}(0.502)\n",
       " Gray{N0f8}(0.502)  Gray{N0f8}(0.498)     Gray{N0f8}(0.502)\n",
       " Gray{N0f8}(0.498)  Gray{N0f8}(0.502)     Gray{N0f8}(0.502)\n",
       " Gray{N0f8}(0.502)  Gray{N0f8}(0.498)     Gray{N0f8}(0.498)\n",
       " ⋮                                     ⋱  \n",
       " Gray{N0f8}(0.502)  Gray{N0f8}(0.498)     Gray{N0f8}(0.498)\n",
       " Gray{N0f8}(0.502)  Gray{N0f8}(0.498)  …  Gray{N0f8}(0.502)\n",
       " Gray{N0f8}(0.502)  Gray{N0f8}(0.502)     Gray{N0f8}(0.498)\n",
       " Gray{N0f8}(0.502)  Gray{N0f8}(0.498)     Gray{N0f8}(0.498)\n",
       " Gray{N0f8}(0.502)  Gray{N0f8}(0.502)     Gray{N0f8}(0.502)\n",
       " Gray{N0f8}(0.502)  Gray{N0f8}(0.502)     Gray{N0f8}(0.502)\n",
       " Gray{N0f8}(0.502)  Gray{N0f8}(0.502)  …  Gray{N0f8}(0.502)\n",
       " Gray{N0f8}(0.502)  Gray{N0f8}(0.502)     Gray{N0f8}(0.502)\n",
       " Gray{N0f8}(0.502)  Gray{N0f8}(0.502)     Gray{N0f8}(0.502)"
      ]
     },
     "metadata": {},
     "output_type": "display_data"
    }
   ],
   "source": [
    "load(\"trained_GNN/MNIST_sigmoid/reconstruction-5.png\")"
   ]
  },
  {
   "cell_type": "code",
   "execution_count": 36,
   "id": "ecd198a2",
   "metadata": {},
   "outputs": [
    {
     "data": {
      "image/png": "[encoded data removed]",
      "text/html": [
       "<img src=\"data:image/png;base64,iVBORw0KGgoAAAANSUhEUgAAAHAAAABwCAAAAADji6uXAAAABGdBTUEAALGPC/xhBQAAAAFzUkdCAK7OHOkAAAAgY0hSTQAAeiYAAICEAAD6AAAAgOgAAHUwAADqYAAAOpgAABdwnLpRPAAAAflJREFUaAW9wTFslAUABtD3X77p5uLoKtexzjiKI5xOmsCiiSuMFaZGy2BIOhGik4mT5qiTMS4GWGU9bmQ0netkqEMHQsq1fwv53suRriiLsiiLsiiLsiiLsiiLsiiLsiiLsiiLsiiLsiiLMxziEZ56ZYknGHAN2/jQOFEWZVEWaxxgF39ghSMMOMKAAQP28Rv+M06URVmUxRovsIeXmOBjXHfSz3iKJWbOFmVRFmWxxia2HbuOLSctcRcDZsaJsiiLslhjih2nW+AAHxkvyqIsyuKCFriHGX4yXpRFWZTFBSxxB1N8jveNF2VRFmVxTt/iHqa4jy+cT5RFWZTFSIfYxXe4hL8wc35RFmVRFiMscBcrDNjGzMVEWZRFWYy0xIAj3MYtzLCDufGiLMqiLEaY43fse+UxVriJXVzBNjacLsqiLMpipKu46nUL3MEz/I09/IK59aIsyqIs3sIcn+A5fsAj3MQmLnuzKIuyKIu3NMUWvsdj/IN/rRdlURZl8Y7cwAqbuGy9KIuyKIsRDhy75KRD3MACE+xgar0oi7IoixF2HbvvdUt8hhUm+AZzp4uyKIuyGOEDfI09fIkBDzHBS7yHB5g7W5RFWZTFCJ/iT+zjRwyYYI4NfIUt40RZlEVZjLCBX70bURZlURZlURZlURZlURZlUfY/dspKyIWg3q0AAAAASUVORK5C\">"
      ],
      "text/plain": [
       "28×28 Array{Gray{N0f8},2} with eltype Gray{N0f8}:\n",
       " Gray{N0f8}(1.0)  Gray{N0f8}(1.0)  …  Gray{N0f8}(1.0)  Gray{N0f8}(1.0)\n",
       " Gray{N0f8}(1.0)  Gray{N0f8}(1.0)     Gray{N0f8}(1.0)  Gray{N0f8}(1.0)\n",
       " Gray{N0f8}(1.0)  Gray{N0f8}(1.0)     Gray{N0f8}(1.0)  Gray{N0f8}(1.0)\n",
       " Gray{N0f8}(1.0)  Gray{N0f8}(1.0)     Gray{N0f8}(1.0)  Gray{N0f8}(1.0)\n",
       " Gray{N0f8}(1.0)  Gray{N0f8}(1.0)     Gray{N0f8}(1.0)  Gray{N0f8}(1.0)\n",
       " Gray{N0f8}(1.0)  Gray{N0f8}(1.0)  …  Gray{N0f8}(1.0)  Gray{N0f8}(1.0)\n",
       " Gray{N0f8}(1.0)  Gray{N0f8}(1.0)     Gray{N0f8}(1.0)  Gray{N0f8}(1.0)\n",
       " Gray{N0f8}(1.0)  Gray{N0f8}(1.0)     Gray{N0f8}(1.0)  Gray{N0f8}(1.0)\n",
       " Gray{N0f8}(1.0)  Gray{N0f8}(1.0)     Gray{N0f8}(1.0)  Gray{N0f8}(1.0)\n",
       " Gray{N0f8}(1.0)  Gray{N0f8}(1.0)     Gray{N0f8}(1.0)  Gray{N0f8}(1.0)\n",
       " ⋮                                 ⋱                   \n",
       " Gray{N0f8}(1.0)  Gray{N0f8}(1.0)     Gray{N0f8}(1.0)  Gray{N0f8}(1.0)\n",
       " Gray{N0f8}(1.0)  Gray{N0f8}(1.0)  …  Gray{N0f8}(1.0)  Gray{N0f8}(1.0)\n",
       " Gray{N0f8}(1.0)  Gray{N0f8}(1.0)     Gray{N0f8}(1.0)  Gray{N0f8}(1.0)\n",
       " Gray{N0f8}(1.0)  Gray{N0f8}(1.0)     Gray{N0f8}(1.0)  Gray{N0f8}(1.0)\n",
       " Gray{N0f8}(1.0)  Gray{N0f8}(1.0)     Gray{N0f8}(1.0)  Gray{N0f8}(1.0)\n",
       " Gray{N0f8}(1.0)  Gray{N0f8}(1.0)     Gray{N0f8}(1.0)  Gray{N0f8}(1.0)\n",
       " Gray{N0f8}(1.0)  Gray{N0f8}(1.0)  …  Gray{N0f8}(1.0)  Gray{N0f8}(1.0)\n",
       " Gray{N0f8}(1.0)  Gray{N0f8}(1.0)     Gray{N0f8}(1.0)  Gray{N0f8}(1.0)\n",
       " Gray{N0f8}(1.0)  Gray{N0f8}(1.0)     Gray{N0f8}(1.0)  Gray{N0f8}(1.0)"
      ]
     },
     "metadata": {},
     "output_type": "display_data"
    }
   ],
   "source": [
    "load(\"test/trained_GNN/MNIST_sigmoid_ortho/test-image-5.png\")"
   ]
  },
  {
   "cell_type": "code",
   "execution_count": 13,
   "id": "f0f22c1a",
   "metadata": {},
   "outputs": [
    {
     "name": "stdout",
     "output_type": "stream",
     "text": [
      "Loading model...Done\n"
     ]
    },
    {
     "data": {
      "image/png": "[encoded data removed]",
      "text/html": [
       "<img src=\"data:image/png;base64,iVBORw0KGgoAAAANSUhEUgAAAHAAAABwCAAAAADji6uXAAAABGdBTUEAALGPC/xhBQAAAAFzUkdCAK7OHOkAAAAgY0hSTQAAeiYAAICEAAD6AAAAgOgAAHUwAADqYAAAOpgAABdwnLpRPAAAAk9JREFUaAW9wUFqHVgMBMBq0P2v3BOQ4eVjJ2Q2qppaserfBbXiu1pBrXFsHBvHJijqiVV/V8Qq4lOsesaxcWwcmyKop56gVlArqE/1KSiCIhjHxrFxbPxFUE99Vz8LiqBWMY6NY+PYxBPUUwT1BPUEtYL6s2AcG8fGsakV1KegPhVBrXqKWEVQxCrGsXFsHBtf6rt64iliFfHUp6CINY6NY+PYBLXiqRVPET+r72oFtcaxcWwcG7+pFU/9Xax46lMRFOPYODaOTRHU38WqVQS1YtUKasUzjo1j49gE9akIivgUFEERq1ZQFEFRKxjHxrFxbOpntepTEE8RxKo/K8axcWwcm6CeoL4Lilqx4lNQn4IiGMfGsXFs6onvYtUKiiKeWkFQ1BMU49g4No6NX4KiiBUU9QRFUBRBPUUQFEE949g4No6NHwRFrCIoYgVFrVj1qVascWwcG8cmqBWrVq2gVq14glrxxKpnHBvHxrGpp/4sKIKiCIpaQRHUp1rj2Dg2jo0vQa34VE8RFLWColatWPWMY+PYODZ+CeqpFdTPYtUTFEFRK6g1jo1j49j4pQhqBfUEtYIiVnxXfzaOjWPj2PhSn2IFRVBPraCeeIpYQTGOjWPj2PgSFEGtWEER1M+CeoKgCGqNY+PYODa+1KqnPhVB/SxWUU8Raxwbx8ax8T8EteLfxTOOjWPj2AS14ili1Spi1adaQVBPERTj2Dg2jo3fFEGtIlZQFLFi1QqKeIKiCMaxcWwcm/pUK1atemoVQVBPPbWCYhwbx8ax/wBYW86bYZiifQAAAABJRU5ErkJg\">"
      ],
      "text/plain": [
       "28×28 reinterpret(reshape, Gray{Float64}, adjoint(::Matrix{Float64})) with eltype Gray{Float64}:\n",
       " Gray{Float64}(59.1457)   Gray{Float64}(1981.73)   …  Gray{Float64}(900.267)\n",
       " Gray{Float64}(-357.004)  Gray{Float64}(635.32)       Gray{Float64}(2246.95)\n",
       " Gray{Float64}(1607.09)   Gray{Float64}(-293.038)     Gray{Float64}(-1283.58)\n",
       " Gray{Float64}(707.79)    Gray{Float64}(-558.428)     Gray{Float64}(354.168)\n",
       " Gray{Float64}(-67.5988)  Gray{Float64}(-614.57)      Gray{Float64}(-507.16)\n",
       " Gray{Float64}(675.09)    Gray{Float64}(1177.6)    …  Gray{Float64}(1057.5)\n",
       " Gray{Float64}(1266.95)   Gray{Float64}(341.862)      Gray{Float64}(1291.18)\n",
       " Gray{Float64}(-302.45)   Gray{Float64}(291.384)      Gray{Float64}(394.227)\n",
       " Gray{Float64}(-575.038)  Gray{Float64}(1141.6)       Gray{Float64}(670.639)\n",
       " Gray{Float64}(646.708)   Gray{Float64}(-36.8529)     Gray{Float64}(712.772)\n",
       " ⋮                                                 ⋱  \n",
       " Gray{Float64}(822.466)   Gray{Float64}(-2025.01)     Gray{Float64}(957.704)\n",
       " Gray{Float64}(670.414)   Gray{Float64}(702.89)    …  Gray{Float64}(693.646)\n",
       " Gray{Float64}(98.3887)   Gray{Float64}(772.138)      Gray{Float64}(977.137)\n",
       " Gray{Float64}(210.989)   Gray{Float64}(531.124)      Gray{Float64}(889.062)\n",
       " Gray{Float64}(1365.22)   Gray{Float64}(78.739)       Gray{Float64}(-1091.5)\n",
       " Gray{Float64}(426.155)   Gray{Float64}(1658.98)      Gray{Float64}(-1278.63)\n",
       " Gray{Float64}(-286.178)  Gray{Float64}(2017.62)   …  Gray{Float64}(612.726)\n",
       " Gray{Float64}(-848.309)  Gray{Float64}(882.83)       Gray{Float64}(-1908.52)\n",
       " Gray{Float64}(414.72)    Gray{Float64}(844.622)      Gray{Float64}(702.118)"
      ]
     },
     "metadata": {},
     "output_type": "display_data"
    }
   ],
   "source": [
    "function subspace_incoherence(F, A)\n",
    "    m, _ = size(A)\n",
    "    Q = Matrix(qr(A).Q)\n",
    "    temp = Q'*F'\n",
    "    return maximum(sqrt.(sum(temp.*temp, dims = 1)))\n",
    "\n",
    "end\n",
    "\n",
    "\n",
    "epoch_to_load = 21\n",
    "# Load the model and test set loader\n",
    "dir = \"trained_GNN/MNIST_sigmoid\"\n",
    "encoder_μ, encoder_logvar, W1, W2, W3, Q = load_model_identity(dir, epoch_to_load)\n",
    "\n",
    "colorview(Gray, reshape(Q*relu(W2*relu(W1*randn(20))), 28,28)' )\n",
    "# F = dct(diagm(ones(784)),2);\n",
    "# subspace_incoherence(F,Q)\n",
    "\n",
    "# _,s,_, =svd(W3);\n",
    "# s\n"
   ]
  },
  {
   "cell_type": "code",
   "execution_count": 17,
   "id": "1b5ffec5",
   "metadata": {},
   "outputs": [
    {
     "data": {
      "text/plain": [
       "0.9999546021312976"
      ]
     },
     "metadata": {},
     "output_type": "display_data"
    }
   ],
   "source": [
    "sigmoid(10)"
   ]
  },
  {
   "cell_type": "code",
   "execution_count": null,
   "id": "0b8a1b9e",
   "metadata": {},
   "outputs": [],
   "source": []
  }
 ],
 "metadata": {
  "kernelspec": {
   "display_name": "Julia 1.7.3",
   "language": "julia",
   "name": "julia-1.7"
  },
  "language_info": {
   "file_extension": ".jl",
   "mimetype": "application/julia",
   "name": "julia",
   "version": "1.7.3"
  }
 },
 "nbformat": 4,
 "nbformat_minor": 5
}
