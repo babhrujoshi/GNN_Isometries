{
 "cells": [
  {
   "cell_type": "code",
   "execution_count": 1,
   "id": "87388d44",
   "metadata": {},
   "outputs": [],
   "source": [
    "using BSON: @save\n",
    "using BSON: @load\n",
    "using CSV\n",
    "using DataFrames: DataFrame\n",
    "using Flux\n",
    "using Flux: logitbinarycrossentropy, binarycrossentropy\n",
    "using Flux.Data: DataLoader\n",
    "using Flux: chunk\n",
    "using ImageFiltering\n",
    "using MLDatasets: FashionMNIST\n",
    "using ProgressMeter: Progress, next!\n",
    "using Random\n",
    "using Zygote\n",
    "using MLDatasets\n",
    "using Images\n",
    "using ImageIO\n",
    "using LinearAlgebra\n",
    "using FFTW"
   ]
  },
  {
   "cell_type": "code",
   "execution_count": 2,
   "id": "0efe9194",
   "metadata": {},
   "outputs": [],
   "source": [
    "# We define a reshape layer to use in our decoder\n",
    "struct Reshape\n",
    "    shape\n",
    "end\n",
    "Reshape(args...) = Reshape(args)\n",
    "(r::Reshape)(x) = reshape(x, r.shape)\n",
    "Flux.@functor Reshape ()"
   ]
  },
  {
   "cell_type": "code",
   "execution_count": 3,
   "id": "3fbf96e2",
   "metadata": {},
   "outputs": [
    {
     "data": {
      "text/plain": [
       "logit_BCE_shifted (generic function with 1 method)"
      ]
     },
     "metadata": {},
     "output_type": "display_data"
    }
   ],
   "source": [
    "function get_train_loader(batch_size, shuffle::Bool)\n",
    "    # The MNIST training set is made up of 60k 28 by 28 greyscale images\n",
    "    train_x, train_y = MNIST.traindata(Float32)\n",
    "    train_x = 1 .- reshape(train_x, (784, :))\n",
    "    return DataLoader((train_x, train_y), batchsize=batch_size, shuffle=shuffle, partial=false)\n",
    "end\n",
    "\n",
    "function save_model(encoder_μ, encoder_logvar, W1, W2, W3, Q, save_dir::String, epoch::Int)\n",
    "    print(\"Saving model...\")\n",
    "    let encoder_μ = cpu(encoder_μ), encoder_logvar = cpu(encoder_logvar), W1 = cpu(W1), W2 = cpu(W2), W3 = cpu(W3), Q = cpu(Q)\n",
    "        @save joinpath(save_dir, \"model-$epoch.bson\") encoder_μ encoder_logvar W1 W2 W3 Q\n",
    "    end\n",
    "    println(\"Done\")\n",
    "end\n",
    "\n",
    "function create_vae()\n",
    "    # Define the encoder and decoder networks\n",
    "    encoder_features = Chain(\n",
    "        Dense(784,500, relu),\n",
    "        Dense(500,500, relu)\n",
    "    )\n",
    "    encoder_μ = Chain(encoder_features, Dense(500, 20))\n",
    "    encoder_logvar = Chain(encoder_features, Dense(500, 20))\n",
    "\n",
    "    W1 = randn(500,20)\n",
    "    W2 = randn(500,500)\n",
    "    W3 = randn(784,500)\n",
    "    Q = randn(784,784)\n",
    "\n",
    "    return encoder_μ, encoder_logvar, W1, W2, W3, Q\n",
    "end\n",
    "\n",
    "function sig_shifted_v2(x)\n",
    "    M = 0.375261028309015\n",
    "    X = 0.624697168346519\n",
    "    α = X/0.5\n",
    "    sig(x) = exp(-x^2)*tanh(x)\n",
    "    return @.(sig(α*(x-.5))/(2M)  + 1/2)\n",
    "end\n",
    "\n",
    "function sig_shifted(x)\n",
    "    M = 1.04187855854289\n",
    "    X = 1.01570942991227\n",
    "    α = X/0.25\n",
    "    sig(x) = (exp(-x^2)+.99) * tanh(x)\n",
    "    return @.(sig(α*(x-.5))/(2M)  + 1/2)\n",
    "end\n",
    "\n",
    "function sig_shifted_v3(x)\n",
    "    M = 0.321140015957206\n",
    "    X = 0.58703932739034\n",
    "    α = X/0.5\n",
    "    sig(x) = (exp(-x^2) - .1)*tanh(x)\n",
    "    return @.(sig(α*(x-.5))/(2M)  + 1/2)\n",
    "end\n",
    "\n",
    "function BCE_own(x̂,x)\n",
    "    return sum( @.( -(1-x)*log(1 - (sigmoid(abs(1-x̂)) .- .5) * min((abs(x̂))^1.01, 1) + 1e-5)  - x*( log(1 - (sigmoid(abs(1-x̂)) .- .5)* min((abs(1-x̂))^1.01, 1)  + 1e-5) ) ) )/784\n",
    "end\n",
    "\n",
    "function BCE_own(x̂)\n",
    "    invgaus(x) =  @.(-exp(-(x)^2) +1)\n",
    "    return sum( @.( - log(1 - invgaus( max( abs(.5-x̂) -.5 , .5 ) -.5 ) + 1e-5)  ) )/size(x̂,2)\n",
    "end\n",
    "\n",
    "function  logit_BCE(x̂,x) \n",
    "    return sum(@.(- x * log( sigmoid(x̂) + 1e-5) - (1-x)* log( 1 - sigmoid(x̂) + 1e-5))) / size(x,2)\n",
    "end\n",
    "\n",
    "function  logit_BCE_shifted(x̂,x) \n",
    "    return sum(@.(- x * log( sig_shifted(x̂) + 1e-4) - (1-x)* log( 1 - sig_shifted(x̂) + 1e-4))) / size(x,2)\n",
    "end"
   ]
  },
  {
   "cell_type": "code",
   "execution_count": 8,
   "id": "e4fca59e",
   "metadata": {},
   "outputs": [
    {
     "data": {
      "text/plain": [
       "train (generic function with 1 method)"
      ]
     },
     "metadata": {},
     "output_type": "display_data"
    }
   ],
   "source": [
    "function vae_loss(encoder_μ, encoder_logvar, W1, W2, W3, Q, x, β, λ, F)\n",
    "    batch_size = size(x)[end]\n",
    "    @assert batch_size != 0\n",
    "\n",
    "    # Forward propagate through mean encoder and std encoders\n",
    "    μ = encoder_μ(x)\n",
    "    logvar = encoder_logvar(x)\n",
    "    # Apply reparameterisation trick to sample latent\n",
    "    z = μ + randn(Float32, size(logvar)) .* exp.(0.5f0 * logvar)\n",
    "    # Reconstruct from latent sample\n",
    "\n",
    "    x̂ = Q*sigmoid(W3*relu(W2*relu(W1*z)))\n",
    "\n",
    "    loss_α(F,A) = maximum(sqrt.(sum((F*A).*(F*A), dims = 2))) + 100*norm(A'*A - I(784),2)^2\n",
    "    α = loss_α(F, Q) \n",
    "\n",
    "    logp_x_z = sum(logitbinarycrossentropy.(x̂, x))\n",
    "    # Negative reconstruction loss Ε_q[logp_x_z]\n",
    "    # KL(qᵩ(z|x)||p(z)) where p(z)=N(0,1) and qᵩ(z|x) models the encoder i.e. reverse KL\n",
    "    # The @. macro makes sure that all operates are elementwise\n",
    "    kl_q_p = 0.5f0 * sum(@. (exp(logvar) + μ^2 - logvar - 1f0)) \n",
    "    # Weight decay regularisation term\n",
    "    reg = λ * sum(x->sum(x.^2), Flux.params(encoder_μ, encoder_logvar, W1, W2, W3, Q))\n",
    "    # We want to maximise the evidence lower bound (ELBO)\n",
    "    elbo = - β .* kl_q_p\n",
    "    # So we minimise the sum of the negative ELBO and a weight penalty\n",
    "    return -elbo + reg + logp_x_z + 10000*α\n",
    "end\n",
    "\n",
    "function train(encoder_μ, encoder_logvar, W1, W2, W3, Q, dataloader, num_epochs, λ, β, optimiser, save_dir)\n",
    "    # The training loop for the model\n",
    "    trainable_params = Flux.params(encoder_μ, encoder_logvar, W1, W2, W3, Q)\n",
    "    progress_tracker = Progress(num_epochs, \"Training a epoch done\")\n",
    "    F = dct(diagm(ones(784)),2);\n",
    "\n",
    "    for epoch_num = 1:num_epochs\n",
    "        acc_loss = 0.0\n",
    "        loss = 0\n",
    "        for (x_batch, y_batch) in dataloader\n",
    "            # pullback function returns the result (loss) and a pullback operator (back)\n",
    "            loss, back = pullback(trainable_params) do\n",
    "                vae_loss(encoder_μ, encoder_logvar, W1, W2, W3, Q, x_batch, β, λ, F)\n",
    "            end\n",
    "            # Feed the pullback 1 to obtain the gradients and update then model parameters\n",
    "            gradients = back(1f0)\n",
    "            Flux.Optimise.update!(optimiser, trainable_params, gradients)\n",
    "            if isnan(loss)\n",
    "                break\n",
    "            end\n",
    "            acc_loss += loss\n",
    "        end\n",
    "        next!(progress_tracker; showvalues=[(:loss, loss)])\n",
    "        @assert length(dataloader) > 0\n",
    "        avg_loss = acc_loss / length(dataloader)\n",
    "        metrics = DataFrame(epoch=epoch_num, negative_elbo=avg_loss)\n",
    "        # println(metrics)\n",
    "        CSV.write(joinpath(save_dir, \"metrics.csv\"), metrics, header=(epoch_num==1), append=true)\n",
    "        save_model(encoder_μ, encoder_logvar, W1, W2, W3, Q, save_dir, epoch_num)\n",
    "    end\n",
    "    println(\"Training complete!\")\n",
    "end"
   ]
  },
  {
   "cell_type": "code",
   "execution_count": 10,
   "id": "339ecd6a",
   "metadata": {},
   "outputs": [
    {
     "name": "stderr",
     "output_type": "stream",
     "text": [
      "┌ Warning: MNIST.traindata() is deprecated, use `MNIST(split=:train)[:]` instead.\n",
      "└ @ MLDatasets /Users/babhru/.julia/packages/MLDatasets/Xb4Lh/src/datasets/vision/mnist.jl:187\n"
     ]
    },
    {
     "name": "stdout",
     "output_type": "stream",
     "text": [
      "Saving model...Done"
     ]
    },
    {
     "name": "stdout",
     "output_type": "stream",
     "text": [
      "\n"
     ]
    },
    {
     "name": "stderr",
     "output_type": "stream",
     "text": [
      "\r\u001b[32mTraining a epoch done  10%|███                           |  ETA: 1:09:36\u001b[39m"
     ]
    },
    {
     "name": "stderr",
     "output_type": "stream",
     "text": [
      "\u001b[K\r\n",
      "\u001b[34m  loss:  2.5157577914546992e13\u001b[39m\u001b[K\r\u001b[A"
     ]
    },
    {
     "name": "stdout",
     "output_type": "stream",
     "text": [
      "Saving model...Done"
     ]
    },
    {
     "name": "stdout",
     "output_type": "stream",
     "text": [
      "\n"
     ]
    },
    {
     "name": "stderr",
     "output_type": "stream",
     "text": [
      "\n",
      "\r\u001b[K\u001b[A\r\u001b[32mTraining a epoch done  15%|████▌                         |  ETA: 1:06:11\u001b[39m\u001b[K\r\n",
      "\u001b[34m  loss:  8.457589311171722e12\u001b[39m\u001b[K\r\u001b[A"
     ]
    },
    {
     "name": "stdout",
     "output_type": "stream",
     "text": [
      "Saving model...Done"
     ]
    },
    {
     "name": "stdout",
     "output_type": "stream",
     "text": [
      "\n"
     ]
    },
    {
     "name": "stderr",
     "output_type": "stream",
     "text": [
      "\n",
      "\r\u001b[K\u001b[A\r\u001b[32mTraining a epoch done  20%|██████                        |  ETA: 1:02:40\u001b[39m\u001b[K\r\n",
      "\u001b[34m  loss:  3.2430622554132017e12\u001b[39m\u001b[K\r\u001b[A"
     ]
    }
   ],
   "source": [
    "batch_size = 64\n",
    "shuffle_data = true\n",
    "η = 0.001\n",
    "β = 1f0\n",
    "λ = 0.01f0\n",
    "num_epochs = 20\n",
    "\n",
    "save_dir = \"test/trained_GNN/MNIST_sigmoid_ortho\"\n",
    "# Define the model and create our data loader\n",
    "dataloader = get_train_loader(batch_size, shuffle_data)\n",
    "encoder_μ, encoder_logvar, W1, W2, W3, Q  = create_vae()\n",
    "train(encoder_μ, encoder_logvar, W1, W2, W3, Q, dataloader, num_epochs, λ, β, ADAM(η), save_dir)"
   ]
  },
  {
   "cell_type": "code",
   "execution_count": 31,
   "id": "26330dd6",
   "metadata": {},
   "outputs": [
    {
     "data": {
      "text/plain": [
       "visualise (generic function with 1 method)"
      ]
     },
     "metadata": {},
     "output_type": "display_data"
    }
   ],
   "source": [
    "function get_test_loader(batch_size, shuffle::Bool)\n",
    "    # The FashionMNIST test set is made up of 10k 28 by 28 greyscale images\n",
    "    test_x, test_y = MNIST.testdata(Float32)\n",
    "    test_x = 1 .- reshape(test_x, (784, :))\n",
    "    return DataLoader((test_x, test_y), batchsize=batch_size, shuffle=shuffle)\n",
    "end\n",
    "\n",
    "function save_to_images(x_batch, save_dir::String, prefix::String, num_images::Int64)\n",
    "    @assert num_images <= size(x_batch)[2]\n",
    "    for i=1:num_images\n",
    "        save(joinpath(save_dir, \"$prefix-$i.png\"), colorview(Gray, reshape(x_batch[:, i], 28,28)' ))\n",
    "    end\n",
    "end\n",
    "\n",
    "function reconstruct_images(encoder_μ, encoder_logvar, W1, W2, W3, Q, x)\n",
    "    # Forward propagate through mean encoder and std encoders\n",
    "    μ = encoder_μ(x)\n",
    "    logvar = encoder_logvar(x)\n",
    "    # Apply reparameterisation trick to sample latent\n",
    "    z = μ + randn(Float32, size(logvar)) .* exp.(0.5f0 * logvar)\n",
    "    # Reconstruct from latent sample\n",
    "    x̂ = sigmoid(Q*W3*relu(W2*relu(W1*z)))\n",
    "    return clamp.(x̂, 0 ,1)\n",
    "end\n",
    "\n",
    "function load_model_identity(load_dir::String, epoch::Int)\n",
    "    print(\"Loading model...\")\n",
    "    @load joinpath(load_dir, \"model-$epoch.bson\") encoder_μ encoder_logvar W1 W2 W3 Q\n",
    "    println(\"Done\")\n",
    "    return encoder_μ, encoder_logvar, W1, W2, W3, Q\n",
    "end\n",
    "\n",
    "function visualise()\n",
    "    # Define some parameters\n",
    "    batch_size = 64\n",
    "    shuffle = true\n",
    "    num_images = 30\n",
    "    epoch_to_load = 20\n",
    "    # Load the model and test set loader\n",
    "    dir = \"test/trained_GNN/MNIST_sigmoid\"\n",
    "    encoder_μ, encoder_logvar, W1, W2, W3, Q = load_model_identity(dir, epoch_to_load)\n",
    "    dataloader = get_test_loader(batch_size, shuffle)\n",
    "    # Reconstruct and save some images\n",
    "    for (x_batch, y_batch) in dataloader\n",
    "        save_to_images(x_batch, dir, \"test-image\", num_images)\n",
    "        x̂_batch = reconstruct_images(encoder_μ, encoder_logvar, W1, W2, W3, Q, x_batch)\n",
    "        save_to_images(x̂_batch, dir, \"reconstruction\", num_images)\n",
    "        break\n",
    "    end\n",
    "end\n"
   ]
  },
  {
   "cell_type": "code",
   "execution_count": 32,
   "id": "eaf26eb4",
   "metadata": {},
   "outputs": [
    {
     "name": "stdout",
     "output_type": "stream",
     "text": [
      "Loading model...Done\n"
     ]
    },
    {
     "name": "stderr",
     "output_type": "stream",
     "text": [
      "┌ Warning: MNIST.testdata() is deprecated, use `MNIST(split=:test)[:]` instead.\n",
      "└ @ MLDatasets /Users/babhru/.julia/packages/MLDatasets/Xb4Lh/src/datasets/vision/mnist.jl:195\n"
     ]
    }
   ],
   "source": [
    "visualise()"
   ]
  },
  {
   "cell_type": "code",
   "execution_count": 34,
   "id": "04c4dff8",
   "metadata": {},
   "outputs": [
    {
     "data": {
      "image/png": "[encoded data removed]",
      "text/html": [
       "<img src=\"data:image/png;base64,iVBORw0KGgoAAAANSUhEUgAAAHAAAABwCAAAAADji6uXAAAABGdBTUEAALGPC/xhBQAAAAFzUkdCAK7OHOkAAAAgY0hSTQAAeiYAAICEAAD6AAAAgOgAAHUwAADqYAAAOpgAABdwnLpRPAAAAv5JREFUaAW9wc2L1AUcB+DnN/NZ1532Dd+JwAprrcgwBdEg7NKpQ5e6evde/4rhpUuniPASnSISCYL2UAdRSmVjtbYsUTd3Z9ad6TBHZ2bDw/d5MlArikWxKBbFolgUi2JRLIpFsSgWxaJYFItiMcEAfWyhhxV00MduLGIaXXTQtrMoFsWiWIwwwDY2cBvf4Ss8g68xhT5OYxfO4j0cRstQY7QoFsWiWIwwQAs/4Xd8iQf4HvPoYQtXsBu38BDnsWCoMVoUi2JRLEZosIW9uI0NbKKL/TiDaSzhOv7GLVzDcUwbL4pFsSgWIwzQYBqX0EFwEhexgA0s4ww+wweYQwuN8aJYFItiMULLUAun8DPewYs4iA56OI0vcAdbeB5tk0WxKBbFYowGfRzDLezBQbTwCJu4gQt4BQ+wgRmTRbEoFsVigmfxC97HHNZxFatYw584ij14G4tomSyKRbEoFmM0CA7jLrr4CPsxjx+xjRdwHI/RsrMoFsWiWIwxQB9T+AcXESxjC48xg99wDUvYjxk0xotiUSyKxRgNpnAAV3ECa1jGSaxiHw6hwQW8hjam0RgtikWxKBY76OAIuljBOexDsIrL+AMHcAnnTBbFolgUiwkatHAIHbyBAeaxic9xFt/gIRq8jlNoo/GkKBbFoljsoMEs5vAA25hHCx/iDl7CJ1jBDZxA22hRLIpFsRhjYGiANrrYhTY2MYfDuIcONrAX93EfB4wWxaJYFIsxBob66BsKGsyiMbQHa4Z66CLGi2JRLIrFGA366GMTPWxgAX1MYQtruI5XsYY2ZtEYLYpFsSgWEzTo4h7+xU2s4yi28Qif4gp6OIa30MYAjSdFsSgWxWKMxlCDy2jhKn7FX9iHm7iPu3gZH+MIBmiMFsWiWBSLCbYxgzfxA4IVrGIZc1jHAgaYQw8xXhSLYlEsJggGeA6LWMdpfIsrWMR5nMRuzKJtsigWxaJY7KDBAhYMLeFd9NE21Pj/olgUi2LxFFpoeTpRLIpFsSgWxaJYFPsPvp2bMvUFAc4AAAAASUVORK5C\">"
      ],
      "text/plain": [
       "28×28 Array{Gray{N0f8},2} with eltype Gray{N0f8}:\n",
       " Gray{N0f8}(1.0)  Gray{N0f8}(1.0)  …  Gray{N0f8}(1.0)  Gray{N0f8}(1.0)\n",
       " Gray{N0f8}(1.0)  Gray{N0f8}(1.0)     Gray{N0f8}(1.0)  Gray{N0f8}(1.0)\n",
       " Gray{N0f8}(1.0)  Gray{N0f8}(1.0)     Gray{N0f8}(1.0)  Gray{N0f8}(1.0)\n",
       " Gray{N0f8}(1.0)  Gray{N0f8}(1.0)     Gray{N0f8}(1.0)  Gray{N0f8}(1.0)\n",
       " Gray{N0f8}(1.0)  Gray{N0f8}(1.0)     Gray{N0f8}(1.0)  Gray{N0f8}(1.0)\n",
       " Gray{N0f8}(1.0)  Gray{N0f8}(1.0)  …  Gray{N0f8}(1.0)  Gray{N0f8}(1.0)\n",
       " Gray{N0f8}(1.0)  Gray{N0f8}(1.0)     Gray{N0f8}(1.0)  Gray{N0f8}(1.0)\n",
       " Gray{N0f8}(1.0)  Gray{N0f8}(1.0)     Gray{N0f8}(1.0)  Gray{N0f8}(1.0)\n",
       " Gray{N0f8}(1.0)  Gray{N0f8}(1.0)     Gray{N0f8}(1.0)  Gray{N0f8}(1.0)\n",
       " Gray{N0f8}(1.0)  Gray{N0f8}(1.0)     Gray{N0f8}(1.0)  Gray{N0f8}(1.0)\n",
       " ⋮                                 ⋱                   \n",
       " Gray{N0f8}(1.0)  Gray{N0f8}(1.0)     Gray{N0f8}(1.0)  Gray{N0f8}(1.0)\n",
       " Gray{N0f8}(1.0)  Gray{N0f8}(1.0)  …  Gray{N0f8}(1.0)  Gray{N0f8}(1.0)\n",
       " Gray{N0f8}(1.0)  Gray{N0f8}(1.0)     Gray{N0f8}(1.0)  Gray{N0f8}(1.0)\n",
       " Gray{N0f8}(1.0)  Gray{N0f8}(1.0)     Gray{N0f8}(1.0)  Gray{N0f8}(1.0)\n",
       " Gray{N0f8}(1.0)  Gray{N0f8}(1.0)     Gray{N0f8}(1.0)  Gray{N0f8}(1.0)\n",
       " Gray{N0f8}(1.0)  Gray{N0f8}(1.0)     Gray{N0f8}(1.0)  Gray{N0f8}(1.0)\n",
       " Gray{N0f8}(1.0)  Gray{N0f8}(1.0)  …  Gray{N0f8}(1.0)  Gray{N0f8}(1.0)\n",
       " Gray{N0f8}(1.0)  Gray{N0f8}(1.0)     Gray{N0f8}(1.0)  Gray{N0f8}(1.0)\n",
       " Gray{N0f8}(1.0)  Gray{N0f8}(1.0)     Gray{N0f8}(1.0)  Gray{N0f8}(1.0)"
      ]
     },
     "metadata": {},
     "output_type": "display_data"
    }
   ],
   "source": [
    "load(\"trained_GNN/MNIST_sigmoid/reconstruction-5.png\")"
   ]
  },
  {
   "cell_type": "code",
   "execution_count": 36,
   "id": "ecd198a2",
   "metadata": {},
   "outputs": [
    {
     "data": {
      "image/png": "[encoded data removed]",
      "text/html": [
       "<img src=\"data:image/png;base64,iVBORw0KGgoAAAANSUhEUgAAAHAAAABwCAAAAADji6uXAAAABGdBTUEAALGPC/xhBQAAAAFzUkdCAK7OHOkAAAAgY0hSTQAAeiYAAICEAAD6AAAAgOgAAHUwAADqYAAAOpgAABdwnLpRPAAAAh1JREFUaAW9wTGIlgUABuAHfYOKCKkgCf5boiK4aIoWx0Qsh4JQaWhzkQhaGqKGJgMHiYZCGnRx0IOipBt0aQpriMChBkmUIgpCr7NLI2z4h0Ou+74vi/d5clNXlEVZlEVZlEVZlEVZlEVZlEVZlEVZlEVZlEVZlMWIy1jBXtxh7hvsxQrexb3Ybpooi7IoiwG/YQ/Ou9UWLJl7HM/gM2w1LsqiLMpiwDWsYitewhP4ybqjuIaz2IEvjIuyKIuyGLAdF3AeizY6jP04hR9ME2VRFmUxwaJxL5gmyqIsyuI/uIxPzV01TZRFWZTFbfoVi/gD9+ED00RZlEVZTPQlvsdXOIdfsIoH8DHuNE2URVmUxYgbOIK3cd1Gd+Mh00VZlEVZjDiNN2zuEnbiLBaMi7Ioi7IY8Z11u7AbT5t7DydwAbuxjAXDoizKoixGPIuv8RqeQqw7jufwJr7F+zhkWJRFWZTFiCdx0j/bgv34HQdwDAcxs7koi7Ioi//Rz1gxLMqiLMpiglXcY3Mv41WsGRdlURZlMcFbWMM72Gajz3EDi5gZFmVRFmUxwRJ+xEV8hLusO4PX8Reu40/DoizKoiwm2IGTOINt2InHcBRruIkZPsH9hkVZlEVZTPA8FvAhrmAZy251CI8aF2VRFmUxwT7swys4Z24JD2IXHsHDpomyKIuy+BdmmJl70e2JsiiLsiiLsiiLsiiLsiiLsr8B34NTwlQQ3M4AAAAASUVORK5C\">"
      ],
      "text/plain": [
       "28×28 Array{Gray{N0f8},2} with eltype Gray{N0f8}:\n",
       " Gray{N0f8}(1.0)  Gray{N0f8}(1.0)  …  Gray{N0f8}(1.0)  Gray{N0f8}(1.0)\n",
       " Gray{N0f8}(1.0)  Gray{N0f8}(1.0)     Gray{N0f8}(1.0)  Gray{N0f8}(1.0)\n",
       " Gray{N0f8}(1.0)  Gray{N0f8}(1.0)     Gray{N0f8}(1.0)  Gray{N0f8}(1.0)\n",
       " Gray{N0f8}(1.0)  Gray{N0f8}(1.0)     Gray{N0f8}(1.0)  Gray{N0f8}(1.0)\n",
       " Gray{N0f8}(1.0)  Gray{N0f8}(1.0)     Gray{N0f8}(1.0)  Gray{N0f8}(1.0)\n",
       " Gray{N0f8}(1.0)  Gray{N0f8}(1.0)  …  Gray{N0f8}(1.0)  Gray{N0f8}(1.0)\n",
       " Gray{N0f8}(1.0)  Gray{N0f8}(1.0)     Gray{N0f8}(1.0)  Gray{N0f8}(1.0)\n",
       " Gray{N0f8}(1.0)  Gray{N0f8}(1.0)     Gray{N0f8}(1.0)  Gray{N0f8}(1.0)\n",
       " Gray{N0f8}(1.0)  Gray{N0f8}(1.0)     Gray{N0f8}(1.0)  Gray{N0f8}(1.0)\n",
       " Gray{N0f8}(1.0)  Gray{N0f8}(1.0)     Gray{N0f8}(1.0)  Gray{N0f8}(1.0)\n",
       " ⋮                                 ⋱                   \n",
       " Gray{N0f8}(1.0)  Gray{N0f8}(1.0)     Gray{N0f8}(1.0)  Gray{N0f8}(1.0)\n",
       " Gray{N0f8}(1.0)  Gray{N0f8}(1.0)  …  Gray{N0f8}(1.0)  Gray{N0f8}(1.0)\n",
       " Gray{N0f8}(1.0)  Gray{N0f8}(1.0)     Gray{N0f8}(1.0)  Gray{N0f8}(1.0)\n",
       " Gray{N0f8}(1.0)  Gray{N0f8}(1.0)     Gray{N0f8}(1.0)  Gray{N0f8}(1.0)\n",
       " Gray{N0f8}(1.0)  Gray{N0f8}(1.0)     Gray{N0f8}(1.0)  Gray{N0f8}(1.0)\n",
       " Gray{N0f8}(1.0)  Gray{N0f8}(1.0)     Gray{N0f8}(1.0)  Gray{N0f8}(1.0)\n",
       " Gray{N0f8}(1.0)  Gray{N0f8}(1.0)  …  Gray{N0f8}(1.0)  Gray{N0f8}(1.0)\n",
       " Gray{N0f8}(1.0)  Gray{N0f8}(1.0)     Gray{N0f8}(1.0)  Gray{N0f8}(1.0)\n",
       " Gray{N0f8}(1.0)  Gray{N0f8}(1.0)     Gray{N0f8}(1.0)  Gray{N0f8}(1.0)"
      ]
     },
     "metadata": {},
     "output_type": "display_data"
    }
   ],
   "source": [
    "load(\"trained_GNN/MNIST_sigmoid/test-image-5.png\")"
   ]
  },
  {
   "cell_type": "code",
   "execution_count": 44,
   "id": "f0f22c1a",
   "metadata": {},
   "outputs": [
    {
     "name": "stdout",
     "output_type": "stream",
     "text": [
      "Loading model...Done\n"
     ]
    },
    {
     "data": {
      "image/png": "[encoded data removed]",
      "text/html": [
       "<img src=\"data:image/png;base64,iVBORw0KGgoAAAANSUhEUgAAAHAAAABwCAAAAADji6uXAAAABGdBTUEAALGPC/xhBQAAAAFzUkdCAK7OHOkAAAAgY0hSTQAAeiYAAICEAAD6AAAAgOgAAHUwAADqYAAAOpgAABdwnLpRPAAAAoRJREFUaAW9wT2KpWUQBtBTbYE/KIKbmGUYGroBEzOXZDah+WSGbsDcTRiNojD240AJ7739daMY1Dkdu9qytqwta/9TIV5WiKu2rC1ry9oTZcQoBIWgjDi+xhsjKMTz2rK2rC1rTwSFb/HaVVy9QRzBO7SjELRlbVlb1p4o4zXKEVeFeF6jEBRitGVtWVvWnogjKEe5F5TxF37AN65iNNqytqwtay8oIyhHjEI5PsA37sUoBO/QlrVlbVl7RhnB5444YpRRjhiFIEahLWvL2rJ2oxDEKCMoV4U4yr249zvasrasLWs3gnIEZcRV8BafIUaMMuL4GG1ZW9aWtfcKMWIUCnGvHMGnCAoxCnEUYrRlbVlb1t6LUQgKQRllBEEhKMSIew94NOJoy9qytqzdiOcFZRR+xM+Iq0LwhaMQoy1ry9qy9t4jHhxBIShHGV+5CsooR7nXlrVlbVl778FVjKAQzyujEEcZca8ta8vasvZEIUbjHWIUgkJQRlwFZcTRlrVlbVn7RyEICsGHjkKMeFkhRuHR8Q5tWVvWlrV/xBH8hN8cca8Q98q9RxRiNNqytqwta098j+/wpVGOoByFoIwYD3hEuWrL2rK2rD3xnXtBISg84sFVUAjiiFFGW9aWtWXtxi94ZRSCQoy4KsT4wogR94K2rC1ry9qNV66CQlCIl/2KMoJCjBhtWVvWlrUbhRhxFUeMMgpBOeKqLWvL2rJ2IygjjhjlKCNGjDiCQiFGW9aWtWXtxieIUYhRCIIy4vgIf+ARD45y1Za1ZW1Zu/G7e4W3/t2fxoPxEf5wxNGWtWVtWfsXnyJGIa4+du9PL2vL2rK2rL0g/ptC3IuXtWVtWVv2N+o8rNc5F4cfAAAAAElFTkSuQmCC\">"
      ],
      "text/plain": [
       "28×28 reinterpret(reshape, Gray{Float64}, adjoint(::Matrix{Float64})) with eltype Gray{Float64}:\n",
       " Gray{Float64}(1.0)       Gray{Float64}(1.0)  …  Gray{Float64}(1.0)\n",
       " Gray{Float64}(1.0)       Gray{Float64}(1.0)     Gray{Float64}(1.0)\n",
       " Gray{Float64}(1.0)       Gray{Float64}(1.0)     Gray{Float64}(1.0)\n",
       " Gray{Float64}(1.0)       Gray{Float64}(1.0)     Gray{Float64}(0.999993)\n",
       " Gray{Float64}(1.0)       Gray{Float64}(1.0)     Gray{Float64}(1.0)\n",
       " Gray{Float64}(1.0)       Gray{Float64}(1.0)  …  Gray{Float64}(0.0119682)\n",
       " Gray{Float64}(1.0)       Gray{Float64}(1.0)     Gray{Float64}(1.0)\n",
       " Gray{Float64}(1.0)       Gray{Float64}(1.0)     Gray{Float64}(9.26813e-20)\n",
       " Gray{Float64}(1.0)       Gray{Float64}(1.0)     Gray{Float64}(0.966536)\n",
       " Gray{Float64}(1.0)       Gray{Float64}(1.0)     Gray{Float64}(1.0)\n",
       " ⋮                                            ⋱  \n",
       " Gray{Float64}(1.0)       Gray{Float64}(1.0)     Gray{Float64}(2.34934e-6)\n",
       " Gray{Float64}(0.999845)  Gray{Float64}(1.0)  …  Gray{Float64}(1.0)\n",
       " Gray{Float64}(1.0)       Gray{Float64}(1.0)     Gray{Float64}(1.0)\n",
       " Gray{Float64}(1.0)       Gray{Float64}(1.0)     Gray{Float64}(1.0)\n",
       " Gray{Float64}(1.0)       Gray{Float64}(1.0)     Gray{Float64}(1.0)\n",
       " Gray{Float64}(1.0)       Gray{Float64}(1.0)     Gray{Float64}(1.0)\n",
       " Gray{Float64}(1.0)       Gray{Float64}(1.0)  …  Gray{Float64}(1.0)\n",
       " Gray{Float64}(1.0)       Gray{Float64}(1.0)     Gray{Float64}(1.0)\n",
       " Gray{Float64}(1.0)       Gray{Float64}(1.0)     Gray{Float64}(1.0)"
      ]
     },
     "metadata": {},
     "output_type": "display_data"
    }
   ],
   "source": [
    "function subspace_incoherence(F, A)\n",
    "    m, _ = size(A)\n",
    "    Q = Matrix(qr(A).Q)\n",
    "    temp = Q'*F'\n",
    "    return maximum(sqrt.(sum(temp.*temp, dims = 1)))\n",
    "\n",
    "end\n",
    "\n",
    "\n",
    "epoch_to_load = 20\n",
    "# Load the model and test set loader\n",
    "dir = \"trained_GNN/MNIST_sigmoid\"\n",
    "encoder_μ, encoder_logvar, W1, W2, W3, Q = load_model_identity(dir, epoch_to_load)\n",
    "\n",
    "colorview(Gray, reshape( sigmoid(Q*W3*relu(W2*relu(W1*randn(20)))) , 28,28)' )\n",
    "# F = dct(diagm(ones(784)),2);\n",
    "# subspace_incoherence(F,Q)\n",
    "\n",
    "# _,s,_, =svd(W3);\n",
    "# s\n"
   ]
  },
  {
   "cell_type": "code",
   "execution_count": 46,
   "id": "dc915d30",
   "metadata": {},
   "outputs": [
    {
     "data": {
      "text/plain": [
       "784×500 Matrix{Float64}:\n",
       "  2.82203e-24   0.00859575   1.04538e-10  …  -8.59908e-19  0.000414495\n",
       " -2.44531e-11   0.00845625   6.8174e-8       -8.93847e-19  0.000141501\n",
       " -3.66146e-95   0.00912815  -1.52162e-9       5.47251e-18  0.000498546\n",
       " -1.18334e-18   0.0089219   -4.90299e-10      2.81871e-18  0.000476156\n",
       " -4.65785e-24   0.00925237  -5.45126e-10     -3.34948e-18  0.00106\n",
       "  2.32363e-21   0.00916312  -1.00129e-9   …   1.6947e-14   0.000495607\n",
       "  9.47968e-12   0.00851497   1.1849e-9        3.02931e-10  0.000503737\n",
       "  1.34244e-38   0.00929343  -8.86887e-10      3.30128e-18  0.000538898\n",
       "  2.94699e-95   0.00969581  -5.09827e-10     -1.07524e-17  0.000834765\n",
       " -3.27255e-19   0.00831106  -4.50149e-10      2.68648e-15  0.000431791\n",
       "  ⋮                                       ⋱                \n",
       "  4.63238e-12   0.177836     1.48453e-14  …   9.92864e-7   0.00201324\n",
       "  9.09958e-97   0.0508955    1.07272e-10      1.09192e-14  0.00360148\n",
       " -1.13511e-6    0.381772     5.17395e-15      8.13911e-12  0.0194491\n",
       " -1.56554e-10  -0.138388    -6.7934e-9        5.41689e-15  2.6023e-5\n",
       " -3.16257e-40  -0.0105596   -5.24599e-15      2.05275e-20  1.54924e-5\n",
       " -5.15512e-60   0.0091927    1.09783e-9   …  -3.69045e-18  0.000493792\n",
       " -5.51044e-95   0.00968133  -1.51703e-8       3.21936e-5   0.00080423\n",
       " -1.18056e-11   0.00626963   4.18098e-10     -4.8627e-18   0.000186916\n",
       " -2.09585e-10   0.00902237   8.51787e-10      7.33545e-13  0.000498629"
      ]
     },
     "metadata": {},
     "output_type": "display_data"
    }
   ],
   "source": [
    "Q"
   ]
  },
  {
   "cell_type": "code",
   "execution_count": 17,
   "id": "1b5ffec5",
   "metadata": {},
   "outputs": [
    {
     "data": {
      "text/plain": [
       "0.9999546021312976"
      ]
     },
     "metadata": {},
     "output_type": "display_data"
    }
   ],
   "source": [
    "sigmoid(10)"
   ]
  },
  {
   "cell_type": "code",
   "execution_count": null,
   "id": "0b8a1b9e",
   "metadata": {},
   "outputs": [],
   "source": []
  }
 ],
 "metadata": {
  "kernelspec": {
   "display_name": "Julia 1.7.3",
   "language": "julia",
   "name": "julia-1.7"
  },
  "language_info": {
   "file_extension": ".jl",
   "mimetype": "application/julia",
   "name": "julia",
   "version": "1.7.3"
  }
 },
 "nbformat": 4,
 "nbformat_minor": 5
}
