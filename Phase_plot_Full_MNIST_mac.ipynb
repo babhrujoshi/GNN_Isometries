{
 "cells": [
  {
   "cell_type": "code",
   "execution_count": 1,
   "metadata": {},
   "outputs": [
    {
     "name": "stdout",
     "output_type": "stream",
     "text": [
      "All function imported\n"
     ]
    },
    {
     "name": "stderr",
     "output_type": "stream",
     "text": [
      "WARNING: using JLD.@load in module Main conflicts with an existing identifier.\n"
     ]
    }
   ],
   "source": [
    "using NBInclude\n",
    "\n",
    "@nbinclude(\"functions.ipynb\")"
   ]
  },
  {
   "cell_type": "code",
   "execution_count": null,
   "metadata": {},
   "outputs": [],
   "source": [
    "function get_test_loader(batch_size, shuffle::Bool)\n",
    "    # The FashionMNIST test set is made up of 10k 28 by 28 greyscale images\n",
    "    test_x, test_y = MNIST.testdata(Float32)\n",
    "    test_x = 1 .- reshape(test_x, (784, :))\n",
    "    return DataLoader((test_x, test_y), batchsize=batch_size, shuffle=shuffle)\n",
    "end\n",
    "\n",
    "function load_model_sep(load_dir::String, epoch::Int)\n",
    "    print(\"Loading model...\")\n",
    "    @load joinpath(load_dir, \"model-$epoch.bson\") encoder_μ encoder_logvar W1 W2 W3 Q\n",
    "    println(\"Done\")\n",
    "    return encoder_μ, encoder_logvar, W1, W2, W3, Q\n",
    "end\n",
    "\n",
    "function load_model_identity(load_dir::String, epoch::Int)\n",
    "    print(\"Loading model...\")\n",
    "    @load joinpath(load_dir, \"model-$epoch.bson\") encoder_μ encoder_logvar decoder decoder_last\n",
    "    println(\"Done\")\n",
    "    return encoder_μ, encoder_logvar, decoder, decoder_last\n",
    "    \n",
    "end\n",
    "\n",
    "# setup\n",
    "# experiments with MNIST dataset\n",
    "x_dim = 784\n",
    "k = 20\n",
    "\n",
    "tolerance = 1e-7; max_iter = 6000; out_toggle = 0\n",
    "trials = 20\n",
    "opt = Flux.Optimise.ADAM(.1);\n",
    "\n",
    "# encoder_μ_inco, encoder_logvar_inco,  W1_inco, W2_inco, W3_inco, Q_inco = load_model_sep(\"trained_GNN/MNIST_identity_v4\", 25)\n",
    "B = randn(x_dim, 500)/sqrt(x_dim)\n",
    "_, _,  W1_co, W2_co, W3_co, Q_co = load_model_sep(\"trained_GNN/MNIST_v2\", 25)\n",
    "F = dct(diagm(ones(x_dim)),2);\n",
    "β_list, α_list = get_β_α(F, Q_co, B, 40);\n",
    "recovery_error_matrix = zeros(trials, 1 + length(β_list) )\n",
    "recon_error_matrix = zeros(trials, 1 + length(β_list) );\n",
    "\n",
    "m_list = 20:5:250"
   ]
  },
  {
   "cell_type": "code",
   "execution_count": 20,
   "metadata": {},
   "outputs": [
    {
     "data": {
      "text/plain": [
       "40-element Vector{Any}:\n",
       " 0.8445482325659159\n",
       " 0.848044153421601\n",
       " 0.8506720209481975\n",
       " 0.8532400489403633\n",
       " 0.8581772883649437\n",
       " 0.8605404358899876\n",
       " 0.8628312130330018\n",
       " 0.8671950946943356\n",
       " 0.8692696852856683\n",
       " 0.8732117531872204\n",
       " ⋮\n",
       " 0.9437516046463433\n",
       " 0.9469793580139525\n",
       " 0.9501691268008838\n",
       " 0.9532650366453342\n",
       " 0.9566809526263923\n",
       " 0.9598042448996026\n",
       " 0.962961716514791\n",
       " 0.966127924122652\n",
       " 0.9693886080426841"
      ]
     },
     "metadata": {},
     "output_type": "display_data"
    }
   ],
   "source": [
    "m_list = 20:5:250\n",
    "length(m_list)\n",
    "α_list"
   ]
  },
  {
   "cell_type": "code",
   "execution_count": 21,
   "metadata": {},
   "outputs": [],
   "source": [
    "phase_matrix_recovery = zeros(trials, length(m_list), length(β_list))\n",
    "phase_matrix_recon = zeros(trials, length(m_list), length(β_list))\n",
    "\n",
    "\n",
    "Threads.@threads for i in 1:length(m_list)\n",
    "    m = m_list[i]\n",
    "    recovery_error_matrix = zeros(trials)\n",
    "    recon_error_matrix = zeros(trials)\n",
    "    for β in β_list\n",
    "        recovery_error_list = []\n",
    "        recon_error_list = []\n",
    "        G = Chain(\n",
    "            Dense(20, 500, relu, bias = false; init =(out,in) ->  W1_co),\n",
    "            Dense(500, 500, relu, bias = false; init =(out,in) -> W2_co),\n",
    "            Dense(500, 784, identity, bias = false; init =(out,in) -> β * Q_co + (1-β)*B),\n",
    "        )      #setup the generative network \n",
    "\n",
    "        for trials in 1:trials\n",
    "            z = randn(k)\n",
    "            F_sub = sample_fourier(m, x_dim)  # subsampling DCT for measurement matrix\n",
    "            F_sub = F_sub * sqrt(x_dim)/sqrt(m) #normalization          \n",
    "            y = F_sub * G(z) # measurement vector using subsampled DCT matrix\n",
    "\n",
    "            z_est = randn(k) #initialization for algorithm\n",
    "            z_est = estimated_code(opt, G, y, F_sub, z_est; max_iter, tolerance, out_toggle)  # run a optimizer to solve the least squares problem\n",
    "\n",
    "            push!(recovery_error_list, relative_error(z, z_est))    \n",
    "            push!(recon_error_list, relative_error(G(z), G(z_est)))\n",
    "        end\n",
    "\n",
    "        recovery_error_matrix =  hcat(recovery_error_matrix, recovery_error_list)\n",
    "        recon_error_matrix = hcat(recon_error_matrix, recon_error_list)\n",
    "    end\n",
    "    phase_matrix_recovery[:, i, :] = recovery_error_matrix[:, 2:end]\n",
    "    phase_matrix_recon[:, i, :] = recon_error_matrix[:, 2:end]\n",
    "    println(\"Done with m = $m\")\n",
    "println(\"\")\n",
    "end\n",
    "\n"
   ]
  },
  {
   "cell_type": "code",
   "execution_count": null,
   "metadata": {},
   "outputs": [],
   "source": [
    "save(\"saved_data/Phase_plot_MNIST_paper_v2.jld\", \"phase_matrix_recovery\", phase_matrix_recovery, \"phase_matrix_recon\", phase_matrix_recon, \"α_list\", α_list, \"m_list\", m_list, \"trials\", trials)"
   ]
  },
  {
   "cell_type": "code",
   "execution_count": 13,
   "metadata": {},
   "outputs": [
    {
     "data": {
      "text/plain": [
       "22×11 Matrix{Float64}:\n",
       "  0.0   0.0   0.0   0.0   0.0   0.0   1.0   0.0   0.0   0.0   0.0\n",
       " 17.0  18.0  16.0  19.0  17.0  19.0  18.0  19.0  18.0  13.0   0.0\n",
       " 20.0  18.0  20.0  19.0  20.0  20.0  20.0  19.0  17.0  14.0   0.0\n",
       " 20.0  20.0  20.0  20.0  20.0  20.0  20.0  20.0  20.0  16.0   1.0\n",
       " 20.0  20.0  20.0  20.0  20.0  20.0  20.0  20.0  20.0  16.0   4.0\n",
       " 20.0  20.0  20.0  20.0  20.0  20.0  20.0  20.0  18.0  18.0   5.0\n",
       " 20.0  20.0  20.0  20.0  20.0  20.0  20.0  20.0  19.0  18.0   5.0\n",
       " 20.0  20.0  20.0  20.0  20.0  20.0  20.0  20.0  20.0  18.0   6.0\n",
       " 20.0  20.0  20.0  20.0  20.0  20.0  20.0  20.0  20.0  20.0   7.0\n",
       " 20.0  20.0  20.0  20.0  20.0  20.0  20.0  20.0  20.0  19.0   9.0\n",
       "  ⋮                             ⋮                             ⋮\n",
       " 20.0  20.0  20.0  20.0  20.0  20.0  20.0  20.0  20.0  19.0  13.0\n",
       " 20.0  20.0  20.0  20.0  20.0  20.0  20.0  20.0  20.0  20.0  15.0\n",
       " 20.0  20.0  20.0  20.0  20.0  20.0  20.0  20.0  20.0  20.0  11.0\n",
       " 20.0  20.0  20.0  20.0  20.0  20.0  20.0  20.0  20.0  20.0  17.0\n",
       " 20.0  20.0  20.0  20.0  20.0  20.0  20.0  20.0  20.0  20.0  13.0\n",
       " 20.0  20.0  20.0  20.0  20.0  20.0  20.0  20.0  20.0  20.0  19.0\n",
       " 20.0  20.0  20.0  20.0  20.0  20.0  20.0  20.0  20.0  20.0  15.0\n",
       " 20.0  20.0  20.0  20.0  20.0  20.0  20.0  20.0  20.0  20.0  15.0\n",
       " 20.0  20.0  20.0  20.0  20.0  20.0  20.0  20.0  20.0  20.0  16.0"
      ]
     },
     "metadata": {},
     "output_type": "display_data"
    }
   ],
   "source": [
    "M = zeros(size(phase_matrix_recovery[1,:,:]))\n",
    "for trial in 1:trials\n",
    "    M += (phase_matrix_recovery[trial,:,:] .< 1e-2)\n",
    "end\n"
   ]
  },
  {
   "cell_type": "code",
   "execution_count": 12,
   "metadata": {},
   "outputs": [],
   "source": [
    "M = zeros(size(phase_matrix_recovery[1,:,:]))\n",
    "for trial in 1:trials\n",
    "    M += (phase_matrix_recovery[trial,:,:] .< 1e-5)\n",
    "end\n",
    "p1 = plot(colorview(Gray, reverse(M/trials, dims = 1)), bg =:black, title = \"recovery of code z₀\", framestyle = :box)\n",
    "xticks = 1:5:length(α_list)\n",
    "xticks!(xticks, [\"$(round.(α_list, digits = 2)[i])\" for i in 1:5:length(α_list)])\n",
    "yticks = 2:5:length(m_list)\n",
    "yticks!(yticks, [\"$(m_list[length(m_list) + 1 - i])\" for i in 2:5:length(m_list)])\n",
    "\n",
    "\n",
    "M = zeros(size(phase_matrix_recon[1,:,:]))\n",
    "for trial in 1:trials\n",
    "    M += (phase_matrix_recovery[trial,:,:] .< 1e-5)\n",
    "end\n",
    "\n",
    "p2 = plot(colorview(Gray, reverse(M/trials, dims = 1)), bg =:black, title = \"recovery of signal G(z₀)\",framestyle = :box)\n",
    "xticks = 1:5:length(α_list)\n",
    "xticks!(xticks, [\"$(round.(α_list, digits = 2)[i])\" for i in 1:5:length(α_list)])\n",
    "yticks = 2:5:length(m_list)\n",
    "yticks!(yticks, [\"$(m_list[length(m_list) + 1 - i])\" for i in 2:5:length(m_list)])\n",
    "# plot!(1:length(α_list), ff.(m_pred), label =:false, linewidth = 2 )\n",
    "\n",
    "plot(p1, p2, layout = 2, xlabel = \"incoherence upper bound\", ylabel = \"number of measurements\")\n",
    "savefig(\"figures/Phase_MNIST_paper.pdf\")\n",
    "\n"
   ]
  },
  {
   "cell_type": "code",
   "execution_count": 95,
   "metadata": {},
   "outputs": [],
   "source": [
    "\n",
    "\n",
    "M = sum(phase_matrix_recovery,dims =1)[1,:,:]/20; M[M .>1] .= 1\n",
    "p1 = plot(colorview(Gray, reverse(M,dims=1)), framestyle = :box, bg =:black, title = \"recovery of code z₀\")\n",
    "xticks = 1:5:length(α_list)\n",
    "xticks!(xticks, [\"$(round.(α_list, digits = 2)[i])\" for i in 1:5:length(α_list)])\n",
    "yticks = 2:5:length(m_list)\n",
    "yticks!(yticks, [\"$(m_list[length(m_list) + 1 - i])\" for i in 2:5:length(m_list)])\n",
    "\n",
    "M = sum(phase_matrix_recon,dims =1)[1,:,:]/20; M[M .>1] .= 1\n",
    "p2 = plot(colorview(Gray, reverse(M,dims=1)), framestyle = :box, bg =:black, title = \"recovery of signal G(z₀)\")\n",
    "xticks = 1:5:length(α_list)\n",
    "xticks!(xticks, [\"$(round.(α_list, digits = 2)[i])\" for i in 1:5:length(α_list)])\n",
    "yticks = 2:5:length(m_list)\n",
    "yticks!(yticks, [\"$(m_list[length(m_list) + 1 - i])\" for i in 2:5:length(m_list)])\n",
    "\n",
    "plot(p1, p2, layout = 2,  bg =:white)\n",
    "savefig(\"figures/Phase_plot_Full_MNIST_error.pdf\")\n",
    "\n"
   ]
  },
  {
   "cell_type": "code",
   "execution_count": null,
   "metadata": {},
   "outputs": [],
   "source": []
  }
 ],
 "metadata": {
  "kernelspec": {
   "display_name": "Julia 1.7.3",
   "language": "julia",
   "name": "julia-1.7"
  },
  "language_info": {
   "file_extension": ".jl",
   "mimetype": "application/julia",
   "name": "julia",
   "version": "1.7.3"
  },
  "orig_nbformat": 4,
  "vscode": {
   "interpreter": {
    "hash": "aee8b7b246df8f9039afb4144a1f6fd8d2ca17a180786b69acc140d282b71a49"
   }
  }
 },
 "nbformat": 4,
 "nbformat_minor": 2
}
