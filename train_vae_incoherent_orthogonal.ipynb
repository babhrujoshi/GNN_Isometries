{
 "cells": [
  {
   "cell_type": "code",
   "execution_count": 1,
   "id": "87388d44",
   "metadata": {},
   "outputs": [],
   "source": [
    "using BSON: @save\n",
    "using BSON: @load\n",
    "using CSV\n",
    "using DataFrames: DataFrame\n",
    "using Flux\n",
    "using Flux: logitbinarycrossentropy, binarycrossentropy\n",
    "using Flux.Data: DataLoader\n",
    "using Flux: chunk\n",
    "using ImageFiltering\n",
    "using MLDatasets: FashionMNIST\n",
    "using ProgressMeter: Progress, next!\n",
    "using Random\n",
    "using Zygote\n",
    "using MLDatasets\n",
    "using Images\n",
    "using ImageIO\n",
    "using LinearAlgebra\n",
    "using FFTW"
   ]
  },
  {
   "cell_type": "code",
   "execution_count": 2,
   "id": "0efe9194",
   "metadata": {},
   "outputs": [],
   "source": [
    "# We define a reshape layer to use in our decoder\n",
    "struct Reshape\n",
    "    shape\n",
    "end\n",
    "Reshape(args...) = Reshape(args)\n",
    "(r::Reshape)(x) = reshape(x, r.shape)\n",
    "Flux.@functor Reshape ()"
   ]
  },
  {
   "cell_type": "code",
   "execution_count": 3,
   "id": "3fbf96e2",
   "metadata": {},
   "outputs": [
    {
     "data": {
      "text/plain": [
       "logit_BCE_shifted (generic function with 1 method)"
      ]
     },
     "metadata": {},
     "output_type": "display_data"
    }
   ],
   "source": [
    "function get_train_loader(batch_size, shuffle::Bool)\n",
    "    # The MNIST training set is made up of 60k 28 by 28 greyscale images\n",
    "    train_x, train_y = MNIST.traindata(Float32)\n",
    "    train_x = 1 .- reshape(train_x, (784, :))\n",
    "    return DataLoader((train_x, train_y), batchsize=batch_size, shuffle=shuffle, partial=false)\n",
    "end\n",
    "\n",
    "function save_model(encoder_μ, encoder_logvar, W1, W2, W3, Q, save_dir::String, epoch::Int)\n",
    "    print(\"Saving model...\")\n",
    "    let encoder_μ = cpu(encoder_μ), encoder_logvar = cpu(encoder_logvar), W1 = cpu(W1), W2 = cpu(W2), W3 = cpu(W3), Q = cpu(Q)\n",
    "        @save joinpath(save_dir, \"model-$epoch.bson\") encoder_μ encoder_logvar W1 W2 W3 Q\n",
    "    end\n",
    "    println(\"Done\")\n",
    "end\n",
    "\n",
    "function create_vae()\n",
    "    # Define the encoder and decoder networks\n",
    "    encoder_features = Chain(\n",
    "        Dense(784,500, relu),\n",
    "        Dense(500,500, relu)\n",
    "    )\n",
    "    encoder_μ = Chain(encoder_features, Dense(500, 20))\n",
    "    encoder_logvar = Chain(encoder_features, Dense(500, 20))\n",
    "\n",
    "    W1 = randn(500,20)\n",
    "    W2 = randn(500,500)\n",
    "    W3 = Matrix(I(500))\n",
    "    Q = randn(784,500)\n",
    "\n",
    "    return encoder_μ, encoder_logvar, W1, W2, W3, Q\n",
    "end\n",
    "\n",
    "function sig_shifted_v2(x)\n",
    "    M = 0.375261028309015\n",
    "    X = 0.624697168346519\n",
    "    α = X/0.5\n",
    "    sig(x) = exp(-x^2)*tanh(x)\n",
    "    return @.(sig(α*(x-.5))/(2M)  + 1/2)\n",
    "end\n",
    "\n",
    "function sig_shifted(x)\n",
    "    M = 1.04187855854289\n",
    "    X = 1.01570942991227\n",
    "    α = X/0.25\n",
    "    sig(x) = (exp(-x^2)+.99) * tanh(x)\n",
    "    return @.(sig(α*(x-.5))/(2M)  + 1/2)\n",
    "end\n",
    "\n",
    "function sig_shifted_v3(x)\n",
    "    M = 0.321140015957206\n",
    "    X = 0.58703932739034\n",
    "    α = X/0.5\n",
    "    sig(x) = (exp(-x^2) - .1)*tanh(x)\n",
    "    return @.(sig(α*(x-.5))/(2M)  + 1/2)\n",
    "end\n",
    "\n",
    "function BCE_own(x̂,x)\n",
    "    return sum( @.( -(1-x)*log(1 - (sigmoid(abs(1-x̂)) .- .5) * min((abs(x̂))^1.01, 1) + 1e-5)  - x*( log(1 - (sigmoid(abs(1-x̂)) .- .5)* min((abs(1-x̂))^1.01, 1)  + 1e-5) ) ) )/784\n",
    "end\n",
    "\n",
    "function BCE_own(x̂)\n",
    "    invgaus(x) =  @.(-exp(-(x)^2) +1)\n",
    "    return sum( @.( - log(1 - invgaus( max( abs(.5-x̂) -.5 , .5 ) -.5 ) + 1e-5)  ) )/size(x̂,2)\n",
    "end\n",
    "\n",
    "function  logit_BCE(x̂,x) \n",
    "    return sum(@.(- x * log( sigmoid(x̂) + 1e-5) - (1-x)* log( 1 - sigmoid(x̂) + 1e-5))) / size(x,2)\n",
    "end\n",
    "\n",
    "function  logit_BCE_shifted(x̂,x) \n",
    "    return sum(@.(- x * log( sig_shifted(x̂) + 1e-4) - (1-x)* log( 1 - sig_shifted(x̂) + 1e-4))) / size(x,2)\n",
    "end"
   ]
  },
  {
   "cell_type": "code",
   "execution_count": 4,
   "id": "e4fca59e",
   "metadata": {},
   "outputs": [
    {
     "data": {
      "text/plain": [
       "train (generic function with 1 method)"
      ]
     },
     "metadata": {},
     "output_type": "display_data"
    }
   ],
   "source": [
    "function vae_loss(encoder_μ, encoder_logvar, W1, W2, W3, Q, x, β, λ, F)\n",
    "    batch_size = size(x)[end]\n",
    "    @assert batch_size != 0\n",
    "\n",
    "    # Forward propagate through mean encoder and std encoders\n",
    "    μ = encoder_μ(x)\n",
    "    logvar = encoder_logvar(x)\n",
    "    # Apply reparameterisation trick to sample latent\n",
    "    z = μ + randn(Float32, size(logvar)) .* exp.(0.5f0 * logvar)\n",
    "    # Reconstruct from latent sample\n",
    "    x̂ = Q*relu(W2*relu(W1*z))\n",
    "\n",
    "    loss_α(F,A) = maximum(sqrt.(sum((F*A).*(F*A), dims = 2))) + 100*norm(A'*A - I(500),2)^2\n",
    "    α = loss_α(F, Q) \n",
    "\n",
    "    # Negative reconstruction loss Ε_q[logp_x_z]\n",
    "    logp_x_z = sum(logit_BCE.(x̂, x))\n",
    "    # loss_mse = sum(BCE_own.(x̂,x))\n",
    "\n",
    "    # KL(qᵩ(z|x)||p(z)) where p(z)=N(0,1) and qᵩ(z|x) models the encoder i.e. reverse KL\n",
    "    # The @. macro makes sure that all operates are elementwise\n",
    "    kl_q_p = 0.5f0 * sum(@. (exp(logvar) + μ^2 - logvar - 1f0)) \n",
    "    # Weight decay regularisation term\n",
    "    reg = λ * sum(x->sum(x.^2), Flux.params(encoder_μ, encoder_logvar, W1, W2, Q))\n",
    "    # We want to maximise the evidence lower bound (ELBO)\n",
    "    elbo = - β .* kl_q_p\n",
    "    # So we minimise the sum of the negative ELBO and a weight penalty\n",
    "    return -elbo + reg + logp_x_z + 10000*α# + loss_mse\n",
    "end\n",
    "\n",
    "\n",
    "function train(encoder_μ, encoder_logvar, W1, W2, W3, Q, dataloader, num_epochs, λ, β, optimiser, save_dir)\n",
    "    # The training loop for the model\n",
    "    trainable_params = Flux.params(encoder_μ, encoder_logvar, W1, W2, W3, Q)\n",
    "    progress_tracker = Progress(num_epochs, \"Training a epoch done\")\n",
    "    F = dct(diagm(ones(784)),2);\n",
    "\n",
    "    for epoch_num = 1:num_epochs\n",
    "        acc_loss = 0.0\n",
    "        loss = 0\n",
    "        for (x_batch, y_batch) in dataloader\n",
    "            # pullback function returns the result (loss) and a pullback operator (back)\n",
    "            loss, back = pullback(trainable_params) do\n",
    "                vae_loss(encoder_μ, encoder_logvar, W1, W2, W3, Q, x_batch, β, λ, F)\n",
    "            end\n",
    "            # Feed the pullback 1 to obtain the gradients and update then model parameters\n",
    "            gradients = back(1f0)\n",
    "            Flux.Optimise.update!(optimiser, trainable_params, gradients)\n",
    "            if isnan(loss)\n",
    "                break\n",
    "            end\n",
    "            acc_loss += loss\n",
    "        end\n",
    "        next!(progress_tracker; showvalues=[(:loss, loss)])\n",
    "        @assert length(dataloader) > 0\n",
    "        avg_loss = acc_loss / length(dataloader)\n",
    "        metrics = DataFrame(epoch=epoch_num, negative_elbo=avg_loss)\n",
    "        # println(metrics)\n",
    "        CSV.write(joinpath(save_dir, \"metrics.csv\"), metrics, header=(epoch_num==1), append=true)\n",
    "        save_model(encoder_μ, encoder_logvar, W1, W2, W3, Q, save_dir, epoch_num)\n",
    "    end\n",
    "    println(\"Training complete!\")\n",
    "end"
   ]
  },
  {
   "cell_type": "code",
   "execution_count": 5,
   "id": "339ecd6a",
   "metadata": {},
   "outputs": [
    {
     "name": "stderr",
     "output_type": "stream",
     "text": [
      "┌ Warning: MNIST.traindata() is deprecated, use `MNIST(split=:train)[:]` instead.\n",
      "└ @ MLDatasets /Users/babhru/.julia/packages/MLDatasets/Xb4Lh/src/datasets/vision/mnist.jl:187\n"
     ]
    },
    {
     "name": "stdout",
     "output_type": "stream",
     "text": [
      "Saving model...Done"
     ]
    },
    {
     "name": "stdout",
     "output_type": "stream",
     "text": [
      "\n"
     ]
    },
    {
     "name": "stderr",
     "output_type": "stream",
     "text": [
      "\r\u001b[32mTraining a epoch done   5%|█▌                            |  ETA: 1:48:27\u001b[39m"
     ]
    },
    {
     "name": "stderr",
     "output_type": "stream",
     "text": [
      "\u001b[K\r\n",
      "\u001b[34m  loss:  8.61727668768889e10\u001b[39m\u001b[K\r\u001b[A"
     ]
    },
    {
     "name": "stdout",
     "output_type": "stream",
     "text": [
      "Saving model...Done"
     ]
    },
    {
     "name": "stdout",
     "output_type": "stream",
     "text": [
      "\n"
     ]
    },
    {
     "name": "stderr",
     "output_type": "stream",
     "text": [
      "\n",
      "\r\u001b[K\u001b[A\r\u001b[32mTraining a epoch done   8%|██▎                           |  ETA: 1:40:42\u001b[39m\u001b[K\r\n",
      "\u001b[34m  loss:  9.901180599164487e7\u001b[39m\u001b[K\r\u001b[A"
     ]
    },
    {
     "name": "stdout",
     "output_type": "stream",
     "text": [
      "Saving model...Done\n"
     ]
    },
    {
     "name": "stderr",
     "output_type": "stream",
     "text": [
      "\n",
      "\r\u001b[K\u001b[A\r\u001b[32mTraining a epoch done  10%|███                           |  ETA: 1:35:23\u001b[39m\u001b[K\r\n",
      "\u001b[34m  loss:  19965.594266652974\u001b[39m\u001b[K\r\u001b[A"
     ]
    },
    {
     "name": "stdout",
     "output_type": "stream",
     "text": [
      "Saving model...Done\n"
     ]
    },
    {
     "name": "stderr",
     "output_type": "stream",
     "text": [
      "\n",
      "\r\u001b[K\u001b[A\r\u001b[32mTraining a epoch done  12%|███▊                          |  ETA: 1:31:15\u001b[39m\u001b[K\r\n",
      "\u001b[34m  loss:  19506.94679660102\u001b[39m\u001b[K\r\u001b[A"
     ]
    },
    {
     "name": "stdout",
     "output_type": "stream",
     "text": [
      "Saving model...Done\n"
     ]
    },
    {
     "name": "stderr",
     "output_type": "stream",
     "text": [
      "\n",
      "\r\u001b[K\u001b[A\r\u001b[32mTraining a epoch done  15%|████▌                         |  ETA: 1:27:36\u001b[39m\u001b[K\r\n",
      "\u001b[34m  loss:  19255.939391997315\u001b[39m\u001b[K\r\u001b[A"
     ]
    },
    {
     "name": "stdout",
     "output_type": "stream",
     "text": [
      "Saving model...Done\n"
     ]
    },
    {
     "name": "stderr",
     "output_type": "stream",
     "text": [
      "\n",
      "\r\u001b[K\u001b[A\r\u001b[32mTraining a epoch done  18%|█████▎                        |  ETA: 1:24:20\u001b[39m\u001b[K\r\n",
      "\u001b[34m  loss:  18733.341242965715\u001b[39m\u001b[K\r\u001b[A"
     ]
    },
    {
     "name": "stdout",
     "output_type": "stream",
     "text": [
      "Saving model...Done"
     ]
    },
    {
     "name": "stdout",
     "output_type": "stream",
     "text": [
      "\n"
     ]
    },
    {
     "name": "stderr",
     "output_type": "stream",
     "text": [
      "\n",
      "\r\u001b[K\u001b[A\r\u001b[32mTraining a epoch done  20%|██████                        |  ETA: 1:21:17\u001b[39m\u001b[K\r\n",
      "\u001b[34m  loss:  18726.326376813806\u001b[39m\u001b[K\r\u001b[A"
     ]
    },
    {
     "name": "stdout",
     "output_type": "stream",
     "text": [
      "Saving model...Done\n"
     ]
    },
    {
     "name": "stderr",
     "output_type": "stream",
     "text": [
      "\n",
      "\r\u001b[K\u001b[A\r\u001b[32mTraining a epoch done  22%|██████▊                       |  ETA: 1:18:27\u001b[39m\u001b[K\r\n",
      "\u001b[34m  loss:  18619.836740809675\u001b[39m\u001b[K\r\u001b[A"
     ]
    },
    {
     "name": "stdout",
     "output_type": "stream",
     "text": [
      "Saving model...Done\n"
     ]
    },
    {
     "name": "stderr",
     "output_type": "stream",
     "text": [
      "\n",
      "\r\u001b[K\u001b[A\r\u001b[32mTraining a epoch done  25%|███████▌                      |  ETA: 1:15:41\u001b[39m\u001b[K\r\n",
      "\u001b[34m  loss:  18196.190339733123\u001b[39m\u001b[K\r\u001b[A"
     ]
    },
    {
     "name": "stdout",
     "output_type": "stream",
     "text": [
      "Saving model...Done"
     ]
    },
    {
     "name": "stdout",
     "output_type": "stream",
     "text": [
      "\n"
     ]
    },
    {
     "name": "stderr",
     "output_type": "stream",
     "text": [
      "\n",
      "\r\u001b[K\u001b[A\r\u001b[32mTraining a epoch done  28%|████████▎                     |  ETA: 1:12:56\u001b[39m\u001b[K\r\n",
      "\u001b[34m  loss:  18017.424548056217\u001b[39m\u001b[K\r\u001b[A"
     ]
    },
    {
     "name": "stdout",
     "output_type": "stream",
     "text": [
      "Saving model...Done\n"
     ]
    },
    {
     "name": "stderr",
     "output_type": "stream",
     "text": [
      "\n",
      "\r\u001b[K\u001b[A\r\u001b[32mTraining a epoch done  30%|█████████                     |  ETA: 1:10:16\u001b[39m\u001b[K\r\n",
      "\u001b[34m  loss:  17996.013898239213\u001b[39m\u001b[K\r\u001b[A"
     ]
    },
    {
     "name": "stdout",
     "output_type": "stream",
     "text": [
      "Saving model...Done"
     ]
    },
    {
     "name": "stdout",
     "output_type": "stream",
     "text": [
      "\n"
     ]
    },
    {
     "name": "stderr",
     "output_type": "stream",
     "text": [
      "\n",
      "\r\u001b[K\u001b[A\r\u001b[32mTraining a epoch done  32%|█████████▊                    |  ETA: 1:07:39\u001b[39m\u001b[K\r\n",
      "\u001b[34m  loss:  18709.40085567987\u001b[39m\u001b[K\r\u001b[A"
     ]
    },
    {
     "name": "stdout",
     "output_type": "stream",
     "text": [
      "Saving model...Done\n"
     ]
    },
    {
     "name": "stderr",
     "output_type": "stream",
     "text": [
      "\n",
      "\r\u001b[K\u001b[A\r\u001b[32mTraining a epoch done  35%|██████████▌                   |  ETA: 1:05:02\u001b[39m\u001b[K\r\n",
      "\u001b[34m  loss:  18612.334981573906\u001b[39m\u001b[K\r\u001b[A"
     ]
    },
    {
     "name": "stdout",
     "output_type": "stream",
     "text": [
      "Saving model...Done\n"
     ]
    },
    {
     "name": "stderr",
     "output_type": "stream",
     "text": [
      "\n",
      "\r\u001b[K\u001b[A\r\u001b[32mTraining a epoch done  38%|███████████▎                  |  ETA: 1:02:28\u001b[39m\u001b[K\r\n",
      "\u001b[34m  loss:  18224.030957857663\u001b[39m\u001b[K\r\u001b[A"
     ]
    },
    {
     "name": "stdout",
     "output_type": "stream",
     "text": [
      "Saving model...Done\n"
     ]
    },
    {
     "name": "stderr",
     "output_type": "stream",
     "text": [
      "\n",
      "\r\u001b[K\u001b[A\r\u001b[32mTraining a epoch done  40%|████████████                  |  ETA: 0:59:54\u001b[39m\u001b[K\r\n",
      "\u001b[34m  loss:  17935.062740618952\u001b[39m\u001b[K\r\u001b[A"
     ]
    },
    {
     "name": "stdout",
     "output_type": "stream",
     "text": [
      "Saving model...Done"
     ]
    },
    {
     "name": "stdout",
     "output_type": "stream",
     "text": [
      "\n"
     ]
    },
    {
     "name": "stderr",
     "output_type": "stream",
     "text": [
      "\n",
      "\r\u001b[K\u001b[A\r\u001b[32mTraining a epoch done  42%|████████████▊                 |  ETA: 0:57:22\u001b[39m\u001b[K\r\n",
      "\u001b[34m  loss:  18172.616982760323\u001b[39m\u001b[K\r\u001b[A"
     ]
    },
    {
     "name": "stdout",
     "output_type": "stream",
     "text": [
      "Saving model...Done\n"
     ]
    },
    {
     "name": "stderr",
     "output_type": "stream",
     "text": [
      "\n",
      "\r\u001b[K\u001b[A\r\u001b[32mTraining a epoch done  45%|█████████████▌                |  ETA: 0:54:50\u001b[39m\u001b[K\r\n",
      "\u001b[34m  loss:  17978.94518537208\u001b[39m\u001b[K\r\u001b[A"
     ]
    },
    {
     "name": "stdout",
     "output_type": "stream",
     "text": [
      "Saving model...Done\n"
     ]
    },
    {
     "name": "stderr",
     "output_type": "stream",
     "text": [
      "\n",
      "\r\u001b[K\u001b[A\r\u001b[32mTraining a epoch done  48%|██████████████▎               |  ETA: 0:52:20\u001b[39m\u001b[K\r\n",
      "\u001b[34m  loss:  17866.115311042326\u001b[39m\u001b[K\r\u001b[A"
     ]
    },
    {
     "name": "stdout",
     "output_type": "stream",
     "text": [
      "Saving model...Done\n"
     ]
    },
    {
     "name": "stderr",
     "output_type": "stream",
     "text": [
      "\n",
      "\r\u001b[K\u001b[A\r\u001b[32mTraining a epoch done  50%|███████████████               |  ETA: 0:49:49\u001b[39m\u001b[K\r\n",
      "\u001b[34m  loss:  17867.501876596794\u001b[39m\u001b[K\r\u001b[A"
     ]
    },
    {
     "name": "stdout",
     "output_type": "stream",
     "text": [
      "Saving model...Done\n"
     ]
    },
    {
     "name": "stderr",
     "output_type": "stream",
     "text": [
      "\n",
      "\r\u001b[K\u001b[A\r\u001b[32mTraining a epoch done  52%|███████████████▊              |  ETA: 0:47:19\u001b[39m\u001b[K\r\n",
      "\u001b[34m  loss:  17802.903962064764\u001b[39m\u001b[K\r\u001b[A"
     ]
    },
    {
     "name": "stdout",
     "output_type": "stream",
     "text": [
      "Saving model...Done\n"
     ]
    },
    {
     "name": "stderr",
     "output_type": "stream",
     "text": [
      "\n",
      "\r\u001b[K\u001b[A\r\u001b[32mTraining a epoch done  55%|████████████████▌             |  ETA: 0:44:48\u001b[39m\u001b[K\r\n",
      "\u001b[34m  loss:  18234.896292629757\u001b[39m\u001b[K\r\u001b[A"
     ]
    },
    {
     "name": "stdout",
     "output_type": "stream",
     "text": [
      "Saving model...Done\n"
     ]
    },
    {
     "name": "stderr",
     "output_type": "stream",
     "text": [
      "\n",
      "\r\u001b[K\u001b[A\r\u001b[32mTraining a epoch done  58%|█████████████████▎            |  ETA: 0:42:19\u001b[39m\u001b[K\r\n",
      "\u001b[34m  loss:  17617.627544303716\u001b[39m\u001b[K\r\u001b[A"
     ]
    },
    {
     "name": "stdout",
     "output_type": "stream",
     "text": [
      "Saving model...Done\n"
     ]
    },
    {
     "name": "stderr",
     "output_type": "stream",
     "text": [
      "\n",
      "\r\u001b[K\u001b[A\r\u001b[32mTraining a epoch done  60%|██████████████████            |  ETA: 0:39:49\u001b[39m\u001b[K\r\n",
      "\u001b[34m  loss:  17889.70918226851\u001b[39m\u001b[K\r\u001b[A"
     ]
    },
    {
     "name": "stdout",
     "output_type": "stream",
     "text": [
      "Saving model...Done\n"
     ]
    },
    {
     "name": "stderr",
     "output_type": "stream",
     "text": [
      "\n",
      "\r\u001b[K\u001b[A\r\u001b[32mTraining a epoch done  62%|██████████████████▊           |  ETA: 0:37:20\u001b[39m\u001b[K\r\n",
      "\u001b[34m  loss:  17816.237378293434\u001b[39m\u001b[K\r\u001b[A"
     ]
    },
    {
     "ename": "InterruptException",
     "evalue": "InterruptException:",
     "output_type": "error",
     "traceback": [
      "InterruptException:\n",
      "\n",
      "Stacktrace:\n",
      "  [1] Array\n",
      "    @ ./boot.jl:459 [inlined]\n",
      "  [2] Array\n",
      "    @ ./boot.jl:467 [inlined]\n",
      "  [3] similar\n",
      "    @ ./array.jl:378 [inlined]\n",
      "  [4] *\n",
      "    @ /Applications/Julia-1.7.app/Contents/Resources/julia/share/julia/stdlib/v1.7/LinearAlgebra/src/matmul.jl:153 [inlined]\n",
      "  [5] rrule\n",
      "    @ ~/.julia/packages/ChainRules/CBSzG/src/rulesets/Base/arraymath.jl:40 [inlined]\n",
      "  [6] rrule\n",
      "    @ ~/.julia/packages/ChainRulesCore/16PWJ/src/rules.jl:134 [inlined]\n",
      "  [7] chain_rrule\n",
      "    @ ~/.julia/packages/Zygote/IoW2g/src/compiler/chainrules.jl:217 [inlined]\n",
      "  [8] macro expansion\n",
      "    @ ~/.julia/packages/Zygote/IoW2g/src/compiler/interface2.jl:0 [inlined]\n",
      "  [9] _pullback\n",
      "    @ ~/.julia/packages/Zygote/IoW2g/src/compiler/interface2.jl:9 [inlined]\n",
      " [10] _pullback\n",
      "    @ ~/Documents/GitHub/GNN_Isometries/train_vae_incoherent_orthogonal.ipynb:13 [inlined]\n",
      " [11] _pullback(::Zygote.Context, ::var\"#loss_α#16\", ::Matrix{Float64}, ::Matrix{Float64})\n",
      "    @ Zygote ~/.julia/packages/Zygote/IoW2g/src/compiler/interface2.jl:0\n",
      " [12] _pullback\n",
      "    @ ~/Documents/GitHub/GNN_Isometries/train_vae_incoherent_orthogonal.ipynb:14 [inlined]\n",
      " [13] _pullback(::Zygote.Context, ::typeof(vae_loss), ::Chain{Tuple{Chain{Tuple{Dense{typeof(relu), Matrix{Float32}, Vector{Float32}}, Dense{typeof(relu), Matrix{Float32}, Vector{Float32}}}}, Dense{typeof(identity), Matrix{Float32}, Vector{Float32}}}}, ::Chain{Tuple{Chain{Tuple{Dense{typeof(relu), Matrix{Float32}, Vector{Float32}}, Dense{typeof(relu), Matrix{Float32}, Vector{Float32}}}}, Dense{typeof(identity), Matrix{Float32}, Vector{Float32}}}}, ::Matrix{Float64}, ::Matrix{Float64}, ::Matrix{Bool}, ::Matrix{Float64}, ::Matrix{Float32}, ::Float32, ::Float32, ::Matrix{Float64})\n",
      "    @ Zygote ~/.julia/packages/Zygote/IoW2g/src/compiler/interface2.jl:0\n",
      " [14] _pullback\n",
      "    @ ~/Documents/GitHub/GNN_Isometries/train_vae_incoherent_orthogonal.ipynb:44 [inlined]\n",
      " [15] _pullback(::Zygote.Context, ::var\"#18#19\"{Chain{Tuple{Chain{Tuple{Dense{typeof(relu), Matrix{Float32}, Vector{Float32}}, Dense{typeof(relu), Matrix{Float32}, Vector{Float32}}}}, Dense{typeof(identity), Matrix{Float32}, Vector{Float32}}}}, Chain{Tuple{Chain{Tuple{Dense{typeof(relu), Matrix{Float32}, Vector{Float32}}, Dense{typeof(relu), Matrix{Float32}, Vector{Float32}}}}, Dense{typeof(identity), Matrix{Float32}, Vector{Float32}}}}, Matrix{Float64}, Matrix{Float64}, Matrix{Bool}, Matrix{Float64}, Float32, Float32, Matrix{Float64}, Matrix{Float32}})\n",
      "    @ Zygote ~/.julia/packages/Zygote/IoW2g/src/compiler/interface2.jl:0\n",
      " [16] pullback(f::Function, ps::Params{Zygote.Buffer{Any, Vector{Any}}})\n",
      "    @ Zygote ~/.julia/packages/Zygote/IoW2g/src/compiler/interface.jl:352\n",
      " [17] train(encoder_μ::Chain{Tuple{Chain{Tuple{Dense{typeof(relu), Matrix{Float32}, Vector{Float32}}, Dense{typeof(relu), Matrix{Float32}, Vector{Float32}}}}, Dense{typeof(identity), Matrix{Float32}, Vector{Float32}}}}, encoder_logvar::Chain{Tuple{Chain{Tuple{Dense{typeof(relu), Matrix{Float32}, Vector{Float32}}, Dense{typeof(relu), Matrix{Float32}, Vector{Float32}}}}, Dense{typeof(identity), Matrix{Float32}, Vector{Float32}}}}, W1::Matrix{Float64}, W2::Matrix{Float64}, W3::Matrix{Bool}, Q::Matrix{Float64}, dataloader::DataLoader{Tuple{Matrix{Float32}, Vector{Int64}}, Random._GLOBAL_RNG}, num_epochs::Int64, λ::Float32, β::Float32, optimiser::ADAM, save_dir::String)\n",
      "    @ Main ~/Documents/GitHub/GNN_Isometries/train_vae_incoherent_orthogonal.ipynb:43\n",
      " [18] eval\n",
      "    @ ./boot.jl:373 [inlined]\n",
      " [19] include_string(mapexpr::typeof(REPL.softscope), mod::Module, code::String, filename::String)\n",
      "    @ Base ./loading.jl:1196\n",
      " [20] #invokelatest#2\n",
      "    @ ./essentials.jl:716 [inlined]\n",
      " [21] invokelatest\n",
      "    @ ./essentials.jl:714 [inlined]\n",
      " [22] (::VSCodeServer.var\"#164#165\"{VSCodeServer.NotebookRunCellArguments, String})()\n",
      "    @ VSCodeServer ~/.vscode/extensions/julialang.language-julia-1.6.24/scripts/packages/VSCodeServer/src/serve_notebook.jl:19\n",
      " [23] withpath(f::VSCodeServer.var\"#164#165\"{VSCodeServer.NotebookRunCellArguments, String}, path::String)\n",
      "    @ VSCodeServer ~/.vscode/extensions/julialang.language-julia-1.6.24/scripts/packages/VSCodeServer/src/repl.jl:184\n",
      " [24] notebook_runcell_request(conn::VSCodeServer.JSONRPC.JSONRPCEndpoint{Base.PipeEndpoint, Base.PipeEndpoint}, params::VSCodeServer.NotebookRunCellArguments)\n",
      "    @ VSCodeServer ~/.vscode/extensions/julialang.language-julia-1.6.24/scripts/packages/VSCodeServer/src/serve_notebook.jl:13\n",
      " [25] dispatch_msg(x::VSCodeServer.JSONRPC.JSONRPCEndpoint{Base.PipeEndpoint, Base.PipeEndpoint}, dispatcher::VSCodeServer.JSONRPC.MsgDispatcher, msg::Dict{String, Any})\n",
      "    @ VSCodeServer.JSONRPC ~/.vscode/extensions/julialang.language-julia-1.6.24/scripts/packages/JSONRPC/src/typed.jl:67\n",
      " [26] serve_notebook(pipename::String, outputchannel_logger::Base.CoreLogging.SimpleLogger; crashreporting_pipename::String)\n",
      "    @ VSCodeServer ~/.vscode/extensions/julialang.language-julia-1.6.24/scripts/packages/VSCodeServer/src/serve_notebook.jl:136\n",
      " [27] top-level scope\n",
      "    @ ~/.vscode/extensions/julialang.language-julia-1.6.24/scripts/notebook/notebook.jl:32\n",
      " [28] include(mod::Module, _path::String)\n",
      "    @ Base ./Base.jl:418\n",
      " [29] exec_options(opts::Base.JLOptions)\n",
      "    @ Base ./client.jl:292\n",
      " [30] _start()\n",
      "    @ Base ./client.jl:495"
     ]
    }
   ],
   "source": [
    "batch_size = 64\n",
    "shuffle_data = true\n",
    "η = 0.001\n",
    "β = 1f0\n",
    "λ = 0.01f0\n",
    "num_epochs = 40\n",
    "\n",
    "save_dir = \"trained_GNN/MNIST_identity_v2\"\n",
    "# Define the model and create our data loader\n",
    "dataloader = get_train_loader(batch_size, shuffle_data)\n",
    "encoder_μ, encoder_logvar, W1, W2, W3, Q  = create_vae()\n",
    "train(encoder_μ, encoder_logvar, W1, W2, W3, Q, dataloader, num_epochs, λ, β, ADAM(η, (0.9,0.8)), save_dir)"
   ]
  },
  {
   "cell_type": "code",
   "execution_count": 6,
   "id": "26330dd6",
   "metadata": {},
   "outputs": [
    {
     "data": {
      "text/plain": [
       "visualise (generic function with 1 method)"
      ]
     },
     "metadata": {},
     "output_type": "display_data"
    }
   ],
   "source": [
    "function get_test_loader(batch_size, shuffle::Bool)\n",
    "    # The FashionMNIST test set is made up of 10k 28 by 28 greyscale images\n",
    "    test_x, test_y = MNIST.testdata(Float32)\n",
    "    test_x = 1 .- reshape(test_x, (784, :))\n",
    "    return DataLoader((test_x, test_y), batchsize=batch_size, shuffle=shuffle)\n",
    "end\n",
    "\n",
    "function save_to_images(x_batch, save_dir::String, prefix::String, num_images::Int64)\n",
    "    @assert num_images <= size(x_batch)[2]\n",
    "    for i=1:num_images\n",
    "        save(joinpath(save_dir, \"$prefix-$i.png\"), colorview(Gray, reshape(x_batch[:, i], 28,28)' ))\n",
    "    end\n",
    "end\n",
    "\n",
    "function reconstruct_images(encoder_μ, encoder_logvar, W1, W2, W3, Q, x)\n",
    "    # Forward propagate through mean encoder and std encoders\n",
    "    μ = encoder_μ(x)\n",
    "    logvar = encoder_logvar(x)\n",
    "    # Apply reparameterisation trick to sample latent\n",
    "    z = μ + randn(Float32, size(logvar)) .* exp.(0.5f0 * logvar)\n",
    "    # Reconstruct from latent sample\n",
    "    x̂ = Q*W3*relu(W2*relu(W1*z))\n",
    "    return clamp.(x̂, 0 ,1)\n",
    "end\n",
    "\n",
    "function load_model_identity(load_dir::String, epoch::Int)\n",
    "    print(\"Loading model...\")\n",
    "    @load joinpath(load_dir, \"model-$epoch.bson\") encoder_μ encoder_logvar W1 W2 W3 Q\n",
    "    println(\"Done\")\n",
    "    return encoder_μ, encoder_logvar, W1, W2, W3, Q\n",
    "end\n",
    "\n",
    "function visualise()\n",
    "    # Define some parameters\n",
    "    batch_size = 64\n",
    "    shuffle = true\n",
    "    num_images = 30\n",
    "    epoch_to_load = 20\n",
    "    # Load the model and test set loader\n",
    "    dir = \"trained_GNN/MNIST_identity_v2\"\n",
    "    encoder_μ, encoder_logvar, W1, W2, W3, Q = load_model_identity(dir, epoch_to_load)\n",
    "    dataloader = get_test_loader(batch_size, shuffle)\n",
    "    # Reconstruct and save some images\n",
    "    for (x_batch, y_batch) in dataloader\n",
    "        save_to_images(x_batch, dir, \"test-image\", num_images)\n",
    "        x̂_batch = reconstruct_images(encoder_μ, encoder_logvar, W1, W2, W3, Q, x_batch)\n",
    "        save_to_images(x̂_batch, dir, \"reconstruction\", num_images)\n",
    "        break\n",
    "    end\n",
    "end\n"
   ]
  },
  {
   "cell_type": "code",
   "execution_count": 23,
   "id": "6e1ad340",
   "metadata": {},
   "outputs": [
    {
     "data": {
      "text/plain": [
       "4×4 Matrix{Bool}:\n",
       " 1  0  0  0\n",
       " 0  1  0  0\n",
       " 0  0  1  0\n",
       " 0  0  0  1"
      ]
     },
     "metadata": {},
     "output_type": "display_data"
    }
   ],
   "source": [
    "Matrix(I(4))"
   ]
  },
  {
   "cell_type": "code",
   "execution_count": 7,
   "id": "eaf26eb4",
   "metadata": {},
   "outputs": [
    {
     "name": "stdout",
     "output_type": "stream",
     "text": [
      "Loading model...Done"
     ]
    },
    {
     "name": "stdout",
     "output_type": "stream",
     "text": [
      "\n"
     ]
    },
    {
     "name": "stderr",
     "output_type": "stream",
     "text": [
      "┌ Warning: MNIST.testdata() is deprecated, use `MNIST(split=:test)[:]` instead.\n",
      "└ @ MLDatasets /Users/babhru/.julia/packages/MLDatasets/Xb4Lh/src/datasets/vision/mnist.jl:195\n"
     ]
    }
   ],
   "source": [
    "visualise()\n"
   ]
  },
  {
   "cell_type": "code",
   "execution_count": 8,
   "id": "04c4dff8",
   "metadata": {},
   "outputs": [
    {
     "data": {
      "image/png": "[encoded data removed]",
      "text/html": [
       "<img src=\"data:image/png;base64,iVBORw0KGgoAAAANSUhEUgAAAHAAAABwCAAAAADji6uXAAAABGdBTUEAALGPC/xhBQAAAAFzUkdCAK7OHOkAAAAgY0hSTQAAeiYAAICEAAD6AAAAgOgAAHUwAADqYAAAOpgAABdwnLpRPAAAARFJREFUaAW9wbFJREEAANE5nCYO+zA4rEmwERMbMDTUJgQbEUsw8hsYHEb+3T3mPTdaEpOYxCQmMYlJTGISk5jEJCYxiUlMFn0CR2BjH4lJTGKy6MivA7DxP4lJTGKy4MA4iUlMYnIh7+wjMYlJTC7khn0kJjGJSUxiEpOYTLrj7J79JCYxicmkR84e2E9iEpOYTHhlnsQkJjGZ8MQ8iUlMYjLhhbMPxkhMYhKTRUfGSExiEpOYxCQmMRl0YI3EJCYxWXDNOIlJTGKy4JlxEpOYxGTAN3/dMk5iEpOYDLhincQkJjGJSUxiEpNJX8yRmMQkJgM24A04MU9iEpOYDDqxRmISk5jEJCYxiUlMYhKT2A+lzhELDvj92QAAAABJRU5ErkJg\">"
      ],
      "text/plain": [
       "28×28 Array{Gray{N0f8},2} with eltype Gray{N0f8}:\n",
       " Gray{N0f8}(1.0)  Gray{N0f8}(1.0)  …  Gray{N0f8}(1.0)  Gray{N0f8}(1.0)\n",
       " Gray{N0f8}(1.0)  Gray{N0f8}(1.0)     Gray{N0f8}(1.0)  Gray{N0f8}(1.0)\n",
       " Gray{N0f8}(1.0)  Gray{N0f8}(1.0)     Gray{N0f8}(1.0)  Gray{N0f8}(1.0)\n",
       " Gray{N0f8}(1.0)  Gray{N0f8}(1.0)     Gray{N0f8}(1.0)  Gray{N0f8}(1.0)\n",
       " Gray{N0f8}(1.0)  Gray{N0f8}(1.0)     Gray{N0f8}(1.0)  Gray{N0f8}(1.0)\n",
       " Gray{N0f8}(1.0)  Gray{N0f8}(1.0)  …  Gray{N0f8}(1.0)  Gray{N0f8}(1.0)\n",
       " Gray{N0f8}(1.0)  Gray{N0f8}(1.0)     Gray{N0f8}(1.0)  Gray{N0f8}(1.0)\n",
       " Gray{N0f8}(1.0)  Gray{N0f8}(1.0)     Gray{N0f8}(1.0)  Gray{N0f8}(1.0)\n",
       " Gray{N0f8}(1.0)  Gray{N0f8}(1.0)     Gray{N0f8}(1.0)  Gray{N0f8}(1.0)\n",
       " Gray{N0f8}(1.0)  Gray{N0f8}(1.0)     Gray{N0f8}(1.0)  Gray{N0f8}(1.0)\n",
       " ⋮                                 ⋱                   \n",
       " Gray{N0f8}(1.0)  Gray{N0f8}(1.0)     Gray{N0f8}(1.0)  Gray{N0f8}(1.0)\n",
       " Gray{N0f8}(1.0)  Gray{N0f8}(1.0)  …  Gray{N0f8}(1.0)  Gray{N0f8}(1.0)\n",
       " Gray{N0f8}(1.0)  Gray{N0f8}(1.0)     Gray{N0f8}(1.0)  Gray{N0f8}(1.0)\n",
       " Gray{N0f8}(1.0)  Gray{N0f8}(1.0)     Gray{N0f8}(1.0)  Gray{N0f8}(1.0)\n",
       " Gray{N0f8}(1.0)  Gray{N0f8}(1.0)     Gray{N0f8}(1.0)  Gray{N0f8}(1.0)\n",
       " Gray{N0f8}(1.0)  Gray{N0f8}(1.0)     Gray{N0f8}(1.0)  Gray{N0f8}(1.0)\n",
       " Gray{N0f8}(1.0)  Gray{N0f8}(1.0)  …  Gray{N0f8}(1.0)  Gray{N0f8}(1.0)\n",
       " Gray{N0f8}(1.0)  Gray{N0f8}(1.0)     Gray{N0f8}(1.0)  Gray{N0f8}(1.0)\n",
       " Gray{N0f8}(1.0)  Gray{N0f8}(1.0)     Gray{N0f8}(1.0)  Gray{N0f8}(1.0)"
      ]
     },
     "metadata": {},
     "output_type": "display_data"
    }
   ],
   "source": [
    "load(\"trained_GNN/MNIST_ortho/reconstruction-5.png\")"
   ]
  },
  {
   "cell_type": "code",
   "execution_count": 11,
   "id": "ecd198a2",
   "metadata": {},
   "outputs": [
    {
     "data": {
      "image/png": "[encoded data removed]",
      "text/html": [
       "<img src=\"data:image/png;base64,iVBORw0KGgoAAAANSUhEUgAAAHAAAABwCAAAAADji6uXAAAABGdBTUEAALGPC/xhBQAAAAFzUkdCAK7OHOkAAAAgY0hSTQAAeiYAAICEAAD6AAAAgOgAAHUwAADqYAAAOpgAABdwnLpRPAAAAgxJREFUaAW9wTGI1QUAB+Dv5Hc0pTd0Uw1NHiq4XCAWQkNIxCkuhWncLkXQ4iYOQQgNLhHRlFIIkYOICEajRCIEkY16FAhF0dDSkfAc/sPjoHfvnU9+35eRriiLsiiLsiiLsiiLGW3gNbyMfTiKVTsXZVEWZTGjdTzAA4MPsYav7UyURVmUxYwO4DZexa+4j6s4jS+waDZRFmVRFjM6g2M4godYw31cwfs4ZDZRFmVRFjM6iIMGK7iB17GBE/gJy6aLsiiLsnhCe3ESF/AHPsM500VZlEVZzOEdXDD4EZt4xvaiLMqiLOawH2/iG1zDBlZsL8qiLMpiTmdxHZu4hrO2F2VRFmUxp1UsYhM/mC7KoizK4ikYYYSR6aIsyqIs5nQXj7CAw6aLsiiLspjTt9g0OG66KIuyKIspbuJfY7dw1OAWrtrqHg6YLMqiLMpigg2s4w7+s9XnxkZYMHgLf+IFg2P4BR/hRYMoi7Ioiwk+xm0787PBEnZjCeexYCzKoizKYoJPscvgWTyPU/gbF42NsIJd+ADP4RUs+39RFmVRFhPswT8GS3gJ3+OmrS7hbSyaTZRFWZTFBN/hDfyF3/ClsQWcwiGs25koi7IoiwlW8Ts+wR18ZbCMc3jXk4myKIuymOI9g8uejiiLsiiLsiiLsiiLsiiLsiiLsiiLsiiLsiiLsiiLsiiLsih7DAncS1A0JH81AAAAAElFTkSuQmCC\">"
      ],
      "text/plain": [
       "28×28 Array{Gray{N0f8},2} with eltype Gray{N0f8}:\n",
       " Gray{N0f8}(1.0)  Gray{N0f8}(1.0)  …  Gray{N0f8}(1.0)  Gray{N0f8}(1.0)\n",
       " Gray{N0f8}(1.0)  Gray{N0f8}(1.0)     Gray{N0f8}(1.0)  Gray{N0f8}(1.0)\n",
       " Gray{N0f8}(1.0)  Gray{N0f8}(1.0)     Gray{N0f8}(1.0)  Gray{N0f8}(1.0)\n",
       " Gray{N0f8}(1.0)  Gray{N0f8}(1.0)     Gray{N0f8}(1.0)  Gray{N0f8}(1.0)\n",
       " Gray{N0f8}(1.0)  Gray{N0f8}(1.0)     Gray{N0f8}(1.0)  Gray{N0f8}(1.0)\n",
       " Gray{N0f8}(1.0)  Gray{N0f8}(1.0)  …  Gray{N0f8}(1.0)  Gray{N0f8}(1.0)\n",
       " Gray{N0f8}(1.0)  Gray{N0f8}(1.0)     Gray{N0f8}(1.0)  Gray{N0f8}(1.0)\n",
       " Gray{N0f8}(1.0)  Gray{N0f8}(1.0)     Gray{N0f8}(1.0)  Gray{N0f8}(1.0)\n",
       " Gray{N0f8}(1.0)  Gray{N0f8}(1.0)     Gray{N0f8}(1.0)  Gray{N0f8}(1.0)\n",
       " Gray{N0f8}(1.0)  Gray{N0f8}(1.0)     Gray{N0f8}(1.0)  Gray{N0f8}(1.0)\n",
       " ⋮                                 ⋱                   \n",
       " Gray{N0f8}(1.0)  Gray{N0f8}(1.0)     Gray{N0f8}(1.0)  Gray{N0f8}(1.0)\n",
       " Gray{N0f8}(1.0)  Gray{N0f8}(1.0)  …  Gray{N0f8}(1.0)  Gray{N0f8}(1.0)\n",
       " Gray{N0f8}(1.0)  Gray{N0f8}(1.0)     Gray{N0f8}(1.0)  Gray{N0f8}(1.0)\n",
       " Gray{N0f8}(1.0)  Gray{N0f8}(1.0)     Gray{N0f8}(1.0)  Gray{N0f8}(1.0)\n",
       " Gray{N0f8}(1.0)  Gray{N0f8}(1.0)     Gray{N0f8}(1.0)  Gray{N0f8}(1.0)\n",
       " Gray{N0f8}(1.0)  Gray{N0f8}(1.0)     Gray{N0f8}(1.0)  Gray{N0f8}(1.0)\n",
       " Gray{N0f8}(1.0)  Gray{N0f8}(1.0)  …  Gray{N0f8}(1.0)  Gray{N0f8}(1.0)\n",
       " Gray{N0f8}(1.0)  Gray{N0f8}(1.0)     Gray{N0f8}(1.0)  Gray{N0f8}(1.0)\n",
       " Gray{N0f8}(1.0)  Gray{N0f8}(1.0)     Gray{N0f8}(1.0)  Gray{N0f8}(1.0)"
      ]
     },
     "metadata": {},
     "output_type": "display_data"
    }
   ],
   "source": [
    "load(\"trained_GNN/MNIST_ortho/test-image-5.png\")"
   ]
  },
  {
   "cell_type": "code",
   "execution_count": 13,
   "id": "f0f22c1a",
   "metadata": {},
   "outputs": [
    {
     "name": "stdout",
     "output_type": "stream",
     "text": [
      "Loading model...Done\n"
     ]
    },
    {
     "data": {
      "image/png": "[encoded data removed]",
      "text/html": [
       "<img src=\"data:image/png;base64,iVBORw0KGgoAAAANSUhEUgAAAHAAAABwCAAAAADji6uXAAAABGdBTUEAALGPC/xhBQAAAAFzUkdCAK7OHOkAAAAgY0hSTQAAeiYAAICEAAD6AAAAgOgAAHUwAADqYAAAOpgAABdwnLpRPAAAAqZJREFUaAW9wV+k3gUcB+Dntc9FOZRko3KSSNvFNiaa7rJRmrVWcmRi56LUIpWxbGVNLbvIKov+XewQR9RxTtLf1dUau4o1UXbRYcsYi9gsitPFb/y8e3/vOW+p7/NkQa0oFsWiWBSLYlEsisUStmPKfyeKRbEoFkv4Gj2Np/AWZvCQfyeKRbEoFh2OYz16+p3CVsxq/YA1RhfFolgUiw7L0MNe7NP6yqA1+j2AOcNFsSgWxaLDBuzHHq27DHcRb2Mn5iwuikWxKBZXuIhpbNbvmOHG8JjRRLEoFsXiCmN4Qb/HLe5PXKt1GJO6RbEoFsWiwwn9pvGubvN4H49ipcak4aJYFIti0WEK27Uu4A9cpXUKN2IG4/gFK3ESZ3ERR3FQvygWxaJYdHjPoKtxAPdjFV7DNC7gPozjFfyGp7ED8ziGT3FAI4pFsSgWHY6hZ9AsfsKUfp9r3YIdGq/jDD7WimJRLIpFh/PoYUG/2zCFdfhet3mNl/Ejgk+wRSOKRbEoFh2ux4JBH2IjvrG0FzW2YotWFItiUSyG+AgPaz2HgziCnsWN47TGrH5RLIpFsRjiVqzHcVyHgxo9SzutNYfPsEkjikWxKBZDrMN3eBaH8Cp2W9wJrNW4HevwJO7AJo0oFsWiWFy2Auf0W4ZtOITdlrZW62e8iWn9olgUi2Jx2Tnd7tTagG8t7Xkcwc0GRbEoFsViBL9jAl8azWHcg78MimJRLIrFCK7BFxjDJSwY7hGsxS6cNyiKRbEolpNYbTTzmMF+nME7eAJ7sQ8LuBvTOIsbDIpiUSyKZbXRLceDmMRRXMIevIQJjV34ABN4A8uxTSuKRbEoFv/QCo2NGps1Vmncq/ErnjEoikWxKBb/k5t0i2JRLIpFsSgWxaJYFItiUSyK/Q1ST3CYmj+wgAAAAABJRU5ErkJg\">"
      ],
      "text/plain": [
       "28×28 reinterpret(reshape, Gray{Float64}, adjoint(::Matrix{Float64})) with eltype Gray{Float64}:\n",
       " Gray{Float64}(3.45828)   Gray{Float64}(2.76413)  …  Gray{Float64}(5.11602)\n",
       " Gray{Float64}(3.29946)   Gray{Float64}(1.71336)     Gray{Float64}(3.86695)\n",
       " Gray{Float64}(2.36645)   Gray{Float64}(2.28969)     Gray{Float64}(3.86331)\n",
       " Gray{Float64}(1.6259)    Gray{Float64}(4.43656)     Gray{Float64}(2.45377)\n",
       " Gray{Float64}(3.19702)   Gray{Float64}(3.79832)     Gray{Float64}(3.85962)\n",
       " Gray{Float64}(8.55036)   Gray{Float64}(2.21083)  …  Gray{Float64}(5.55573)\n",
       " Gray{Float64}(6.61285)   Gray{Float64}(2.18293)     Gray{Float64}(5.25589)\n",
       " Gray{Float64}(2.96425)   Gray{Float64}(1.76842)     Gray{Float64}(2.63343)\n",
       " Gray{Float64}(3.49855)   Gray{Float64}(2.72446)     Gray{Float64}(1.99001)\n",
       " Gray{Float64}(1.24127)   Gray{Float64}(2.67706)     Gray{Float64}(3.94926)\n",
       " ⋮                                                ⋱  \n",
       " Gray{Float64}(6.36039)   Gray{Float64}(5.791)       Gray{Float64}(1.99318)\n",
       " Gray{Float64}(2.03269)   Gray{Float64}(2.13422)  …  Gray{Float64}(4.07797)\n",
       " Gray{Float64}(1.29077)   Gray{Float64}(3.4813)      Gray{Float64}(4.8991)\n",
       " Gray{Float64}(0.822215)  Gray{Float64}(1.7281)      Gray{Float64}(7.75817)\n",
       " Gray{Float64}(2.27978)   Gray{Float64}(4.94321)     Gray{Float64}(2.72568)\n",
       " Gray{Float64}(15.3495)   Gray{Float64}(4.67701)     Gray{Float64}(1.74252)\n",
       " Gray{Float64}(1.92812)   Gray{Float64}(4.02369)  …  Gray{Float64}(1.97874)\n",
       " Gray{Float64}(6.91695)   Gray{Float64}(3.3678)      Gray{Float64}(3.80221)\n",
       " Gray{Float64}(3.00808)   Gray{Float64}(1.28683)     Gray{Float64}(2.08614)"
      ]
     },
     "metadata": {},
     "output_type": "display_data"
    }
   ],
   "source": [
    "function subspace_incoherence(F, A)\n",
    "    m, _ = size(A)\n",
    "    Q = Matrix(qr(A).Q)\n",
    "    temp = Q'*F'\n",
    "    return maximum(sqrt.(sum(temp.*temp, dims = 1)))\n",
    "\n",
    "end\n",
    "\n",
    "\n",
    "epoch_to_load = 20\n",
    "# Load the model and test set loader\n",
    "dir = \"trained_GNN/MNIST_identity_v4\"\n",
    "encoder_μ, encoder_logvar, W1, W2, W3, Q = load_model_identity(dir, epoch_to_load)\n",
    "\n",
    "colorview(Gray, reshape(Q*W3 *relu(W2*relu(W1*randn(20))), 28,28)' )\n",
    "# F = dct(diagm(ones(784)),2);\n",
    "# subspace_incoherence(F,Q)\n",
    "\n",
    "# _,s,_, =svd(W3);\n",
    "# s\n"
   ]
  },
  {
   "cell_type": "code",
   "execution_count": 17,
   "id": "1b5ffec5",
   "metadata": {},
   "outputs": [
    {
     "data": {
      "text/plain": [
       "0.9999546021312976"
      ]
     },
     "metadata": {},
     "output_type": "display_data"
    }
   ],
   "source": [
    "sigmoid(10)"
   ]
  },
  {
   "cell_type": "code",
   "execution_count": null,
   "id": "0b8a1b9e",
   "metadata": {},
   "outputs": [],
   "source": []
  }
 ],
 "metadata": {
  "kernelspec": {
   "display_name": "Julia 1.7.3",
   "language": "julia",
   "name": "julia-1.7"
  },
  "language_info": {
   "file_extension": ".jl",
   "mimetype": "application/julia",
   "name": "julia",
   "version": "1.7.3"
  }
 },
 "nbformat": 4,
 "nbformat_minor": 5
}
