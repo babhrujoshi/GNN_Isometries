{
 "cells": [
  {
   "cell_type": "code",
   "execution_count": 5,
   "id": "87388d44",
   "metadata": {},
   "outputs": [],
   "source": [
    "using BSON: @save\n",
    "using BSON: @load\n",
    "using CSV\n",
    "using DataFrames: DataFrame\n",
    "using Flux\n",
    "using Flux: logitbinarycrossentropy, binarycrossentropy\n",
    "using Flux.Data: DataLoader\n",
    "using Flux: chunk\n",
    "using ImageFiltering\n",
    "using MLDatasets: FashionMNIST\n",
    "using ProgressMeter: Progress, next!\n",
    "using Random\n",
    "using Zygote\n",
    "using MLDatasets\n",
    "using Images\n",
    "using ImageIO\n",
    "using LinearAlgebra\n",
    "using FFTW"
   ]
  },
  {
   "cell_type": "code",
   "execution_count": 6,
   "id": "0efe9194",
   "metadata": {},
   "outputs": [],
   "source": [
    "# We define a reshape layer to use in our decoder\n",
    "struct Reshape\n",
    "    shape\n",
    "end\n",
    "Reshape(args...) = Reshape(args)\n",
    "(r::Reshape)(x) = reshape(x, r.shape)\n",
    "Flux.@functor Reshape ()"
   ]
  },
  {
   "cell_type": "code",
   "execution_count": 7,
   "id": "3fbf96e2",
   "metadata": {},
   "outputs": [
    {
     "data": {
      "text/plain": [
       "create_vae (generic function with 1 method)"
      ]
     },
     "metadata": {},
     "output_type": "display_data"
    }
   ],
   "source": [
    "function get_train_loader(batch_size, shuffle::Bool)\n",
    "    # The MNIST training set is made up of 60k 28 by 28 greyscale images\n",
    "    train_x, train_y = MNIST.traindata(Float32)\n",
    "    train_x = 1 .- reshape(train_x, (784, :))\n",
    "    return DataLoader((train_x, train_y), batchsize=batch_size, shuffle=shuffle, partial=false)\n",
    "end\n",
    "\n",
    "function save_model(encoder_μ, encoder_logvar, decoder, decoder_last, save_dir::String, epoch::Int)\n",
    "    print(\"Saving model...\")\n",
    "    let encoder_μ = cpu(encoder_μ), encoder_logvar = cpu(encoder_logvar), decoder = cpu(decoder), decoder_last = cpu(decoder_last)\n",
    "        @save joinpath(save_dir, \"model-$epoch.bson\") encoder_μ encoder_logvar decoder decoder_last\n",
    "    end\n",
    "    println(\"Done\")\n",
    "end\n",
    "\n",
    "function create_vae()\n",
    "    # Define the encoder and decoder networks\n",
    "    encoder_features = Chain(\n",
    "        Dense(784,500, relu),\n",
    "        Dense(500,500, relu)\n",
    "    )\n",
    "    encoder_μ = Chain(encoder_features, Dense(500, 20))\n",
    "    encoder_logvar = Chain(encoder_features, Dense(500, 20))\n",
    "\n",
    "    decoder = Chain(\n",
    "        Dense(20, 500, relu, bias = false),\n",
    "        Dense(500, 500, relu, bias = false),\n",
    "    )\n",
    "\n",
    "    decoder_last = randn(784,500)\n",
    "\n",
    "    return encoder_μ, encoder_logvar, decoder, decoder_last\n",
    "end"
   ]
  },
  {
   "cell_type": "code",
   "execution_count": 8,
   "id": "e4fca59e",
   "metadata": {},
   "outputs": [
    {
     "data": {
      "text/plain": [
       "train (generic function with 1 method)"
      ]
     },
     "metadata": {},
     "output_type": "display_data"
    }
   ],
   "source": [
    "function vae_loss(encoder_μ, encoder_logvar, decoder, decoder_last, x, β, λ, F)\n",
    "    batch_size = size(x)[end]\n",
    "    @assert batch_size != 0\n",
    "\n",
    "    # Forward propagate through mean encoder and std encoders\n",
    "    μ = encoder_μ(x)\n",
    "    logvar = encoder_logvar(x)\n",
    "    # Apply reparameterisation trick to sample latent\n",
    "    z = μ + randn(Float32, size(logvar)) .* exp.(0.5f0 * logvar)\n",
    "    # Reconstruct from latent sample\n",
    "    x̂ = decoder_last * decoder(z)\n",
    "    \n",
    "    # Negative reconstruction loss Ε_q[logp_x_z]\n",
    "    logp_x_z = -sum(logitbinarycrossentropy.(x̂, x)) \n",
    "    # KL(qᵩ(z|x)||p(z)) where p(z)=N(0,1) and qᵩ(z|x) models the encoder i.e. reverse KL\n",
    "    # The @. macro makes sure that all operates are elementwise\n",
    "    kl_q_p = 0.5f0 * sum(@. (exp(logvar) + μ^2 - logvar - 1f0)) \n",
    "    # Weight decay regularisation term\n",
    "    reg = λ * sum(x->sum(x.^2), Flux.params(encoder_μ, encoder_logvar, decoder, decoder_last))\n",
    "    # We want to maximise the evidence lower bound (ELBO)\n",
    "    elbo = logp_x_z - β .* kl_q_p\n",
    "    # So we minimise the sum of the negative ELBO and a weight penalty\n",
    "    return -elbo + reg #+Flux.mse(x̂, x) \n",
    "end\n",
    "\n",
    "function train(encoder_μ, encoder_logvar, decoder, decoder_last, dataloader, num_epochs, λ, β, optimiser, save_dir)\n",
    "    # The training loop for the model\n",
    "    trainable_params = Flux.params(encoder_μ, encoder_logvar, decoder, decoder_last)\n",
    "    progress_tracker = Progress(num_epochs, \"Training a epoch done\")\n",
    "    F = dct(diagm(ones(784)),2);\n",
    "\n",
    "    for epoch_num = 1:num_epochs\n",
    "        acc_loss = 0.0\n",
    "        loss = 0\n",
    "        for (x_batch, y_batch) in dataloader\n",
    "            # pullback function returns the result (loss) and a pullback operator (back)\n",
    "            loss, back = pullback(trainable_params) do\n",
    "                vae_loss(encoder_μ, encoder_logvar, decoder, decoder_last, x_batch, β, λ, F)\n",
    "            end\n",
    "            # Feed the pullback 1 to obtain the gradients and update then model parameters\n",
    "            gradients = back(1f0)\n",
    "            Flux.Optimise.update!(optimiser, trainable_params, gradients)\n",
    "            if isnan(loss)\n",
    "                break\n",
    "            end\n",
    "            acc_loss += loss\n",
    "        end\n",
    "        next!(progress_tracker; showvalues=[(:loss, loss)])\n",
    "        @assert length(dataloader) > 0\n",
    "        avg_loss = acc_loss / length(dataloader)\n",
    "        metrics = DataFrame(epoch=epoch_num, negative_elbo=avg_loss)\n",
    "        # println(metrics)\n",
    "        CSV.write(joinpath(save_dir, \"metrics.csv\"), metrics, header=(epoch_num==1), append=true)\n",
    "        save_model(encoder_μ, encoder_logvar, decoder, decoder_last, save_dir, epoch_num)\n",
    "    end\n",
    "    println(\"Training complete!\")\n",
    "end"
   ]
  },
  {
   "cell_type": "code",
   "execution_count": 10,
   "id": "339ecd6a",
   "metadata": {},
   "outputs": [
    {
     "ename": "UndefVarError",
     "evalue": "UndefVarError: execute_msg not defined",
     "output_type": "error",
     "traceback": [
      "UndefVarError: execute_msg not defined\n",
      "\n",
      "Stacktrace:\n",
      "  [1] readprompt(prompt::String; password::Bool)\n",
      "    @ VSCodeServer.IJuliaCore c:\\Users\\Babhru\\.vscode\\extensions\\julialang.language-julia-1.6.24\\scripts\\packages\\IJuliaCore\\src\\stdio.jl:190\n",
      "  [2] readprompt\n",
      "    @ c:\\Users\\Babhru\\.vscode\\extensions\\julialang.language-julia-1.6.24\\scripts\\packages\\IJuliaCore\\src\\stdio.jl:190 [inlined]\n",
      "  [3] readline(io::VSCodeServer.IJuliaCore.IJuliaStdio{Base.PipeEndpoint, typeof(VSCodeServer.io_send_callback)})\n",
      "    @ VSCodeServer.IJuliaCore c:\\Users\\Babhru\\.vscode\\extensions\\julialang.language-julia-1.6.24\\scripts\\packages\\IJuliaCore\\src\\stdio.jl:232\n",
      "  [4] better_readline(stream::VSCodeServer.IJuliaCore.IJuliaStdio{Base.PipeEndpoint, typeof(VSCodeServer.io_send_callback)})\n",
      "    @ DataDeps C:\\Users\\Babhru\\.julia\\packages\\DataDeps\\jDkzU\\src\\util.jl:60\n",
      "  [5] better_readline()\n",
      "    @ DataDeps C:\\Users\\Babhru\\.julia\\packages\\DataDeps\\jDkzU\\src\\util.jl:55\n",
      "  [6] input_choice(::String, ::Char, ::Vararg{Char})\n",
      "    @ DataDeps C:\\Users\\Babhru\\.julia\\packages\\DataDeps\\jDkzU\\src\\util.jl:82\n",
      "  [7] input_bool\n",
      "    @ C:\\Users\\Babhru\\.julia\\packages\\DataDeps\\jDkzU\\src\\util.jl:70 [inlined]\n",
      "  [8] check_if_accept_terms(datadep::DataDeps.DataDep{String, Vector{String}, typeof(DataDeps.fetch_default), typeof(identity)}, localpath::String, remotepath::Vector{String})\n",
      "    @ DataDeps C:\\Users\\Babhru\\.julia\\packages\\DataDeps\\jDkzU\\src\\resolution_automatic.jl:180\n",
      "  [9] accept_terms\n",
      "    @ C:\\Users\\Babhru\\.julia\\packages\\DataDeps\\jDkzU\\src\\resolution_automatic.jl:163 [inlined]\n",
      " [10] download(datadep::DataDeps.DataDep{String, Vector{String}, typeof(DataDeps.fetch_default), typeof(identity)}, localdir::String; remotepath::Vector{String}, i_accept_the_terms_of_use::Nothing, skip_checksum::Bool)\n",
      "    @ DataDeps C:\\Users\\Babhru\\.julia\\packages\\DataDeps\\jDkzU\\src\\resolution_automatic.jl:72\n",
      " [11] download\n",
      "    @ C:\\Users\\Babhru\\.julia\\packages\\DataDeps\\jDkzU\\src\\resolution_automatic.jl:70 [inlined]\n",
      " [12] handle_missing\n",
      "    @ C:\\Users\\Babhru\\.julia\\packages\\DataDeps\\jDkzU\\src\\resolution_automatic.jl:10 [inlined]\n",
      " [13] _resolve\n",
      "    @ C:\\Users\\Babhru\\.julia\\packages\\DataDeps\\jDkzU\\src\\resolution.jl:83 [inlined]\n",
      " [14] resolve(datadep::DataDeps.DataDep{String, Vector{String}, typeof(DataDeps.fetch_default), typeof(identity)}, inner_filepath::String, calling_filepath::String)\n",
      "    @ DataDeps C:\\Users\\Babhru\\.julia\\packages\\DataDeps\\jDkzU\\src\\resolution.jl:29\n",
      " [15] resolve(datadep_name::String, inner_filepath::String, calling_filepath::String)\n",
      "    @ DataDeps C:\\Users\\Babhru\\.julia\\packages\\DataDeps\\jDkzU\\src\\resolution.jl:54\n",
      " [16] resolve\n",
      "    @ C:\\Users\\Babhru\\.julia\\packages\\DataDeps\\jDkzU\\src\\resolution.jl:73 [inlined]\n",
      " [17] #13\n",
      "    @ C:\\Users\\Babhru\\.julia\\packages\\MLDatasets\\Xb4Lh\\src\\download.jl:14 [inlined]\n",
      " [18] withenv(f::MLDatasets.var\"#13#14\"{String, Nothing}, keyvals::Pair{String, String})\n",
      "    @ Base .\\env.jl:172\n",
      " [19] with_accept\n",
      "    @ C:\\Users\\Babhru\\.julia\\packages\\MLDatasets\\Xb4Lh\\src\\download.jl:7 [inlined]\n",
      " [20] #datadir#12\n",
      "    @ C:\\Users\\Babhru\\.julia\\packages\\MLDatasets\\Xb4Lh\\src\\download.jl:11 [inlined]\n",
      " [21] datadir\n",
      "    @ C:\\Users\\Babhru\\.julia\\packages\\MLDatasets\\Xb4Lh\\src\\download.jl:11 [inlined]\n",
      " [22] datafile(depname::String, filename::String, dir::Nothing; recurse::Bool, kw::Base.Pairs{Symbol, Union{}, Tuple{}, NamedTuple{(), Tuple{}}})\n",
      "    @ MLDatasets C:\\Users\\Babhru\\.julia\\packages\\MLDatasets\\Xb4Lh\\src\\download.jl:29\n",
      " [23] datafile\n",
      "    @ C:\\Users\\Babhru\\.julia\\packages\\MLDatasets\\Xb4Lh\\src\\download.jl:29 [inlined]\n",
      " [24] MNIST(Tx::Type, split::Symbol; dir::Nothing)\n",
      "    @ MLDatasets C:\\Users\\Babhru\\.julia\\packages\\MLDatasets\\Xb4Lh\\src\\datasets\\vision\\mnist.jl:123\n",
      " [25] #MNIST#62\n",
      "    @ C:\\Users\\Babhru\\.julia\\packages\\MLDatasets\\Xb4Lh\\src\\datasets\\vision\\mnist.jl:109 [inlined]\n",
      " [26] (::MLDatasets.var\"#traindata#97\"{MLDatasets.var\"#traindata#76#98\"})(T::Type, i::Function; dir::Nothing)\n",
      "    @ MLDatasets C:\\Users\\Babhru\\.julia\\packages\\MLDatasets\\Xb4Lh\\src\\datasets\\vision\\mnist.jl:191\n",
      " [27] (::MLDatasets.var\"#traindata#97\"{MLDatasets.var\"#traindata#76#98\"})(T::Type, i::Function)\n",
      "    @ MLDatasets C:\\Users\\Babhru\\.julia\\packages\\MLDatasets\\Xb4Lh\\src\\datasets\\vision\\mnist.jl:191\n",
      " [28] (::MLDatasets.var\"#traindata#97\"{MLDatasets.var\"#traindata#76#98\"})(T::Type; kws::Base.Pairs{Symbol, Union{}, Tuple{}, NamedTuple{(), Tuple{}}})\n",
      "    @ MLDatasets C:\\Users\\Babhru\\.julia\\packages\\MLDatasets\\Xb4Lh\\src\\datasets\\vision\\mnist.jl:188\n",
      " [29] (::MLDatasets.var\"#traindata#97\"{MLDatasets.var\"#traindata#76#98\"})(T::Type)\n",
      "    @ MLDatasets C:\\Users\\Babhru\\.julia\\packages\\MLDatasets\\Xb4Lh\\src\\datasets\\vision\\mnist.jl:188\n",
      " [30] get_train_loader(batch_size::Int64, shuffle::Bool)\n",
      "    @ Main c:\\Users\\Babhru\\Documents\\GitHub\\GNN_Isometries\\train_vae_unenforced.ipynb:3\n",
      " [31] top-level scope\n",
      "    @ c:\\Users\\Babhru\\Documents\\GitHub\\GNN_Isometries\\train_vae_unenforced.ipynb:9\n",
      " [32] eval\n",
      "    @ .\\boot.jl:373 [inlined]\n",
      " [33] include_string(mapexpr::typeof(REPL.softscope), mod::Module, code::String, filename::String)\n",
      "    @ Base .\\loading.jl:1196\n",
      " [34] #invokelatest#2\n",
      "    @ .\\essentials.jl:716 [inlined]\n",
      " [35] invokelatest\n",
      "    @ .\\essentials.jl:714 [inlined]\n",
      " [36] (::VSCodeServer.var\"#164#165\"{VSCodeServer.NotebookRunCellArguments, String})()\n",
      "    @ VSCodeServer c:\\Users\\Babhru\\.vscode\\extensions\\julialang.language-julia-1.6.24\\scripts\\packages\\VSCodeServer\\src\\serve_notebook.jl:19\n",
      " [37] withpath(f::VSCodeServer.var\"#164#165\"{VSCodeServer.NotebookRunCellArguments, String}, path::String)\n",
      "    @ VSCodeServer c:\\Users\\Babhru\\.vscode\\extensions\\julialang.language-julia-1.6.24\\scripts\\packages\\VSCodeServer\\src\\repl.jl:184\n",
      " [38] notebook_runcell_request(conn::VSCodeServer.JSONRPC.JSONRPCEndpoint{Base.PipeEndpoint, Base.PipeEndpoint}, params::VSCodeServer.NotebookRunCellArguments)\n",
      "    @ VSCodeServer c:\\Users\\Babhru\\.vscode\\extensions\\julialang.language-julia-1.6.24\\scripts\\packages\\VSCodeServer\\src\\serve_notebook.jl:13\n",
      " [39] dispatch_msg(x::VSCodeServer.JSONRPC.JSONRPCEndpoint{Base.PipeEndpoint, Base.PipeEndpoint}, dispatcher::VSCodeServer.JSONRPC.MsgDispatcher, msg::Dict{String, Any})\n",
      "    @ VSCodeServer.JSONRPC c:\\Users\\Babhru\\.vscode\\extensions\\julialang.language-julia-1.6.24\\scripts\\packages\\JSONRPC\\src\\typed.jl:67\n",
      " [40] serve_notebook(pipename::String, outputchannel_logger::Base.CoreLogging.SimpleLogger; crashreporting_pipename::String)\n",
      "    @ VSCodeServer c:\\Users\\Babhru\\.vscode\\extensions\\julialang.language-julia-1.6.24\\scripts\\packages\\VSCodeServer\\src\\serve_notebook.jl:136\n",
      " [41] top-level scope\n",
      "    @ c:\\Users\\Babhru\\.vscode\\extensions\\julialang.language-julia-1.6.24\\scripts\\notebook\\notebook.jl:32\n",
      " [42] include(mod::Module, _path::String)\n",
      "    @ Base .\\Base.jl:418\n",
      " [43] exec_options(opts::Base.JLOptions)\n",
      "    @ Base .\\client.jl:292\n",
      " [44] _start()\n",
      "    @ Base .\\client.jl:495"
     ]
    }
   ],
   "source": [
    "batch_size = 64\n",
    "shuffle_data = true\n",
    "η = 0.001\n",
    "β = 1f0\n",
    "λ = 0.01f0\n",
    "num_epochs = 20\n",
    "save_dir = \"trained_GNN/MNIST_v2\"\n",
    "# Define the model and create our data loader\n",
    "dataloader = get_train_loader(batch_size, shuffle_data)\n",
    "encoder_μ, encoder_logvar, decoder, decoder_last = create_vae()\n",
    "train(encoder_μ, encoder_logvar, decoder, decoder_last, dataloader, num_epochs, λ, β, ADAM(η), save_dir)"
   ]
  },
  {
   "cell_type": "code",
   "execution_count": 43,
   "id": "26330dd6",
   "metadata": {},
   "outputs": [
    {
     "data": {
      "text/plain": [
       "visualise (generic function with 1 method)"
      ]
     },
     "metadata": {},
     "output_type": "display_data"
    }
   ],
   "source": [
    "function get_test_loader(batch_size, shuffle::Bool)\n",
    "    # The FashionMNIST test set is made up of 10k 28 by 28 greyscale images\n",
    "    test_x, test_y = MNIST.testdata(Float32)\n",
    "    test_x = 1 .- reshape(test_x, (784, :))\n",
    "    return DataLoader((test_x, test_y), batchsize=batch_size, shuffle=shuffle)\n",
    "end\n",
    "\n",
    "function save_to_images(x_batch, save_dir::String, prefix::String, num_images::Int64)\n",
    "    @assert num_images <= size(x_batch)[2]\n",
    "    for i=1:num_images\n",
    "        save(joinpath(save_dir, \"$prefix-$i.png\"), colorview(Gray, reshape(x_batch[:, i], 28,28)' ))\n",
    "    end\n",
    "end\n",
    "\n",
    "function reconstruct_images(encoder_μ, encoder_logvar, decoder, decoder_last, x)\n",
    "    # Forward propagate through mean encoder and std encoders\n",
    "    μ = encoder_μ(x)\n",
    "    logvar = encoder_logvar(x)\n",
    "    # Apply reparameterisation trick to sample latent\n",
    "    z = μ + randn(Float32, size(logvar)) .* exp.(0.5f0 * logvar)\n",
    "    # Reconstruct from latent sample\n",
    "    x̂ = decoder_last * decoder(z)\n",
    "    return clamp.(x̂, 0 ,1)\n",
    "end\n",
    "\n",
    "function load_model_identity(load_dir::String, epoch::Int)\n",
    "    print(\"Loading model...\")\n",
    "    @load joinpath(load_dir, \"model-$epoch.bson\") encoder_μ encoder_logvar decoder decoder_last\n",
    "    println(\"Done\")\n",
    "    return encoder_μ, encoder_logvar, decoder, decoder_last\n",
    "end\n",
    "\n",
    "function visualise()\n",
    "    # Define some parameters\n",
    "    batch_size = 64\n",
    "    shuffle = true\n",
    "    num_images = 30\n",
    "    epoch_to_load = 20\n",
    "    # Load the model and test set loader\n",
    "    dir = \"trained_GNN/MNIST_identity_v2\"\n",
    "    encoder_μ, encoder_logvar, decoder, decoder_last = load_model_identity(dir, epoch_to_load)\n",
    "    dataloader = get_test_loader(batch_size, shuffle)\n",
    "    # Reconstruct and save some images\n",
    "    for (x_batch, y_batch) in dataloader\n",
    "        save_to_images(x_batch, dir, \"test-image\", num_images)\n",
    "        x̂_batch = reconstruct_images(encoder_μ, encoder_logvar, decoder, decoder_last, x_batch)\n",
    "        save_to_images(x̂_batch, dir, \"reconstruction\", num_images)\n",
    "        break\n",
    "    end\n",
    "end\n"
   ]
  },
  {
   "cell_type": "code",
   "execution_count": 44,
   "id": "eaf26eb4",
   "metadata": {},
   "outputs": [
    {
     "name": "stdout",
     "output_type": "stream",
     "text": [
      "Loading model...Done\n"
     ]
    },
    {
     "name": "stderr",
     "output_type": "stream",
     "text": [
      "┌ Warning: MNIST.testdata() is deprecated, use `MNIST(split=:test)[:]` instead.\n",
      "└ @ MLDatasets /Users/babhru/.julia/packages/MLDatasets/Xb4Lh/src/datasets/vision/mnist.jl:195\n"
     ]
    }
   ],
   "source": [
    "visualise()"
   ]
  },
  {
   "cell_type": "code",
   "execution_count": 45,
   "id": "04c4dff8",
   "metadata": {},
   "outputs": [
    {
     "data": {
      "image/png": "[encoded data removed]",
      "text/html": [
       "<img src=\"data:image/png;base64,iVBORw0KGgoAAAANSUhEUgAAAHAAAABwCAAAAADji6uXAAAABGdBTUEAALGPC/xhBQAAAAFzUkdCAK7OHOkAAAAgY0hSTQAAeiYAAICEAAD6AAAAgOgAAHUwAADqYAAAOpgAABdwnLpRPAAAAW1JREFUaAW9wa2KlAEABdAzcKtg0H0RNWuwbRMsBlkXxGQUbVbBfQJXWNNWNdg2aBbtvoLY1CaMYcIwMLPz/cA9J0tdURZlURZlURZlURZlURZlURZlURZlURZlURZlURZlURZlURZ7vMc9XMNT/MVH/MArPDdOlEVZlMUOT/DG2i+8tOkFDvDIcFEWZVEWWzzGW8Mc4xhLw0RZlEVZbHGKU1zBHytHeGe+KIuyKItL/LbpzKaF8aIsyqIsZriLC+NEWZRFWcxwYbwoi7Ioi7Ioi7Ioi4kWNt3AN/tFWZRFWQz0BXfs9h0LPMA5lraLsiiLshhgYbhzl4uyKIuyKIuyKIuyGOArbtntNq7ig/2iLMqiLAa4iaW1Zzix9tlwURZlURYTvMaJlevGibIoi7KY6adxoizKoiwmODJdlEVZlMUEh3iIf8aLsiiLspjgvpVPxouyKIuymOHQeFEWZVEWZVEWZVEWZVEWZVH2H6PcJD/pDBxcAAAAAElFTkSuQmCC\">"
      ],
      "text/plain": [
       "28×28 Array{Gray{N0f8},2} with eltype Gray{N0f8}:\n",
       " Gray{N0f8}(1.0)  Gray{N0f8}(1.0)  …  Gray{N0f8}(1.0)  Gray{N0f8}(1.0)\n",
       " Gray{N0f8}(1.0)  Gray{N0f8}(1.0)     Gray{N0f8}(1.0)  Gray{N0f8}(1.0)\n",
       " Gray{N0f8}(1.0)  Gray{N0f8}(1.0)     Gray{N0f8}(1.0)  Gray{N0f8}(1.0)\n",
       " Gray{N0f8}(1.0)  Gray{N0f8}(1.0)     Gray{N0f8}(1.0)  Gray{N0f8}(1.0)\n",
       " Gray{N0f8}(1.0)  Gray{N0f8}(1.0)     Gray{N0f8}(1.0)  Gray{N0f8}(1.0)\n",
       " Gray{N0f8}(1.0)  Gray{N0f8}(1.0)  …  Gray{N0f8}(1.0)  Gray{N0f8}(1.0)\n",
       " Gray{N0f8}(1.0)  Gray{N0f8}(1.0)     Gray{N0f8}(1.0)  Gray{N0f8}(1.0)\n",
       " Gray{N0f8}(1.0)  Gray{N0f8}(1.0)     Gray{N0f8}(1.0)  Gray{N0f8}(1.0)\n",
       " Gray{N0f8}(1.0)  Gray{N0f8}(1.0)     Gray{N0f8}(1.0)  Gray{N0f8}(1.0)\n",
       " Gray{N0f8}(1.0)  Gray{N0f8}(1.0)     Gray{N0f8}(1.0)  Gray{N0f8}(1.0)\n",
       " ⋮                                 ⋱                   \n",
       " Gray{N0f8}(1.0)  Gray{N0f8}(1.0)     Gray{N0f8}(1.0)  Gray{N0f8}(1.0)\n",
       " Gray{N0f8}(1.0)  Gray{N0f8}(1.0)  …  Gray{N0f8}(1.0)  Gray{N0f8}(1.0)\n",
       " Gray{N0f8}(1.0)  Gray{N0f8}(1.0)     Gray{N0f8}(1.0)  Gray{N0f8}(1.0)\n",
       " Gray{N0f8}(1.0)  Gray{N0f8}(1.0)     Gray{N0f8}(1.0)  Gray{N0f8}(1.0)\n",
       " Gray{N0f8}(1.0)  Gray{N0f8}(1.0)     Gray{N0f8}(1.0)  Gray{N0f8}(1.0)\n",
       " Gray{N0f8}(1.0)  Gray{N0f8}(1.0)     Gray{N0f8}(1.0)  Gray{N0f8}(1.0)\n",
       " Gray{N0f8}(1.0)  Gray{N0f8}(1.0)  …  Gray{N0f8}(1.0)  Gray{N0f8}(1.0)\n",
       " Gray{N0f8}(1.0)  Gray{N0f8}(1.0)     Gray{N0f8}(1.0)  Gray{N0f8}(1.0)\n",
       " Gray{N0f8}(1.0)  Gray{N0f8}(1.0)     Gray{N0f8}(1.0)  Gray{N0f8}(1.0)"
      ]
     },
     "metadata": {},
     "output_type": "display_data"
    }
   ],
   "source": [
    "load(\"trained_GNN/MNIST_identity_v2/reconstruction-3.png\")"
   ]
  },
  {
   "cell_type": "code",
   "execution_count": 46,
   "id": "ecd198a2",
   "metadata": {},
   "outputs": [
    {
     "data": {
      "image/png": "[encoded data removed]",
      "text/html": [
       "<img src=\"data:image/png;base64,iVBORw0KGgoAAAANSUhEUgAAAHAAAABwCAAAAADji6uXAAAABGdBTUEAALGPC/xhBQAAAAFzUkdCAK7OHOkAAAAgY0hSTQAAeiYAAICEAAD6AAAAgOgAAHUwAADqYAAAOpgAABdwnLpRPAAAAclJREFUaAW9wS1vXQUABuDn3LyC9ENBxeQkxTQN6DqCQLEgCGH8hwpmJmeW/oBVV8xsswhEE0KCAV9LEU22hWRio4KkRRxxc9sl995DeJ8n17qiLMqiLMqiLMqiLMqiLMqiLMqiLMqiLMqiLMqiLMqiLMqiLJZ4hbc4tugIM6Nd/Ipty0VZlEVZ3HCBE5wZvcAlBotmGIzOcIlty0VZlEVZ3PAtfvF+H2Lf6BBHOLWeKIuyKIsbnuIEZ0afYgOfYQt3zc1waj1RFmVRFjfcwQOr+cP6oizKoiz+g59xjQ8wWE2URVmUxUT/4A0GfIINq4myKIuymOgv/Gi0i02ribIoi7L4Hz3D1xZFWZRFWUzwG16ae46fcI3B3GO3RVmURVks8Q4/4NiiK8yMLjFgCzv4Dt9jx21RFmVRFkuc4xyDRTMM2MKXOMS+5aIsyqIsltjFI3yOj41+x0Ojb/DE6qIsyqIsVrCHPXMX5r6yniiLsiiLCV6bLsqiLMpioivMrC/KoizKYqIZBhxjDztWE2VRFmUxwZ/m/saO1UVZlEVZTLBp7r71RFmURVlM8AWu8BHuWU+URVmUxQQHODBNlEVZlEVZlEVZlP0Lj3Mz/FaNmsYAAAAASUVORK5C\">"
      ],
      "text/plain": [
       "28×28 Array{Gray{N0f8},2} with eltype Gray{N0f8}:\n",
       " Gray{N0f8}(1.0)  Gray{N0f8}(1.0)  …  Gray{N0f8}(1.0)  Gray{N0f8}(1.0)\n",
       " Gray{N0f8}(1.0)  Gray{N0f8}(1.0)     Gray{N0f8}(1.0)  Gray{N0f8}(1.0)\n",
       " Gray{N0f8}(1.0)  Gray{N0f8}(1.0)     Gray{N0f8}(1.0)  Gray{N0f8}(1.0)\n",
       " Gray{N0f8}(1.0)  Gray{N0f8}(1.0)     Gray{N0f8}(1.0)  Gray{N0f8}(1.0)\n",
       " Gray{N0f8}(1.0)  Gray{N0f8}(1.0)     Gray{N0f8}(1.0)  Gray{N0f8}(1.0)\n",
       " Gray{N0f8}(1.0)  Gray{N0f8}(1.0)  …  Gray{N0f8}(1.0)  Gray{N0f8}(1.0)\n",
       " Gray{N0f8}(1.0)  Gray{N0f8}(1.0)     Gray{N0f8}(1.0)  Gray{N0f8}(1.0)\n",
       " Gray{N0f8}(1.0)  Gray{N0f8}(1.0)     Gray{N0f8}(1.0)  Gray{N0f8}(1.0)\n",
       " Gray{N0f8}(1.0)  Gray{N0f8}(1.0)     Gray{N0f8}(1.0)  Gray{N0f8}(1.0)\n",
       " Gray{N0f8}(1.0)  Gray{N0f8}(1.0)     Gray{N0f8}(1.0)  Gray{N0f8}(1.0)\n",
       " ⋮                                 ⋱                   \n",
       " Gray{N0f8}(1.0)  Gray{N0f8}(1.0)     Gray{N0f8}(1.0)  Gray{N0f8}(1.0)\n",
       " Gray{N0f8}(1.0)  Gray{N0f8}(1.0)  …  Gray{N0f8}(1.0)  Gray{N0f8}(1.0)\n",
       " Gray{N0f8}(1.0)  Gray{N0f8}(1.0)     Gray{N0f8}(1.0)  Gray{N0f8}(1.0)\n",
       " Gray{N0f8}(1.0)  Gray{N0f8}(1.0)     Gray{N0f8}(1.0)  Gray{N0f8}(1.0)\n",
       " Gray{N0f8}(1.0)  Gray{N0f8}(1.0)     Gray{N0f8}(1.0)  Gray{N0f8}(1.0)\n",
       " Gray{N0f8}(1.0)  Gray{N0f8}(1.0)     Gray{N0f8}(1.0)  Gray{N0f8}(1.0)\n",
       " Gray{N0f8}(1.0)  Gray{N0f8}(1.0)  …  Gray{N0f8}(1.0)  Gray{N0f8}(1.0)\n",
       " Gray{N0f8}(1.0)  Gray{N0f8}(1.0)     Gray{N0f8}(1.0)  Gray{N0f8}(1.0)\n",
       " Gray{N0f8}(1.0)  Gray{N0f8}(1.0)     Gray{N0f8}(1.0)  Gray{N0f8}(1.0)"
      ]
     },
     "metadata": {},
     "output_type": "display_data"
    }
   ],
   "source": [
    "load(\"trained_GNN/MNIST_identity_v2/test-image-3.png\")"
   ]
  },
  {
   "cell_type": "code",
   "execution_count": 37,
   "id": "f0f22c1a",
   "metadata": {},
   "outputs": [
    {
     "name": "stdout",
     "output_type": "stream",
     "text": [
      "All function imported\n",
      "Loading model...Done"
     ]
    },
    {
     "name": "stdout",
     "output_type": "stream",
     "text": [
      "\n"
     ]
    },
    {
     "data": {
      "image/png": "[encoded data removed]",
      "text/html": [
       "<img src=\"data:image/png;base64,iVBORw0KGgoAAAANSUhEUgAAAHAAAABwCAAAAADji6uXAAAABGdBTUEAALGPC/xhBQAAAAFzUkdCAK7OHOkAAAAgY0hSTQAAeiYAAICEAAD6AAAAgOgAAHUwAADqYAAAOpgAABdwnLpRPAAAAXFJREFUaAW9waFqlmEABtAzfaKXIRMFmUHQPpPZuGD1KrSYBcuybG1mB+KuwBvQsWISDTZBFPYb/vDxhW3f+w+ec7LSFWVRFmVRFmVRFmVRFmVRFmVRFmVRFmVRFmVRFmVRFmVRFmVxTWe4bbkoi7Ioiw1tWdvDgeWiLMqiLDawZXKIPziy9gFPXSzKoizKYtBzcw9xZO0U/1wuyqIsymLQO3OfTbax7XJRFmVRFgNumlsZF2VRFmUx4Nzkpc1EWZRFWWzolc1EWZRFWSx019wJdo2LsiiLslhoB19MnmBlXJRFWZTFQr/wAvsmX3HHmCiLsiiLhT7igbm/xkVZlEVZDPhu7r5xURZlURYLfMMb/DR3C4/xCK8tE2VRFmWxwBmOcQPnJr9xgreWi7Ioi7K4wnvs4NTF7lkuyqIsyuIKz6ytsIdP+GGyb0yURVmUxYBD1xdlURZlURZlURZlURZlURZlURZlURZlURZlURZl/wFleyfLhbb5cgAAAABJRU5ErkJg\">"
      ],
      "text/plain": [
       "28×28 reinterpret(reshape, Gray{Float64}, adjoint(::Matrix{Float64})) with eltype Gray{Float64}:\n",
       " Gray{Float64}(7.97024)  Gray{Float64}(9.66625)  …  Gray{Float64}(6.09977)\n",
       " Gray{Float64}(6.03016)  Gray{Float64}(12.4913)     Gray{Float64}(14.5204)\n",
       " Gray{Float64}(18.5836)  Gray{Float64}(7.42872)     Gray{Float64}(12.3172)\n",
       " Gray{Float64}(18.8343)  Gray{Float64}(9.51142)     Gray{Float64}(18.3731)\n",
       " Gray{Float64}(24.6898)  Gray{Float64}(26.798)      Gray{Float64}(17.1938)\n",
       " Gray{Float64}(14.8363)  Gray{Float64}(7.4841)   …  Gray{Float64}(6.95363)\n",
       " Gray{Float64}(14.2395)  Gray{Float64}(14.6427)     Gray{Float64}(48.7693)\n",
       " Gray{Float64}(9.87475)  Gray{Float64}(8.14349)     Gray{Float64}(12.5024)\n",
       " Gray{Float64}(9.84844)  Gray{Float64}(7.04586)     Gray{Float64}(5.38635)\n",
       " Gray{Float64}(14.8106)  Gray{Float64}(10.6178)     Gray{Float64}(11.6546)\n",
       " ⋮                                               ⋱  \n",
       " Gray{Float64}(15.3986)  Gray{Float64}(11.9143)     Gray{Float64}(17.291)\n",
       " Gray{Float64}(10.8705)  Gray{Float64}(22.6316)  …  Gray{Float64}(7.82126)\n",
       " Gray{Float64}(21.7392)  Gray{Float64}(7.3107)      Gray{Float64}(16.7937)\n",
       " Gray{Float64}(9.49469)  Gray{Float64}(13.0015)     Gray{Float64}(22.441)\n",
       " Gray{Float64}(13.9176)  Gray{Float64}(9.56759)     Gray{Float64}(33.3779)\n",
       " Gray{Float64}(10.5508)  Gray{Float64}(48.2353)     Gray{Float64}(8.68963)\n",
       " Gray{Float64}(11.7374)  Gray{Float64}(16.5881)  …  Gray{Float64}(25.0158)\n",
       " Gray{Float64}(13.9754)  Gray{Float64}(11.707)      Gray{Float64}(8.39421)\n",
       " Gray{Float64}(14.4328)  Gray{Float64}(12.5425)     Gray{Float64}(17.2724)"
      ]
     },
     "metadata": {},
     "output_type": "display_data"
    }
   ],
   "source": [
    "using NBInclude\n",
    "@nbinclude(\"functions.ipynb\")\n",
    "epoch_to_load = 20\n",
    "# Load the model and test set loader\n",
    "dir = \"trained_GNN/MNIST_identity_v2\"\n",
    "encoder_μ, encoder_logvar, decoder, decoder_last = load_model_identity(dir, epoch_to_load)\n",
    "colorview(Gray, reshape(decoder_last * decoder(randn(20)), 28,28)' )\n",
    "# F = dct(diagm(ones(784)),2);\n",
    "# subspace_incoherence(F,decoder_last)\n",
    "\n",
    "\n"
   ]
  },
  {
   "cell_type": "code",
   "execution_count": null,
   "id": "5d165fcf",
   "metadata": {},
   "outputs": [],
   "source": [
    "x_dim = 400\n",
    "k = 10\n",
    "F = dct(diagm(ones(x_dim)),2);\n",
    "A = sample_fourier(k,x_dim); A = A'\n",
    "print(A[1,1])\n",
    "function loss(F,A)\n",
    "    maximum(sqrt.(sum((A'*F').*(A'*F'), dims = 1))) + norm(A'*A - I(k),2)^2\n",
    "end\n",
    "θ = Flux.params(A)\n",
    "# gs = gradient(()->loss(F), θ)\n",
    "# Flux.Optimise.update!(opt, A, gs[A]);\n",
    "\n",
    "opt = Descent(.1)\n",
    "for i in 1:100\n",
    "    gs = gradient(()->loss(F,A), A)\n",
    "    Flux.Optimise.update!(opt, A, gs[A]);\n",
    "    # A = A + randn(400,10)*.5^i\n",
    "    # θ = Flux.params(A)\n",
    "\n",
    "end\n",
    "\n",
    "gs[A]\n"
   ]
  }
 ],
 "metadata": {
  "kernelspec": {
   "display_name": "Julia 1.7.3",
   "language": "julia",
   "name": "julia-1.7"
  },
  "language_info": {
   "file_extension": ".jl",
   "mimetype": "application/julia",
   "name": "julia",
   "version": "1.7.3"
  }
 },
 "nbformat": 4,
 "nbformat_minor": 5
}
