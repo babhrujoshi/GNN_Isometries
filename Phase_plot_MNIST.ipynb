{
 "cells": [
  {
   "cell_type": "code",
   "execution_count": 1,
   "metadata": {},
   "outputs": [
    {
     "name": "stdout",
     "output_type": "stream",
     "text": [
      "All function imported\n"
     ]
    },
    {
     "name": "stderr",
     "output_type": "stream",
     "text": [
      "WARNING: using JLD.@load in module Main conflicts with an existing identifier.\n"
     ]
    }
   ],
   "source": [
    "using NBInclude\n",
    "@nbinclude(\"functions.ipynb\")"
   ]
  },
  {
   "cell_type": "code",
   "execution_count": 14,
   "metadata": {},
   "outputs": [],
   "source": [
    "# setup\n",
    "# experiments with MNIST dataset\n",
    "\n",
    "x_dim = 400\n",
    "k = 20\n",
    "tolerance = 1e-7; max_iter = 4000; out_toggle = 0\n",
    "trials = 20\n",
    "n1 = 100\n",
    "opt = Flux.Optimise.ADAM(.1);\n",
    "m_list = 15:5:150\n",
    "\n",
    "A = sample_fourier(n1, x_dim); A = A' #sub-sampled DCT matrix used in convex combination\n",
    "B = randn(x_dim, n1)/sqrt(x_dim) #random matrix that is used in convex combination\n",
    "W1 = randn(n1,k)/sqrt(n1)\n",
    "\n",
    "z = randn(k) # ground code vector\n",
    "F = dct(diagm(ones(x_dim)),2);\n",
    "\n",
    "β_list, α_list = get_β_α(F, A, B, 21);"
   ]
  },
  {
   "cell_type": "code",
   "execution_count": null,
   "metadata": {},
   "outputs": [],
   "source": [
    "phase_matrix_recovery = zeros(trials, length(m_list), length(β_list))\n",
    "phase_matrix_recon = zeros(trials, length(m_list), length(β_list))\n",
    "\n",
    "Threads.@threads for i in 1:length(m_list)\n",
    "    m = m_list[i]\n",
    "    recovery_error_matrix = zeros(trials)\n",
    "    recon_error_matrix = zeros(trials)\n",
    "    for β in β_list\n",
    "        recovery_error_list = []\n",
    "        recon_error_list = []\n",
    "        G = Chain(\n",
    "            Dense(k, n1, relu, bias = false; init =(out,in) -> W1),\n",
    "            Dense(n1, x_dim, identity, bias = false; init =(out,in) -> β*A + (1-β) * B)\n",
    "        )    #setup the generative network \n",
    "\n",
    "        for trials in 1:trials\n",
    "            F_sub = sample_fourier(m, x_dim)  # subsampling DCT for measurement matrix\n",
    "            F_sub = F_sub * sqrt(x_dim)/sqrt(m) #normalization          \n",
    "            y = F_sub * G(z) # measurement vector using subsampled DCT matrix\n",
    "    \n",
    "            z_est = randn(k) #initialization for algorithm\n",
    "            z_est = estimated_code(opt, G, y, F_sub, z_est; max_iter, tolerance, out_toggle)  # run a optimizer to solve the least squares problem\n",
    "\n",
    "            push!(recovery_error_list, relative_error(z, z_est))    \n",
    "            push!(recon_error_list, relative_error(G(z), G(z_est)))\n",
    "        end\n",
    "\n",
    "        recovery_error_matrix =  hcat(recovery_error_matrix, recovery_error_list)\n",
    "        recon_error_matrix = hcat(recon_error_matrix, recon_error_list)\n",
    "    end\n",
    "    phase_matrix_recovery[:, i, :] = recovery_error_matrix[:, 2:end]\n",
    "    phase_matrix_recon[:, i, :] = recon_error_matrix[:, 2:end]\n",
    "    println(\"Done with m = $m\")\n",
    "    println(\"\")\n",
    "end"
   ]
  },
  {
   "cell_type": "code",
   "execution_count": 18,
   "metadata": {},
   "outputs": [],
   "source": [
    "save(\"saved_data/Phase_plot_random.jld\", \"phase_matrix_recovery\", phase_matrix_recovery, \"phase_matrix_recon\", phase_matrix_recon, \"α_list\", α_list, \"m_list\", m_list, \"trials\", trials)"
   ]
  },
  {
   "cell_type": "code",
   "execution_count": 31,
   "metadata": {},
   "outputs": [],
   "source": [
    "M = zeros(size(phase_matrix_recovery[1,:,:]))\n",
    "for trial in 1:trials\n",
    "    M += (phase_matrix_recovery[trial,:,:] .< 1e-5)\n",
    "end\n",
    "\n",
    "M = zeros(size(phase_matrix_recon[1,:,:]))\n",
    "for trial in 1:trials\n",
    "    M += (phase_matrix_recovery[trial,:,:] .< 1e-5)\n",
    "end\n",
    "\n",
    "p1 = plot(colorview(Gray, reverse(M/trials, dims = 1)), bg =:black, title = \"recovery of code z₀\", framestyle = :box)\n",
    "xticks = 1:5:length(α_list)\n",
    "xticks!(xticks, [\"$(round.(α_list, digits = 2)[i])\" for i in 1:5:length(α_list)])\n",
    "yticks = 1:6:length(m_list)\n",
    "yticks!(yticks, [\"$(m_list[length(m_list) + 1 - i])\" for i in 1:6:length(m_list)])\n",
    "\n",
    "# m_pred = 150*α_list.^2\n",
    "# ff(x) = -27/135 * x +(1 + 27*150/135)\n",
    "# plot!(1:length(α_list), ff.(m_pred), label =:false, linewidth = 2 )\n",
    "\n",
    "# m_pred = 150*α_list.^3\n",
    "# plot!(1:length(α_list), ff.(m_pred), label =:false, linewidth = 2 )\n",
    "\n",
    "p2 = plot(colorview(Gray, reverse(M/trials, dims = 1)), bg =:black, title = \"recovery of signal G(z₀)\",framestyle = :box)\n",
    "xticks = 1:5:length(α_list)\n",
    "xticks!(xticks, [\"$(round.(α_list, digits = 2)[i])\" for i in 1:5:length(α_list)])\n",
    "yticks = 1:6:length(m_list)\n",
    "yticks!(yticks, [\"$(m_list[length(m_list) + 1 - i])\" for i in 1:6:length(m_list)])\n",
    "\n",
    "plot(p1, p2, layout = 2, xlabel = \"incoherence upper bound\", ylabel = \"number of measurements\")\n",
    "savefig(\"figures/Phase_plot_random_percentage.pdf\")\n",
    "\n"
   ]
  },
  {
   "cell_type": "code",
   "execution_count": 33,
   "metadata": {},
   "outputs": [],
   "source": [
    "\n",
    "\n",
    "M = sum(phase_matrix_recovery,dims =1)[1,:,:]/20; M[M .>1] .= 1\n",
    "p1 = plot(colorview(Gray, reverse(M,dims=1)), framestyle = :box, bg =:black, title = \"recovery of code z₀\")\n",
    "xticks = 1:5:length(α_list)\n",
    "xticks!(xticks, [\"$(round.(α_list, digits = 2)[i])\" for i in 1:5:length(α_list)])\n",
    "yticks = 1:6:length(m_list)\n",
    "yticks!(yticks, [\"$(m_list[length(m_list) + 1 - i])\" for i in 1:6:length(m_list)])\n",
    "\n",
    "M = sum(phase_matrix_recon,dims =1)[1,:,:]/20; M[M .>1] .= 1\n",
    "p2 = plot(colorview(Gray, reverse(M,dims=1)), framestyle = :box, bg =:black, title = \"recovery of signal G(z₀)\")\n",
    "xticks = 1:5:length(α_list)\n",
    "xticks!(xticks, [\"$(round.(α_list, digits = 2)[i])\" for i in 1:5:length(α_list)])\n",
    "yticks = 1:6:length(m_list)\n",
    "yticks!(yticks, [\"$(m_list[length(m_list) + 1 - i])\" for i in 1:6:length(m_list)])\n",
    "\n",
    "plot(p1, p2, layout = 2,  bg =:white)\n",
    "savefig(\"figures/Phase_plot_random_error.pdf\")\n",
    "\n"
   ]
  },
  {
   "cell_type": "code",
   "execution_count": null,
   "metadata": {},
   "outputs": [],
   "source": []
  }
 ],
 "metadata": {
  "kernelspec": {
   "display_name": "Julia 1.7.3",
   "language": "julia",
   "name": "julia-1.7"
  },
  "language_info": {
   "file_extension": ".jl",
   "mimetype": "application/julia",
   "name": "julia",
   "version": "1.7.3"
  },
  "orig_nbformat": 4
 },
 "nbformat": 4,
 "nbformat_minor": 2
}
