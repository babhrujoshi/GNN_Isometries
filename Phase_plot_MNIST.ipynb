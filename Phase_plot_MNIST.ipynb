{
 "cells": [
  {
   "cell_type": "code",
   "execution_count": 1,
   "metadata": {},
   "outputs": [
    {
     "name": "stdout",
     "output_type": "stream",
     "text": [
      "All function imported\n"
     ]
    },
    {
     "name": "stderr",
     "output_type": "stream",
     "text": [
      "WARNING: using JLD.@load in module Main conflicts with an existing identifier.\n"
     ]
    }
   ],
   "source": [
    "using NBInclude\n",
    "@nbinclude(\"functions.ipynb\")"
   ]
  },
  {
   "cell_type": "code",
   "execution_count": 3,
   "metadata": {},
   "outputs": [
    {
     "name": "stdout",
     "output_type": "stream",
     "text": [
      "Loading model...Done\n"
     ]
    }
   ],
   "source": [
    "# experiments with MNIST dataset\n",
    "k = 20\n",
    "n1 = 100\n",
    "x_dim = 400\n",
    "trials = 20\n",
    "tolerance = 1e-7; max_iter = 2000; out_toggle = 0\n",
    "\n",
    "\n",
    "A = sample_fourier(n1, x_dim); A = A' #sub-sampled DCT matrix used in convex combination\n",
    "B = randn(x_dim, n1)/sqrt(x_dim) #random matrix that is used in convex combination\n",
    "\n",
    "epoch_to_load = 20 # Load the model and test set loader\n",
    "_, _, decoder = load_model(\"trained_GNN/MNIST\", epoch_to_load)\n",
    "W1 = Flux.params(decoder)[1][1:n1,:]\n",
    "_, s, _ = svd(W1)\n",
    "W1 = W1 / s[1]\n",
    "\n",
    "\n",
    "z = randn(k) # ground code vector\n",
    "\n",
    "β_list = 0:.005:1\n",
    "recovery_error_matrix = zeros(trials)\n",
    "recon_error_matrix = zeros(trials)\n",
    "\n",
    "α_list = []\n",
    "F = dct(diagm(ones(x_dim)),2)\n",
    "for β in β_list\n",
    "    push!(α_list, subspace_incoherence(F, β*A + (1-β) * B) )\n",
    "end"
   ]
  },
  {
   "cell_type": "code",
   "execution_count": 8,
   "metadata": {},
   "outputs": [
    {
     "data": {
      "text/plain": [
       "11-element Vector{Any}:\n",
       " 0.5947989534459752\n",
       " 0.6341617899869989\n",
       " 0.6747168092599839\n",
       " 0.7159869185472328\n",
       " 0.7565331389758632\n",
       " 0.7987293623472298\n",
       " 0.8369393628115629\n",
       " 0.8797661705424289\n",
       " 0.919277030979835\n",
       " 0.9602388166015151\n",
       " 1.0000000000000004"
      ]
     },
     "metadata": {},
     "output_type": "display_data"
    }
   ],
   "source": [
    "α_list_ideal = LinRange(α_list[1],α_list[end], 11)\n",
    "index_list = []\n",
    "for α_ideal in α_list_ideal\n",
    "    temp = 0\n",
    "    index = 0\n",
    "    for i in 1:length(α_list)\n",
    "        if abs(temp - α_ideal) > abs(α_list[i] - α_ideal)\n",
    "            temp = α_list[i]\n",
    "            index = i\n",
    "        end\n",
    "    end\n",
    "    push!(index_list, index)\n",
    "end\n",
    "α_list[index_list]"
   ]
  },
  {
   "cell_type": "code",
   "execution_count": null,
   "metadata": {},
   "outputs": [],
   "source": [
    "opt = Flux.Optimise.ADAM(.1)\n",
    "m_list = 15:5:150\n",
    "\n",
    "phase_matrix_recovery = zeros(trials, length(m_list), length(β_list))\n",
    "phase_matrix_recon = zeros(trials, length(m_list), length(β_list))\n",
    "\n",
    "for i in 1:length(m_list)\n",
    "    m = m_list[i]\n",
    "    recovery_error_matrix = zeros(trials)\n",
    "    recon_error_matrix = zeros(trials)\n",
    "    for β in β_list\n",
    "        recovery_error_list = []\n",
    "        recon_error_list = []\n",
    "        G = Chain(\n",
    "            Dense(20, n1, relu, bias = false; init =(out,in) -> W1),\n",
    "            Dense(n1, x_dim, I, bias = false; init =(out,in) -> β*A + (1-β) * B)\n",
    "        )    #setup the generative network \n",
    "\n",
    "        for trials in 1:trials\n",
    "            F_sub = sample_fourier(m, x_dim)  # subsampling DCT for measurement matrix\n",
    "            F_sub = F_sub * sqrt(x_dim)/sqrt(m) #normalization          \n",
    "            y = F_sub * G(z) # measurement vector using subsampled DCT matrix\n",
    "    \n",
    "            z_est = randn(k) #initialization for algorithm\n",
    "            z_est = estimated_code(opt, G, y, F_sub, z_est; max_iter, tolerance, out_toggle)  # run a optimizer to solve the least squares problem\n",
    "\n",
    "            push!(recovery_error_list, relative_error(z, z_est))    \n",
    "            push!(recon_error_list, relative_error(G(z), G(z_est)))\n",
    "        end\n",
    "\n",
    "        recovery_error_matrix =  hcat(recovery_error_matrix, recovery_error_list)\n",
    "        recon_error_matrix = hcat(recon_error_matrix, recon_error_list)\n",
    "    end\n",
    "    phase_matrix_recovery[:, i, :] = recovery_error_matrix[:, 2:end]\n",
    "    phase_matrix_recon[:, i, :] = recon_error_matrix[:, 2:end]\n",
    "end"
   ]
  },
  {
   "cell_type": "code",
   "execution_count": null,
   "metadata": {},
   "outputs": [],
   "source": [
    "save(\"saved_data/Phase_plot_MNIST.jld\", \"phase_matrix_recovery\", phase_matrix_recovery, \"phase_matrix_recon\", phase_matrix_recon, \"α_list\", α_list, \"m_list\", m_list, \"trials\", trials)"
   ]
  },
  {
   "cell_type": "code",
   "execution_count": null,
   "metadata": {},
   "outputs": [],
   "source": [
    "M = zeros(size(phase_matrix_recovery[1,:,:]))\n",
    "for trial in 1:trials\n",
    "    M += (phase_matrix_recovery[trial,:,:] .< 1e-5)\n",
    "end\n",
    "\n",
    "M = zeros(size(phase_matrix_recon[1,:,:]))\n",
    "for trial in 1:trials\n",
    "    M += (phase_matrix_recovery[trial,:,:] .< 1e-5)\n",
    "end\n",
    "\n",
    "p1 = plot(colorview(Gray, reverse(M/20, dims = 1)), bg =:black, title = \"recovery of code z₀\", framestyle = :box)\n",
    "xticks = 1:5:length(α_list)\n",
    "xticks!(xticks, [\"$(round.(α_list, digits = 2)[i])\" for i in 1:5:length(α_list)])\n",
    "yticks = 1:6:length(m_list)\n",
    "yticks!(yticks, [\"$(m_list[length(m_list) + 1 - i])\" for i in 1:6:length(m_list)])\n",
    "\n",
    "# m_pred = 150*α_list.^2\n",
    "# ff(x) = -27/135 * x +(1 + 27*150/135)\n",
    "# plot!(1:length(α_list), ff.(m_pred), label =:false, linewidth = 2 )\n",
    "\n",
    "# m_pred = 150*α_list.^3\n",
    "# plot!(1:length(α_list), ff.(m_pred), label =:false, linewidth = 2 )\n",
    "\n",
    "p2 = plot(colorview(Gray, reverse(M/20, dims = 1)), bg =:black, title = \"recovery of signal G(z₀)\",framestyle = :box)\n",
    "xticks = 1:5:length(α_list)\n",
    "xticks!(xticks, [\"$(round.(α_list, digits = 2)[i])\" for i in 1:5:length(α_list)])\n",
    "yticks = 1:6:length(m_list)\n",
    "yticks!(yticks, [\"$(m_list[length(m_list) + 1 - i])\" for i in 1:6:length(m_list)])\n",
    "\n",
    "plot(p1, p2, layout = 2, xlabel = \"incoherence upper bound\", ylabel = \"number of measurements\")\n",
    "savefig(\"figures/Phase_plot_MNIST_percentage.pdf\")"
   ]
  },
  {
   "cell_type": "code",
   "execution_count": null,
   "metadata": {},
   "outputs": [],
   "source": [
    "\n",
    "\n",
    "M = sum(phase_matrix_recovery,dims =1)[1,:,:]/20; M[M .>1] .= 1\n",
    "p1 = plot(colorview(Gray, reverse(M,dims=1)), framestyle = :box, bg =:black, title = \"recovery of code z₀\")\n",
    "xticks = 1:5:length(α_list)\n",
    "xticks!(xticks, [\"$(round.(α_list, digits = 2)[i])\" for i in 1:5:length(α_list)])\n",
    "yticks = 1:6:length(m_list)\n",
    "yticks!(yticks, [\"$(m_list[length(m_list) + 1 - i])\" for i in 1:6:length(m_list)])\n",
    "\n",
    "M = sum(phase_matrix_recon,dims =1)[1,:,:]/20; M[M .>1] .= 1\n",
    "p2 = plot(colorview(Gray, reverse(M,dims=1)), framestyle = :box, bg =:black, title = \"recovery of signal G(z₀)\")\n",
    "xticks = 1:5:length(α_list)\n",
    "xticks!(xticks, [\"$(round.(α_list, digits = 2)[i])\" for i in 1:5:length(α_list)])\n",
    "yticks = 1:6:length(m_list)\n",
    "yticks!(yticks, [\"$(m_list[length(m_list) + 1 - i])\" for i in 1:6:length(m_list)])\n",
    "\n",
    "plot(p1, p2, layout = 2,  bg =:white)\n",
    "savefig(\"figures/Phase_plot_MNIST_error.pdf\")\n",
    "\n"
   ]
  },
  {
   "cell_type": "code",
   "execution_count": 40,
   "metadata": {},
   "outputs": [
    {
     "data": {
      "text/plain": [
       "10×10 LinearAlgebra.QRPackedQ{Float64, Matrix{Float64}}:\n",
       " -0.0134974  -0.571548    0.0484511  …  -0.15539     0.0912901   0.33149\n",
       "  0.459321   -0.114382   -0.462345      -0.270878   -0.147602    0.218353\n",
       "  0.0175865  -0.17283    -0.121099       0.287659    0.453238   -0.306456\n",
       "  0.516655   -0.158915    0.569113      -0.209897    0.277787   -0.195627\n",
       "  0.277584    0.183464    0.101816       0.0903834  -0.616911    0.16387\n",
       " -0.627275   -0.0748755   0.223395   …  -0.0410973  -0.0866537   0.212373\n",
       "  0.047378    0.360251   -0.405886       0.209334    0.177225   -0.208252\n",
       "  0.180335   -0.284551    0.136329       0.842738   -0.160996    0.135108\n",
       "  0.101278    0.58988     0.411329       0.0567307   0.197894    0.288694\n",
       "  0.0777842   0.0845645  -0.180397       0.0925765   0.450234    0.702373"
      ]
     },
     "metadata": {},
     "output_type": "display_data"
    }
   ],
   "source": [
    "A = randn(10,5)\n",
    "F = qr(A, ColumnNorm())\n",
    "F.Q\n"
   ]
  },
  {
   "cell_type": "code",
   "execution_count": 42,
   "metadata": {},
   "outputs": [
    {
     "data": {
      "text/plain": [
       "10×5 Matrix{Float64}:\n",
       " -0.552422    0.147239   -0.444561   -0.0837547   0.0848972\n",
       " -0.218972   -0.419655   -0.392229    0.432773   -0.129348\n",
       " -0.172131    0.0234606  -0.152083    0.109451   -0.739701\n",
       " -0.275715   -0.464938    0.193073   -0.555623    0.0526722\n",
       "  0.113204   -0.312885    0.145646   -0.0906168  -0.498945\n",
       "  0.0744108   0.627331   -0.125392   -0.234008   -0.226611\n",
       "  0.339075   -0.130591   -0.264501    0.386238    0.255395\n",
       " -0.318923   -0.108528   -0.0814762  -0.143197    0.229957\n",
       "  0.549643   -0.23687    -0.505435   -0.452579   -0.0540545\n",
       "  0.0639505  -0.0954561   0.468098    0.217973   -0.0692931"
      ]
     },
     "metadata": {},
     "output_type": "display_data"
    }
   ],
   "source": [
    "A = sparse(A)\n",
    "F=qr(A)\n",
    "Matrix(F.Q)"
   ]
  },
  {
   "cell_type": "code",
   "execution_count": 34,
   "metadata": {},
   "outputs": [
    {
     "data": {
      "text/plain": [
       "QRPivoted{Float64, SparseMatrixCSC{Float64, Int64}}\n",
       "Q factor:\n",
       "10×10 LinearAlgebra.QRPackedQ{Float64, SparseMatrixCSC{Float64, Int64}}:\n",
       " -0.0861883   0.231239    -0.111709   …   0.551744   -0.388181    0.382036\n",
       "  0.269857   -0.25501      0.418821       0.194508   -0.512881    0.0581088\n",
       "  0.65146     0.351101    -0.199806      -0.331763   -0.162592    0.213799\n",
       " -0.24232     0.0615062    0.213434       0.0826129   0.388654   -0.0367233\n",
       " -0.379535    0.592851     0.245975      -0.261023   -0.0092495   0.420466\n",
       " -0.344163    0.00524294  -0.0676385  …   0.255113   -0.246755    0.0471776\n",
       " -0.0176224  -0.185994     0.465038      -0.0188625  -0.0800841  -0.0732275\n",
       "  0.358423    0.368133     0.0728693      0.62757     0.420531   -0.169717\n",
       " -0.0211613  -0.438297    -0.457911       0.115119    0.238584    0.539981\n",
       "  0.21192    -0.201802     0.479898      -0.0136148   0.328063    0.546673\n",
       "R factor:\n",
       "5×5 SparseMatrixCSC{Float64, Int64} with 15 stored entries:\n",
       " 3.42372   1.31991   0.90457    0.639715    0.538854\n",
       "  ⋅       -3.10625  -0.380943  -0.0785582  -1.41307\n",
       "  ⋅         ⋅       -2.97125    0.664642   -0.868807\n",
       "  ⋅         ⋅         ⋅         1.64137     0.907054\n",
       "  ⋅         ⋅         ⋅          ⋅          1.0402\n",
       "permutation:\n",
       "5-element Vector{Int64}:\n",
       " 3\n",
       " 4\n",
       " 2\n",
       " 1\n",
       " 5"
      ]
     },
     "metadata": {},
     "output_type": "display_data"
    }
   ],
   "source": [
    "qr(A, ColumnNorm())"
   ]
  },
  {
   "cell_type": "code",
   "execution_count": null,
   "metadata": {},
   "outputs": [],
   "source": []
  }
 ],
 "metadata": {
  "kernelspec": {
   "display_name": "Julia 1.7.3",
   "language": "julia",
   "name": "julia-1.7"
  },
  "language_info": {
   "file_extension": ".jl",
   "mimetype": "application/julia",
   "name": "julia",
   "version": "1.7.3"
  },
  "orig_nbformat": 4
 },
 "nbformat": 4,
 "nbformat_minor": 2
}
