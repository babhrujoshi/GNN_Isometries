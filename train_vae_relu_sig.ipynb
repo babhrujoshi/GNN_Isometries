{
 "cells": [
  {
   "cell_type": "code",
   "execution_count": 6,
   "id": "87388d44",
   "metadata": {},
   "outputs": [],
   "source": [
    "using BSON: @save\n",
    "using BSON: @load\n",
    "using CSV\n",
    "using DataFrames: DataFrame\n",
    "using Flux\n",
    "using Flux: logitbinarycrossentropy, binarycrossentropy\n",
    "using Flux.Data: DataLoader\n",
    "using Flux: chunk\n",
    "using ImageFiltering\n",
    "using MLDatasets: FashionMNIST\n",
    "using ProgressMeter: Progress, next!\n",
    "using Random\n",
    "using Zygote\n",
    "using MLDatasets\n",
    "using Images\n",
    "using ImageIO\n",
    "using LinearAlgebra\n",
    "using FFTW"
   ]
  },
  {
   "cell_type": "code",
   "execution_count": 2,
   "id": "0efe9194",
   "metadata": {},
   "outputs": [],
   "source": [
    "# We define a reshape layer to use in our decoder\n",
    "struct Reshape\n",
    "    shape\n",
    "end\n",
    "Reshape(args...) = Reshape(args)\n",
    "(r::Reshape)(x) = reshape(x, r.shape)\n",
    "Flux.@functor Reshape ()"
   ]
  },
  {
   "cell_type": "code",
   "execution_count": 3,
   "id": "3fbf96e2",
   "metadata": {},
   "outputs": [
    {
     "data": {
      "text/plain": [
       "create_vae (generic function with 1 method)"
      ]
     },
     "metadata": {},
     "output_type": "display_data"
    }
   ],
   "source": [
    "function get_train_loader(batch_size, shuffle::Bool)\n",
    "    # The MNIST training set is made up of 60k 28 by 28 greyscale images\n",
    "    train_x, train_y = MNIST.traindata(Float32)\n",
    "    train_x = 1 .- reshape(train_x, (784, :))\n",
    "    return DataLoader((train_x, train_y), batchsize=batch_size, shuffle=shuffle, partial=false)\n",
    "end\n",
    "\n",
    "function save_model(encoder_μ, encoder_logvar, decoder, decoder_last, save_dir::String, epoch::Int)\n",
    "    print(\"Saving model...\")\n",
    "    let encoder_μ = cpu(encoder_μ), encoder_logvar = cpu(encoder_logvar), decoder = cpu(decoder), decoder_last = cpu(decoder_last)\n",
    "        @save joinpath(save_dir, \"model-$epoch.bson\") encoder_μ encoder_logvar decoder decoder_last\n",
    "    end\n",
    "    println(\"Done\")\n",
    "end\n",
    "\n",
    "function create_vae()\n",
    "    # Define the encoder and decoder networks\n",
    "    encoder_features = Chain(\n",
    "        Dense(784,500, relu),\n",
    "        Dense(500,500, relu)\n",
    "    )\n",
    "    encoder_μ = Chain(encoder_features, Dense(500, 20))\n",
    "    encoder_logvar = Chain(encoder_features, Dense(500, 20))\n",
    "\n",
    "    decoder = Chain(\n",
    "        Dense(20, 500, relu, bias = false),\n",
    "        Dense(500, 500, relu, bias = false),\n",
    "    )\n",
    "\n",
    "    decoder_last = randn(784,500)\n",
    "\n",
    "    return encoder_μ, encoder_logvar, decoder, decoder_last\n",
    "end"
   ]
  },
  {
   "cell_type": "code",
   "execution_count": 83,
   "id": "e4fca59e",
   "metadata": {},
   "outputs": [
    {
     "data": {
      "text/plain": [
       "train (generic function with 1 method)"
      ]
     },
     "metadata": {},
     "output_type": "display_data"
    }
   ],
   "source": [
    "function vae_loss(encoder_μ, encoder_logvar, decoder, decoder_last, x, β, λ, F)\n",
    "    batch_size = size(x)[end]\n",
    "    @assert batch_size != 0\n",
    "\n",
    "    # Forward propagate through mean encoder and std encoders\n",
    "    μ = encoder_μ(x)\n",
    "    logvar = encoder_logvar(x)\n",
    "    # Apply reparameterisation trick to sample latent\n",
    "    z = μ + randn(Float32, size(logvar)) .* exp.(0.5f0 * logvar)\n",
    "    # Reconstruct from latent sample\n",
    "    x̂ = decoder_last * decoder(z)\n",
    "\n",
    "    loss_α(F,A) = maximum(sqrt.(sum((F*A).*(F*A), dims = 2))) + norm(A'*A - I(500),2)^2\n",
    "    α = loss_α(F,decoder_last)\n",
    "    \n",
    "    # Negative reconstruction loss Ε_q[logp_x_z]\n",
    "    logp_x_z = -sum(logitbinarycrossentropy.(x̂, x)) \n",
    "    # KL(qᵩ(z|x)||p(z)) where p(z)=N(0,1) and qᵩ(z|x) models the encoder i.e. reverse KL\n",
    "    # The @. macro makes sure that all operates are elementwise\n",
    "    kl_q_p = 0.5f0 * sum(@. (exp(logvar) + μ^2 - logvar - 1f0)) \n",
    "    # Weight decay regularisation term\n",
    "    reg = λ * sum(x->sum(x.^2), Flux.params(encoder_μ, encoder_logvar, decoder, decoder_last))\n",
    "    # We want to maximise the evidence lower bound (ELBO)\n",
    "    elbo = logp_x_z - β .* kl_q_p\n",
    "    # So we minimise the sum of the negative ELBO and a weight penalty\n",
    "    return -elbo + reg + 10000*α #+Flux.mse(x̂, x) \n",
    "end\n",
    "\n",
    "function train(encoder_μ, encoder_logvar, decoder, decoder_last, dataloader, num_epochs, λ, β, optimiser, save_dir)\n",
    "    # The training loop for the model\n",
    "    trainable_params = Flux.params(encoder_μ, encoder_logvar, decoder, decoder_last)\n",
    "    progress_tracker = Progress(num_epochs, \"Training a epoch done\")\n",
    "    F = dct(diagm(ones(784)),2);\n",
    "\n",
    "    for epoch_num = 2:num_epochs\n",
    "        acc_loss = 0.0\n",
    "        loss = 0\n",
    "        for (x_batch, y_batch) in dataloader\n",
    "            # pullback function returns the result (loss) and a pullback operator (back)\n",
    "            loss, back = pullback(trainable_params) do\n",
    "                vae_loss(encoder_μ, encoder_logvar, decoder, decoder_last, x_batch, β, λ, F)\n",
    "            end\n",
    "            # Feed the pullback 1 to obtain the gradients and update then model parameters\n",
    "            gradients = back(1f0)\n",
    "            Flux.Optimise.update!(optimiser, trainable_params, gradients)\n",
    "            if isnan(loss)\n",
    "                break\n",
    "            end\n",
    "            acc_loss += loss\n",
    "        end\n",
    "        next!(progress_tracker; showvalues=[(:loss, loss)])\n",
    "        println()\n",
    "        @assert length(dataloader) > 0\n",
    "        avg_loss = acc_loss / length(dataloader)\n",
    "        metrics = DataFrame(epoch=epoch_num, negative_elbo=avg_loss)\n",
    "        # println(metrics)\n",
    "        CSV.write(joinpath(save_dir, \"metrics.csv\"), metrics, header=(epoch_num==1), append=true)\n",
    "        save_model(encoder_μ, encoder_logvar, decoder, decoder_last, save_dir, epoch_num)\n",
    "    end\n",
    "    println(\"Training complete!\")\n",
    "end"
   ]
  },
  {
   "cell_type": "code",
   "execution_count": 84,
   "id": "339ecd6a",
   "metadata": {},
   "outputs": [
    {
     "name": "stderr",
     "output_type": "stream",
     "text": [
      "┌ Warning: MNIST.traindata() is deprecated, use `MNIST(split=:train)[:]` instead.\n",
      "└ @ MLDatasets /Users/babhru/.julia/packages/MLDatasets/Xb4Lh/src/datasets/vision/mnist.jl:187\n"
     ]
    },
    {
     "name": "stdout",
     "output_type": "stream",
     "text": [
      "\n",
      "Saving model...Done\n"
     ]
    },
    {
     "name": "stderr",
     "output_type": "stream",
     "text": [
      "\r\u001b[32mTraining a epoch done  10%|███                           |  ETA: 0:50:11\u001b[39m\u001b[K\r\n",
      "\u001b[34m  loss:  16693.751523282146\u001b[39m\u001b[K\r\u001b[A"
     ]
    },
    {
     "name": "stdout",
     "output_type": "stream",
     "text": [
      "\n",
      "Saving model...Done\n"
     ]
    },
    {
     "name": "stderr",
     "output_type": "stream",
     "text": [
      "\n",
      "\r\u001b[K\u001b[A\r\u001b[32mTraining a epoch done  15%|████▌                         |  ETA: 0:47:40\u001b[39m\u001b[K\r\n",
      "\u001b[34m  loss:  15718.397350973177\u001b[39m\u001b[K\r\u001b[A"
     ]
    },
    {
     "name": "stdout",
     "output_type": "stream",
     "text": [
      "\n",
      "Saving model..."
     ]
    },
    {
     "name": "stdout",
     "output_type": "stream",
     "text": [
      "Done\n"
     ]
    },
    {
     "name": "stderr",
     "output_type": "stream",
     "text": [
      "\n",
      "\r\u001b[K\u001b[A\r\u001b[32mTraining a epoch done  20%|██████                        |  ETA: 0:45:18\u001b[39m\u001b[K\r\n",
      "\u001b[34m  loss:  15863.050780700149\u001b[39m\u001b[K\r\u001b[A"
     ]
    },
    {
     "name": "stdout",
     "output_type": "stream",
     "text": [
      "\n",
      "Saving model...Done\n"
     ]
    },
    {
     "name": "stderr",
     "output_type": "stream",
     "text": [
      "\n",
      "\r\u001b[K\u001b[A\r\u001b[32mTraining a epoch done  25%|███████▌                      |  ETA: 0:42:49\u001b[39m\u001b[K\r\n",
      "\u001b[34m  loss:  15626.549795865296\u001b[39m\u001b[K\r\u001b[A"
     ]
    },
    {
     "name": "stdout",
     "output_type": "stream",
     "text": [
      "\n",
      "Saving model..."
     ]
    },
    {
     "name": "stdout",
     "output_type": "stream",
     "text": [
      "Done\n"
     ]
    },
    {
     "name": "stderr",
     "output_type": "stream",
     "text": [
      "\n",
      "\r\u001b[K\u001b[A\r\u001b[32mTraining a epoch done  30%|█████████                     |  ETA: 0:40:06\u001b[39m\u001b[K\r\n",
      "\u001b[34m  loss:  16119.071344261954\u001b[39m\u001b[K\r\u001b[A"
     ]
    },
    {
     "name": "stdout",
     "output_type": "stream",
     "text": [
      "\n",
      "Saving model...Done\n"
     ]
    },
    {
     "name": "stderr",
     "output_type": "stream",
     "text": [
      "\n",
      "\r\u001b[K\u001b[A\r\u001b[32mTraining a epoch done  35%|██████████▌                   |  ETA: 0:37:25\u001b[39m\u001b[K\r\n",
      "\u001b[34m  loss:  16530.786983712584\u001b[39m\u001b[K\r\u001b[A"
     ]
    },
    {
     "name": "stdout",
     "output_type": "stream",
     "text": [
      "\n",
      "Saving model...Done\n"
     ]
    },
    {
     "name": "stderr",
     "output_type": "stream",
     "text": [
      "\n",
      "\r\u001b[K\u001b[A\r\u001b[32mTraining a epoch done  40%|████████████                  |  ETA: 0:34:42\u001b[39m\u001b[K\r\n",
      "\u001b[34m  loss:  16943.706054016715\u001b[39m\u001b[K\r\u001b[A"
     ]
    },
    {
     "name": "stdout",
     "output_type": "stream",
     "text": [
      "\n",
      "Saving model...Done\n"
     ]
    },
    {
     "name": "stderr",
     "output_type": "stream",
     "text": [
      "\n",
      "\r\u001b[K\u001b[A\r\u001b[32mTraining a epoch done  45%|█████████████▌                |  ETA: 0:32:00\u001b[39m\u001b[K\r\n",
      "\u001b[34m  loss:  15808.090453585999\u001b[39m\u001b[K\r\u001b[A"
     ]
    },
    {
     "name": "stdout",
     "output_type": "stream",
     "text": [
      "\n",
      "Saving model...Done\n"
     ]
    },
    {
     "name": "stderr",
     "output_type": "stream",
     "text": [
      "\n",
      "\r\u001b[K\u001b[A\r\u001b[32mTraining a epoch done  50%|███████████████               |  ETA: 0:29:16\u001b[39m\u001b[K\r\n",
      "\u001b[34m  loss:  15916.298117150181\u001b[39m\u001b[K\r\u001b[A"
     ]
    },
    {
     "name": "stdout",
     "output_type": "stream",
     "text": [
      "\n",
      "Saving model...Done\n"
     ]
    },
    {
     "name": "stderr",
     "output_type": "stream",
     "text": [
      "\n",
      "\r\u001b[K\u001b[A\r\u001b[32mTraining a epoch done  55%|████████████████▌             |  ETA: 0:26:29\u001b[39m\u001b[K\r\n",
      "\u001b[34m  loss:  15805.105198434003\u001b[39m\u001b[K\r\u001b[A"
     ]
    },
    {
     "name": "stdout",
     "output_type": "stream",
     "text": [
      "\n",
      "Saving model...Done\n"
     ]
    },
    {
     "name": "stderr",
     "output_type": "stream",
     "text": [
      "\n",
      "\r\u001b[K\u001b[A\r\u001b[32mTraining a epoch done  60%|██████████████████            |  ETA: 0:23:34\u001b[39m\u001b[K\r\n",
      "\u001b[34m  loss:  16562.73598733274\u001b[39m\u001b[K\r\u001b[A"
     ]
    },
    {
     "name": "stdout",
     "output_type": "stream",
     "text": [
      "\n",
      "Saving model...Done\n"
     ]
    },
    {
     "name": "stderr",
     "output_type": "stream",
     "text": [
      "\n",
      "\r\u001b[K\u001b[A\r\u001b[32mTraining a epoch done  65%|███████████████████▌          |  ETA: 0:20:37\u001b[39m\u001b[K\r\n",
      "\u001b[34m  loss:  16386.79866283362\u001b[39m\u001b[K\r\u001b[A"
     ]
    },
    {
     "name": "stdout",
     "output_type": "stream",
     "text": [
      "\n",
      "Saving model...Done\n"
     ]
    },
    {
     "name": "stderr",
     "output_type": "stream",
     "text": [
      "\n",
      "\r\u001b[K\u001b[A\r\u001b[32mTraining a epoch done  70%|█████████████████████         |  ETA: 0:17:41\u001b[39m\u001b[K\r\n",
      "\u001b[34m  loss:  16328.295681099899\u001b[39m\u001b[K\r\u001b[A"
     ]
    }
   ],
   "source": [
    "batch_size = 64\n",
    "shuffle_data = true\n",
    "η = 0.001\n",
    "β = 1f0\n",
    "λ = 0.01f0\n",
    "num_epochs = 20\n",
    "save_dir = \"trained_GNN/MNIST_identity\"\n",
    "# Define the model and create our data loader\n",
    "dataloader = get_train_loader(batch_size, shuffle_data)\n",
    "# encoder_μ, encoder_logvar, decoder, decoder_last = create_vae()\n",
    "train(encoder_μ, encoder_logvar, decoder, decoder_last, dataloader, num_epochs, λ, β, ADAM(η), save_dir)"
   ]
  },
  {
   "cell_type": "code",
   "execution_count": 51,
   "id": "26330dd6",
   "metadata": {},
   "outputs": [
    {
     "data": {
      "text/plain": [
       "visualise (generic function with 1 method)"
      ]
     },
     "metadata": {},
     "output_type": "display_data"
    }
   ],
   "source": [
    "function get_test_loader(batch_size, shuffle::Bool)\n",
    "    # The FashionMNIST test set is made up of 10k 28 by 28 greyscale images\n",
    "    test_x, test_y = MNIST.testdata(Float32)\n",
    "    test_x = 1 .- reshape(test_x, (784, :))\n",
    "    return DataLoader((test_x, test_y), batchsize=batch_size, shuffle=shuffle)\n",
    "end\n",
    "\n",
    "function save_to_images(x_batch, save_dir::String, prefix::String, num_images::Int64)\n",
    "    @assert num_images <= size(x_batch)[2]\n",
    "    for i=1:num_images\n",
    "        save(joinpath(save_dir, \"$prefix-$i.png\"), colorview(Gray, reshape(x_batch[:, i], 28,28)' ))\n",
    "    end\n",
    "end\n",
    "\n",
    "function reconstruct_images(encoder_μ, encoder_logvar, decoder, decoder_last, x)\n",
    "    # Forward propagate through mean encoder and std encoders\n",
    "    μ = encoder_μ(x)\n",
    "    logvar = encoder_logvar(x)\n",
    "    # Apply reparameterisation trick to sample latent\n",
    "    z = μ + randn(Float32, size(logvar)) .* exp.(0.5f0 * logvar)\n",
    "    # Reconstruct from latent sample\n",
    "    x̂ = decoder_last * decoder(z)\n",
    "    return clamp.(x̂, 0 ,1)\n",
    "end\n",
    "\n",
    "function load_model(load_dir::String, epoch::Int)\n",
    "    print(\"Loading model...\")\n",
    "    @load joinpath(load_dir, \"model-$epoch.bson\") encoder_μ encoder_logvar decoder decoder_last\n",
    "    println(\"Done\")\n",
    "    return encoder_μ, encoder_logvar, decoder, decoder_last\n",
    "end\n",
    "\n",
    "function visualise()\n",
    "    # Define some parameters\n",
    "    batch_size = 64\n",
    "    shuffle = true\n",
    "    num_images = 30\n",
    "    epoch_to_load = 9\n",
    "    # Load the model and test set loader\n",
    "    dir = \"trained_GNN/MNIST_identity\"\n",
    "    encoder_μ, encoder_logvar, decoder, decoder_last = load_model(dir, epoch_to_load)\n",
    "    dataloader = get_test_loader(batch_size, shuffle)\n",
    "    # Reconstruct and save some images\n",
    "    for (x_batch, y_batch) in dataloader\n",
    "        save_to_images(x_batch, dir, \"test-image\", num_images)\n",
    "        x̂_batch = reconstruct_images(encoder_μ, encoder_logvar, decoder, decoder_last, x_batch)\n",
    "        save_to_images(x̂_batch, dir, \"reconstruction\", num_images)\n",
    "        break\n",
    "    end\n",
    "end\n"
   ]
  },
  {
   "cell_type": "code",
   "execution_count": 52,
   "id": "eaf26eb4",
   "metadata": {},
   "outputs": [
    {
     "name": "stdout",
     "output_type": "stream",
     "text": [
      "Loading model...Done\n"
     ]
    },
    {
     "name": "stderr",
     "output_type": "stream",
     "text": [
      "┌ Warning: MNIST.testdata() is deprecated, use `MNIST(split=:test)[:]` instead.\n",
      "└ @ MLDatasets /Users/babhru/.julia/packages/MLDatasets/Xb4Lh/src/datasets/vision/mnist.jl:195\n"
     ]
    }
   ],
   "source": [
    "visualise()"
   ]
  },
  {
   "cell_type": "code",
   "execution_count": 53,
   "id": "04c4dff8",
   "metadata": {},
   "outputs": [
    {
     "data": {
      "image/png": "[encoded data removed]",
      "text/html": [
       "<img src=\"data:image/png;base64,iVBORw0KGgoAAAANSUhEUgAAAHAAAABwCAAAAADji6uXAAAABGdBTUEAALGPC/xhBQAAAAFzUkdCAK7OHOkAAAAgY0hSTQAAeiYAAICEAAD6AAAAgOgAAHUwAADqYAAAOpgAABdwnLpRPAAAATpJREFUaAW9waFNGGEAQOF3zfOwQceoZAE0FnRNJ6irQtWRYAi+G9ShWKBbVLQLcBUVFxIC/91P3ve50pKYxCQmMYlJTGISk5jEJCYxiUlMYhKTmMQkJjGJSUxiEpOYxCQmO/wEboEfvGzlbRKTmMRkwMKYe+CS10lMYhKTd3TJ2yQmMYnJgD/AKfAF+M5zC/tITGISkwEnwMrrHhgjMYlJTCZ8ZfOXMRKTmMRkwjc254yRmMQkJgctbO4YJzGJSUzewRXjJCYxicmkT+wjMYlJTCY9so/EJCYxOWDhOIlJTGIyYWU/iUlMYrLTwhyJSUxissMN8yQmMYnJDp/ZrBwjMYlJTA644DiJSUxiMmhhc81xEpOYxGTAL577yHESk5jEZMBvYAU+ACtzJCYxicmAM/57Yp7EJCaxf+8sGCz/SY7AAAAAAElFTkSuQmCC\">"
      ],
      "text/plain": [
       "28×28 Array{Gray{N0f8},2} with eltype Gray{N0f8}:\n",
       " Gray{N0f8}(1.0)  Gray{N0f8}(1.0)  …  Gray{N0f8}(1.0)  Gray{N0f8}(1.0)\n",
       " Gray{N0f8}(1.0)  Gray{N0f8}(1.0)     Gray{N0f8}(1.0)  Gray{N0f8}(1.0)\n",
       " Gray{N0f8}(1.0)  Gray{N0f8}(1.0)     Gray{N0f8}(1.0)  Gray{N0f8}(1.0)\n",
       " Gray{N0f8}(1.0)  Gray{N0f8}(1.0)     Gray{N0f8}(1.0)  Gray{N0f8}(1.0)\n",
       " Gray{N0f8}(1.0)  Gray{N0f8}(1.0)     Gray{N0f8}(1.0)  Gray{N0f8}(1.0)\n",
       " Gray{N0f8}(1.0)  Gray{N0f8}(1.0)  …  Gray{N0f8}(1.0)  Gray{N0f8}(1.0)\n",
       " Gray{N0f8}(1.0)  Gray{N0f8}(1.0)     Gray{N0f8}(1.0)  Gray{N0f8}(1.0)\n",
       " Gray{N0f8}(1.0)  Gray{N0f8}(1.0)     Gray{N0f8}(1.0)  Gray{N0f8}(1.0)\n",
       " Gray{N0f8}(1.0)  Gray{N0f8}(1.0)     Gray{N0f8}(1.0)  Gray{N0f8}(1.0)\n",
       " Gray{N0f8}(1.0)  Gray{N0f8}(1.0)     Gray{N0f8}(1.0)  Gray{N0f8}(1.0)\n",
       " ⋮                                 ⋱                   \n",
       " Gray{N0f8}(1.0)  Gray{N0f8}(1.0)     Gray{N0f8}(1.0)  Gray{N0f8}(1.0)\n",
       " Gray{N0f8}(1.0)  Gray{N0f8}(1.0)  …  Gray{N0f8}(1.0)  Gray{N0f8}(1.0)\n",
       " Gray{N0f8}(1.0)  Gray{N0f8}(1.0)     Gray{N0f8}(1.0)  Gray{N0f8}(1.0)\n",
       " Gray{N0f8}(1.0)  Gray{N0f8}(1.0)     Gray{N0f8}(1.0)  Gray{N0f8}(1.0)\n",
       " Gray{N0f8}(1.0)  Gray{N0f8}(1.0)     Gray{N0f8}(1.0)  Gray{N0f8}(1.0)\n",
       " Gray{N0f8}(1.0)  Gray{N0f8}(1.0)     Gray{N0f8}(1.0)  Gray{N0f8}(1.0)\n",
       " Gray{N0f8}(1.0)  Gray{N0f8}(1.0)  …  Gray{N0f8}(1.0)  Gray{N0f8}(1.0)\n",
       " Gray{N0f8}(1.0)  Gray{N0f8}(1.0)     Gray{N0f8}(1.0)  Gray{N0f8}(1.0)\n",
       " Gray{N0f8}(1.0)  Gray{N0f8}(1.0)     Gray{N0f8}(1.0)  Gray{N0f8}(1.0)"
      ]
     },
     "metadata": {},
     "output_type": "display_data"
    }
   ],
   "source": [
    "load(\"trained_GNN/MNIST_identity/reconstruction-3.png\")"
   ]
  },
  {
   "cell_type": "code",
   "execution_count": 55,
   "id": "ecd198a2",
   "metadata": {},
   "outputs": [
    {
     "data": {
      "image/png": "[encoded data removed]",
      "text/html": [
       "<img src=\"data:image/png;base64,iVBORw0KGgoAAAANSUhEUgAAAHAAAABwCAAAAADji6uXAAAABGdBTUEAALGPC/xhBQAAAAFzUkdCAK7OHOkAAAAgY0hSTQAAeiYAAICEAAD6AAAAgOgAAHUwAADqYAAAOpgAABdwnLpRPAAAAZ9JREFUaAW9wSFrVQEABtAz+UCGY0mjsGBQMIiuaNUkghqMBn+AxbJgUUyKYpDVLZjUuDYMgqDJ4A+wzSLWKQxRww0GYe/d++A7J390RVmURVmURVmURVmURVmURVmURVmURVmURVmURVmURVmURVmURVmURVnM4Rd+4hiO4AC7eIsXBifxDmsOF2VRFmUxw2c8wA5uYxWf8BFLWDLYwx7WHC7KoizKYoan2DF46Z8lnMMt3Mcyls0WZVEWZTHDc5zFG4N1XEFwA08MruKC2aIsyqIsZjiODWz432dsGtwxnyiLsiiLBWzhK1ZxwnyiLMqiLCb6gVdYwTYumE+URVmUxUSb+I5TuG5+URZlURYTPTJYN06URVmUxQQfsI8V3DNOlEVZlMUED/Eb13DeOFEWZVEWI+3jI47govGiLMqiLEbawg8cxWXjRVmURVmM9M3gLs4YL8qiLMpihF08M3hsmiiLsiiLEd7jwGKiLMqiLEZ4bXDadFEWZVEWE9w0XZRFWZRFWZRFWZTFCJfwxWKiLMqiLEbYxrbFRFmURdlfqJ4vAoMgwv4AAAAASUVORK5C\">"
      ],
      "text/plain": [
       "28×28 Array{Gray{N0f8},2} with eltype Gray{N0f8}:\n",
       " Gray{N0f8}(1.0)  Gray{N0f8}(1.0)  …  Gray{N0f8}(1.0)  Gray{N0f8}(1.0)\n",
       " Gray{N0f8}(1.0)  Gray{N0f8}(1.0)     Gray{N0f8}(1.0)  Gray{N0f8}(1.0)\n",
       " Gray{N0f8}(1.0)  Gray{N0f8}(1.0)     Gray{N0f8}(1.0)  Gray{N0f8}(1.0)\n",
       " Gray{N0f8}(1.0)  Gray{N0f8}(1.0)     Gray{N0f8}(1.0)  Gray{N0f8}(1.0)\n",
       " Gray{N0f8}(1.0)  Gray{N0f8}(1.0)     Gray{N0f8}(1.0)  Gray{N0f8}(1.0)\n",
       " Gray{N0f8}(1.0)  Gray{N0f8}(1.0)  …  Gray{N0f8}(1.0)  Gray{N0f8}(1.0)\n",
       " Gray{N0f8}(1.0)  Gray{N0f8}(1.0)     Gray{N0f8}(1.0)  Gray{N0f8}(1.0)\n",
       " Gray{N0f8}(1.0)  Gray{N0f8}(1.0)     Gray{N0f8}(1.0)  Gray{N0f8}(1.0)\n",
       " Gray{N0f8}(1.0)  Gray{N0f8}(1.0)     Gray{N0f8}(1.0)  Gray{N0f8}(1.0)\n",
       " Gray{N0f8}(1.0)  Gray{N0f8}(1.0)     Gray{N0f8}(1.0)  Gray{N0f8}(1.0)\n",
       " ⋮                                 ⋱                   \n",
       " Gray{N0f8}(1.0)  Gray{N0f8}(1.0)     Gray{N0f8}(1.0)  Gray{N0f8}(1.0)\n",
       " Gray{N0f8}(1.0)  Gray{N0f8}(1.0)  …  Gray{N0f8}(1.0)  Gray{N0f8}(1.0)\n",
       " Gray{N0f8}(1.0)  Gray{N0f8}(1.0)     Gray{N0f8}(1.0)  Gray{N0f8}(1.0)\n",
       " Gray{N0f8}(1.0)  Gray{N0f8}(1.0)     Gray{N0f8}(1.0)  Gray{N0f8}(1.0)\n",
       " Gray{N0f8}(1.0)  Gray{N0f8}(1.0)     Gray{N0f8}(1.0)  Gray{N0f8}(1.0)\n",
       " Gray{N0f8}(1.0)  Gray{N0f8}(1.0)     Gray{N0f8}(1.0)  Gray{N0f8}(1.0)\n",
       " Gray{N0f8}(1.0)  Gray{N0f8}(1.0)  …  Gray{N0f8}(1.0)  Gray{N0f8}(1.0)\n",
       " Gray{N0f8}(1.0)  Gray{N0f8}(1.0)     Gray{N0f8}(1.0)  Gray{N0f8}(1.0)\n",
       " Gray{N0f8}(1.0)  Gray{N0f8}(1.0)     Gray{N0f8}(1.0)  Gray{N0f8}(1.0)"
      ]
     },
     "metadata": {},
     "output_type": "display_data"
    }
   ],
   "source": [
    "load(\"trained_GNN/MNIST_identity/test-image-3.png\")"
   ]
  },
  {
   "cell_type": "code",
   "execution_count": 80,
   "id": "f0f22c1a",
   "metadata": {},
   "outputs": [
    {
     "name": "stdout",
     "output_type": "stream",
     "text": [
      "Loading model...Done\n"
     ]
    },
    {
     "data": {
      "text/plain": [
       "0.8601565116335943"
      ]
     },
     "metadata": {},
     "output_type": "display_data"
    }
   ],
   "source": [
    "epoch_to_load = 1\n",
    "# Load the model and test set loader\n",
    "dir = \"trained_GNN/MNIST_identity\"\n",
    "encoder_μ, encoder_logvar, decoder, decoder_last = load_model(dir, epoch_to_load)\n",
    "colorview(Gray, reshape(decoder_last * decoder(randn(20)), 28,28)' )\n",
    "subspace_incoherence(dct(diagm(ones(784)),2), decoder_last)\n"
   ]
  },
  {
   "cell_type": "code",
   "execution_count": 81,
   "id": "744c51b8",
   "metadata": {},
   "outputs": [
    {
     "data": {
      "text/plain": [
       "28×28 adjoint(::Matrix{Float64}) with eltype Float64:\n",
       " 11.2549   10.8833   11.4892   11.3717   …   8.58295  10.4875    9.84876\n",
       " 10.6277    9.60275   9.38917  12.6546      10.9866   12.4986   11.68\n",
       " 10.7397   10.8603   12.0397   10.8021      11.0899   11.8769   12.1833\n",
       "  9.98611  11.442    11.0631   10.0534       9.93348  13.235    13.7681\n",
       " 11.9139   11.2048   12.4778   11.5384      11.8369    9.89404  12.4721\n",
       "  9.91731  11.3492   15.5551    9.70639  …  10.2695    9.80823  11.2479\n",
       " 10.513    13.2696   10.2391   10.8985       8.57193  11.6576    8.92262\n",
       " 12.4688   11.2763   12.5818    8.48439     10.4892   12.0226   11.3414\n",
       "  9.35457  13.6953    7.20833  10.7717      10.8283   11.3919   11.9411\n",
       " 10.4746    8.78434  11.1061   11.3596      11.4234   11.8225   12.1143\n",
       "  ⋮                                      ⋱   ⋮                  \n",
       "  9.05599  12.24     10.3936    8.79074     11.188    10.0229   11.0689\n",
       " 10.5558   12.358    11.0693    9.83996  …   9.76425  11.7645   11.4016\n",
       "  9.71148  10.8626   10.6115    9.66631     11.4854   10.7346   12.3891\n",
       " 11.5505   13.7851    9.786     9.59343     12.2198    9.79489  12.2225\n",
       " 16.2755   11.1352   12.224     8.81667     10.296    12.6176   11.1986\n",
       " 12.0219   13.218    12.1797    8.40467     11.029    10.0726   12.2277\n",
       " 14.4759   11.3969   12.4463   11.0529   …  10.3109   10.9719   12.3897\n",
       " 10.8489   17.6578   11.6667   11.9658      12.6069   12.16     10.7759\n",
       " 14.399    12.8081   11.3919   16.3688      13.1927   13.4333   11.1914"
      ]
     },
     "metadata": {},
     "output_type": "display_data"
    }
   ],
   "source": [
    "reshape(decoder_last * decoder(randn(20)), 28,28)'"
   ]
  },
  {
   "cell_type": "code",
   "execution_count": 136,
   "id": "db45a70d",
   "metadata": {},
   "outputs": [
    {
     "ename": "TaskFailedException",
     "evalue": "TaskFailedException\n\n    nested task error: InterruptException:\n    Stacktrace:\n      [1] Array\n        @ ./boot.jl:459 [inlined]\n      [2] Array\n        @ ./boot.jl:467 [inlined]\n      [3] similar\n        @ ./array.jl:378 [inlined]\n      [4] *\n        @ /Applications/Julia-1.7.app/Contents/Resources/julia/share/julia/stdlib/v1.7/LinearAlgebra/src/matmul.jl:153 [inlined]\n      [5] #1393\n        @ ~/.julia/packages/ChainRules/CBSzG/src/rulesets/Base/arraymath.jl:37 [inlined]\n      [6] unthunk\n        @ ~/.julia/packages/ChainRulesCore/16PWJ/src/tangent_types/thunks.jl:195 [inlined]\n      [7] wrap_chainrules_output\n        @ ~/.julia/packages/Zygote/IoW2g/src/compiler/chainrules.jl:104 [inlined]\n      [8] map\n        @ ./tuple.jl:223 [inlined]\n      [9] wrap_chainrules_output\n        @ ~/.julia/packages/Zygote/IoW2g/src/compiler/chainrules.jl:105 [inlined]\n     [10] ZBack\n        @ ~/.julia/packages/Zygote/IoW2g/src/compiler/chainrules.jl:205 [inlined]\n     [11] Pullback\n        @ ~/Documents/GitHub/GNN_Isometries/train_vae_relu_sig.ipynb:3 [inlined]\n     [12] (::typeof(∂(subspace_incoherence_2)))(Δ::Float64)\n        @ Zygote ~/.julia/packages/Zygote/IoW2g/src/compiler/interface2.jl:0\n     [13] Pullback\n        @ ~/Documents/GitHub/GNN_Isometries/train_vae_relu_sig.ipynb:10 [inlined]\n     [14] (::typeof(∂(λ)))(Δ::Float64)\n        @ Zygote ~/.julia/packages/Zygote/IoW2g/src/compiler/interface2.jl:0\n     [15] (::Zygote.var\"#97#98\"{Params{Zygote.Buffer{Any, Vector{Any}}}, typeof(∂(λ)), Zygote.Context})(Δ::Float64)\n        @ Zygote ~/.julia/packages/Zygote/IoW2g/src/compiler/interface.jl:357\n     [16] gradient(f::Function, args::Params{Zygote.Buffer{Any, Vector{Any}}})\n        @ Zygote ~/.julia/packages/Zygote/IoW2g/src/compiler/interface.jl:76\n     [17] macro expansion\n        @ ~/Documents/GitHub/GNN_Isometries/train_vae_relu_sig.ipynb:10 [inlined]\n     [18] (::var\"#433#threadsfor_fun#201\"{UnitRange{Int64}})(onethread::Bool)\n        @ Main ./threadingconstructs.jl:85\n     [19] (::var\"#433#threadsfor_fun#201\"{UnitRange{Int64}})()\n        @ Main ./threadingconstructs.jl:52",
     "output_type": "error",
     "traceback": [
      "TaskFailedException\n",
      "\n",
      "    nested task error: InterruptException:\n",
      "    Stacktrace:\n",
      "      [1] Array\n",
      "        @ ./boot.jl:459 [inlined]\n",
      "      [2] Array\n",
      "        @ ./boot.jl:467 [inlined]\n",
      "      [3] similar\n",
      "        @ ./array.jl:378 [inlined]\n",
      "      [4] *\n",
      "        @ /Applications/Julia-1.7.app/Contents/Resources/julia/share/julia/stdlib/v1.7/LinearAlgebra/src/matmul.jl:153 [inlined]\n",
      "      [5] #1393\n",
      "        @ ~/.julia/packages/ChainRules/CBSzG/src/rulesets/Base/arraymath.jl:37 [inlined]\n",
      "      [6] unthunk\n",
      "        @ ~/.julia/packages/ChainRulesCore/16PWJ/src/tangent_types/thunks.jl:195 [inlined]\n",
      "      [7] wrap_chainrules_output\n",
      "        @ ~/.julia/packages/Zygote/IoW2g/src/compiler/chainrules.jl:104 [inlined]\n",
      "      [8] map\n",
      "        @ ./tuple.jl:223 [inlined]\n",
      "      [9] wrap_chainrules_output\n",
      "        @ ~/.julia/packages/Zygote/IoW2g/src/compiler/chainrules.jl:105 [inlined]\n",
      "     [10] ZBack\n",
      "        @ ~/.julia/packages/Zygote/IoW2g/src/compiler/chainrules.jl:205 [inlined]\n",
      "     [11] Pullback\n",
      "        @ ~/Documents/GitHub/GNN_Isometries/train_vae_relu_sig.ipynb:3 [inlined]\n",
      "     [12] (::typeof(∂(subspace_incoherence_2)))(Δ::Float64)\n",
      "        @ Zygote ~/.julia/packages/Zygote/IoW2g/src/compiler/interface2.jl:0\n",
      "     [13] Pullback\n",
      "        @ ~/Documents/GitHub/GNN_Isometries/train_vae_relu_sig.ipynb:10 [inlined]\n",
      "     [14] (::typeof(∂(λ)))(Δ::Float64)\n",
      "        @ Zygote ~/.julia/packages/Zygote/IoW2g/src/compiler/interface2.jl:0\n",
      "     [15] (::Zygote.var\"#97#98\"{Params{Zygote.Buffer{Any, Vector{Any}}}, typeof(∂(λ)), Zygote.Context})(Δ::Float64)\n",
      "        @ Zygote ~/.julia/packages/Zygote/IoW2g/src/compiler/interface.jl:357\n",
      "     [16] gradient(f::Function, args::Params{Zygote.Buffer{Any, Vector{Any}}})\n",
      "        @ Zygote ~/.julia/packages/Zygote/IoW2g/src/compiler/interface.jl:76\n",
      "     [17] macro expansion\n",
      "        @ ~/Documents/GitHub/GNN_Isometries/train_vae_relu_sig.ipynb:10 [inlined]\n",
      "     [18] (::var\"#433#threadsfor_fun#201\"{UnitRange{Int64}})(onethread::Bool)\n",
      "        @ Main ./threadingconstructs.jl:85\n",
      "     [19] (::var\"#433#threadsfor_fun#201\"{UnitRange{Int64}})()\n",
      "        @ Main ./threadingconstructs.jl:52\n",
      "\n",
      "Stacktrace:\n",
      "  [1] wait\n",
      "    @ ./task.jl:334 [inlined]\n",
      "  [2] threading_run(func::Function)\n",
      "    @ Base.Threads ./threadingconstructs.jl:38\n",
      "  [3] top-level scope\n",
      "    @ ./threadingconstructs.jl:97\n",
      "  [4] eval\n",
      "    @ ./boot.jl:373 [inlined]\n",
      "  [5] include_string(mapexpr::typeof(REPL.softscope), mod::Module, code::String, filename::String)\n",
      "    @ Base ./loading.jl:1196\n",
      "  [6] #invokelatest#2\n",
      "    @ ./essentials.jl:716 [inlined]\n",
      "  [7] invokelatest\n",
      "    @ ./essentials.jl:714 [inlined]\n",
      "  [8] (::VSCodeServer.var\"#164#165\"{VSCodeServer.NotebookRunCellArguments, String})()\n",
      "    @ VSCodeServer ~/.vscode/extensions/julialang.language-julia-1.6.24/scripts/packages/VSCodeServer/src/serve_notebook.jl:19\n",
      "  [9] withpath(f::VSCodeServer.var\"#164#165\"{VSCodeServer.NotebookRunCellArguments, String}, path::String)\n",
      "    @ VSCodeServer ~/.vscode/extensions/julialang.language-julia-1.6.24/scripts/packages/VSCodeServer/src/repl.jl:184\n",
      " [10] notebook_runcell_request(conn::VSCodeServer.JSONRPC.JSONRPCEndpoint{Base.PipeEndpoint, Base.PipeEndpoint}, params::VSCodeServer.NotebookRunCellArguments)\n",
      "    @ VSCodeServer ~/.vscode/extensions/julialang.language-julia-1.6.24/scripts/packages/VSCodeServer/src/serve_notebook.jl:13\n",
      " [11] dispatch_msg(x::VSCodeServer.JSONRPC.JSONRPCEndpoint{Base.PipeEndpoint, Base.PipeEndpoint}, dispatcher::VSCodeServer.JSONRPC.MsgDispatcher, msg::Dict{String, Any})\n",
      "    @ VSCodeServer.JSONRPC ~/.vscode/extensions/julialang.language-julia-1.6.24/scripts/packages/JSONRPC/src/typed.jl:67\n",
      " [12] serve_notebook(pipename::String, outputchannel_logger::Base.CoreLogging.SimpleLogger; crashreporting_pipename::String)\n",
      "    @ VSCodeServer ~/.vscode/extensions/julialang.language-julia-1.6.24/scripts/packages/VSCodeServer/src/serve_notebook.jl:136\n",
      " [13] top-level scope\n",
      "    @ ~/.vscode/extensions/julialang.language-julia-1.6.24/scripts/notebook/notebook.jl:32\n",
      " [14] include(mod::Module, _path::String)\n",
      "    @ Base ./Base.jl:418\n",
      " [15] exec_options(opts::Base.JLOptions)\n",
      "    @ Base ./client.jl:292\n",
      " [16] _start()\n",
      "    @ Base ./client.jl:495"
     ]
    }
   ],
   "source": [
    "x_dim = 4000\n",
    "k = 100\n",
    "F = dct(diagm(ones(x_dim)),2);\n",
    "\n",
    "α = []\n",
    "Threads.@threads for trial in 1:10\n",
    "    A = sample_fourier(k,x_dim); A = A'\n",
    "    for i in 1:100\n",
    "        θ = Flux.params(A)\n",
    "        gs = gradient(()->subspace_incoherence_2(F,A), θ )\n",
    "        A .-= .1 * (gs[A] + randn(x_dim,k) * (.5)^i)\n",
    "    end\n",
    "    push!(α,subspace_incoherence(F,A))\n",
    "end\n",
    "\n"
   ]
  },
  {
   "cell_type": "code",
   "execution_count": 138,
   "id": "4cfa6118",
   "metadata": {},
   "outputs": [
    {
     "data": {
      "text/plain": [
       "Any[]"
      ]
     },
     "metadata": {},
     "output_type": "display_data"
    }
   ],
   "source": [
    "α"
   ]
  },
  {
   "cell_type": "code",
   "execution_count": 33,
   "id": "7bd039d8",
   "metadata": {},
   "outputs": [
    {
     "data": {
      "text/plain": [
       "subspace_incoherence_2 (generic function with 1 method)"
      ]
     },
     "metadata": {},
     "output_type": "display_data"
    }
   ],
   "source": [
    "function subspace_incoherence_2(F,A)\n",
    "    m,n = size(A)\n",
    "    maximum(sqrt.(sum((A'*F').*(A'*F'), dims = 1))) + norm(A'*A - I(n),2)^2\n",
    "end\n"
   ]
  },
  {
   "cell_type": "code",
   "execution_count": null,
   "id": "5d165fcf",
   "metadata": {},
   "outputs": [],
   "source": [
    "x_dim = 400\n",
    "k = 10\n",
    "F = dct(diagm(ones(x_dim)),2);\n",
    "A = sample_fourier(k,x_dim); A = A'\n",
    "print(A[1,1])\n",
    "loss(F,A) = maximum(sqrt.(sum((A'*F').*(A'*F'), dims = 1))) + norm(A'*A - I(k),2)^2\n",
    "\n",
    "θ = Flux.params(A)\n",
    "# gs = gradient(()->loss(F), θ)\n",
    "# Flux.Optimise.update!(opt, A, gs[A]);\n",
    "\n",
    "opt = Descent(.1)\n",
    "for i in 1:100\n",
    "    gs = gradient(()->loss(F,A), A)\n",
    "    Flux.Optimise.update!(opt, A, gs[A]);\n",
    "    # A = A + randn(400,10)*.5^i\n",
    "    # θ = Flux.params(A)\n",
    "\n",
    "end\n",
    "\n",
    "gs[A]\n"
   ]
  },
  {
   "cell_type": "code",
   "execution_count": 260,
   "id": "094ee3a0",
   "metadata": {},
   "outputs": [
    {
     "data": {
      "text/plain": [
       "400×10 Matrix{Float64}:\n",
       " NaN  NaN  NaN  NaN  NaN  NaN  NaN  NaN  NaN  NaN\n",
       " NaN  NaN  NaN  NaN  NaN  NaN  NaN  NaN  NaN  NaN\n",
       " NaN  NaN  NaN  NaN  NaN  NaN  NaN  NaN  NaN  NaN\n",
       " NaN  NaN  NaN  NaN  NaN  NaN  NaN  NaN  NaN  NaN\n",
       " NaN  NaN  NaN  NaN  NaN  NaN  NaN  NaN  NaN  NaN\n",
       " NaN  NaN  NaN  NaN  NaN  NaN  NaN  NaN  NaN  NaN\n",
       " NaN  NaN  NaN  NaN  NaN  NaN  NaN  NaN  NaN  NaN\n",
       " NaN  NaN  NaN  NaN  NaN  NaN  NaN  NaN  NaN  NaN\n",
       " NaN  NaN  NaN  NaN  NaN  NaN  NaN  NaN  NaN  NaN\n",
       " NaN  NaN  NaN  NaN  NaN  NaN  NaN  NaN  NaN  NaN\n",
       "   ⋮                        ⋮                 \n",
       " NaN  NaN  NaN  NaN  NaN  NaN  NaN  NaN  NaN  NaN\n",
       " NaN  NaN  NaN  NaN  NaN  NaN  NaN  NaN  NaN  NaN\n",
       " NaN  NaN  NaN  NaN  NaN  NaN  NaN  NaN  NaN  NaN\n",
       " NaN  NaN  NaN  NaN  NaN  NaN  NaN  NaN  NaN  NaN\n",
       " NaN  NaN  NaN  NaN  NaN  NaN  NaN  NaN  NaN  NaN\n",
       " NaN  NaN  NaN  NaN  NaN  NaN  NaN  NaN  NaN  NaN\n",
       " NaN  NaN  NaN  NaN  NaN  NaN  NaN  NaN  NaN  NaN\n",
       " NaN  NaN  NaN  NaN  NaN  NaN  NaN  NaN  NaN  NaN\n",
       " NaN  NaN  NaN  NaN  NaN  NaN  NaN  NaN  NaN  NaN"
      ]
     },
     "metadata": {},
     "output_type": "display_data"
    }
   ],
   "source": [
    "\n",
    "\n"
   ]
  },
  {
   "cell_type": "code",
   "execution_count": 261,
   "id": "fb617526",
   "metadata": {},
   "outputs": [
    {
     "data": {
      "text/plain": [
       "NaN"
      ]
     },
     "metadata": {},
     "output_type": "display_data"
    }
   ],
   "source": [
    "subspace_incoherence(F,A)"
   ]
  },
  {
   "cell_type": "code",
   "execution_count": 254,
   "id": "7f32bc49",
   "metadata": {},
   "outputs": [
    {
     "data": {
      "text/plain": [
       "400×10 adjoint(::Matrix{Float64}) with eltype Float64:\n",
       "  0.05         0.05         0.05       …   0.0497751    0.05\n",
       "  0.0690678    0.0615586    0.0628771     -0.0661369    0.0221147\n",
       "  0.0642154    0.0364715    0.0411121      0.0538843   -0.0568779\n",
       "  0.0563791    0.00194351   0.0102381     -0.0351165   -0.0576918\n",
       "  0.0459229   -0.0330876   -0.0229044      0.0121025    0.0207918\n",
       "  0.0333328   -0.0595537   -0.050972   …   0.0123748    0.070697\n",
       "  0.0191937   -0.0706038   -0.067746      -0.0353558    0.0234291\n",
       "  0.00416279  -0.0633774   -0.0695097      0.0540618   -0.0560422\n",
       " -0.0110616   -0.0397453   -0.0558724     -0.066231    -0.0584834\n",
       " -0.025772    -0.00582467  -0.0298557      0.070392     0.0194608\n",
       "  ⋮                                    ⋱               \n",
       " -0.0658468    0.0704703   -0.0640987      0.00027643   0.06798\n",
       " -0.0698401    0.0584834   -0.0433391      0.0238446    0.0397453\n",
       " -0.070588     0.0313575   -0.012977      -0.0450826   -0.0431193\n",
       " -0.0680559   -0.00388556   0.0202603      0.0608694   -0.0667164\n",
       " -0.0623613   -0.0381228    0.0490087  …  -0.0692963    0.00138831\n",
       " -0.0537688   -0.0624916    0.0668983      0.0693444    0.0675848\n",
       " -0.0426778   -0.0706839    0.0699656     -0.0610078    0.0408859\n",
       " -0.0296037   -0.060579     0.0575308      0.0452945   -0.0420107\n",
       " -0.0151539   -0.0347927    0.0323491     -0.0241045   -0.0671635"
      ]
     },
     "metadata": {},
     "output_type": "display_data"
    }
   ],
   "source": [
    "A\n",
    "\n"
   ]
  },
  {
   "cell_type": "code",
   "execution_count": null,
   "id": "4b8f5a6a",
   "metadata": {},
   "outputs": [],
   "source": []
  }
 ],
 "metadata": {
  "kernelspec": {
   "display_name": "Julia 1.7.3",
   "language": "julia",
   "name": "julia-1.7"
  },
  "language_info": {
   "file_extension": ".jl",
   "mimetype": "application/julia",
   "name": "julia",
   "version": "1.7.3"
  }
 },
 "nbformat": 4,
 "nbformat_minor": 5
}
