{
 "cells": [
  {
   "cell_type": "code",
   "execution_count": 1,
   "metadata": {},
   "outputs": [
    {
     "name": "stderr",
     "output_type": "stream",
     "text": [
      "WARNING: using JLD.@load in module Main conflicts with an existing identifier.\n"
     ]
    },
    {
     "data": {
      "text/plain": [
       "loss (generic function with 1 method)"
      ]
     },
     "metadata": {},
     "output_type": "display_data"
    }
   ],
   "source": [
    "using NBInclude\n",
    "@nbinclude(\"functions.ipynb\")"
   ]
  },
  {
   "cell_type": "code",
   "execution_count": null,
   "metadata": {},
   "outputs": [],
   "source": [
    "# experiments with MNIST dataset\n",
    "k = 20\n",
    "n1 = 100\n",
    "x_dim = 400\n",
    "m = 120\n",
    "\n",
    "\n",
    "A = sample_fourier(n1, x_dim); A = A' #sub-sampled DCT matrix used in convex combination\n",
    "B = randn(x_dim, n1)/sqrt(x_dim) #random matrix that is used in convex combination\n",
    "\n",
    "epoch_to_load = 20 # Load the model and test set loader\n",
    "_, _, decoder = load_model(\"trained_GNN/MNIST\", epoch_to_load)\n",
    "W1 = Flux.params(decoder)[1][1:n1,:]\n",
    "_, s, _ = svd(W1)\n",
    "W1 = W1 / s[1]\n",
    "\n",
    "tolerance = 1e-7; max_iter = 2000; out_toggle = 0\n",
    "\n",
    "z = randn(k) # ground code vector\n",
    "\n",
    "β_list = 0:.1:1\n",
    "trials = 20\n",
    "recovery_error_matrix = zeros(trials)\n",
    "recon_error_matrix = zeros(trials)\n",
    "\n",
    "α_list = []\n",
    "F = dct(diagm(ones(x_dim)),2)\n",
    "for β in β_list\n",
    "    push!(α_list, subspace_incoherence(F, β*A + (1-β) * B) )\n",
    "end\n",
    "\n",
    "opt = Flux.Optimise.ADAM(.1)\n",
    "\n",
    "for β in β_list\n",
    "    recovery_error_list = []\n",
    "    recon_error_list = []\n",
    "    G = Chain(\n",
    "        Dense(20, n1, relu, bias = false; init =(out,in) -> W1),\n",
    "        Dense(n1, x_dim, identity, bias = false; init =(out,in) -> β*A + (1-β) * B)\n",
    "    )    #setup the generative network \n",
    "\n",
    "\n",
    "    for trials in 1:trials\n",
    "        F_sub = sample_fourier(m, x_dim)  # subsampling DCT for measurement matrix\n",
    "        F_sub = F_sub * sqrt(x_dim)/sqrt(m) #normalization          \n",
    "        y = F_sub * G(z) # measurement vector using subsampled DCT matrix\n",
    "  \n",
    "        z_est = randn(k) #initialization for algorithm\n",
    "        z_est = estimated_code(opt, G, y, F_sub, z_est; max_iter, tolerance, out_toggle)  # run a optimizer to solve the least squares problem\n",
    "\n",
    "        push!(recovery_error_list, relative_error(z, z_est))    \n",
    "        push!(recon_error_list, relative_error(G(z), G(z_est)))\n",
    "    end\n",
    "\n",
    "    recovery_error_matrix =  hcat(recovery_error_matrix, recovery_error_list)\n",
    "    recon_error_matrix = hcat(recon_error_matrix, recon_error_list)\n",
    "end\n",
    "\n",
    "\n"
   ]
  },
  {
   "cell_type": "code",
   "execution_count": null,
   "metadata": {},
   "outputs": [],
   "source": [
    "cs = palette([:red,  :orange, :green, :blue, :Indigo], 1000)\n",
    "\n",
    "\n",
    "log_recovery_error_matrix = log10.(recovery_error_matrix[:, 2:end])\n",
    "average_recov = mean(log_recovery_error_matrix, dims=1)'\n",
    "std_recov = std(log_recovery_error_matrix, dims=1)'\n",
    "plot(α_list, average_recov + std_recov, fillrange =  average_recov - std_recov, fillalpha = .2, c = cs[400], label = false,linecolor = invisible())\n",
    "scatter!(kron(α_list',ones(trials,1))[:], log_recovery_error_matrix[:], label =:false)\n",
    "p1 = plot!(α_list, average_recov, xlabel = \"incoherence upper bound\", ylabel = \"relative recovery error\", linewidth = 2, color = cs[1000], label =false)\n",
    "yticks = [-6:2:0;]\n",
    "yticks!(yticks, [L\"10^{%$y}\" for y in yticks])\n",
    "\n",
    "\n",
    "\n",
    "log_recon_error_matrix = log10.(recon_error_matrix[:, 2:end])\n",
    "average_recon = mean(log_recon_error_matrix, dims=1)'\n",
    "std_recon = std(log_recon_error_matrix, dims=1)'\n",
    "plot(α_list, average_recon + std_recon, fillrange = average_recon - std_recon, fillalpha = .2, c = cs[400], label = false, linecolor = invisible())\n",
    "scatter!(kron(α_list',ones(trials,1))[:], log_recon_error_matrix[:], label =:false)\n",
    "p2 = plot!(α_list, average_recon, xlabel = \"incoherence upper bound\", ylabel = \"relative reconstruction error\", linewidth = 2, color = cs[1000], label =false )\n",
    "yticks = [-8:2:0;]\n",
    "yticks!(yticks, [L\"10^{%$y}\" for y in yticks])\n",
    "plot(p1,p2,layout = 2)"
   ]
  },
  {
   "cell_type": "code",
   "execution_count": null,
   "metadata": {},
   "outputs": [],
   "source": [
    "savefig(\"figures/Partial_MNIST_error.pdf\")\n",
    "save(\"DCT/Partial_MNIST_error.jld\", \"recovery error\", recovery_error_matrix, \"reconstruction error\", recon_error_matrix, \"α_list\", α_list)"
   ]
  }
 ],
 "metadata": {
  "kernelspec": {
   "display_name": "Julia 1.7.3",
   "language": "julia",
   "name": "julia-1.7"
  },
  "language_info": {
   "file_extension": ".jl",
   "mimetype": "application/julia",
   "name": "julia",
   "version": "1.7.3"
  },
  "orig_nbformat": 4
 },
 "nbformat": 4,
 "nbformat_minor": 2
}
