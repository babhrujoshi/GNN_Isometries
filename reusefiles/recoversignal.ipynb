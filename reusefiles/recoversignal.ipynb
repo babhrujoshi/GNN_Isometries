{
 "cells": [
  {
   "cell_type": "code",
   "execution_count": 1,
   "metadata": {},
   "outputs": [],
   "source": [
    "using Flux\n",
    "using MLDatasets\n",
    "using Images\n",
    "using BSON: @load\n",
    "using LinearAlgebra"
   ]
  },
  {
   "cell_type": "code",
   "execution_count": 2,
   "metadata": {},
   "outputs": [
    {
     "name": "stderr",
     "output_type": "stream",
     "text": [
      "WARNING: using Distributions.params in module Main conflicts with an existing identifier.\n"
     ]
    },
    {
     "data": {
      "text/plain": [
       "vaeloss (generic function with 1 method)"
      ]
     },
     "execution_count": 2,
     "metadata": {},
     "output_type": "execute_result"
    }
   ],
   "source": [
    "include(\"./CompressedSensing.jl\")\n",
    "include(\"./vaemodel.jl\")"
   ]
  },
  {
   "cell_type": "code",
   "execution_count": 3,
   "metadata": {},
   "outputs": [
    {
     "data": {
      "image/png": "[encoded data removed]",
      "text/html": [
       "<img src=\"data:image/png;base64,iVBORw0KGgoAAAANSUhEUgAAAHAAAABwCAAAAADji6uXAAAABGdBTUEAALGPC/xhBQAAAAFzUkdCAK7OHOkAAAAgY0hSTQAAeiYAAICEAAD6AAAAgOgAAHUwAADqYAAAOpgAABdwnLpRPAAAAdBJREFUaAW9wb1qlgcABtCDeToUXLRU6FB/cOtSgggFWyh0EV0EvYXUoXQpBFxCQYdAxg7egeAFlBIKKXTRJYv4UyrGwYoIhQS0Q1ChDu8QBL/4vfnCc06URVmURVmURVmURVmURVmURVmURVmURVmURVmURVmURVmURVmURVmURVlMcAkLeIZt3MBzPDKbKIuyKIsJVnDcjst4ift29xQrWPd+URZlURYTLOBLPMAXmMe3+Ar/4HM73uBffGbwBOveL8qiLMpigjWsGawaHMI81nHajm08xF84jMcmi7Ioi7IYYQt/GKx510Ucwl3cNFmURVmUxT44gus4gKvYNFmURVmUxT74AZ9iC3/bXZRFWZTFjM7gisEF3LO7KIuyKIsZncNHWMNtHxZlURZlMYOPcRav8DNe+7Aoi7IoixksYh6ruGU6URZlURZ7dB5LeIFrphdlURZlsQef4BfM4TfcNr0oi7Ioi5HmsIoT2MCScaIsyqIsRjqJUwY/YcM4URZlURYjHMPvBov41XhRFmVRFiN8j6MGf+J/40VZlEVZTOkb/Gh2URZlURZT+hoHDTbwn72JsiiLshjpDr7Dpr2JsiiLspjSMpbNLsqiLMreApamPWWOWvFrAAAAAElFTkSuQmCC\">"
      ],
      "text/plain": [
       "28×28 adjoint(reinterpret(reshape, Gray{Float32}, ::Matrix{Float32})) with eltype Gray{Float32}:\n",
       " Gray{Float32}(0.0)  Gray{Float32}(0.0)  …  Gray{Float32}(0.0)\n",
       " Gray{Float32}(0.0)  Gray{Float32}(0.0)     Gray{Float32}(0.0)\n",
       " Gray{Float32}(0.0)  Gray{Float32}(0.0)     Gray{Float32}(0.0)\n",
       " Gray{Float32}(0.0)  Gray{Float32}(0.0)     Gray{Float32}(0.0)\n",
       " Gray{Float32}(0.0)  Gray{Float32}(0.0)     Gray{Float32}(0.0)\n",
       " Gray{Float32}(0.0)  Gray{Float32}(0.0)  …  Gray{Float32}(0.0)\n",
       " Gray{Float32}(0.0)  Gray{Float32}(0.0)     Gray{Float32}(0.0)\n",
       " Gray{Float32}(0.0)  Gray{Float32}(0.0)     Gray{Float32}(0.0)\n",
       " Gray{Float32}(0.0)  Gray{Float32}(0.0)     Gray{Float32}(0.0)\n",
       " Gray{Float32}(0.0)  Gray{Float32}(0.0)     Gray{Float32}(0.0)\n",
       " Gray{Float32}(0.0)  Gray{Float32}(0.0)  …  Gray{Float32}(0.0)\n",
       " Gray{Float32}(0.0)  Gray{Float32}(0.0)     Gray{Float32}(0.0)\n",
       " Gray{Float32}(0.0)  Gray{Float32}(0.0)     Gray{Float32}(0.0)\n",
       " ⋮                                       ⋱  \n",
       " Gray{Float32}(0.0)  Gray{Float32}(0.0)     Gray{Float32}(0.0)\n",
       " Gray{Float32}(0.0)  Gray{Float32}(0.0)     Gray{Float32}(0.0)\n",
       " Gray{Float32}(0.0)  Gray{Float32}(0.0)     Gray{Float32}(0.0)\n",
       " Gray{Float32}(0.0)  Gray{Float32}(0.0)     Gray{Float32}(0.0)\n",
       " Gray{Float32}(0.0)  Gray{Float32}(0.0)  …  Gray{Float32}(0.0)\n",
       " Gray{Float32}(0.0)  Gray{Float32}(0.0)     Gray{Float32}(0.0)\n",
       " Gray{Float32}(0.0)  Gray{Float32}(0.0)     Gray{Float32}(0.0)\n",
       " Gray{Float32}(0.0)  Gray{Float32}(0.0)     Gray{Float32}(0.0)\n",
       " Gray{Float32}(0.0)  Gray{Float32}(0.0)     Gray{Float32}(0.0)\n",
       " Gray{Float32}(0.0)  Gray{Float32}(0.0)  …  Gray{Float32}(0.0)\n",
       " Gray{Float32}(0.0)  Gray{Float32}(0.0)     Gray{Float32}(0.0)\n",
       " Gray{Float32}(0.0)  Gray{Float32}(0.0)     Gray{Float32}(0.0)"
      ]
     },
     "execution_count": 3,
     "metadata": {},
     "output_type": "execute_result"
    }
   ],
   "source": [
    "imgToRecover = MNIST(Float32, :test).features[:,:,1]\n",
    "colorview(Gray, imgToRecover)'"
   ]
  },
  {
   "cell_type": "code",
   "execution_count": 4,
   "metadata": {},
   "outputs": [],
   "source": [
    "@load \"./savedmodels/vae100epoch\" model"
   ]
  },
  {
   "cell_type": "code",
   "execution_count": 5,
   "metadata": {},
   "outputs": [
    {
     "data": {
      "text/plain": [
       "784-element Vector{Float32}:\n",
       " 0.0\n",
       " 0.0\n",
       " 0.0\n",
       " 0.0\n",
       " 0.0\n",
       " 0.0\n",
       " 0.0\n",
       " 0.0\n",
       " 0.0\n",
       " 0.0\n",
       " 0.0\n",
       " 0.0\n",
       " 0.0\n",
       " ⋮\n",
       " 0.0\n",
       " 0.0\n",
       " 0.0\n",
       " 0.0\n",
       " 0.0\n",
       " 0.0\n",
       " 0.0\n",
       " 0.0\n",
       " 0.0\n",
       " 0.0\n",
       " 0.0\n",
       " 0.0"
      ]
     },
     "execution_count": 5,
     "metadata": {},
     "output_type": "execute_result"
    }
   ],
   "source": [
    "imgToRecover = reshape(imgToRecover, :)"
   ]
  },
  {
   "cell_type": "code",
   "execution_count": 18,
   "metadata": {},
   "outputs": [
    {
     "data": {
      "text/plain": [
       "28×28 Matrix{Float64}:\n",
       " 0.0  0.0          0.0          0.0          …  0.0          0.0\n",
       " 0.0  0.0          0.0          0.0             0.0          0.0\n",
       " 0.0  0.0          0.0          0.0             0.0          0.0\n",
       " 0.0  0.0          0.0          0.0             0.0          0.0\n",
       " 0.0  0.0          0.0          0.0             0.0          0.0\n",
       " 0.0  0.0          0.0          0.0          …  1.47819e-5   0.0\n",
       " 0.0  0.0          0.0          3.2867e-5       7.8475e-5    0.0\n",
       " 0.0  0.0          0.0          0.000139101     0.000486069  0.0\n",
       " 0.0  0.0          0.000209245  0.000246103     0.00253281   0.0\n",
       " 0.0  0.0          5.80004e-5   0.000683976     0.00394911   3.03959e-5\n",
       " 0.0  6.84587e-6   0.00018986   0.00282536   …  0.00779562   4.11637e-5\n",
       " 0.0  4.03072e-6   0.000341488  0.0050294       0.0211141    6.3719e-5\n",
       " 0.0  0.0          0.000820148  0.00549624      0.00964035   0.000155784\n",
       " ⋮                                           ⋱               \n",
       " 0.0  4.6152e-5    0.00385958   0.00775787      0.00580196   9.85204e-5\n",
       " 0.0  0.000425352  0.00736529   0.0131965       0.00540367   1.52127e-5\n",
       " 0.0  0.0          0.00201719   0.0125474       0.00629231   7.63422e-6\n",
       " 0.0  0.0          0.00167167   0.00942344      0.0022224    0.0\n",
       " 0.0  0.0          0.000860974  0.00297874   …  0.000161948  0.0\n",
       " 0.0  0.0          0.0001889    0.000935392     4.78224e-5   0.0\n",
       " 0.0  0.0          2.61717e-5   0.000386787     9.77244e-6   0.0\n",
       " 0.0  0.0          0.0          8.06601e-5      0.0          0.0\n",
       " 0.0  0.0          0.0          0.0             0.0          0.0\n",
       " 0.0  0.0          0.0          0.0          …  0.0          0.0\n",
       " 0.0  0.0          0.0          0.0             0.0          0.0\n",
       " 0.0  0.0          0.0          0.0             0.0          0.0"
      ]
     },
     "execution_count": 18,
     "metadata": {},
     "output_type": "execute_result"
    }
   ],
   "source": [
    "recovered = reshape(model(imgToRecover), 28, 28)"
   ]
  },
  {
   "cell_type": "code",
   "execution_count": 19,
   "metadata": {},
   "outputs": [
    {
     "data": {
      "image/png": "[encoded data removed]",
      "text/html": [
       "<img src=\"data:image/png;base64,iVBORw0KGgoAAAANSUhEUgAAAHAAAABwCAAAAADji6uXAAAABGdBTUEAALGPC/xhBQAAAAFzUkdCAK7OHOkAAAAgY0hSTQAAeiYAAICEAAD6AAAAgOgAAHUwAADqYAAAOpgAABdwnLpRPAAAA3lJREFUaAW9wcGLlHUYAODnN/M6u+vq2i5Wlnow0qAkI5KIkA6BCN2D6B/pTwm6desiHaKIJBApC4SoVgvEDNJdNSvXTWd3dub7dfgOw7qzKh3e5wnJQrKQLCQLyUKykCwkC/9TQUFFQUX1aCFZSBaShcdUjHVRUDBEQUFFRbW9kCwkC8nCIxQUdLQ6CMygQWAGS+hhiBEqqq1CspAsJAsP0UHBDjToYg7zuI+TOIP9aNBgAyuoGKGiGgvJQrKQLExQjHVQMI9pvIhp3NZ6HfM4hjN4CV+gQQcVI2MhWUgWkoVtFExp7cAaDmAGz2MXfsc7OIc57MFlBAYoWgVVKyQLyUKy8ICiVVAxizk8jR4aXEQP7+IW9qOPF3AB+7CMESpGxkKykCwkCxMUdDDEbuxDH29iHYvYjw9xBEt4DV9iGrcxQMHQZiFZSBaShW0U9DCFX3EAG/geG/gcB3EMc/gJgevYhb34DRXVWEgWkoVkYRsFBX0cwgau4CjOYwGHcQm7cQRXUXEfd1BtFZKFZCFZmKBgiF04iBs4jpu4jL24i504ga+wqNXFOkYmC8lCspAsbKOggxGew494Az1cxAf4BjdxAmv4DPNYRjVZSBaShWRhgooOVnEVh/A+VvAzTuJfVFzBAv7Ck1jV6mKEarOQLCQLycIEBQWz6OIZfIJZnMLHeA+zmMEilnEXFQUVRasaC8lCspAsTNBgCgN0sIx1VJzGQezENazgD6ygg3XsxgqqrUKykCwkCxMUDDHEAMsYYoBXsIBrKDiFjzCFggarxqrNQrKQLCQLE3TQoKBij9YdVPRxFGfxNQoO4QdsoIe+VkE1FpKFZCFZmGCEjlbBitYUruMElrAX63gbn+IeulhD1ao2C8lCspAsTFDQRUUPFU/gOH7BEv7ECPtwDf+ghz4qKqqtQrKQLCQLD6jooGIKBQuoeBZHsAM3cB5P4RIGGKBB1SqoNgvJQrKQLExQUdFgFncxj7Po45jWq1jEEhqtBlWr2iokC8lCsjBB1RpiA2u4jpdxGOfwFr7FLXSxhqGxarKQLCQLycIEFSNUDNFHwQV8h2mcxgzu4x4aFK1qeyFZSBaShW1UNOjjHuYwQEUP61hBRaBBg8bDhWQhWUgWHqKi0VpFFyP8jaLVYISC6tFCspAsJAuPULUqGturHk9IFpKFZP8BIGHvvC0W/JsAAAAASUVORK5C\">"
      ],
      "text/plain": [
       "28×28 adjoint(reinterpret(reshape, Gray{Float64}, ::Matrix{Float64})) with eltype Gray{Float64}:\n",
       " Gray{Float64}(0.0)  Gray{Float64}(0.0)         …  Gray{Float64}(0.0)\n",
       " Gray{Float64}(0.0)  Gray{Float64}(0.0)            Gray{Float64}(0.0)\n",
       " Gray{Float64}(0.0)  Gray{Float64}(0.0)            Gray{Float64}(0.0)\n",
       " Gray{Float64}(0.0)  Gray{Float64}(0.0)            Gray{Float64}(0.0)\n",
       " Gray{Float64}(0.0)  Gray{Float64}(0.0)            Gray{Float64}(0.0)\n",
       " Gray{Float64}(0.0)  Gray{Float64}(0.0)         …  Gray{Float64}(0.0)\n",
       " Gray{Float64}(0.0)  Gray{Float64}(0.0)            Gray{Float64}(0.0)\n",
       " Gray{Float64}(0.0)  Gray{Float64}(0.0)            Gray{Float64}(0.0)\n",
       " Gray{Float64}(0.0)  Gray{Float64}(0.0)            Gray{Float64}(0.0)\n",
       " Gray{Float64}(0.0)  Gray{Float64}(4.42606e-6)     Gray{Float64}(0.0)\n",
       " Gray{Float64}(0.0)  Gray{Float64}(0.0)         …  Gray{Float64}(0.0)\n",
       " Gray{Float64}(0.0)  Gray{Float64}(0.0)            Gray{Float64}(0.0)\n",
       " Gray{Float64}(0.0)  Gray{Float64}(0.0)            Gray{Float64}(0.0)\n",
       " ⋮                                              ⋱  \n",
       " Gray{Float64}(0.0)  Gray{Float64}(0.0)            Gray{Float64}(0.0)\n",
       " Gray{Float64}(0.0)  Gray{Float64}(0.0)            Gray{Float64}(0.0)\n",
       " Gray{Float64}(0.0)  Gray{Float64}(0.0)            Gray{Float64}(0.0)\n",
       " Gray{Float64}(0.0)  Gray{Float64}(0.0)            Gray{Float64}(0.0)\n",
       " Gray{Float64}(0.0)  Gray{Float64}(0.0)         …  Gray{Float64}(0.0)\n",
       " Gray{Float64}(0.0)  Gray{Float64}(0.0)            Gray{Float64}(0.0)\n",
       " Gray{Float64}(0.0)  Gray{Float64}(0.0)            Gray{Float64}(0.0)\n",
       " Gray{Float64}(0.0)  Gray{Float64}(0.0)            Gray{Float64}(0.0)\n",
       " Gray{Float64}(0.0)  Gray{Float64}(0.0)            Gray{Float64}(0.0)\n",
       " Gray{Float64}(0.0)  Gray{Float64}(0.0)         …  Gray{Float64}(0.0)\n",
       " Gray{Float64}(0.0)  Gray{Float64}(0.0)            Gray{Float64}(0.0)\n",
       " Gray{Float64}(0.0)  Gray{Float64}(0.0)            Gray{Float64}(0.0)"
      ]
     },
     "execution_count": 19,
     "metadata": {},
     "output_type": "execute_result"
    }
   ],
   "source": [
    "colorview(Gray, recovered)'"
   ]
  },
  {
   "cell_type": "code",
   "execution_count": 22,
   "metadata": {},
   "outputs": [
    {
     "data": {
      "image/png": "[encoded data removed]",
      "text/html": [
       "<img src=\"data:image/png;base64,iVBORw0KGgoAAAANSUhEUgAAAHAAAABwCAAAAADji6uXAAAABGdBTUEAALGPC/xhBQAAAAFzUkdCAK7OHOkAAAAgY0hSTQAAeiYAAICEAAD6AAAAgOgAAHUwAADqYAAAOpgAABdwnLpRPAAAAdBJREFUaAW9wb1qlgcABtCDeToUXLRU6FB/cOtSgggFWyh0EV0EvYXUoXQpBFxCQYdAxg7egeAFlBIKKXTRJYv4UyrGwYoIhQS0Q1ChDu8QBL/4vfnCc06URVmURVmURVmURVmURVmURVmURVmURVmURVmURVmURVmURVmURVmURVlMcAkLeIZt3MBzPDKbKIuyKIsJVnDcjst4ift29xQrWPd+URZlURYTLOBLPMAXmMe3+Ar/4HM73uBffGbwBOveL8qiLMpigjWsGawaHMI81nHajm08xF84jMcmi7Ioi7IYYQt/GKx510Ucwl3cNFmURVmUxT44gus4gKvYNFmURVmUxT74AZ9iC3/bXZRFWZTFjM7gisEF3LO7KIuyKIsZncNHWMNtHxZlURZlMYOPcRav8DNe+7Aoi7IoixksYh6ruGU6URZlURZ7dB5LeIFrphdlURZlsQef4BfM4TfcNr0oi7Ioi5HmsIoT2MCScaIsyqIsRjqJUwY/YcM4URZlURYjHMPvBov41XhRFmVRFiN8j6MGf+J/40VZlEVZTOkb/Gh2URZlURZT+hoHDTbwn72JsiiLshjpDr7Dpr2JsiiLspjSMpbNLsqiLMreApamPWWOWvFrAAAAAElFTkSuQmCC\">"
      ],
      "text/plain": [
       "28×28 adjoint(::Array{Gray{Float32},2}) with eltype Gray{Float32}:\n",
       " Gray{Float32}(0.0)  Gray{Float32}(0.0)  …  Gray{Float32}(0.0)\n",
       " Gray{Float32}(0.0)  Gray{Float32}(0.0)     Gray{Float32}(0.0)\n",
       " Gray{Float32}(0.0)  Gray{Float32}(0.0)     Gray{Float32}(0.0)\n",
       " Gray{Float32}(0.0)  Gray{Float32}(0.0)     Gray{Float32}(0.0)\n",
       " Gray{Float32}(0.0)  Gray{Float32}(0.0)     Gray{Float32}(0.0)\n",
       " Gray{Float32}(0.0)  Gray{Float32}(0.0)  …  Gray{Float32}(0.0)\n",
       " Gray{Float32}(0.0)  Gray{Float32}(0.0)     Gray{Float32}(0.0)\n",
       " Gray{Float32}(0.0)  Gray{Float32}(0.0)     Gray{Float32}(0.0)\n",
       " Gray{Float32}(0.0)  Gray{Float32}(0.0)     Gray{Float32}(0.0)\n",
       " Gray{Float32}(0.0)  Gray{Float32}(0.0)     Gray{Float32}(0.0)\n",
       " Gray{Float32}(0.0)  Gray{Float32}(0.0)  …  Gray{Float32}(0.0)\n",
       " Gray{Float32}(0.0)  Gray{Float32}(0.0)     Gray{Float32}(0.0)\n",
       " Gray{Float32}(0.0)  Gray{Float32}(0.0)     Gray{Float32}(0.0)\n",
       " ⋮                                       ⋱  \n",
       " Gray{Float32}(0.0)  Gray{Float32}(0.0)     Gray{Float32}(0.0)\n",
       " Gray{Float32}(0.0)  Gray{Float32}(0.0)     Gray{Float32}(0.0)\n",
       " Gray{Float32}(0.0)  Gray{Float32}(0.0)     Gray{Float32}(0.0)\n",
       " Gray{Float32}(0.0)  Gray{Float32}(0.0)     Gray{Float32}(0.0)\n",
       " Gray{Float32}(0.0)  Gray{Float32}(0.0)  …  Gray{Float32}(0.0)\n",
       " Gray{Float32}(0.0)  Gray{Float32}(0.0)     Gray{Float32}(0.0)\n",
       " Gray{Float32}(0.0)  Gray{Float32}(0.0)     Gray{Float32}(0.0)\n",
       " Gray{Float32}(0.0)  Gray{Float32}(0.0)     Gray{Float32}(0.0)\n",
       " Gray{Float32}(0.0)  Gray{Float32}(0.0)     Gray{Float32}(0.0)\n",
       " Gray{Float32}(0.0)  Gray{Float32}(0.0)  …  Gray{Float32}(0.0)\n",
       " Gray{Float32}(0.0)  Gray{Float32}(0.0)     Gray{Float32}(0.0)\n",
       " Gray{Float32}(0.0)  Gray{Float32}(0.0)     Gray{Float32}(0.0)"
      ]
     },
     "execution_count": 22,
     "metadata": {},
     "output_type": "execute_result"
    }
   ],
   "source": [
    "Gray.(reshape(imgToRecover, 28,28))'"
   ]
  },
  {
   "cell_type": "code",
   "execution_count": 9,
   "metadata": {},
   "outputs": [
    {
     "data": {
      "text/plain": [
       "110×784 Matrix{Float64}:\n",
       " 0.0953463   0.134827  0.134787    0.134721    …  -0.00378176  -0.00189106\n",
       " 0.0953463   0.134818  0.134752    0.134643        0.00486184   0.00243132\n",
       " 0.0953463   0.134671  0.134164    0.13332         0.0134855    0.0067512\n",
       " 0.0953463   0.134137  0.132034    0.128554       -0.027365    -0.0137542\n",
       " 0.0953463   0.13332   0.128796    0.121369       -0.0399168   -0.0201859\n",
       " 0.0953463   0.131152  0.12029     0.102848    …   0.060927     0.0313201\n",
       " 0.0953463   0.130633  0.118276    0.0985379       0.0647512    0.0334182\n",
       " 0.0953463   0.130081  0.116139    0.0939997       0.0685089    0.0355077\n",
       " 0.0953463   0.129938  0.115587    0.0928308      -0.0694374   -0.0360286\n",
       " 0.0953463   0.129645  0.114459    0.0904529      -0.0712811   -0.0370688\n",
       " 0.0953463   0.129034  0.112115    0.0855416   …  -0.0749131   -0.039142\n",
       " 0.0953463   0.128716  0.1109      0.083011       -0.0767004   -0.0401748\n",
       " 0.0953463   0.128224  0.109024    0.0791258       0.0793443    0.0417192\n",
       " ⋮                                             ⋱               \n",
       " 0.0953463  -0.115447  0.0628472   0.00783026     -0.119298     0.0696689\n",
       " 0.0953463  -0.117884  0.0712811  -0.0067512       0.114459    -0.065461\n",
       " 0.0953463  -0.121133  0.082798   -0.0276295   …  -0.106425     0.059234\n",
       " 0.0953463  -0.121604  0.0844931  -0.0307943      -0.105084     0.0582613\n",
       " 0.0953463  -0.122746  0.088635   -0.0386246       0.101615    -0.0558134\n",
       " 0.0953463  -0.124884  0.0964855  -0.0538389       0.0941932   -0.0508513\n",
       " 0.0953463  -0.127362  0.105758   -0.0724241      -0.0836482    0.0442797\n",
       " 0.0953463  -0.130222  0.116685   -0.095155    …  -0.0675759    0.0349861\n",
       " 0.0953463  -0.1334    0.129112   -0.122067        0.0388834   -0.0196515\n",
       " 0.0953463  -0.134243  0.132456   -0.129495       -0.0252453    0.0126788\n",
       " 0.0953463  -0.134385  0.133024   -0.130766        0.0220537   -0.0110641\n",
       " 0.0953463  -0.13447   0.133361   -0.131519        0.0199187   -0.0099868"
      ]
     },
     "execution_count": 9,
     "metadata": {},
     "output_type": "execute_result"
    }
   ],
   "source": [
    "F = samplefourierwithoutreplacement(128, 28^2)"
   ]
  },
  {
   "cell_type": "code",
   "execution_count": 10,
   "metadata": {},
   "outputs": [
    {
     "data": {
      "text/plain": [
       "110-element Vector{Float64}:\n",
       " -4.001722130898035\n",
       "  0.6340190239162568\n",
       "  1.6362348995603861\n",
       "  0.27647451186827177\n",
       " -1.098721786866325\n",
       " -1.9079400065807206\n",
       " -0.8419686518177388\n",
       "  0.5234587800366206\n",
       " -0.7426842820642959\n",
       " -0.28842933526258313\n",
       " -0.46687405925038733\n",
       " -0.11739896405163955\n",
       "  0.09271944953729332\n",
       "  ⋮\n",
       "  0.09369005885877885\n",
       " -0.16537802916786695\n",
       "  0.08604746328586586\n",
       "  0.10856568962585704\n",
       "  0.04331645604648109\n",
       "  0.009515175845075094\n",
       " -0.043311618034918765\n",
       "  0.08843071523408247\n",
       " -0.08432285439540642\n",
       " -0.015722986860213766\n",
       "  0.09518227408505216\n",
       " -0.04428714225064731"
      ]
     },
     "execution_count": 10,
     "metadata": {},
     "output_type": "execute_result"
    }
   ],
   "source": [
    "meas = F* imgToRecover"
   ]
  },
  {
   "cell_type": "code",
   "execution_count": 54,
   "metadata": {},
   "outputs": [
    {
     "data": {
      "text/plain": [
       "fullfourier (generic function with 1 method)"
      ]
     },
     "execution_count": 54,
     "metadata": {},
     "output_type": "execute_result"
    }
   ],
   "source": [
    "include(\"CompressedSensing.jl\")"
   ]
  },
  {
   "cell_type": "code",
   "execution_count": 11,
   "metadata": {},
   "outputs": [
    {
     "ename": "LoadError",
     "evalue": "MethodError: no method matching (::Dense{typeof(relu), Matrix{Float64}, Bool})(::Tuple{Vector{Float64}, Vector{Float32}, Vector{Float32}})\n\u001b[0mClosest candidates are:\n\u001b[0m  (::Dense)(\u001b[91m::AbstractVecOrMat\u001b[39m) at ~/.julia/packages/Flux/js6mP/src/layers/basic.jl:157\n\u001b[0m  (::Dense)(\u001b[91m::AbstractArray\u001b[39m) at ~/.julia/packages/Flux/js6mP/src/layers/basic.jl:162",
     "output_type": "error",
     "traceback": [
      "MethodError: no method matching (::Dense{typeof(relu), Matrix{Float64}, Bool})(::Tuple{Vector{Float64}, Vector{Float32}, Vector{Float32}})\n\u001b[0mClosest candidates are:\n\u001b[0m  (::Dense)(\u001b[91m::AbstractVecOrMat\u001b[39m) at ~/.julia/packages/Flux/js6mP/src/layers/basic.jl:157\n\u001b[0m  (::Dense)(\u001b[91m::AbstractArray\u001b[39m) at ~/.julia/packages/Flux/js6mP/src/layers/basic.jl:162",
      "",
      "Stacktrace:",
      "  [1] macro expansion",
      "    @ ~/.julia/packages/Zygote/IoW2g/src/compiler/interface2.jl:0 [inlined]",
      "  [2] _pullback(ctx::Zygote.Context, f::Dense{typeof(relu), Matrix{Float64}, Bool}, args::Tuple{Vector{Float64}, Vector{Float32}, Vector{Float32}})",
      "    @ Zygote ~/.julia/packages/Zygote/IoW2g/src/compiler/interface2.jl:9",
      "  [3] macro expansion",
      "    @ ~/.julia/packages/Flux/js6mP/src/layers/basic.jl:53 [inlined]",
      "  [4] _pullback",
      "    @ ~/.julia/packages/Flux/js6mP/src/layers/basic.jl:53 [inlined]",
      "  [5] _pullback(::Zygote.Context, ::typeof(Flux.applychain), ::Tuple{Dense{typeof(relu), Matrix{Float64}, Bool}, Dense{typeof(relu), Matrix{Float64}, Bool}, Dense{typeof(σ), Matrix{Float64}, Bool}}, ::Tuple{Vector{Float64}, Vector{Float32}, Vector{Float32}})",
      "    @ Zygote ~/.julia/packages/Zygote/IoW2g/src/compiler/interface2.jl:0",
      "  [6] _pullback",
      "    @ ~/.julia/packages/Flux/js6mP/src/layers/basic.jl:51 [inlined]",
      "  [7] _pullback(ctx::Zygote.Context, f::Chain{Tuple{Dense{typeof(relu), Matrix{Float64}, Bool}, Dense{typeof(relu), Matrix{Float64}, Bool}, Dense{typeof(σ), Matrix{Float64}, Bool}}}, args::Tuple{Vector{Float64}, Vector{Float32}, Vector{Float32}})",
      "    @ Zygote ~/.julia/packages/Zygote/IoW2g/src/compiler/interface2.jl:0",
      "  [8] _pullback",
      "    @ ~/GNN_Isometries/reusefiles/CompressedSensing.jl:48 [inlined]",
      "  [9] _pullback(ctx::Zygote.Context, f::var\"#loss#6\"{Vector{Float64}, Matrix{Float64}, Chain{Tuple{Dense{typeof(relu), Matrix{Float64}, Bool}, Dense{typeof(relu), Matrix{Float64}, Bool}, Dense{typeof(σ), Matrix{Float64}, Bool}}}}, args::Tuple{Vector{Float64}, Vector{Float32}, Vector{Float32}})",
      "    @ Zygote ~/.julia/packages/Zygote/IoW2g/src/compiler/interface2.jl:0",
      " [10] _pullback",
      "    @ ~/GNN_Isometries/reusefiles/CompressedSensing.jl:20 [inlined]",
      " [11] _pullback(::Zygote.Context, ::var\"#arglessloss#3\"{var\"#loss#6\"{Vector{Float64}, Matrix{Float64}, Chain{Tuple{Dense{typeof(relu), Matrix{Float64}, Bool}, Dense{typeof(relu), Matrix{Float64}, Bool}, Dense{typeof(σ), Matrix{Float64}, Bool}}}}, Tuple{Vector{Float64}, Vector{Float32}, Vector{Float32}}})",
      "    @ Zygote ~/.julia/packages/Zygote/IoW2g/src/compiler/interface2.jl:0",
      " [12] pullback(f::Function, ps::Zygote.Params{Zygote.Buffer{Any, Vector{Any}}})",
      "    @ Zygote ~/.julia/packages/Zygote/IoW2g/src/compiler/interface.jl:352",
      " [13] gradient(f::Function, args::Zygote.Params{Zygote.Buffer{Any, Vector{Any}}})",
      "    @ Zygote ~/.julia/packages/Zygote/IoW2g/src/compiler/interface.jl:75",
      " [14] (::var\"#2#4\"{ADAM, Float64, Int64, Int64, var\"#loss#6\"{Vector{Float64}, Matrix{Float64}, Chain{Tuple{Dense{typeof(relu), Matrix{Float64}, Bool}, Dense{typeof(relu), Matrix{Float64}, Bool}, Dense{typeof(σ), Matrix{Float64}, Bool}}}}, Tuple{Vector{Float64}, Vector{Float32}, Vector{Float32}}, var\"#arglessloss#3\"{var\"#loss#6\"{Vector{Float64}, Matrix{Float64}, Chain{Tuple{Dense{typeof(relu), Matrix{Float64}, Bool}, Dense{typeof(relu), Matrix{Float64}, Bool}, Dense{typeof(σ), Matrix{Float64}, Bool}}}}, Tuple{Vector{Float64}, Vector{Float32}, Vector{Float32}}}, Zygote.Params{Zygote.Buffer{Any, Vector{Any}}}, Float64})()",
      "    @ Main ~/GNN_Isometries/reusefiles/CompressedSensing.jl:27",
      " [15] with_logstate(f::Function, logstate::Any)",
      "    @ Base.CoreLogging ./logging.jl:511",
      " [16] with_logger",
      "    @ ./logging.jl:623 [inlined]",
      " [17] optimise!(loss::var\"#loss#6\"{Vector{Float64}, Matrix{Float64}, Chain{Tuple{Dense{typeof(relu), Matrix{Float64}, Bool}, Dense{typeof(relu), Matrix{Float64}, Bool}, Dense{typeof(σ), Matrix{Float64}, Bool}}}}, z::Tuple{Vector{Float64}, Vector{Float32}, Vector{Float32}}; opt::ADAM, tolerance::Float64, out_toggle::Int64, max_iter::Int64, tblogdir::String)",
      "    @ Main ~/GNN_Isometries/reusefiles/CompressedSensing.jl:21",
      " [18] recoversignal(measurements::Vector{Float64}, A::Matrix{Float64}, model::Chain{Tuple{Dense{typeof(relu), Matrix{Float64}, Bool}, Dense{typeof(relu), Matrix{Float64}, Bool}, Dense{typeof(σ), Matrix{Float64}, Bool}}}, code_dim::Int64; initcode::Tuple{Vector{Float64}, Vector{Float32}, Vector{Float32}}, kwargs::Base.Pairs{Symbol, Any, Tuple{Symbol, Symbol}, NamedTuple{(:tblogdir, :out_toggle), Tuple{String, Int64}}})",
      "    @ Main ~/GNN_Isometries/reusefiles/CompressedSensing.jl:54",
      " [19] top-level scope",
      "    @ In[11]:1",
      " [20] eval",
      "    @ ./boot.jl:373 [inlined]",
      " [21] include_string(mapexpr::typeof(REPL.softscope), mod::Module, code::String, filename::String)",
      "    @ Base ./loading.jl:1196"
     ]
    }
   ],
   "source": [
    "recovery = recoversignal(meas,F,model.decoder, 20, initcode = code, tblogdir=\"./logs/\", out_toggle = 100)"
   ]
  },
  {
   "cell_type": "code",
   "execution_count": 38,
   "metadata": {},
   "outputs": [
    {
     "data": {
      "image/png": "[encoded data removed]",
      "text/html": [
       "<img src=\"data:image/png;base64,iVBORw0KGgoAAAANSUhEUgAAAHAAAABwCAAAAADji6uXAAAABGdBTUEAALGPC/xhBQAAAAFzUkdCAK7OHOkAAAAgY0hSTQAAeiYAAICEAAD6AAAAgOgAAHUwAADqYAAAOpgAABdwnLpRPAAABDtJREFUaAW9wV2PVWcZAND17P2cwwwMw4B8TKwx0mKT1jYaE73Te3+Iv8+/oBemN7YaGkuqtjVGUGiBgZnCzDln70eSl+Q4td6+a+WvUQhNITSFQGkChfC/CoFCaMp5gdRZ6ix1lr4hNIXQBAbNpCkMKIStsBXOK6TOUmepsyxNIWyFpjBoBswYMWFGaAqBcl6gNIHUWeosdZaBQvh2hREb7OEZBs0ZAgNmzBgRGDQzwlbqLHWWOkuvhK1w3gIzRpxiBxsECjvYYIkNJowohCYwI5A6S52lztJrhUBpRgxYYQeJIyxxCT/GB9jDARIf4hAT1prAhNCkzlJnqbP0DYHCoElcwEt8F3/HPj7CW3gfv8H38R7+pXmJi1gjNYXUWeosdZZeG1AozJiw1My4gmP8Ah/jbezjQ7yDi/grEnt4igVmW4HUWeosdZaFQKEQSATWKBziAa5iFz/Dp7iEXZxigw1u4y5uYMKICYEZqbPUWeos/ZfABoHEhA2e4SYKn2Ef17HBPexigQOc4gBrFAIDZgRSZ6mz1FmGZkRpBoxYYIEdPMI7SNzFjBX2ULiBH+C3CBSWWGG2lTpLnaXOshAozFhgxEssscGXOMIf8QK38ByX8QQTRnytOcKBZsCMATNSZ6mz1Fl6pTSBDUbsIHGEZzjAc+zhCc6wxj4e4Kc4wUPcwglGzAiEJnWWOkudZWgKhURhwhJv4RYe4Cf4Evewi8Iufo4T/AUrXEVhjdBMmtRZ6ix1lqUpBCbs4hS3cReP8RBXcR+XETjETUz4CAvcxhovUZgQKE3qLHWWOstAIRBYYoPCP5EY8SN8jj18hV/iz5iwwLt4iGNcwQaFDRYYMSN1ljpLnaXXZucFjhE4wk3cxw/xJj7FEm9gDxPu4Ra+h8d4jEQhNKmz1FnqLL0SKASWWGFGaH6FD/Am7uNdPMJ1/AEv8B4u4wgfY8YSAwZbqbPUWeosC4HQlGZAYh+f4wwDAie4jMsIvI0nWGODwgpLrDBiRiF1ljpLnWXYGnCKDRKJx5hxDY9wCYf4G85wB4ERJ/g3ZgQCAzYYEEidpc5SZ+m10AwI7OAibiDwD1zA17iK6xhximv4k2aJp9hFYcICpUmdpc5SZ1kIFAqJEYVjXMUZ7mDEHtZYY4XP8D5WWOIYuygMuIDJVuosdZY6y0AhEJgQCOzjOV7gJl7gC+zjDfwOh/gEV3CKC7ZmFAKFQuosdZY6S99iiVM8wUU8xe9xBSf4At/BHXylea4ZUCgEBsyaQOosdZY6S68ESjNjxhJLHOMa1riAxAFO8USzQGHWzBhQmDWFQOosdZY6y0LYCqxQWCGxwowzzJoBK4wIbDBqEoVAaUKTOkudpc4yUAgUAoVAYYVEYEZpZoyYURgxYEL5/1JnqbPUWRYGFEITCBQGlGbWzAjMGDSFDUJTCFuBGamz1Fnq7D8EojyhxDlTRwAAAABJRU5ErkJg\">"
      ],
      "text/plain": [
       "28×28 reinterpret(reshape, Gray{Float64}, adjoint(::Matrix{Float64})) with eltype Gray{Float64}:\n",
       " Gray{Float64}(0.39565)   Gray{Float64}(0.393798)  …  Gray{Float64}(0.397235)\n",
       " Gray{Float64}(0.396156)  Gray{Float64}(0.39391)      Gray{Float64}(0.393926)\n",
       " Gray{Float64}(0.393809)  Gray{Float64}(0.394047)     Gray{Float64}(0.396324)\n",
       " Gray{Float64}(0.39796)   Gray{Float64}(0.393415)     Gray{Float64}(0.397213)\n",
       " Gray{Float64}(0.395646)  Gray{Float64}(0.395825)     Gray{Float64}(0.395709)\n",
       " Gray{Float64}(0.396007)  Gray{Float64}(0.395244)  …  Gray{Float64}(0.395667)\n",
       " Gray{Float64}(0.39564)   Gray{Float64}(0.395635)     Gray{Float64}(0.39386)\n",
       " Gray{Float64}(0.396276)  Gray{Float64}(0.396801)     Gray{Float64}(0.397256)\n",
       " Gray{Float64}(0.393821)  Gray{Float64}(0.397462)     Gray{Float64}(0.392319)\n",
       " Gray{Float64}(0.393867)  Gray{Float64}(0.395687)     Gray{Float64}(0.395654)\n",
       " Gray{Float64}(0.395655)  Gray{Float64}(0.397244)  …  Gray{Float64}(0.395658)\n",
       " Gray{Float64}(0.393823)  Gray{Float64}(0.395208)     Gray{Float64}(0.396184)\n",
       " Gray{Float64}(0.393808)  Gray{Float64}(0.393989)     Gray{Float64}(0.397248)\n",
       " ⋮                                                 ⋱  \n",
       " Gray{Float64}(0.395454)  Gray{Float64}(0.393911)     Gray{Float64}(0.395976)\n",
       " Gray{Float64}(0.394542)  Gray{Float64}(0.397367)     Gray{Float64}(0.396062)\n",
       " Gray{Float64}(0.393895)  Gray{Float64}(0.397249)     Gray{Float64}(0.390324)\n",
       " Gray{Float64}(0.39571)   Gray{Float64}(0.395636)     Gray{Float64}(0.394504)\n",
       " Gray{Float64}(0.395657)  Gray{Float64}(0.395423)  …  Gray{Float64}(0.396329)\n",
       " Gray{Float64}(0.394044)  Gray{Float64}(0.395148)     Gray{Float64}(0.394942)\n",
       " Gray{Float64}(0.397952)  Gray{Float64}(0.392251)     Gray{Float64}(0.393861)\n",
       " Gray{Float64}(0.395428)  Gray{Float64}(0.393825)     Gray{Float64}(0.395238)\n",
       " Gray{Float64}(0.395587)  Gray{Float64}(0.394189)     Gray{Float64}(0.396311)\n",
       " Gray{Float64}(0.393851)  Gray{Float64}(0.395665)  …  Gray{Float64}(0.395706)\n",
       " Gray{Float64}(0.394708)  Gray{Float64}(0.393962)     Gray{Float64}(0.395265)\n",
       " Gray{Float64}(0.39384)   Gray{Float64}(0.398098)     Gray{Float64}(0.393878)"
      ]
     },
     "execution_count": 38,
     "metadata": {},
     "output_type": "execute_result"
    }
   ],
   "source": [
    "colorview(Gray, reshape(recovery, 28,28)')"
   ]
  },
  {
   "cell_type": "markdown",
   "metadata": {},
   "source": []
  },
  {
   "cell_type": "code",
   "execution_count": 40,
   "metadata": {},
   "outputs": [
    {
     "data": {
      "image/png": "[encoded data removed]",
      "text/html": [
       "<img src=\"data:image/png;base64,iVBORw0KGgoAAAANSUhEUgAAAHAAAABwCAAAAADji6uXAAAABGdBTUEAALGPC/xhBQAAAAFzUkdCAK7OHOkAAAAgY0hSTQAAeiYAAICEAAD6AAAAgOgAAHUwAADqYAAAOpgAABdwnLpRPAAAAdBJREFUaAW9wb1qlgcABtCDeToUXLRU6FB/cOtSgggFWyh0EV0EvYXUoXQpBFxCQYdAxg7egeAFlBIKKXTRJYv4UyrGwYoIhQS0Q1ChDu8QBL/4vfnCc06URVmURVmURVmURVmURVmURVmURVmURVmURVmURVmURVmURVmURVmURVlMcAkLeIZt3MBzPDKbKIuyKIsJVnDcjst4ift29xQrWPd+URZlURYTLOBLPMAXmMe3+Ar/4HM73uBffGbwBOveL8qiLMpigjWsGawaHMI81nHajm08xF84jMcmi7Ioi7IYYQt/GKx510Ucwl3cNFmURVmUxT44gus4gKvYNFmURVmUxT74AZ9iC3/bXZRFWZTFjM7gisEF3LO7KIuyKIsZncNHWMNtHxZlURZlMYOPcRav8DNe+7Aoi7IoixksYh6ruGU6URZlURZ7dB5LeIFrphdlURZlsQef4BfM4TfcNr0oi7Ioi5HmsIoT2MCScaIsyqIsRjqJUwY/YcM4URZlURYjHMPvBov41XhRFmVRFiN8j6MGf+J/40VZlEVZTOkb/Gh2URZlURZT+hoHDTbwn72JsiiLshjpDr7Dpr2JsiiLspjSMpbNLsqiLMreApamPWWOWvFrAAAAAElFTkSuQmCC\">"
      ],
      "text/plain": [
       "28×28 reinterpret(reshape, Gray{Float32}, adjoint(::Matrix{Float32})) with eltype Gray{Float32}:\n",
       " Gray{Float32}(0.0)  Gray{Float32}(0.0)  …  Gray{Float32}(0.0)\n",
       " Gray{Float32}(0.0)  Gray{Float32}(0.0)     Gray{Float32}(0.0)\n",
       " Gray{Float32}(0.0)  Gray{Float32}(0.0)     Gray{Float32}(0.0)\n",
       " Gray{Float32}(0.0)  Gray{Float32}(0.0)     Gray{Float32}(0.0)\n",
       " Gray{Float32}(0.0)  Gray{Float32}(0.0)     Gray{Float32}(0.0)\n",
       " Gray{Float32}(0.0)  Gray{Float32}(0.0)  …  Gray{Float32}(0.0)\n",
       " Gray{Float32}(0.0)  Gray{Float32}(0.0)     Gray{Float32}(0.0)\n",
       " Gray{Float32}(0.0)  Gray{Float32}(0.0)     Gray{Float32}(0.0)\n",
       " Gray{Float32}(0.0)  Gray{Float32}(0.0)     Gray{Float32}(0.0)\n",
       " Gray{Float32}(0.0)  Gray{Float32}(0.0)     Gray{Float32}(0.0)\n",
       " Gray{Float32}(0.0)  Gray{Float32}(0.0)  …  Gray{Float32}(0.0)\n",
       " Gray{Float32}(0.0)  Gray{Float32}(0.0)     Gray{Float32}(0.0)\n",
       " Gray{Float32}(0.0)  Gray{Float32}(0.0)     Gray{Float32}(0.0)\n",
       " ⋮                                       ⋱  \n",
       " Gray{Float32}(0.0)  Gray{Float32}(0.0)     Gray{Float32}(0.0)\n",
       " Gray{Float32}(0.0)  Gray{Float32}(0.0)     Gray{Float32}(0.0)\n",
       " Gray{Float32}(0.0)  Gray{Float32}(0.0)     Gray{Float32}(0.0)\n",
       " Gray{Float32}(0.0)  Gray{Float32}(0.0)     Gray{Float32}(0.0)\n",
       " Gray{Float32}(0.0)  Gray{Float32}(0.0)  …  Gray{Float32}(0.0)\n",
       " Gray{Float32}(0.0)  Gray{Float32}(0.0)     Gray{Float32}(0.0)\n",
       " Gray{Float32}(0.0)  Gray{Float32}(0.0)     Gray{Float32}(0.0)\n",
       " Gray{Float32}(0.0)  Gray{Float32}(0.0)     Gray{Float32}(0.0)\n",
       " Gray{Float32}(0.0)  Gray{Float32}(0.0)     Gray{Float32}(0.0)\n",
       " Gray{Float32}(0.0)  Gray{Float32}(0.0)  …  Gray{Float32}(0.0)\n",
       " Gray{Float32}(0.0)  Gray{Float32}(0.0)     Gray{Float32}(0.0)\n",
       " Gray{Float32}(0.0)  Gray{Float32}(0.0)     Gray{Float32}(0.0)"
      ]
     },
     "execution_count": 40,
     "metadata": {},
     "output_type": "execute_result"
    }
   ],
   "source": [
    "colorview(Gray, reshape(imgToRecover, 28, 28)')"
   ]
  },
  {
   "cell_type": "code",
   "execution_count": 41,
   "metadata": {},
   "outputs": [
    {
     "data": {
      "text/plain": [
       "0.39564957199924244"
      ]
     },
     "execution_count": 41,
     "metadata": {},
     "output_type": "execute_result"
    }
   ],
   "source": [
    "recovery[1]"
   ]
  },
  {
   "cell_type": "code",
   "execution_count": 42,
   "metadata": {},
   "outputs": [
    {
     "data": {
      "text/plain": [
       "show (generic function with 1 method)"
      ]
     },
     "execution_count": 42,
     "metadata": {},
     "output_type": "execute_result"
    }
   ],
   "source": [
    "function show(sig)\n",
    "    plot(colorview(Gray, reshape(sig, 28,28)'))\n",
    "end"
   ]
  },
  {
   "cell_type": "code",
   "execution_count": 45,
   "metadata": {},
   "outputs": [
    {
     "data": {
      "image/png": "[encoded data removed]",
      "text/html": [
       "<img src=\"data:image/png;base64,iVBORw0KGgoAAAANSUhEUgAAAHAAAABwCAAAAADji6uXAAAABGdBTUEAALGPC/xhBQAAAAFzUkdCAK7OHOkAAAAgY0hSTQAAeiYAAICEAAD6AAAAgOgAAHUwAADqYAAAOpgAABdwnLpRPAAAA2ZJREFUaAW9wc1qnGUYANDzzjyTn3bSamuiYk1FwV9idaMIIrjpdehdeQmu3AouqhtREFFEpIXa1Gox2sS2aZJmJjPf6+JbDElm0tLFc05IFpKFZCFZSBaShWQhWXhCxWHV4wnJQrKQLDymYqKDgoIxilZFRTVbSBaShWThEQoKOlpdBBbRoGIR/2AeB2hQUR0XkoVkIVk4QUFBT6ugjz4avIdfcB6BAwywgwYNKqqJkCwkC8nCDAUFXXSwhEW8iXls4hzW0MdL+AGX8A0qilY1EZKFZCFZmKKgoIcuehjgotZ5rOBvfICftBawjkCDDhoUVK2QLCQLycIRRaug4BTO4DkExtjGIj7GLp7HJl7GNZzDJsYoaEyEZCFZSBZm6GCEDhZwHx9iD1tYxud4DVu4gO9QcBdDFIwdFpKFZCFZmKKgoIc5bGAF27iJIX7DKlbQx030cBuBi1hHRTURkoVkIVk4QQcdrGKIHbyAq3gWF3EfCzijNUaDW6iOC8lCspAszDBGYAUP8AYe4A8saD2Nd3EF19Cgh32MtarDQrKQLCQLR1QUrYoGF7COt/Ei1vEpruIOLmEHX6GPh6haBdVESBaShWRhhg4GuI3AZQzwOy6jwQh/oo8NPINtrS7GqA4LyUKykCwcUVBQcAqBZVxBxUf4DJ+gwQJ+xQDbqChoULSqiZAsJAvJwhEVDeYwRBc30EUX3+MdPIW72MV/uId57KCPbVTHhWQhWUgWjigoGGOMEXoILOAV9HELu3gdNzCHAQIPULWqw0KykCwkC1MUjNFFgyV0cQ/3McIavsYuCs5jC0PMYYCKgmoiJAvJQrIwRYOCioItnEUf23gLd7CMAdbwJXZRMEDVqg4LyUKykCxMURComMNpnMWr2MQW/sUAK7iBXfTwEBUV1XEhWUgWkoUjKgoazKODJa1VrGER13Ed89jACAdoUM0WkoVkIVk4wQgL2MMpfIsOVrGEZdzGFsaoaFBRTReShWQhWZiioqLBCPv4C2tYwc94H+vYwAAPcYDqZCFZSBaShSkqGq0hulo/4gA9fIHT2MUeGhStaraQLCQLycIMFQ2G2MdpjLW6GGEDFR2MUVGdLCQLyUKycIKKRmsPHTTYR0FBg7FW9WghWUgWkoVHqFoVjYnqyYRkIVlI9j9WA+lgUI6DsgAAAABJRU5ErkJg\">"
      ],
      "text/plain": [
       "28×28 reinterpret(reshape, Gray{Float64}, adjoint(::Matrix{Float64})) with eltype Gray{Float64}:\n",
       " Gray{Float64}(0.0)  Gray{Float64}(0.0)        …  Gray{Float64}(0.0)\n",
       " Gray{Float64}(0.0)  Gray{Float64}(0.0)           Gray{Float64}(0.0)\n",
       " Gray{Float64}(0.0)  Gray{Float64}(0.0)           Gray{Float64}(0.0)\n",
       " Gray{Float64}(0.0)  Gray{Float64}(0.0)           Gray{Float64}(0.0)\n",
       " Gray{Float64}(0.0)  Gray{Float64}(0.0)           Gray{Float64}(0.0)\n",
       " Gray{Float64}(0.0)  Gray{Float64}(0.0)        …  Gray{Float64}(0.0)\n",
       " Gray{Float64}(0.0)  Gray{Float64}(0.0)           Gray{Float64}(0.0)\n",
       " Gray{Float64}(0.0)  Gray{Float64}(0.0)           Gray{Float64}(0.0)\n",
       " Gray{Float64}(0.0)  Gray{Float64}(0.0)           Gray{Float64}(0.0)\n",
       " Gray{Float64}(0.0)  Gray{Float64}(3.2012e-6)     Gray{Float64}(0.0)\n",
       " Gray{Float64}(0.0)  Gray{Float64}(0.0)        …  Gray{Float64}(0.0)\n",
       " Gray{Float64}(0.0)  Gray{Float64}(0.0)           Gray{Float64}(0.0)\n",
       " Gray{Float64}(0.0)  Gray{Float64}(0.0)           Gray{Float64}(0.0)\n",
       " ⋮                                             ⋱  \n",
       " Gray{Float64}(0.0)  Gray{Float64}(0.0)           Gray{Float64}(0.0)\n",
       " Gray{Float64}(0.0)  Gray{Float64}(0.0)           Gray{Float64}(0.0)\n",
       " Gray{Float64}(0.0)  Gray{Float64}(0.0)           Gray{Float64}(0.0)\n",
       " Gray{Float64}(0.0)  Gray{Float64}(0.0)           Gray{Float64}(0.0)\n",
       " Gray{Float64}(0.0)  Gray{Float64}(0.0)        …  Gray{Float64}(0.0)\n",
       " Gray{Float64}(0.0)  Gray{Float64}(0.0)           Gray{Float64}(0.0)\n",
       " Gray{Float64}(0.0)  Gray{Float64}(0.0)           Gray{Float64}(0.0)\n",
       " Gray{Float64}(0.0)  Gray{Float64}(0.0)           Gray{Float64}(0.0)\n",
       " Gray{Float64}(0.0)  Gray{Float64}(0.0)           Gray{Float64}(0.0)\n",
       " Gray{Float64}(0.0)  Gray{Float64}(0.0)        …  Gray{Float64}(0.0)\n",
       " Gray{Float64}(0.0)  Gray{Float64}(0.0)           Gray{Float64}(0.0)\n",
       " Gray{Float64}(0.0)  Gray{Float64}(0.0)           Gray{Float64}(0.0)"
      ]
     },
     "execution_count": 45,
     "metadata": {},
     "output_type": "execute_result"
    }
   ],
   "source": [
    "show(model(imgToRecover))"
   ]
  },
  {
   "cell_type": "code",
   "execution_count": null,
   "metadata": {},
   "outputs": [],
   "source": [
    "otherimg = MNIST(Float32,)"
   ]
  },
  {
   "cell_type": "code",
   "execution_count": 6,
   "metadata": {},
   "outputs": [
    {
     "data": {
      "text/plain": [
       "([-11210.868321725422, 8522.5732421875, 10523.913540969554, -7776.256120685855, -8522.845703125, 33278.82455128401, 8522.908203125, 14778.850594101059, 13655.986449304908, 16148.514858294413, -8522.998046875, -12786.163671479067, 19763.665201900876, -8421.28263700543, 8522.9892578125, -8523.0478515625, -8433.552269612852, -8523.0341796875, -100493.39023985408, 12232.854870597257], Float32[-8522.888, 8522.573, 8523.582, -8523.898, -8522.846, 8523.4, 8522.908, 8523.4795, 8523.118, 8522.922, -8522.998, -8523.388, -8523.293, -8523.1, 8522.989, -8523.048, -8523.392, -8523.034, 8522.96, 8523.209], Float32[17.270842, -8338.5205, 17.354424, 17.318869, -8339.521, 18.911951, -8341.248, 17.934109, 17.740982, 17.068094, -8342.433, 17.544617, 18.462055, 16.592808, -8338.626, -8342.703, 19.175608, -8340.292, 22.263325, 17.163574])"
      ]
     },
     "execution_count": 6,
     "metadata": {},
     "output_type": "execute_result"
    }
   ],
   "source": [
    "code = model.encoder(imgToRecover)"
   ]
  },
  {
   "cell_type": "code",
   "execution_count": 48,
   "metadata": {},
   "outputs": [
    {
     "data": {
      "text/plain": [
       "76193.57915283654"
      ]
     },
     "execution_count": 48,
     "metadata": {},
     "output_type": "execute_result"
    }
   ],
   "source": [
    "norm(code)"
   ]
  },
  {
   "cell_type": "code",
   "execution_count": null,
   "metadata": {},
   "outputs": [],
   "source": []
  }
 ],
 "metadata": {
  "kernelspec": {
   "display_name": "Julia 1.7.3",
   "language": "julia",
   "name": "julia-1.7"
  },
  "language_info": {
   "file_extension": ".jl",
   "mimetype": "application/julia",
   "name": "julia",
   "version": "1.7.3"
  },
  "orig_nbformat": 4
 },
 "nbformat": 4,
 "nbformat_minor": 2
}
