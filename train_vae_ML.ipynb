{
 "cells": [
  {
   "cell_type": "code",
   "execution_count": 1,
   "id": "87388d44",
   "metadata": {},
   "outputs": [
    {
     "name": "stdout",
     "output_type": "stream",
     "text": [
      "All function imported\n"
     ]
    },
    {
     "name": "stderr",
     "output_type": "stream",
     "text": [
      "WARNING: using JLD.@load in module Main conflicts with an existing identifier.\n",
      "WARNING: using JLD.@save in module Main conflicts with an existing identifier.\n"
     ]
    }
   ],
   "source": [
    "using BSON: @save\n",
    "using BSON: @load\n",
    "using CSV\n",
    "using DataFrames: DataFrame\n",
    "using Flux\n",
    "using Flux: logitbinarycrossentropy, binarycrossentropy, BatchNorm\n",
    "using Flux.Data: DataLoader\n",
    "using Flux: chunk\n",
    "using ImageFiltering\n",
    "using MLDatasets: FashionMNIST\n",
    "using ProgressMeter: Progress, next!\n",
    "using Random\n",
    "using Zygote\n",
    "using MLDatasets\n",
    "using Images\n",
    "using ImageIO\n",
    "using LinearAlgebra\n",
    "using FFTW\n",
    "\n",
    "using NBInclude\n",
    "@nbinclude(\"src/functions.ipynb\")"
   ]
  },
  {
   "cell_type": "code",
   "execution_count": 2,
   "id": "0efe9194",
   "metadata": {},
   "outputs": [],
   "source": [
    "# We define a reshape layer to use in our decoder\n",
    "struct Reshape\n",
    "    shape\n",
    "end\n",
    "Reshape(args...) = Reshape(args)\n",
    "(r::Reshape)(x) = reshape(x, r.shape)\n",
    "Flux.@functor Reshape ()"
   ]
  },
  {
   "cell_type": "code",
   "execution_count": 23,
   "id": "3fbf96e2",
   "metadata": {},
   "outputs": [
    {
     "data": {
      "text/plain": [
       "create_vae (generic function with 1 method)"
      ]
     },
     "execution_count": 23,
     "metadata": {},
     "output_type": "execute_result"
    }
   ],
   "source": [
    "function get_train_loader(batch_size, shuffle::Bool)\n",
    "    # The MNIST training set is made up of 60k 28 by 28 greyscale images\n",
    "    train_x, train_y = MNIST(split=:train)[:]\n",
    "    train_x = 1 .- reshape(train_x, (784, :))\n",
    "    return DataLoader((train_x, train_y), batchsize=batch_size, shuffle=shuffle, partial=false)\n",
    "end\n",
    "\n",
    "function save_model(encoder_μ, encoder_logvar, decoder, save_dir::String, epoch::Int)\n",
    "    print(\"Saving model...\")\n",
    "    let encoder_μ = cpu(encoder_μ), encoder_logvar = cpu(encoder_logvar), decoder = cpu(decoder)\n",
    "        @save joinpath(save_dir, \"model-$epoch.bson\") encoder_μ encoder_logvar decoder \n",
    "    end\n",
    "    println(\"Done\")\n",
    "end\n",
    "\n",
    "function create_vae()\n",
    "    # Define the encoder and decoder networks\n",
    "    encoder_features = Chain(\n",
    "        Dense(784,500, relu),\n",
    "        Dense(500,500, relu)\n",
    "    )\n",
    "    encoder_μ = Chain(encoder_features, Dense(500, 20))\n",
    "    encoder_logvar = Chain(encoder_features, Dense(500, 20))\n",
    "    \n",
    "    decoder = Chain(\n",
    "        Dense(20, 500, relu, bias = false),\n",
    "        Dense(500,500, relu, bias = false),\n",
    "        Dense(500, 784, relu, bias = false)\n",
    "    )\n",
    "\n",
    "    return encoder_μ, encoder_logvar, decoder\n",
    "end"
   ]
  },
  {
   "cell_type": "code",
   "execution_count": 29,
   "id": "e4fca59e",
   "metadata": {},
   "outputs": [
    {
     "data": {
      "text/plain": [
       "train (generic function with 2 methods)"
      ]
     },
     "execution_count": 29,
     "metadata": {},
     "output_type": "execute_result"
    }
   ],
   "source": [
    "function vae_loss(encoder_μ, encoder_logvar, decoder, x, β, λ, F_sub, m)\n",
    "    batch_size = size(x)[end]\n",
    "    @assert batch_size != 0\n",
    "\n",
    "    y_sub = F_sub*x\n",
    "    y = vcat(y_sub, zeros(784-m, batch_size))\n",
    "\n",
    "    # Forward propagate through mean encoder and std encoders\n",
    "    μ = encoder_μ(y)\n",
    "    logvar = encoder_logvar(y)\n",
    "    # Apply reparameterisation trick to sample latent\n",
    "    z = μ + randn(Float32, size(logvar)) .* exp.(0.5f0 * logvar)\n",
    "    # Reconstruct from latent sample\n",
    "    x̂ =  decoder(z)\n",
    "    \n",
    "    # # Negative reconstruction loss Ε_q[logp_x_z]\n",
    "    # logp_x_z = -sum(binarycrossentropy.(x̂, x)) \n",
    "\n",
    "    # mismatch MSE\n",
    "    MSE = (norm(y_sub - F_sub*x̂, 2)^2)/m\n",
    "\n",
    "    # KL(qᵩ(z|x)||p(z)) where p(z)=N(0,1) and qᵩ(z|x) models the encoder i.e. reverse KL\n",
    "    kl_q_p = 0.5f0 * sum(@. (exp(logvar) + μ^2 - logvar - 1f0)) \n",
    "    # Weight decay regularisation term\n",
    "    reg = λ * sum(x->sum(x.^2), Flux.params(encoder_μ, encoder_logvar))\n",
    "    # We want to maximise the evidence lower bound (ELBO)\n",
    "    elbo =  - β .* kl_q_p\n",
    "    # So we minimise the sum of the negative ELBO and a weight penalty\n",
    "    return -elbo + reg + MSE\n",
    "end\n",
    "\n",
    "function train(encoder_μ, encoder_logvar, decoder, dataloader, num_epochs, λ, β, optimiser, save_dir)\n",
    "    # The training loop for the model\n",
    "    trainable_params = Flux.params(encoder_μ, encoder_logvar)\n",
    "    progress_tracker = Progress(num_epochs, \"Training a epoch done\")\n",
    "\n",
    "    for epoch_num = 1:num_epochs\n",
    "        acc_loss = 0.0\n",
    "        loss = 0\n",
    "        for (x_batch, y_batch) in dataloader\n",
    "            m = rand(1:784)\n",
    "            F_sub = sample_fourier(m, 784)\n",
    "\n",
    "            # pullback function returns the result (loss) and a pullback operator (back)\n",
    "            loss, back = pullback(trainable_params) do\n",
    "                vae_loss(encoder_μ, encoder_logvar, decoder, x_batch, β, λ, F_sub, m)\n",
    "            end\n",
    "            # Feed the pullback 1 to obtain the gradients and update then model parameters\n",
    "            gradients = back(1f0)\n",
    "            Flux.Optimise.update!(optimiser, trainable_params, gradients)\n",
    "            if isnan(loss)\n",
    "                break\n",
    "            end\n",
    "            acc_loss += loss\n",
    "        end\n",
    "        next!(progress_tracker; showvalues=[(:loss, loss)])\n",
    "        @assert length(dataloader) > 0\n",
    "        avg_loss = acc_loss / length(dataloader)\n",
    "        metrics = DataFrame(epoch=epoch_num, negative_elbo=avg_loss)\n",
    "        # println(metrics)\n",
    "        CSV.write(joinpath(save_dir, \"metrics.csv\"), metrics, header=(epoch_num==1), append=true)\n",
    "        save_model(encoder_μ, encoder_logvar, decoder, save_dir, epoch_num)\n",
    "    end\n",
    "    println(\"Training complete!\")\n",
    "end\n",
    "\n"
   ]
  },
  {
   "cell_type": "code",
   "execution_count": 90,
   "id": "339ecd6a",
   "metadata": {},
   "outputs": [
    {
     "name": "stderr",
     "output_type": "stream",
     "text": [
      "┌ Warning: ProgressMeter by default refresh meters with additional information in IJulia via `IJulia.clear_output`, which clears all outputs in the cell. \n",
      "│  - To prevent this behaviour, do `ProgressMeter.ijulia_behavior(:append)`. \n",
      "│  - To disable this warning message, do `ProgressMeter.ijulia_behavior(:clear)`.\n",
      "└ @ ProgressMeter C:\\Users\\Babhru\\.julia\\packages\\ProgressMeter\\sN2xr\\src\\ProgressMeter.jl:618\n",
      "\u001b[32mTraining a epoch done 100%|██████████████████████████████| Time: 3:11:27\u001b[39m\n",
      "\u001b[34m  loss:  6.760167043171348\u001b[39m\n"
     ]
    },
    {
     "name": "stdout",
     "output_type": "stream",
     "text": [
      "Saving model...Done\n",
      "Training complete!\n"
     ]
    }
   ],
   "source": [
    "batch_size = 64\n",
    "shuffle_data = true\n",
    "η = 0.001\n",
    "β = 1f0\n",
    "λ = 0.01f0\n",
    "num_epochs = 100\n",
    "save_dir = \"trained_GNN/test/trained_GNN/MNIST_ML\"\n",
    "# Define the model and create our data loader\n",
    "dataloader = get_train_loader(batch_size, shuffle_data)\n",
    "# encoder_μ, encoder_logvar, decoder = create_vae()\n",
    "train(encoder_μ, encoder_logvar, decoder, dataloader, num_epochs, λ, β, ADAM(η), save_dir)"
   ]
  },
  {
   "cell_type": "code",
   "execution_count": 31,
   "id": "26330dd6",
   "metadata": {},
   "outputs": [
    {
     "data": {
      "text/plain": [
       "visualise (generic function with 1 method)"
      ]
     },
     "execution_count": 31,
     "metadata": {},
     "output_type": "execute_result"
    }
   ],
   "source": [
    "function get_test_loader(batch_size, shuffle::Bool)\n",
    "    # The FashionMNIST test set is made up of 10k 28 by 28 greyscale images\n",
    "    test_x, test_y = MNIST(split=:test)[:]\n",
    "    test_x = 1 .- reshape(test_x, (784, :))\n",
    "    return DataLoader((test_x, test_y), batchsize=batch_size, shuffle=shuffle)\n",
    "end\n",
    "\n",
    "function save_to_images(x_batch, save_dir::String, prefix::String, num_images::Int64)\n",
    "    @assert num_images <= size(x_batch)[2]\n",
    "    for i=1:num_images\n",
    "        save(joinpath(save_dir, \"$prefix-$i.png\"), colorview(Gray, reshape(x_batch[:, i], 28,28)' ))\n",
    "    end\n",
    "end\n",
    "\n",
    "function reconstruct_images(encoder_μ, encoder_logvar, decoder, x)\n",
    "    # Forward propagate through mean encoder and std encoders\n",
    "    μ = encoder_μ(x)\n",
    "    logvar = encoder_logvar(x)\n",
    "    # Apply reparameterisation trick to sample latent\n",
    "    z = μ + randn(Float32, size(logvar)) .* exp.(0.5f0 * logvar)\n",
    "    # Reconstruct from latent sample\n",
    "\n",
    "    x̂ = sigmoid(decoder(z))\n",
    "    return clamp.(x̂, 0 ,1)\n",
    "end\n",
    "\n",
    "function load_model_identity(load_dir::String, epoch::Int)\n",
    "    print(\"Loading model...\")\n",
    "    @load joinpath(load_dir, \"model-$epoch.bson\") encoder_μ encoder_logvar decoder\n",
    "    println(\"Done\")\n",
    "    return encoder_μ, encoder_logvar, decoder\n",
    "end\n",
    "\n",
    "function visualise()\n",
    "    # Define some parameters\n",
    "    batch_size = 1\n",
    "    shuffle = true\n",
    "    num_images = 1\n",
    "    epoch_to_load = 20\n",
    "    # Load the model and test set loader\n",
    "    dir = \"test/trained_GNN/MNIST_sigmoid_inco\"\n",
    "    encoder_μ, encoder_logvar, decoder= load_model_identity(dir, epoch_to_load)\n",
    "    dataloader = get_test_loader(batch_size, shuffle)\n",
    "    # Reconstruct and save some images\n",
    "    for (x_batch, y_batch) in dataloader\n",
    "        save_to_images(x_batch, dir, \"test-image\", num_images)\n",
    "        x̂_batch = reconstruct_images(encoder_μ, encoder_logvar, decoder, x_batch)\n",
    "        print(size(x_batch))\n",
    "        save_to_images(x̂_batch, dir, \"reconstruction\", num_images)\n",
    "        break\n",
    "    end\n",
    "end\n"
   ]
  },
  {
   "cell_type": "code",
   "execution_count": null,
   "id": "eaf26eb4",
   "metadata": {},
   "outputs": [],
   "source": [
    "visualise()"
   ]
  },
  {
   "cell_type": "code",
   "execution_count": null,
   "id": "04c4dff8",
   "metadata": {},
   "outputs": [],
   "source": [
    "load(\"test/trained_GNN/MNIST_sigmoid_inco/reconstruction-1.png\")"
   ]
  },
  {
   "cell_type": "code",
   "execution_count": null,
   "id": "ecd198a2",
   "metadata": {},
   "outputs": [],
   "source": [
    "load(\"test/trained_GNN/MNIST_sigmoid_inco/test-image-1.png\")"
   ]
  },
  {
   "cell_type": "code",
   "execution_count": 32,
   "id": "f0f22c1a",
   "metadata": {},
   "outputs": [
    {
     "name": "stdout",
     "output_type": "stream",
     "text": [
      "All function imported\n",
      "Loading model...Done\n"
     ]
    }
   ],
   "source": [
    "using NBInclude\n",
    "@nbinclude(\"src/functions.ipynb\")\n",
    "epoch_to_load =10\n",
    "# Load the model and test set loader\n",
    "dir = \"trained_GNN/test/trained_GNN/MNIST_ML\"\n",
    "encoder_μ, encoder_logvar, decoder = load_model_identity(dir, epoch_to_load);\n",
    "\n",
    "\n",
    "batch_size = 64; shuffle = true\n",
    "dataloader = get_test_loader(batch_size, shuffle)\n",
    "(x_batch, y_batch) = first(dataloader)\n",
    "\n",
    "# # x = reshape(x_batch[:,1], 784,1)\n",
    "\n",
    "# μ = encoder_μ(x_batch)\n",
    "# logvar = encoder_logvar(x_batch)\n",
    "# # Apply reparameterisation trick to sample latent\n",
    "# z = μ + randn(Float32, size(logvar)) .* exp.(0.5f0 * logvar);\n",
    "\n",
    "\n",
    "# z1 = z[:,1]\n",
    "# z2 = z[:,2]\n",
    "# β = 1\n",
    "# colorview(Gray,reshape(sigmoid(decoder(β * z2 + (1-β) *z1))[:,1], 28,28)')\n",
    "# colorview(Gray,reshape(sigmoid(decoder(randn(20)))[:,1], 28,28)')\n",
    "\n",
    "\n",
    "\n",
    "\n"
   ]
  },
  {
   "cell_type": "code",
   "execution_count": 51,
   "id": "329774bd",
   "metadata": {},
   "outputs": [
    {
     "data": {
      "image/png": "[encoded data removed]",
      "text/html": [
       "<img src=\"data:image/png;base64,iVBORw0KGgoAAAANSUhEUgAAAHAAAABwCAAAAADji6uXAAAABGdBTUEAALGPC/xhBQAAAAFzUkdCAK7OHOkAAAAgY0hSTQAAeiYAAICEAAD6AAAAgOgAAHUwAADqYAAAOpgAABdwnLpRPAAAAr1JREFUaAW9wctqnWUYBtD1/fvJofYQ7QE8VdSKFis4cio4ryOvRxx6JYJzB16DVKwKohNB1BRiURu1TZOd7M/BvyE7pxpKfddKVyuKRbEoFsWiWBSLYlEsikWxKBbFolgUi2JRLIpFsSgWh3Q0dKOOjsG+5vFFsSgWxeIYu9hBN9rBLpYwxQpWMMGAhuZ0olgUi2KxoKNjD/exjilu4Sv8jWAPD3AGb+NNvIPLWMLgZFEsikWxOGSKXUzRMMNTWMMl7OBLbOIebqPhOj7CdZxBc7woFsWiWCzYwwQNF3AWwRu4iY4dPMAUX+N7fIpb+Bgf4i00x4tiUSyKxYIZJpjgLBq6gxo6Ol7FOn7CbWzgrkeLYlEsisVcx8RoQDNqjmpoWMbTeA3reB4N3cmiWBSLYjHX0NDQnE7DNjq2sIyrGJwsikWxKBYLmtPr2MM2NrCJyzjn0aJYFIticUjz3zq60Q5+xhW8gFWPFsWiWBSLue50ulHHfXyGBziHAQ+NOpqjolgUi2Ix1zHFMprjdaM9zHAXP+ASZljCPVzBxPGiWBSLYrFgwAwNDQ0dzaihG23hF/yFNTyDi7hoX0dzUBSLYlEs5jomRlPEaDDqRjM8xAY+wTqu4Squ4QIaOpqjolgUi2KxYIaGGaaYoKNjhvv4EbfwOb7DBDfwHl7BEjpmaBgw2BfFolgUi7mGHWxiC+exhz9wB7/jC3yL33AGN3ATH2ANAxo6tjFg1UFRLIpFsViwiz8xxRbu4Bvcwa+Y4Abex7t4HSsY0Iw6GlbR0BwUxaJYFIu5hlW8hE38g5dxDnfxIs7jOaxiQHNUM5o4XhSLYlEs5hqCYBlr6HgWQTCgoXl8USyKRbGY6/YFA2YImicnikWxKBZzzagbbWNAPFlRLIpFsTikGa2goXmyolgUi2Jxgon/RxSLYlHsX2fgjkUBKSO0AAAAAElFTkSuQmCC\">"
      ],
      "text/plain": [
       "28×28 reinterpret(reshape, Gray{Float64}, adjoint(::Matrix{Float64})) with eltype Gray{Float64}:\n",
       " Gray{Float64}(0.99999)   Gray{Float64}(0.99999)   …  Gray{Float64}(0.99999)\n",
       " Gray{Float64}(0.99999)   Gray{Float64}(0.99999)      Gray{Float64}(0.99999)\n",
       " Gray{Float64}(0.99999)   Gray{Float64}(0.99999)      Gray{Float64}(0.99999)\n",
       " Gray{Float64}(0.99999)   Gray{Float64}(0.99999)      Gray{Float64}(0.99999)\n",
       " Gray{Float64}(0.99999)   Gray{Float64}(0.999977)     Gray{Float64}(0.999992)\n",
       " Gray{Float64}(0.99999)   Gray{Float64}(0.99999)   …  Gray{Float64}(0.999987)\n",
       " Gray{Float64}(0.99999)   Gray{Float64}(0.99999)      Gray{Float64}(0.99999)\n",
       " Gray{Float64}(0.999989)  Gray{Float64}(0.999301)     Gray{Float64}(0.999995)\n",
       " Gray{Float64}(0.999976)  Gray{Float64}(0.999812)     Gray{Float64}(0.999995)\n",
       " Gray{Float64}(0.999975)  Gray{Float64}(0.99959)      Gray{Float64}(0.999993)\n",
       " Gray{Float64}(0.999964)  Gray{Float64}(0.99964)   …  Gray{Float64}(0.999991)\n",
       " Gray{Float64}(0.999972)  Gray{Float64}(0.9999)       Gray{Float64}(0.999989)\n",
       " Gray{Float64}(0.999975)  Gray{Float64}(0.999947)     Gray{Float64}(0.999992)\n",
       " ⋮                                                 ⋱  \n",
       " Gray{Float64}(0.99999)   Gray{Float64}(0.999974)     Gray{Float64}(0.99998)\n",
       " Gray{Float64}(0.99999)   Gray{Float64}(0.99996)      Gray{Float64}(0.999985)\n",
       " Gray{Float64}(0.999989)  Gray{Float64}(0.99996)      Gray{Float64}(0.99999)\n",
       " Gray{Float64}(0.999991)  Gray{Float64}(0.999942)     Gray{Float64}(0.999991)\n",
       " Gray{Float64}(0.99999)   Gray{Float64}(0.999698)  …  Gray{Float64}(0.99999)\n",
       " Gray{Float64}(0.999992)  Gray{Float64}(0.999731)     Gray{Float64}(0.999991)\n",
       " Gray{Float64}(0.999992)  Gray{Float64}(0.999988)     Gray{Float64}(0.999992)\n",
       " Gray{Float64}(0.99999)   Gray{Float64}(0.99999)      Gray{Float64}(0.99999)\n",
       " Gray{Float64}(0.99999)   Gray{Float64}(0.99999)      Gray{Float64}(0.999991)\n",
       " Gray{Float64}(0.99999)   Gray{Float64}(0.99999)   …  Gray{Float64}(0.99999)\n",
       " Gray{Float64}(0.99999)   Gray{Float64}(0.99999)      Gray{Float64}(0.99999)\n",
       " Gray{Float64}(0.99999)   Gray{Float64}(0.99999)      Gray{Float64}(0.999991)"
      ]
     },
     "execution_count": 51,
     "metadata": {},
     "output_type": "execute_result"
    }
   ],
   "source": [
    "colorview(Gray, reshape(decoder(randn(20)), 28, 28)' )\n"
   ]
  },
  {
   "cell_type": "code",
   "execution_count": 88,
   "id": "f747be9f",
   "metadata": {},
   "outputs": [
    {
     "data": {
      "text/plain": [
       "784×64 Matrix{Float64}:\n",
       " 0.999744  0.999999  0.999983  0.999998  …  0.999975  0.999947  0.999929\n",
       " 0.999744  0.999999  0.999983  0.999998     0.999975  0.999947  0.999929\n",
       " 0.999744  0.999999  0.999983  0.999998     0.999975  0.999947  0.999929\n",
       " 0.999744  0.999999  0.999983  0.999998     0.999975  0.999947  0.999929\n",
       " 0.999744  0.999999  0.999983  0.999998     0.999975  0.999947  0.999929\n",
       " 0.999744  0.999999  0.999983  0.999998  …  0.999975  0.999947  0.999929\n",
       " 0.999744  0.999999  0.999983  0.999998     0.999975  0.999947  0.999929\n",
       " 0.999744  0.999999  0.999983  0.999998     0.999975  0.999947  0.999929\n",
       " 0.999744  0.999999  0.999983  0.999998     0.999975  0.999947  0.999929\n",
       " 0.999744  0.999999  0.999983  0.999998     0.999975  0.999947  0.999929\n",
       " 0.999744  0.999999  0.999983  0.999998  …  0.999975  0.999947  0.999929\n",
       " 0.999744  0.999999  0.999983  0.999998     0.999975  0.999947  0.999929\n",
       " 0.999705  0.999999  0.999984  0.999998     0.999976  0.999937  0.999928\n",
       " ⋮                                       ⋱                      \n",
       " 0.999771  0.935174  0.999989  0.999997     0.999988  0.999993  0.999991\n",
       " 0.99986   0.920439  0.999995  0.999998     0.999988  0.999992  0.999982\n",
       " 0.999906  0.973314  0.999996  0.999999     0.999963  0.999992  0.999985\n",
       " 0.999914  0.986069  0.999995  0.999999  …  0.999939  0.999982  0.999971\n",
       " 0.99988   0.998298  0.999996  0.999998     0.999951  0.999972  0.999914\n",
       " 0.999838  0.999962  0.999995  0.999998     0.999928  0.999967  0.999898\n",
       " 0.999829  0.99999   0.999994  0.999999     0.999933  0.999963  0.999917\n",
       " 0.999744  0.999998  0.999988  0.999998     0.999962  0.999952  0.999929\n",
       " 0.999744  0.999999  0.999983  0.999998  …  0.999975  0.999947  0.999929\n",
       " 0.999744  0.999999  0.999983  0.999998     0.999975  0.999947  0.999929\n",
       " 0.999744  0.999999  0.999983  0.999998     0.999975  0.999947  0.999929\n",
       " 0.999743  0.999999  0.999983  0.999998     0.999975  0.999947  0.999929"
      ]
     },
     "execution_count": 88,
     "metadata": {},
     "output_type": "execute_result"
    }
   ],
   "source": [
    "m = rand(1:784)\n",
    "F_sub = sample_fourier(m, 784)\n",
    "y_sub = F_sub*x_batch\n",
    "y = vcat(y_sub, zeros(784-m, batch_size))\n",
    "\n",
    "# Forward propagate through mean encoder and std encoders\n",
    "μ = encoder_μ(y)\n",
    "logvar = encoder_logvar(y)\n",
    "# Apply reparameterisation trick to sample latent\n",
    "z = μ + randn(Float32, size(logvar)) .* exp.(0.5f0 * logvar)\n",
    "# Reconstruct from latent sample\n",
    "x̂ =  decoder(z)\n"
   ]
  },
  {
   "cell_type": "code",
   "execution_count": 91,
   "id": "a1817a5f",
   "metadata": {},
   "outputs": [
    {
     "data": {
      "image/svg+xml": "<?xml version=\"1.0\" encoding=\"utf-8\"?>\n<svg xmlns=\"http://www.w3.org/2000/svg\" xmlns:xlink=\"http://www.w3.org/1999/xlink\" width=\"600\" height=\"400\" viewBox=\"0 0 2400 1600\">\n<defs>\n  <clipPath id=\"clip810\">\n    <rect x=\"0\" y=\"0\" width=\"2400\" height=\"1600\"/>\n  </clipPath>\n</defs>\n<path clip-path=\"url(#clip810)\" d=\"\nM0 1600 L2400 1600 L2400 0 L0 0  Z\n  \" fill=\"#ffffff\" fill-rule=\"evenodd\" fill-opacity=\"1\"/>\n<defs>\n  <clipPath id=\"clip811\">\n    <rect x=\"480\" y=\"0\" width=\"1681\" height=\"1600\"/>\n  </clipPath>\n</defs>\n<path clip-path=\"url(#clip810)\" d=\"\nM140.696 1272.88 L1152.76 1272.88 L1152.76 260.816 L140.696 260.816  Z\n  \" fill=\"#ffffff\" fill-rule=\"evenodd\" fill-opacity=\"1\"/>\n<defs>\n  <clipPath id=\"clip812\">\n    <rect x=\"140\" y=\"260\" width=\"1013\" height=\"1013\"/>\n  </clipPath>\n</defs>\n<polyline clip-path=\"url(#clip812)\" style=\"stroke:#000000; stroke-linecap:butt; stroke-linejoin:round; stroke-width:2; stroke-opacity:0.1; fill:none\" points=\"\n  303.348,260.816 303.348,1272.88 \n  \"/>\n<polyline clip-path=\"url(#clip812)\" style=\"stroke:#000000; stroke-linecap:butt; stroke-linejoin:round; stroke-width:2; stroke-opacity:0.1; fill:none\" points=\"\n  484.073,260.816 484.073,1272.88 \n  \"/>\n<polyline clip-path=\"url(#clip812)\" style=\"stroke:#000000; stroke-linecap:butt; stroke-linejoin:round; stroke-width:2; stroke-opacity:0.1; fill:none\" points=\"\n  664.798,260.816 664.798,1272.88 \n  \"/>\n<polyline clip-path=\"url(#clip812)\" style=\"stroke:#000000; stroke-linecap:butt; stroke-linejoin:round; stroke-width:2; stroke-opacity:0.1; fill:none\" points=\"\n  845.523,260.816 845.523,1272.88 \n  \"/>\n<polyline clip-path=\"url(#clip812)\" style=\"stroke:#000000; stroke-linecap:butt; stroke-linejoin:round; stroke-width:2; stroke-opacity:0.1; fill:none\" points=\"\n  1026.25,260.816 1026.25,1272.88 \n  \"/>\n<polyline clip-path=\"url(#clip810)\" style=\"stroke:#000000; stroke-linecap:butt; stroke-linejoin:round; stroke-width:4; stroke-opacity:1; fill:none\" points=\"\n  140.696,1272.88 1152.76,1272.88 \n  \"/>\n<polyline clip-path=\"url(#clip810)\" style=\"stroke:#000000; stroke-linecap:butt; stroke-linejoin:round; stroke-width:4; stroke-opacity:1; fill:none\" points=\"\n  303.348,1272.88 303.348,1259.59 \n  \"/>\n<polyline clip-path=\"url(#clip810)\" style=\"stroke:#000000; stroke-linecap:butt; stroke-linejoin:round; stroke-width:4; stroke-opacity:1; fill:none\" points=\"\n  484.073,1272.88 484.073,1259.59 \n  \"/>\n<polyline clip-path=\"url(#clip810)\" style=\"stroke:#000000; stroke-linecap:butt; stroke-linejoin:round; stroke-width:4; stroke-opacity:1; fill:none\" points=\"\n  664.798,1272.88 664.798,1259.59 \n  \"/>\n<polyline clip-path=\"url(#clip810)\" style=\"stroke:#000000; stroke-linecap:butt; stroke-linejoin:round; stroke-width:4; stroke-opacity:1; fill:none\" points=\"\n  845.523,1272.88 845.523,1259.59 \n  \"/>\n<polyline clip-path=\"url(#clip810)\" style=\"stroke:#000000; stroke-linecap:butt; stroke-linejoin:round; stroke-width:4; stroke-opacity:1; fill:none\" points=\"\n  1026.25,1272.88 1026.25,1259.59 \n  \"/>\n<path clip-path=\"url(#clip810)\" d=\"M293.626 1300.72 L311.982 1300.72 L311.982 1304.65 L297.908 1304.65 L297.908 1313.12 Q298.927 1312.78 299.945 1312.61 Q300.964 1312.43 301.982 1312.43 Q307.769 1312.43 311.149 1315.6 Q314.529 1318.77 314.529 1324.19 Q314.529 1329.77 311.056 1332.87 Q307.584 1335.95 301.265 1335.95 Q299.089 1335.95 296.82 1335.58 Q294.575 1335.21 292.168 1334.47 L292.168 1329.77 Q294.251 1330.9 296.473 1331.46 Q298.695 1332.01 301.172 1332.01 Q305.177 1332.01 307.515 1329.91 Q309.853 1327.8 309.853 1324.19 Q309.853 1320.58 307.515 1318.47 Q305.177 1316.36 301.172 1316.36 Q299.297 1316.36 297.422 1316.78 Q295.57 1317.2 293.626 1318.08 L293.626 1300.72 Z\" fill=\"#000000\" fill-rule=\"evenodd\" fill-opacity=\"1\" /><path clip-path=\"url(#clip810)\" d=\"M458.761 1331.34 L466.4 1331.34 L466.4 1304.98 L458.09 1306.64 L458.09 1302.38 L466.353 1300.72 L471.029 1300.72 L471.029 1331.34 L478.668 1331.34 L478.668 1335.28 L458.761 1335.28 L458.761 1331.34 Z\" fill=\"#000000\" fill-rule=\"evenodd\" fill-opacity=\"1\" /><path clip-path=\"url(#clip810)\" d=\"M498.112 1303.79 Q494.501 1303.79 492.673 1307.36 Q490.867 1310.9 490.867 1318.03 Q490.867 1325.14 492.673 1328.7 Q494.501 1332.24 498.112 1332.24 Q501.747 1332.24 503.552 1328.7 Q505.381 1325.14 505.381 1318.03 Q505.381 1310.9 503.552 1307.36 Q501.747 1303.79 498.112 1303.79 M498.112 1300.09 Q503.923 1300.09 506.978 1304.7 Q510.057 1309.28 510.057 1318.03 Q510.057 1326.76 506.978 1331.36 Q503.923 1335.95 498.112 1335.95 Q492.302 1335.95 489.224 1331.36 Q486.168 1326.76 486.168 1318.03 Q486.168 1309.28 489.224 1304.7 Q492.302 1300.09 498.112 1300.09 Z\" fill=\"#000000\" fill-rule=\"evenodd\" fill-opacity=\"1\" /><path clip-path=\"url(#clip810)\" d=\"M639.984 1331.34 L647.622 1331.34 L647.622 1304.98 L639.312 1306.64 L639.312 1302.38 L647.576 1300.72 L652.252 1300.72 L652.252 1331.34 L659.891 1331.34 L659.891 1335.28 L639.984 1335.28 L639.984 1331.34 Z\" fill=\"#000000\" fill-rule=\"evenodd\" fill-opacity=\"1\" /><path clip-path=\"url(#clip810)\" d=\"M669.382 1300.72 L687.738 1300.72 L687.738 1304.65 L673.664 1304.65 L673.664 1313.12 Q674.682 1312.78 675.701 1312.61 Q676.719 1312.43 677.738 1312.43 Q683.525 1312.43 686.905 1315.6 Q690.284 1318.77 690.284 1324.19 Q690.284 1329.77 686.812 1332.87 Q683.34 1335.95 677.02 1335.95 Q674.844 1335.95 672.576 1335.58 Q670.331 1335.21 667.923 1334.47 L667.923 1329.77 Q670.007 1330.9 672.229 1331.46 Q674.451 1332.01 676.928 1332.01 Q680.932 1332.01 683.27 1329.91 Q685.608 1327.8 685.608 1324.19 Q685.608 1320.58 683.27 1318.47 Q680.932 1316.36 676.928 1316.36 Q675.053 1316.36 673.178 1316.78 Q671.326 1317.2 669.382 1318.08 L669.382 1300.72 Z\" fill=\"#000000\" fill-rule=\"evenodd\" fill-opacity=\"1\" /><path clip-path=\"url(#clip810)\" d=\"M824.297 1331.34 L840.616 1331.34 L840.616 1335.28 L818.672 1335.28 L818.672 1331.34 Q821.334 1328.59 825.917 1323.96 Q830.523 1319.3 831.704 1317.96 Q833.949 1315.44 834.829 1313.7 Q835.732 1311.94 835.732 1310.25 Q835.732 1307.5 833.787 1305.76 Q831.866 1304.03 828.764 1304.03 Q826.565 1304.03 824.111 1304.79 Q821.681 1305.55 818.903 1307.11 L818.903 1302.38 Q821.727 1301.25 824.181 1300.67 Q826.635 1300.09 828.672 1300.09 Q834.042 1300.09 837.236 1302.78 Q840.431 1305.46 840.431 1309.95 Q840.431 1312.08 839.621 1314 Q838.834 1315.9 836.727 1318.49 Q836.148 1319.17 833.047 1322.38 Q829.945 1325.58 824.297 1331.34 Z\" fill=\"#000000\" fill-rule=\"evenodd\" fill-opacity=\"1\" /><path clip-path=\"url(#clip810)\" d=\"M860.431 1303.79 Q856.82 1303.79 854.991 1307.36 Q853.185 1310.9 853.185 1318.03 Q853.185 1325.14 854.991 1328.7 Q856.82 1332.24 860.431 1332.24 Q864.065 1332.24 865.87 1328.7 Q867.699 1325.14 867.699 1318.03 Q867.699 1310.9 865.87 1307.36 Q864.065 1303.79 860.431 1303.79 M860.431 1300.09 Q866.241 1300.09 869.296 1304.7 Q872.375 1309.28 872.375 1318.03 Q872.375 1326.76 869.296 1331.36 Q866.241 1335.95 860.431 1335.95 Q854.62 1335.95 851.542 1331.36 Q848.486 1326.76 848.486 1318.03 Q848.486 1309.28 851.542 1304.7 Q854.62 1300.09 860.431 1300.09 Z\" fill=\"#000000\" fill-rule=\"evenodd\" fill-opacity=\"1\" /><path clip-path=\"url(#clip810)\" d=\"M1005.52 1331.34 L1021.84 1331.34 L1021.84 1335.28 L999.894 1335.28 L999.894 1331.34 Q1002.56 1328.59 1007.14 1323.96 Q1011.75 1319.3 1012.93 1317.96 Q1015.17 1315.44 1016.05 1313.7 Q1016.95 1311.94 1016.95 1310.25 Q1016.95 1307.5 1015.01 1305.76 Q1013.09 1304.03 1009.99 1304.03 Q1007.79 1304.03 1005.33 1304.79 Q1002.9 1305.55 1000.13 1307.11 L1000.13 1302.38 Q1002.95 1301.25 1005.4 1300.67 Q1007.86 1300.09 1009.89 1300.09 Q1015.26 1300.09 1018.46 1302.78 Q1021.65 1305.46 1021.65 1309.95 Q1021.65 1312.08 1020.84 1314 Q1020.06 1315.9 1017.95 1318.49 Q1017.37 1319.17 1014.27 1322.38 Q1011.17 1325.58 1005.52 1331.34 Z\" fill=\"#000000\" fill-rule=\"evenodd\" fill-opacity=\"1\" /><path clip-path=\"url(#clip810)\" d=\"M1031.7 1300.72 L1050.06 1300.72 L1050.06 1304.65 L1035.98 1304.65 L1035.98 1313.12 Q1037 1312.78 1038.02 1312.61 Q1039.04 1312.43 1040.06 1312.43 Q1045.84 1312.43 1049.22 1315.6 Q1052.6 1318.77 1052.6 1324.19 Q1052.6 1329.77 1049.13 1332.87 Q1045.66 1335.95 1039.34 1335.95 Q1037.16 1335.95 1034.89 1335.58 Q1032.65 1335.21 1030.24 1334.47 L1030.24 1329.77 Q1032.32 1330.9 1034.55 1331.46 Q1036.77 1332.01 1039.25 1332.01 Q1043.25 1332.01 1045.59 1329.91 Q1047.93 1327.8 1047.93 1324.19 Q1047.93 1320.58 1045.59 1318.47 Q1043.25 1316.36 1039.25 1316.36 Q1037.37 1316.36 1035.5 1316.78 Q1033.64 1317.2 1031.7 1318.08 L1031.7 1300.72 Z\" fill=\"#000000\" fill-rule=\"evenodd\" fill-opacity=\"1\" /><polyline clip-path=\"url(#clip812)\" style=\"stroke:#000000; stroke-linecap:butt; stroke-linejoin:round; stroke-width:2; stroke-opacity:0.1; fill:none\" points=\"\n  140.696,423.468 1152.76,423.468 \n  \"/>\n<polyline clip-path=\"url(#clip812)\" style=\"stroke:#000000; stroke-linecap:butt; stroke-linejoin:round; stroke-width:2; stroke-opacity:0.1; fill:none\" points=\"\n  140.696,604.193 1152.76,604.193 \n  \"/>\n<polyline clip-path=\"url(#clip812)\" style=\"stroke:#000000; stroke-linecap:butt; stroke-linejoin:round; stroke-width:2; stroke-opacity:0.1; fill:none\" points=\"\n  140.696,784.918 1152.76,784.918 \n  \"/>\n<polyline clip-path=\"url(#clip812)\" style=\"stroke:#000000; stroke-linecap:butt; stroke-linejoin:round; stroke-width:2; stroke-opacity:0.1; fill:none\" points=\"\n  140.696,965.644 1152.76,965.644 \n  \"/>\n<polyline clip-path=\"url(#clip812)\" style=\"stroke:#000000; stroke-linecap:butt; stroke-linejoin:round; stroke-width:2; stroke-opacity:0.1; fill:none\" points=\"\n  140.696,1146.37 1152.76,1146.37 \n  \"/>\n<polyline clip-path=\"url(#clip810)\" style=\"stroke:#000000; stroke-linecap:butt; stroke-linejoin:round; stroke-width:4; stroke-opacity:1; fill:none\" points=\"\n  140.696,260.816 140.696,1272.88 \n  \"/>\n<polyline clip-path=\"url(#clip810)\" style=\"stroke:#000000; stroke-linecap:butt; stroke-linejoin:round; stroke-width:4; stroke-opacity:1; fill:none\" points=\"\n  140.696,423.468 159.593,423.468 \n  \"/>\n<polyline clip-path=\"url(#clip810)\" style=\"stroke:#000000; stroke-linecap:butt; stroke-linejoin:round; stroke-width:4; stroke-opacity:1; fill:none\" points=\"\n  140.696,604.193 159.593,604.193 \n  \"/>\n<polyline clip-path=\"url(#clip810)\" style=\"stroke:#000000; stroke-linecap:butt; stroke-linejoin:round; stroke-width:4; stroke-opacity:1; fill:none\" points=\"\n  140.696,784.918 159.593,784.918 \n  \"/>\n<polyline clip-path=\"url(#clip810)\" style=\"stroke:#000000; stroke-linecap:butt; stroke-linejoin:round; stroke-width:4; stroke-opacity:1; fill:none\" points=\"\n  140.696,965.644 159.593,965.644 \n  \"/>\n<polyline clip-path=\"url(#clip810)\" style=\"stroke:#000000; stroke-linecap:butt; stroke-linejoin:round; stroke-width:4; stroke-opacity:1; fill:none\" points=\"\n  140.696,1146.37 159.593,1146.37 \n  \"/>\n<path clip-path=\"url(#clip810)\" d=\"M83.7929 406.188 L102.149 406.188 L102.149 410.124 L88.0753 410.124 L88.0753 418.596 Q89.0938 418.248 90.1123 418.086 Q91.1308 417.901 92.1493 417.901 Q97.9363 417.901 101.316 421.073 Q104.696 424.244 104.696 429.66 Q104.696 435.239 101.223 438.341 Q97.7511 441.42 91.4317 441.42 Q89.2558 441.42 86.9873 441.049 Q84.7419 440.679 82.3346 439.938 L82.3346 435.239 Q84.4179 436.373 86.6401 436.929 Q88.8623 437.484 91.3391 437.484 Q95.3437 437.484 97.6817 435.378 Q100.02 433.272 100.02 429.66 Q100.02 426.049 97.6817 423.943 Q95.3437 421.836 91.3391 421.836 Q89.4641 421.836 87.5892 422.253 Q85.7373 422.67 83.7929 423.549 L83.7929 406.188 Z\" fill=\"#000000\" fill-rule=\"evenodd\" fill-opacity=\"1\" /><path clip-path=\"url(#clip810)\" d=\"M53.3995 617.538 L61.0384 617.538 L61.0384 591.173 L52.7282 592.839 L52.7282 588.58 L60.9921 586.913 L65.668 586.913 L65.668 617.538 L73.3068 617.538 L73.3068 621.473 L53.3995 621.473 L53.3995 617.538 Z\" fill=\"#000000\" fill-rule=\"evenodd\" fill-opacity=\"1\" /><path clip-path=\"url(#clip810)\" d=\"M92.7512 589.992 Q89.1401 589.992 87.3114 593.557 Q85.5058 597.099 85.5058 604.228 Q85.5058 611.335 87.3114 614.899 Q89.1401 618.441 92.7512 618.441 Q96.3854 618.441 98.1909 614.899 Q100.02 611.335 100.02 604.228 Q100.02 597.099 98.1909 593.557 Q96.3854 589.992 92.7512 589.992 M92.7512 586.288 Q98.5613 586.288 101.617 590.895 Q104.696 595.478 104.696 604.228 Q104.696 612.955 101.617 617.561 Q98.5613 622.145 92.7512 622.145 Q86.941 622.145 83.8623 617.561 Q80.8068 612.955 80.8068 604.228 Q80.8068 595.478 83.8623 590.895 Q86.941 586.288 92.7512 586.288 Z\" fill=\"#000000\" fill-rule=\"evenodd\" fill-opacity=\"1\" /><path clip-path=\"url(#clip810)\" d=\"M54.3949 798.263 L62.0337 798.263 L62.0337 771.898 L53.7236 773.564 L53.7236 769.305 L61.9874 767.638 L66.6633 767.638 L66.6633 798.263 L74.3022 798.263 L74.3022 802.198 L54.3949 802.198 L54.3949 798.263 Z\" fill=\"#000000\" fill-rule=\"evenodd\" fill-opacity=\"1\" /><path clip-path=\"url(#clip810)\" d=\"M83.7929 767.638 L102.149 767.638 L102.149 771.574 L88.0753 771.574 L88.0753 780.046 Q89.0938 779.699 90.1123 779.537 Q91.1308 779.351 92.1493 779.351 Q97.9363 779.351 101.316 782.523 Q104.696 785.694 104.696 791.111 Q104.696 796.689 101.223 799.791 Q97.7511 802.87 91.4317 802.87 Q89.2558 802.87 86.9873 802.499 Q84.7419 802.129 82.3346 801.388 L82.3346 796.689 Q84.4179 797.824 86.6401 798.379 Q88.8623 798.935 91.3391 798.935 Q95.3437 798.935 97.6817 796.828 Q100.02 794.722 100.02 791.111 Q100.02 787.499 97.6817 785.393 Q95.3437 783.287 91.3391 783.287 Q89.4641 783.287 87.5892 783.703 Q85.7373 784.12 83.7929 785 L83.7929 767.638 Z\" fill=\"#000000\" fill-rule=\"evenodd\" fill-opacity=\"1\" /><path clip-path=\"url(#clip810)\" d=\"M56.6171 978.988 L72.9365 978.988 L72.9365 982.924 L50.9921 982.924 L50.9921 978.988 Q53.6541 976.234 58.2375 971.604 Q62.8439 966.951 64.0245 965.609 Q66.2698 963.086 67.1494 961.35 Q68.0522 959.59 68.0522 957.901 Q68.0522 955.146 66.1078 953.41 Q64.1865 951.674 61.0847 951.674 Q58.8856 951.674 56.4319 952.438 Q54.0014 953.201 51.2236 954.752 L51.2236 950.03 Q54.0477 948.896 56.5014 948.317 Q58.955 947.739 60.9921 947.739 Q66.3624 947.739 69.5568 950.424 Q72.7513 953.109 72.7513 957.6 Q72.7513 959.729 71.9411 961.651 Q71.1541 963.549 69.0476 966.141 Q68.4689 966.813 65.367 970.03 Q62.2652 973.225 56.6171 978.988 Z\" fill=\"#000000\" fill-rule=\"evenodd\" fill-opacity=\"1\" /><path clip-path=\"url(#clip810)\" d=\"M92.7512 951.442 Q89.1401 951.442 87.3114 955.007 Q85.5058 958.549 85.5058 965.678 Q85.5058 972.785 87.3114 976.35 Q89.1401 979.891 92.7512 979.891 Q96.3854 979.891 98.1909 976.35 Q100.02 972.785 100.02 965.678 Q100.02 958.549 98.1909 955.007 Q96.3854 951.442 92.7512 951.442 M92.7512 947.739 Q98.5613 947.739 101.617 952.345 Q104.696 956.928 104.696 965.678 Q104.696 974.405 101.617 979.012 Q98.5613 983.595 92.7512 983.595 Q86.941 983.595 83.8623 979.012 Q80.8068 974.405 80.8068 965.678 Q80.8068 956.928 83.8623 952.345 Q86.941 947.739 92.7512 947.739 Z\" fill=\"#000000\" fill-rule=\"evenodd\" fill-opacity=\"1\" /><path clip-path=\"url(#clip810)\" d=\"M57.6125 1159.71 L73.9318 1159.71 L73.9318 1163.65 L51.9875 1163.65 L51.9875 1159.71 Q54.6495 1156.96 59.2328 1152.33 Q63.8393 1147.68 65.0198 1146.33 Q67.2652 1143.81 68.1448 1142.07 Q69.0476 1140.32 69.0476 1138.63 Q69.0476 1135.87 67.1032 1134.13 Q65.1819 1132.4 62.08 1132.4 Q59.881 1132.4 57.4273 1133.16 Q54.9967 1133.93 52.219 1135.48 L52.219 1130.76 Q55.043 1129.62 57.4967 1129.04 Q59.9504 1128.46 61.9874 1128.46 Q67.3578 1128.46 70.5522 1131.15 Q73.7466 1133.83 73.7466 1138.32 Q73.7466 1140.45 72.9365 1142.38 Q72.1494 1144.27 70.0429 1146.87 Q69.4642 1147.54 66.3624 1150.76 Q63.2606 1153.95 57.6125 1159.71 Z\" fill=\"#000000\" fill-rule=\"evenodd\" fill-opacity=\"1\" /><path clip-path=\"url(#clip810)\" d=\"M83.7929 1129.09 L102.149 1129.09 L102.149 1133.02 L88.0753 1133.02 L88.0753 1141.5 Q89.0938 1141.15 90.1123 1140.99 Q91.1308 1140.8 92.1493 1140.8 Q97.9363 1140.8 101.316 1143.97 Q104.696 1147.14 104.696 1152.56 Q104.696 1158.14 101.223 1161.24 Q97.7511 1164.32 91.4317 1164.32 Q89.2558 1164.32 86.9873 1163.95 Q84.7419 1163.58 82.3346 1162.84 L82.3346 1158.14 Q84.4179 1159.27 86.6401 1159.83 Q88.8623 1160.38 91.3391 1160.38 Q95.3437 1160.38 97.6817 1158.28 Q100.02 1156.17 100.02 1152.56 Q100.02 1148.95 97.6817 1146.84 Q95.3437 1144.74 91.3391 1144.74 Q89.4641 1144.74 87.5892 1145.15 Q85.7373 1145.57 83.7929 1146.45 L83.7929 1129.09 Z\" fill=\"#000000\" fill-rule=\"evenodd\" fill-opacity=\"1\" /><g clip-path=\"url(#clip812)\">\n<image width=\"1012\" height=\"1012\" xlink:href=\"data:image/png;base64,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\nIaEHAACAIaEHAACAIaEHAACAoQD2DxIW+bPwWgAAAABJRU5ErkJggg==\n\" transform=\"translate(141, 261)\"/>\n</g>\n<path clip-path=\"url(#clip810)\" d=\"\nM1340.7 1272.88 L2352.76 1272.88 L2352.76 260.816 L1340.7 260.816  Z\n  \" fill=\"#ffffff\" fill-rule=\"evenodd\" fill-opacity=\"1\"/>\n<defs>\n  <clipPath id=\"clip813\">\n    <rect x=\"1340\" y=\"260\" width=\"1013\" height=\"1013\"/>\n  </clipPath>\n</defs>\n<polyline clip-path=\"url(#clip813)\" style=\"stroke:#000000; stroke-linecap:butt; stroke-linejoin:round; stroke-width:2; stroke-opacity:0.1; fill:none\" points=\"\n  1503.35,260.816 1503.35,1272.88 \n  \"/>\n<polyline clip-path=\"url(#clip813)\" style=\"stroke:#000000; stroke-linecap:butt; stroke-linejoin:round; stroke-width:2; stroke-opacity:0.1; fill:none\" points=\"\n  1684.07,260.816 1684.07,1272.88 \n  \"/>\n<polyline clip-path=\"url(#clip813)\" style=\"stroke:#000000; stroke-linecap:butt; stroke-linejoin:round; stroke-width:2; stroke-opacity:0.1; fill:none\" points=\"\n  1864.8,260.816 1864.8,1272.88 \n  \"/>\n<polyline clip-path=\"url(#clip813)\" style=\"stroke:#000000; stroke-linecap:butt; stroke-linejoin:round; stroke-width:2; stroke-opacity:0.1; fill:none\" points=\"\n  2045.52,260.816 2045.52,1272.88 \n  \"/>\n<polyline clip-path=\"url(#clip813)\" style=\"stroke:#000000; stroke-linecap:butt; stroke-linejoin:round; stroke-width:2; stroke-opacity:0.1; fill:none\" points=\"\n  2226.25,260.816 2226.25,1272.88 \n  \"/>\n<polyline clip-path=\"url(#clip810)\" style=\"stroke:#000000; stroke-linecap:butt; stroke-linejoin:round; stroke-width:4; stroke-opacity:1; fill:none\" points=\"\n  1340.7,1272.88 2352.76,1272.88 \n  \"/>\n<polyline clip-path=\"url(#clip810)\" style=\"stroke:#000000; stroke-linecap:butt; stroke-linejoin:round; stroke-width:4; stroke-opacity:1; fill:none\" points=\"\n  1503.35,1272.88 1503.35,1259.59 \n  \"/>\n<polyline clip-path=\"url(#clip810)\" style=\"stroke:#000000; stroke-linecap:butt; stroke-linejoin:round; stroke-width:4; stroke-opacity:1; fill:none\" points=\"\n  1684.07,1272.88 1684.07,1259.59 \n  \"/>\n<polyline clip-path=\"url(#clip810)\" style=\"stroke:#000000; stroke-linecap:butt; stroke-linejoin:round; stroke-width:4; stroke-opacity:1; fill:none\" points=\"\n  1864.8,1272.88 1864.8,1259.59 \n  \"/>\n<polyline clip-path=\"url(#clip810)\" style=\"stroke:#000000; stroke-linecap:butt; stroke-linejoin:round; stroke-width:4; stroke-opacity:1; fill:none\" points=\"\n  2045.52,1272.88 2045.52,1259.59 \n  \"/>\n<polyline clip-path=\"url(#clip810)\" style=\"stroke:#000000; stroke-linecap:butt; stroke-linejoin:round; stroke-width:4; stroke-opacity:1; fill:none\" points=\"\n  2226.25,1272.88 2226.25,1259.59 \n  \"/>\n<path clip-path=\"url(#clip810)\" d=\"M1493.63 1300.72 L1511.98 1300.72 L1511.98 1304.65 L1497.91 1304.65 L1497.91 1313.12 Q1498.93 1312.78 1499.95 1312.61 Q1500.96 1312.43 1501.98 1312.43 Q1507.77 1312.43 1511.15 1315.6 Q1514.53 1318.77 1514.53 1324.19 Q1514.53 1329.77 1511.06 1332.87 Q1507.58 1335.95 1501.26 1335.95 Q1499.09 1335.95 1496.82 1335.58 Q1494.57 1335.21 1492.17 1334.47 L1492.17 1329.77 Q1494.25 1330.9 1496.47 1331.46 Q1498.7 1332.01 1501.17 1332.01 Q1505.18 1332.01 1507.51 1329.91 Q1509.85 1327.8 1509.85 1324.19 Q1509.85 1320.58 1507.51 1318.47 Q1505.18 1316.36 1501.17 1316.36 Q1499.3 1316.36 1497.42 1316.78 Q1495.57 1317.2 1493.63 1318.08 L1493.63 1300.72 Z\" fill=\"#000000\" fill-rule=\"evenodd\" fill-opacity=\"1\" /><path clip-path=\"url(#clip810)\" d=\"M1658.76 1331.34 L1666.4 1331.34 L1666.4 1304.98 L1658.09 1306.64 L1658.09 1302.38 L1666.35 1300.72 L1671.03 1300.72 L1671.03 1331.34 L1678.67 1331.34 L1678.67 1335.28 L1658.76 1335.28 L1658.76 1331.34 Z\" fill=\"#000000\" fill-rule=\"evenodd\" fill-opacity=\"1\" /><path clip-path=\"url(#clip810)\" d=\"M1698.11 1303.79 Q1694.5 1303.79 1692.67 1307.36 Q1690.87 1310.9 1690.87 1318.03 Q1690.87 1325.14 1692.67 1328.7 Q1694.5 1332.24 1698.11 1332.24 Q1701.75 1332.24 1703.55 1328.7 Q1705.38 1325.14 1705.38 1318.03 Q1705.38 1310.9 1703.55 1307.36 Q1701.75 1303.79 1698.11 1303.79 M1698.11 1300.09 Q1703.92 1300.09 1706.98 1304.7 Q1710.06 1309.28 1710.06 1318.03 Q1710.06 1326.76 1706.98 1331.36 Q1703.92 1335.95 1698.11 1335.95 Q1692.3 1335.95 1689.22 1331.36 Q1686.17 1326.76 1686.17 1318.03 Q1686.17 1309.28 1689.22 1304.7 Q1692.3 1300.09 1698.11 1300.09 Z\" fill=\"#000000\" fill-rule=\"evenodd\" fill-opacity=\"1\" /><path clip-path=\"url(#clip810)\" d=\"M1839.98 1331.34 L1847.62 1331.34 L1847.62 1304.98 L1839.31 1306.64 L1839.31 1302.38 L1847.58 1300.72 L1852.25 1300.72 L1852.25 1331.34 L1859.89 1331.34 L1859.89 1335.28 L1839.98 1335.28 L1839.98 1331.34 Z\" fill=\"#000000\" fill-rule=\"evenodd\" fill-opacity=\"1\" /><path clip-path=\"url(#clip810)\" d=\"M1869.38 1300.72 L1887.74 1300.72 L1887.74 1304.65 L1873.66 1304.65 L1873.66 1313.12 Q1874.68 1312.78 1875.7 1312.61 Q1876.72 1312.43 1877.74 1312.43 Q1883.52 1312.43 1886.9 1315.6 Q1890.28 1318.77 1890.28 1324.19 Q1890.28 1329.77 1886.81 1332.87 Q1883.34 1335.95 1877.02 1335.95 Q1874.84 1335.95 1872.58 1335.58 Q1870.33 1335.21 1867.92 1334.47 L1867.92 1329.77 Q1870.01 1330.9 1872.23 1331.46 Q1874.45 1332.01 1876.93 1332.01 Q1880.93 1332.01 1883.27 1329.91 Q1885.61 1327.8 1885.61 1324.19 Q1885.61 1320.58 1883.27 1318.47 Q1880.93 1316.36 1876.93 1316.36 Q1875.05 1316.36 1873.18 1316.78 Q1871.33 1317.2 1869.38 1318.08 L1869.38 1300.72 Z\" fill=\"#000000\" fill-rule=\"evenodd\" fill-opacity=\"1\" /><path clip-path=\"url(#clip810)\" d=\"M2024.3 1331.34 L2040.62 1331.34 L2040.62 1335.28 L2018.67 1335.28 L2018.67 1331.34 Q2021.33 1328.59 2025.92 1323.96 Q2030.52 1319.3 2031.7 1317.96 Q2033.95 1315.44 2034.83 1313.7 Q2035.73 1311.94 2035.73 1310.25 Q2035.73 1307.5 2033.79 1305.76 Q2031.87 1304.03 2028.76 1304.03 Q2026.57 1304.03 2024.11 1304.79 Q2021.68 1305.55 2018.9 1307.11 L2018.9 1302.38 Q2021.73 1301.25 2024.18 1300.67 Q2026.63 1300.09 2028.67 1300.09 Q2034.04 1300.09 2037.24 1302.78 Q2040.43 1305.46 2040.43 1309.95 Q2040.43 1312.08 2039.62 1314 Q2038.83 1315.9 2036.73 1318.49 Q2036.15 1319.17 2033.05 1322.38 Q2029.94 1325.58 2024.3 1331.34 Z\" fill=\"#000000\" fill-rule=\"evenodd\" fill-opacity=\"1\" /><path clip-path=\"url(#clip810)\" d=\"M2060.43 1303.79 Q2056.82 1303.79 2054.99 1307.36 Q2053.19 1310.9 2053.19 1318.03 Q2053.19 1325.14 2054.99 1328.7 Q2056.82 1332.24 2060.43 1332.24 Q2064.06 1332.24 2065.87 1328.7 Q2067.7 1325.14 2067.7 1318.03 Q2067.7 1310.9 2065.87 1307.36 Q2064.06 1303.79 2060.43 1303.79 M2060.43 1300.09 Q2066.24 1300.09 2069.3 1304.7 Q2072.38 1309.28 2072.38 1318.03 Q2072.38 1326.76 2069.3 1331.36 Q2066.24 1335.95 2060.43 1335.95 Q2054.62 1335.95 2051.54 1331.36 Q2048.49 1326.76 2048.49 1318.03 Q2048.49 1309.28 2051.54 1304.7 Q2054.62 1300.09 2060.43 1300.09 Z\" fill=\"#000000\" fill-rule=\"evenodd\" fill-opacity=\"1\" /><path clip-path=\"url(#clip810)\" d=\"M2205.52 1331.34 L2221.84 1331.34 L2221.84 1335.28 L2199.89 1335.28 L2199.89 1331.34 Q2202.56 1328.59 2207.14 1323.96 Q2211.75 1319.3 2212.93 1317.96 Q2215.17 1315.44 2216.05 1313.7 Q2216.95 1311.94 2216.95 1310.25 Q2216.95 1307.5 2215.01 1305.76 Q2213.09 1304.03 2209.99 1304.03 Q2207.79 1304.03 2205.33 1304.79 Q2202.9 1305.55 2200.13 1307.11 L2200.13 1302.38 Q2202.95 1301.25 2205.4 1300.67 Q2207.86 1300.09 2209.89 1300.09 Q2215.26 1300.09 2218.46 1302.78 Q2221.65 1305.46 2221.65 1309.95 Q2221.65 1312.08 2220.84 1314 Q2220.06 1315.9 2217.95 1318.49 Q2217.37 1319.17 2214.27 1322.38 Q2211.17 1325.58 2205.52 1331.34 Z\" fill=\"#000000\" fill-rule=\"evenodd\" fill-opacity=\"1\" /><path clip-path=\"url(#clip810)\" d=\"M2231.7 1300.72 L2250.06 1300.72 L2250.06 1304.65 L2235.98 1304.65 L2235.98 1313.12 Q2237 1312.78 2238.02 1312.61 Q2239.04 1312.43 2240.06 1312.43 Q2245.84 1312.43 2249.22 1315.6 Q2252.6 1318.77 2252.6 1324.19 Q2252.6 1329.77 2249.13 1332.87 Q2245.66 1335.95 2239.34 1335.95 Q2237.16 1335.95 2234.89 1335.58 Q2232.65 1335.21 2230.24 1334.47 L2230.24 1329.77 Q2232.32 1330.9 2234.55 1331.46 Q2236.77 1332.01 2239.25 1332.01 Q2243.25 1332.01 2245.59 1329.91 Q2247.93 1327.8 2247.93 1324.19 Q2247.93 1320.58 2245.59 1318.47 Q2243.25 1316.36 2239.25 1316.36 Q2237.37 1316.36 2235.5 1316.78 Q2233.64 1317.2 2231.7 1318.08 L2231.7 1300.72 Z\" fill=\"#000000\" fill-rule=\"evenodd\" fill-opacity=\"1\" /><polyline clip-path=\"url(#clip813)\" style=\"stroke:#000000; stroke-linecap:butt; stroke-linejoin:round; stroke-width:2; stroke-opacity:0.1; fill:none\" points=\"\n  1340.7,423.468 2352.76,423.468 \n  \"/>\n<polyline clip-path=\"url(#clip813)\" style=\"stroke:#000000; stroke-linecap:butt; stroke-linejoin:round; stroke-width:2; stroke-opacity:0.1; fill:none\" points=\"\n  1340.7,604.193 2352.76,604.193 \n  \"/>\n<polyline clip-path=\"url(#clip813)\" style=\"stroke:#000000; stroke-linecap:butt; stroke-linejoin:round; stroke-width:2; stroke-opacity:0.1; fill:none\" points=\"\n  1340.7,784.918 2352.76,784.918 \n  \"/>\n<polyline clip-path=\"url(#clip813)\" style=\"stroke:#000000; stroke-linecap:butt; stroke-linejoin:round; stroke-width:2; stroke-opacity:0.1; fill:none\" points=\"\n  1340.7,965.644 2352.76,965.644 \n  \"/>\n<polyline clip-path=\"url(#clip813)\" style=\"stroke:#000000; stroke-linecap:butt; stroke-linejoin:round; stroke-width:2; stroke-opacity:0.1; fill:none\" points=\"\n  1340.7,1146.37 2352.76,1146.37 \n  \"/>\n<polyline clip-path=\"url(#clip810)\" style=\"stroke:#000000; stroke-linecap:butt; stroke-linejoin:round; stroke-width:4; stroke-opacity:1; fill:none\" points=\"\n  1340.7,260.816 1340.7,1272.88 \n  \"/>\n<polyline clip-path=\"url(#clip810)\" style=\"stroke:#000000; stroke-linecap:butt; stroke-linejoin:round; stroke-width:4; stroke-opacity:1; fill:none\" points=\"\n  1340.7,423.468 1359.59,423.468 \n  \"/>\n<polyline clip-path=\"url(#clip810)\" style=\"stroke:#000000; stroke-linecap:butt; stroke-linejoin:round; stroke-width:4; stroke-opacity:1; fill:none\" points=\"\n  1340.7,604.193 1359.59,604.193 \n  \"/>\n<polyline clip-path=\"url(#clip810)\" style=\"stroke:#000000; stroke-linecap:butt; stroke-linejoin:round; stroke-width:4; stroke-opacity:1; fill:none\" points=\"\n  1340.7,784.918 1359.59,784.918 \n  \"/>\n<polyline clip-path=\"url(#clip810)\" style=\"stroke:#000000; stroke-linecap:butt; stroke-linejoin:round; stroke-width:4; stroke-opacity:1; fill:none\" points=\"\n  1340.7,965.644 1359.59,965.644 \n  \"/>\n<polyline clip-path=\"url(#clip810)\" style=\"stroke:#000000; stroke-linecap:butt; stroke-linejoin:round; stroke-width:4; stroke-opacity:1; fill:none\" points=\"\n  1340.7,1146.37 1359.59,1146.37 \n  \"/>\n<path clip-path=\"url(#clip810)\" d=\"M1283.79 406.188 L1302.15 406.188 L1302.15 410.124 L1288.08 410.124 L1288.08 418.596 Q1289.09 418.248 1290.11 418.086 Q1291.13 417.901 1292.15 417.901 Q1297.94 417.901 1301.32 421.073 Q1304.7 424.244 1304.7 429.66 Q1304.7 435.239 1301.22 438.341 Q1297.75 441.42 1291.43 441.42 Q1289.26 441.42 1286.99 441.049 Q1284.74 440.679 1282.33 439.938 L1282.33 435.239 Q1284.42 436.373 1286.64 436.929 Q1288.86 437.484 1291.34 437.484 Q1295.34 437.484 1297.68 435.378 Q1300.02 433.272 1300.02 429.66 Q1300.02 426.049 1297.68 423.943 Q1295.34 421.836 1291.34 421.836 Q1289.46 421.836 1287.59 422.253 Q1285.74 422.67 1283.79 423.549 L1283.79 406.188 Z\" fill=\"#000000\" fill-rule=\"evenodd\" fill-opacity=\"1\" /><path clip-path=\"url(#clip810)\" d=\"M1253.4 617.538 L1261.04 617.538 L1261.04 591.173 L1252.73 592.839 L1252.73 588.58 L1260.99 586.913 L1265.67 586.913 L1265.67 617.538 L1273.31 617.538 L1273.31 621.473 L1253.4 621.473 L1253.4 617.538 Z\" fill=\"#000000\" fill-rule=\"evenodd\" fill-opacity=\"1\" /><path clip-path=\"url(#clip810)\" d=\"M1292.75 589.992 Q1289.14 589.992 1287.31 593.557 Q1285.51 597.099 1285.51 604.228 Q1285.51 611.335 1287.31 614.899 Q1289.14 618.441 1292.75 618.441 Q1296.39 618.441 1298.19 614.899 Q1300.02 611.335 1300.02 604.228 Q1300.02 597.099 1298.19 593.557 Q1296.39 589.992 1292.75 589.992 M1292.75 586.288 Q1298.56 586.288 1301.62 590.895 Q1304.7 595.478 1304.7 604.228 Q1304.7 612.955 1301.62 617.561 Q1298.56 622.145 1292.75 622.145 Q1286.94 622.145 1283.86 617.561 Q1280.81 612.955 1280.81 604.228 Q1280.81 595.478 1283.86 590.895 Q1286.94 586.288 1292.75 586.288 Z\" fill=\"#000000\" fill-rule=\"evenodd\" fill-opacity=\"1\" /><path clip-path=\"url(#clip810)\" d=\"M1254.39 798.263 L1262.03 798.263 L1262.03 771.898 L1253.72 773.564 L1253.72 769.305 L1261.99 767.638 L1266.66 767.638 L1266.66 798.263 L1274.3 798.263 L1274.3 802.198 L1254.39 802.198 L1254.39 798.263 Z\" fill=\"#000000\" fill-rule=\"evenodd\" fill-opacity=\"1\" /><path clip-path=\"url(#clip810)\" d=\"M1283.79 767.638 L1302.15 767.638 L1302.15 771.574 L1288.08 771.574 L1288.08 780.046 Q1289.09 779.699 1290.11 779.537 Q1291.13 779.351 1292.15 779.351 Q1297.94 779.351 1301.32 782.523 Q1304.7 785.694 1304.7 791.111 Q1304.7 796.689 1301.22 799.791 Q1297.75 802.87 1291.43 802.87 Q1289.26 802.87 1286.99 802.499 Q1284.74 802.129 1282.33 801.388 L1282.33 796.689 Q1284.42 797.824 1286.64 798.379 Q1288.86 798.935 1291.34 798.935 Q1295.34 798.935 1297.68 796.828 Q1300.02 794.722 1300.02 791.111 Q1300.02 787.499 1297.68 785.393 Q1295.34 783.287 1291.34 783.287 Q1289.46 783.287 1287.59 783.703 Q1285.74 784.12 1283.79 785 L1283.79 767.638 Z\" fill=\"#000000\" fill-rule=\"evenodd\" fill-opacity=\"1\" /><path clip-path=\"url(#clip810)\" d=\"M1256.62 978.988 L1272.94 978.988 L1272.94 982.924 L1250.99 982.924 L1250.99 978.988 Q1253.65 976.234 1258.24 971.604 Q1262.84 966.951 1264.02 965.609 Q1266.27 963.086 1267.15 961.35 Q1268.05 959.59 1268.05 957.901 Q1268.05 955.146 1266.11 953.41 Q1264.19 951.674 1261.08 951.674 Q1258.89 951.674 1256.43 952.438 Q1254 953.201 1251.22 954.752 L1251.22 950.03 Q1254.05 948.896 1256.5 948.317 Q1258.96 947.739 1260.99 947.739 Q1266.36 947.739 1269.56 950.424 Q1272.75 953.109 1272.75 957.6 Q1272.75 959.729 1271.94 961.651 Q1271.15 963.549 1269.05 966.141 Q1268.47 966.813 1265.37 970.03 Q1262.27 973.225 1256.62 978.988 Z\" fill=\"#000000\" fill-rule=\"evenodd\" fill-opacity=\"1\" /><path clip-path=\"url(#clip810)\" d=\"M1292.75 951.442 Q1289.14 951.442 1287.31 955.007 Q1285.51 958.549 1285.51 965.678 Q1285.51 972.785 1287.31 976.35 Q1289.14 979.891 1292.75 979.891 Q1296.39 979.891 1298.19 976.35 Q1300.02 972.785 1300.02 965.678 Q1300.02 958.549 1298.19 955.007 Q1296.39 951.442 1292.75 951.442 M1292.75 947.739 Q1298.56 947.739 1301.62 952.345 Q1304.7 956.928 1304.7 965.678 Q1304.7 974.405 1301.62 979.012 Q1298.56 983.595 1292.75 983.595 Q1286.94 983.595 1283.86 979.012 Q1280.81 974.405 1280.81 965.678 Q1280.81 956.928 1283.86 952.345 Q1286.94 947.739 1292.75 947.739 Z\" fill=\"#000000\" fill-rule=\"evenodd\" fill-opacity=\"1\" /><path clip-path=\"url(#clip810)\" d=\"M1257.61 1159.71 L1273.93 1159.71 L1273.93 1163.65 L1251.99 1163.65 L1251.99 1159.71 Q1254.65 1156.96 1259.23 1152.33 Q1263.84 1147.68 1265.02 1146.33 Q1267.27 1143.81 1268.14 1142.07 Q1269.05 1140.32 1269.05 1138.63 Q1269.05 1135.87 1267.1 1134.13 Q1265.18 1132.4 1262.08 1132.4 Q1259.88 1132.4 1257.43 1133.16 Q1255 1133.93 1252.22 1135.48 L1252.22 1130.76 Q1255.04 1129.62 1257.5 1129.04 Q1259.95 1128.46 1261.99 1128.46 Q1267.36 1128.46 1270.55 1131.15 Q1273.75 1133.83 1273.75 1138.32 Q1273.75 1140.45 1272.94 1142.38 Q1272.15 1144.27 1270.04 1146.87 Q1269.46 1147.54 1266.36 1150.76 Q1263.26 1153.95 1257.61 1159.71 Z\" fill=\"#000000\" fill-rule=\"evenodd\" fill-opacity=\"1\" /><path clip-path=\"url(#clip810)\" d=\"M1283.79 1129.09 L1302.15 1129.09 L1302.15 1133.02 L1288.08 1133.02 L1288.08 1141.5 Q1289.09 1141.15 1290.11 1140.99 Q1291.13 1140.8 1292.15 1140.8 Q1297.94 1140.8 1301.32 1143.97 Q1304.7 1147.14 1304.7 1152.56 Q1304.7 1158.14 1301.22 1161.24 Q1297.75 1164.32 1291.43 1164.32 Q1289.26 1164.32 1286.99 1163.95 Q1284.74 1163.58 1282.33 1162.84 L1282.33 1158.14 Q1284.42 1159.27 1286.64 1159.83 Q1288.86 1160.38 1291.34 1160.38 Q1295.34 1160.38 1297.68 1158.28 Q1300.02 1156.17 1300.02 1152.56 Q1300.02 1148.95 1297.68 1146.84 Q1295.34 1144.74 1291.34 1144.74 Q1289.46 1144.74 1287.59 1145.15 Q1285.74 1145.57 1283.79 1146.45 L1283.79 1129.09 Z\" fill=\"#000000\" fill-rule=\"evenodd\" fill-opacity=\"1\" /><g clip-path=\"url(#clip813)\">\n<image width=\"1012\" height=\"1012\" xlink:href=\"data:image/png;base64,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\n\" transform=\"translate(1341, 261)\"/>\n</g>\n</svg>\n"
     },
     "execution_count": 91,
     "metadata": {},
     "output_type": "execute_result"
    }
   ],
   "source": [
    "i = 1\n",
    "p1 = plot(colorview(Gray, reshape(x̂[:,i], 28, 28)' ))\n",
    "p2 = plot(colorview(Gray, reshape(x_batch[:,i], 28, 28)'))\n",
    "\n",
    "plot(p1,p2, layout = grid(1,2))\n",
    "\n"
   ]
  },
  {
   "cell_type": "code",
   "execution_count": 92,
   "id": "7bb26cbd",
   "metadata": {},
   "outputs": [
    {
     "data": {
      "text/plain": [
       "659"
      ]
     },
     "execution_count": 92,
     "metadata": {},
     "output_type": "execute_result"
    }
   ],
   "source": [
    "m"
   ]
  },
  {
   "cell_type": "code",
   "execution_count": null,
   "id": "f294284b",
   "metadata": {},
   "outputs": [],
   "source": []
  }
 ],
 "metadata": {
  "kernelspec": {
   "display_name": "Julia 1.7.3",
   "language": "julia",
   "name": "julia-1.7"
  },
  "language_info": {
   "file_extension": ".jl",
   "mimetype": "application/julia",
   "name": "julia",
   "version": "1.7.3"
  }
 },
 "nbformat": 4,
 "nbformat_minor": 5
}
